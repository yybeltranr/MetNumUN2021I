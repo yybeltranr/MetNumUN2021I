{
  "nbformat": 4,
  "nbformat_minor": 0,
  "metadata": {
    "kernelspec": {
      "name": "python3",
      "display_name": "Python 3"
    },
    "colab": {
      "name": "Lecture 1_Introduction to Research.ipynb",
      "provenance": [],
      "collapsed_sections": []
    }
  },
  "cells": [
    {
      "cell_type": "markdown",
      "metadata": {
        "id": "-7ph-3_Rrzd9"
      },
      "source": [
        "#Introduction to the Research Environment\n",
        "\n",
        "The research environment is powered by IPython notebooks, which allow one to perform a great deal of data analysis and statistical validation. We'll demonstrate a few simple techniques here."
      ]
    },
    {
      "cell_type": "markdown",
      "metadata": {
        "id": "-BfNeKkirzeK"
      },
      "source": [
        "##Code Cells vs. Text Cells\n",
        "\n",
        "As you can see, each cell can be either code or text. To select between them, choose from the 'Cell Type' dropdown menu on the top left."
      ]
    },
    {
      "cell_type": "markdown",
      "metadata": {
        "id": "K2Fz8KtirzeM"
      },
      "source": [
        "##Executing a Command\n",
        "\n",
        "A code cell will be evaluated when you press play, or when you press the shortcut, shift-enter. Evaluating a cell evaluates each line of code in sequence, and prints the results of the last line below the cell."
      ]
    },
    {
      "cell_type": "code",
      "metadata": {
        "id": "DjudpDNhrzeN",
        "colab": {
          "base_uri": "https://localhost:8080/"
        },
        "outputId": "125b22b2-eae3-4d7b-eed4-4045ae646583"
      },
      "source": [
        "2 + 2"
      ],
      "execution_count": null,
      "outputs": [
        {
          "output_type": "execute_result",
          "data": {
            "text/plain": [
              "4"
            ]
          },
          "metadata": {
            "tags": []
          },
          "execution_count": 17
        }
      ]
    },
    {
      "cell_type": "code",
      "metadata": {
        "colab": {
          "base_uri": "https://localhost:8080/"
        },
        "id": "wYWOnzI_irX0",
        "outputId": "33531701-015a-4a87-8f33-cbf6e32424a8"
      },
      "source": [
        "# Ejemplo\r\n",
        "51 + 102"
      ],
      "execution_count": null,
      "outputs": [
        {
          "output_type": "execute_result",
          "data": {
            "text/plain": [
              "153"
            ]
          },
          "metadata": {
            "tags": []
          },
          "execution_count": 36
        }
      ]
    },
    {
      "cell_type": "markdown",
      "metadata": {
        "id": "2ML7di02rzeP"
      },
      "source": [
        "Sometimes there is no result to be printed, as is the case with assignment."
      ]
    },
    {
      "cell_type": "code",
      "metadata": {
        "collapsed": true,
        "id": "Zll76_cArzeP"
      },
      "source": [
        "X = 2"
      ],
      "execution_count": null,
      "outputs": []
    },
    {
      "cell_type": "code",
      "metadata": {
        "id": "kvBeySDkivFT"
      },
      "source": [
        "# Ejemplo\r\n",
        "y = 58"
      ],
      "execution_count": null,
      "outputs": []
    },
    {
      "cell_type": "markdown",
      "metadata": {
        "id": "Cn9nqJDSrzeQ"
      },
      "source": [
        "Remember that only the result from the last line is printed."
      ]
    },
    {
      "cell_type": "code",
      "metadata": {
        "id": "A9Z3_YnLrzeQ",
        "colab": {
          "base_uri": "https://localhost:8080/"
        },
        "outputId": "b507f8ac-392c-4d9c-f5a7-bb4b66ce1612"
      },
      "source": [
        "2 + 2\n",
        "3 + 3"
      ],
      "execution_count": null,
      "outputs": [
        {
          "output_type": "execute_result",
          "data": {
            "text/plain": [
              "6"
            ]
          },
          "metadata": {
            "tags": []
          },
          "execution_count": 21
        }
      ]
    },
    {
      "cell_type": "code",
      "metadata": {
        "colab": {
          "base_uri": "https://localhost:8080/"
        },
        "id": "2ATuoAo8izZ1",
        "outputId": "edae43e8-a1ad-4b30-81cc-3811562a9024"
      },
      "source": [
        "# Ejemplo\r\n",
        "14 + 8\r\n",
        "15 + 25"
      ],
      "execution_count": null,
      "outputs": [
        {
          "output_type": "execute_result",
          "data": {
            "text/plain": [
              "40"
            ]
          },
          "metadata": {
            "tags": []
          },
          "execution_count": 38
        }
      ]
    },
    {
      "cell_type": "markdown",
      "metadata": {
        "id": "E1US8yfqrzeQ"
      },
      "source": [
        "However, you can print whichever lines you want using the `print` statement."
      ]
    },
    {
      "cell_type": "code",
      "metadata": {
        "id": "A6jnxmsPrzeR",
        "colab": {
          "base_uri": "https://localhost:8080/"
        },
        "outputId": "88d543d1-48ae-44d4-fc5f-258785601842"
      },
      "source": [
        "print (2 + 2)\n",
        "3 + 3"
      ],
      "execution_count": null,
      "outputs": [
        {
          "output_type": "stream",
          "text": [
            "4\n"
          ],
          "name": "stdout"
        },
        {
          "output_type": "execute_result",
          "data": {
            "text/plain": [
              "6"
            ]
          },
          "metadata": {
            "tags": []
          },
          "execution_count": 23
        }
      ]
    },
    {
      "cell_type": "code",
      "metadata": {
        "colab": {
          "base_uri": "https://localhost:8080/"
        },
        "id": "haa7YeN4i5E5",
        "outputId": "37da75c3-8258-43b0-b3d9-c7cd6944e7d4"
      },
      "source": [
        "# Ejemplo\r\n",
        "print (8 + 9)\r\n",
        "4 + 65"
      ],
      "execution_count": null,
      "outputs": [
        {
          "output_type": "stream",
          "text": [
            "17\n"
          ],
          "name": "stdout"
        },
        {
          "output_type": "execute_result",
          "data": {
            "text/plain": [
              "69"
            ]
          },
          "metadata": {
            "tags": []
          },
          "execution_count": 39
        }
      ]
    },
    {
      "cell_type": "markdown",
      "metadata": {
        "id": "QoKmD7k8rzeR"
      },
      "source": [
        "##Knowing When a Cell is Running\n",
        "\n",
        "While a cell is running, a `[*]` will display on the left. When a cell has yet to be executed, `[ ]` will display. When it has been run, a number will display indicating the order in which it was run during the execution of the notebook `[5]`. Try on this cell and note it happening."
      ]
    },
    {
      "cell_type": "code",
      "metadata": {
        "id": "FDgi2iC7rzeS",
        "colab": {
          "base_uri": "https://localhost:8080/"
        },
        "outputId": "e42aef83-e663-44cd-f9dc-8ff0a123036d"
      },
      "source": [
        "#Take some time to run something\n",
        "c = 0\n",
        "for i in range(10000000):\n",
        "    c = c + i\n",
        "c"
      ],
      "execution_count": null,
      "outputs": [
        {
          "output_type": "execute_result",
          "data": {
            "text/plain": [
              "49999995000000"
            ]
          },
          "metadata": {
            "tags": []
          },
          "execution_count": 12
        }
      ]
    },
    {
      "cell_type": "code",
      "metadata": {
        "colab": {
          "base_uri": "https://localhost:8080/"
        },
        "id": "PWcPcg-KRpC9",
        "outputId": "5ae055f7-5255-4a74-c549-5263da3c20df"
      },
      "source": [
        "# Un ejemplo donde el rango varía\r\n",
        "n = 8\r\n",
        "for x in range(2, n):\r\n",
        "  print(x)"
      ],
      "execution_count": null,
      "outputs": [
        {
          "output_type": "stream",
          "text": [
            "2\n",
            "3\n",
            "4\n",
            "5\n",
            "6\n",
            "7\n"
          ],
          "name": "stdout"
        }
      ]
    },
    {
      "cell_type": "code",
      "metadata": {
        "colab": {
          "base_uri": "https://localhost:8080/"
        },
        "id": "fU8QpuuYgWu9",
        "outputId": "2cac473b-1454-42c5-c12d-c97c0a6a5517"
      },
      "source": [
        "# Igual que (n(n + 1))/2\r\n",
        "(9999999 * 10000000)/2"
      ],
      "execution_count": null,
      "outputs": [
        {
          "output_type": "execute_result",
          "data": {
            "text/plain": [
              "49999995000000.0"
            ]
          },
          "metadata": {
            "tags": []
          },
          "execution_count": 14
        }
      ]
    },
    {
      "cell_type": "markdown",
      "metadata": {
        "id": "R2D0HAhz129x"
      },
      "source": [
        "> *El código anterior, adiciona los números $0+1+2+\\ldots +(n - 1)$ donde $n$ es el límite del **rango** para:*\r\n",
        "\r\n",
        "> $ 0+1+2+\\ldots +(n - 1) - \\sum_{i = 0}^{n = 1} i = \\frac{(n - 1)n}{2} $\r\n",
        "\r\n",
        "> *En particular, cuando $n = 10.000.000$ el resultado es:*\r\n",
        "\r\n",
        "> $ \\frac{(9.999.999)(10.000.000)}{2} = 49999995000000 $"
      ]
    },
    {
      "cell_type": "markdown",
      "metadata": {
        "id": "RuASjvgzrzeS"
      },
      "source": [
        "##Importing Libraries\n",
        "\n",
        "The vast majority of the time, you'll want to use functions from pre-built libraries. You can't import every library on Quantopian due to security issues, but you can import most of the common scientific ones. Here I import numpy and pandas, the two most common and useful libraries in quant finance. I recommend copying this import statement to every new notebook.\n",
        "\n",
        "Notice that you can rename libraries to whatever you want after importing. The `as` statement allows this. Here we use `np` and `pd` as aliases for `numpy` and `pandas`. This is a very common aliasing and will be found in most code snippets around the web. The point behind this is to allow you to type fewer characters when you are frequently accessing these libraries."
      ]
    },
    {
      "cell_type": "code",
      "metadata": {
        "id": "UPcAkj3qrzeS",
        "colab": {
          "base_uri": "https://localhost:8080/"
        },
        "outputId": "8808f1e2-52fb-42e2-b30d-160789298e62"
      },
      "source": [
        "import numpy as np\n",
        "import pandas as pd\n",
        "\n",
        "# This is a plotting library for pretty pictures.\n",
        "import matplotlib.pyplot as plt\n",
        "\n",
        "np.mean([1,2,3])"
      ],
      "execution_count": null,
      "outputs": [
        {
          "output_type": "execute_result",
          "data": {
            "text/plain": [
              "2.0"
            ]
          },
          "metadata": {
            "tags": []
          },
          "execution_count": 32
        }
      ]
    },
    {
      "cell_type": "markdown",
      "metadata": {
        "id": "ysR_MkU3SWxJ"
      },
      "source": [
        "> *numpy.mean(arr, axis = None): Calcule la media aritmética (promedio) de los datos dados (elementos de matriz) a lo largo del eje especificado.*\r\n",
        "\r\n"
      ]
    },
    {
      "cell_type": "code",
      "metadata": {
        "colab": {
          "base_uri": "https://localhost:8080/"
        },
        "id": "tTM0wCi9Sobz",
        "outputId": "114d3969-62ce-479e-bf64-e7ca0f553505"
      },
      "source": [
        "# Ejemplo cambiando el llamado general np por ny\r\n",
        "import numpy as ny \r\n",
        "    \r\n",
        "# 1D array  \r\n",
        "a = [20, 2, 7, 1, 34] \r\n",
        "  \r\n",
        "print(a)  \r\n",
        "print(ny.mean(a)) "
      ],
      "execution_count": null,
      "outputs": [
        {
          "output_type": "stream",
          "text": [
            "[20, 2, 7, 1, 34]\n",
            "12.8\n"
          ],
          "name": "stdout"
        }
      ]
    },
    {
      "cell_type": "markdown",
      "metadata": {
        "id": "KMwi-lbGrzeT"
      },
      "source": [
        "##Tab Autocomplete\n",
        "\n",
        "Pressing tab will give you a list of IPython's best guesses for what you might want to type next. This is incredibly valuable and will save you a lot of time. If there is only one possible option for what you could type next, IPython will fill that in for you. Try pressing tab very frequently, it will seldom fill in anything you don't want, as if there is ambiguity a list will be shown. This is a great way to see what functions are available in a library.\n",
        "\n",
        "Try placing your cursor after the `.` and pressing tab."
      ]
    },
    {
      "cell_type": "code",
      "metadata": {
        "id": "R2doArXXrzeT",
        "colab": {
          "base_uri": "https://localhost:8080/"
        },
        "outputId": "0e2ecfea-c618-4ae9-a0bf-36967540c736"
      },
      "source": [
        "import numpy as np\r\n",
        "np.random"
      ],
      "execution_count": null,
      "outputs": [
        {
          "output_type": "execute_result",
          "data": {
            "text/plain": [
              "<module 'numpy.random' from '/usr/local/lib/python3.7/dist-packages/numpy/random/__init__.py'>"
            ]
          },
          "metadata": {
            "tags": []
          },
          "execution_count": 41
        }
      ]
    },
    {
      "cell_type": "code",
      "metadata": {
        "colab": {
          "base_uri": "https://localhost:8080/"
        },
        "id": "7XiwPr3ATsjT",
        "outputId": "ea5177be-155a-482e-c3df-a327761ad581"
      },
      "source": [
        "# Ejemplo\r\n",
        "np.random.exponential"
      ],
      "execution_count": null,
      "outputs": [
        {
          "output_type": "execute_result",
          "data": {
            "text/plain": [
              "<function RandomState.exponential>"
            ]
          },
          "metadata": {
            "tags": []
          },
          "execution_count": 42
        }
      ]
    },
    {
      "cell_type": "markdown",
      "metadata": {
        "id": "RZBiCeqUrzeT"
      },
      "source": [
        "##Getting Documentation Help\n",
        "\n",
        "Placing a question mark after a function and executing that line of code will give you the documentation IPython has for that function. It's often best to do this in a new cell, as you avoid re-executing other code and running into bugs."
      ]
    },
    {
      "cell_type": "code",
      "metadata": {
        "collapsed": true,
        "id": "4QBrzpBYrzeU"
      },
      "source": [
        "np.random?"
      ],
      "execution_count": null,
      "outputs": []
    },
    {
      "cell_type": "code",
      "metadata": {
        "id": "hsccqS5uUGhV"
      },
      "source": [
        "# Ejemplo\r\n",
        "np.random.normal?"
      ],
      "execution_count": null,
      "outputs": []
    },
    {
      "cell_type": "markdown",
      "metadata": {
        "id": "TMHeyi6zrzeU"
      },
      "source": [
        "##Sampling\n",
        "\n",
        "We'll sample some random data using a function from `numpy`."
      ]
    },
    {
      "cell_type": "code",
      "metadata": {
        "id": "DipgPg84rzeU",
        "colab": {
          "base_uri": "https://localhost:8080/"
        },
        "outputId": "c37acae1-30b8-4b5f-eeb6-913e931d225e"
      },
      "source": [
        "# Sample 100 points with a mean of 0 and an std of 1. This is a standard normal distribution.\n",
        "X = np.random.normal(0, 1, 100)\n",
        "print (X)"
      ],
      "execution_count": null,
      "outputs": [
        {
          "output_type": "stream",
          "text": [
            "[-2.00487077 -0.42553033 -0.79046473  0.63041839  0.40692571  0.37948928\n",
            "  1.69199505 -0.81004592  0.74631263  0.60977144 -2.25846549 -0.90611701\n",
            "  0.84082754 -0.70607677 -1.15471903 -1.96427397  0.01660074  0.81851611\n",
            " -0.95224133  1.03977451  0.48579923 -1.20858502 -0.08999921 -0.19967285\n",
            " -0.73867725 -0.16748789 -1.83652475 -0.05535209 -0.72466865 -0.32840874\n",
            "  0.04742621  0.5177617   0.87567128 -0.70282336  0.15839611 -0.31058878\n",
            " -0.56994056  1.0218811  -1.39653613 -0.96682331  1.07383903 -0.7711364\n",
            "  0.29459634 -0.51857292 -0.38530746  1.15383058 -2.04136671 -0.49209471\n",
            "  1.11805816  0.73589283 -0.32834806 -1.08537577 -0.31499677 -0.23018425\n",
            " -0.49998803 -1.52844717 -2.40626188  0.24584506 -1.25632705  0.17173779\n",
            "  1.36954776  0.20730087 -1.09000031 -1.43112591 -0.18263952 -0.5947973\n",
            "  0.5312735   1.40597    -0.42555924  1.05906495 -0.72858271 -0.30629095\n",
            "  0.24090463  0.65884461 -0.60400249  0.34482626  1.45955198  0.6671217\n",
            "  0.68371345 -0.36761001 -0.2841304  -1.58082051  0.63745727  0.82375789\n",
            " -0.29027753  0.78431568 -0.7437084   0.61328217  0.74872192 -0.29381796\n",
            " -1.02106483 -0.72328598 -1.31195314 -0.31354265 -0.7143542   0.26293516\n",
            "  1.14866527  1.97410707  0.22394513  0.05293493]\n"
          ],
          "name": "stdout"
        }
      ]
    },
    {
      "cell_type": "code",
      "metadata": {
        "colab": {
          "base_uri": "https://localhost:8080/"
        },
        "id": "aJeVy_mkUjhR",
        "outputId": "505e081e-6fd5-4997-bd99-c374060e5201"
      },
      "source": [
        "# Ejemplo de 0 - 1 y muestra 24 ejemplos\r\n",
        "y = np.random.normal(0, 1, 24)\r\n",
        "print (y)"
      ],
      "execution_count": null,
      "outputs": [
        {
          "output_type": "stream",
          "text": [
            "[-0.49997862  1.2423852   0.38424324  0.69525826 -0.86328176 -1.38337736\n",
            "  0.58951525 -2.12657138  1.63093995  0.74523962  1.81209257 -1.09152408\n",
            " -0.51998929  0.62254791 -1.116776   -1.27974949  0.48599474 -0.52303422\n",
            "  1.77596139 -0.03657353  0.12356523  0.79081988  0.76743481 -2.13130602]\n"
          ],
          "name": "stdout"
        }
      ]
    },
    {
      "cell_type": "markdown",
      "metadata": {
        "id": "_3T1K4ZPrzeV"
      },
      "source": [
        "##Plotting\n",
        "\n",
        "We can use the plotting library we imported as follows."
      ]
    },
    {
      "cell_type": "code",
      "metadata": {
        "id": "cVmwaiZ6rzeV",
        "colab": {
          "base_uri": "https://localhost:8080/",
          "height": 282
        },
        "outputId": "d1ec5e94-7a85-4566-ba67-28ebc7646b57"
      },
      "source": [
        "import matplotlib.pyplot as plt\r\n",
        "plt.plot(X)"
      ],
      "execution_count": null,
      "outputs": [
        {
          "output_type": "execute_result",
          "data": {
            "text/plain": [
              "[<matplotlib.lines.Line2D at 0x7fd4d5923f10>]"
            ]
          },
          "metadata": {
            "tags": []
          },
          "execution_count": 51
        },
        {
          "output_type": "display_data",
          "data": {
            "image/png": "[encoded data removed]",
            "text/plain": [
              "<Figure size 432x288 with 1 Axes>"
            ]
          },
          "metadata": {
            "tags": [],
            "needs_background": "light"
          }
        }
      ]
    },
    {
      "cell_type": "code",
      "metadata": {
        "colab": {
          "base_uri": "https://localhost:8080/",
          "height": 286
        },
        "id": "ARZp7hPkV6gt",
        "outputId": "9ef04dcc-069c-4724-c49f-75db3fb16737"
      },
      "source": [
        "# Ejemplo con la variable y\r\n",
        "plt.plot(y)"
      ],
      "execution_count": null,
      "outputs": [
        {
          "output_type": "execute_result",
          "data": {
            "text/plain": [
              "[<matplotlib.lines.Line2D at 0x7fd4d58004d0>]"
            ]
          },
          "metadata": {
            "tags": []
          },
          "execution_count": 53
        },
        {
          "output_type": "display_data",
          "data": {
            "image/png": "[encoded data removed]",
            "text/plain": [
              "<Figure size 432x288 with 1 Axes>"
            ]
          },
          "metadata": {
            "tags": [],
            "needs_background": "light"
          }
        }
      ]
    },
    {
      "cell_type": "markdown",
      "metadata": {
        "id": "MLujPyqArzeV"
      },
      "source": [
        "###Squelching Line Output\n",
        "\n",
        "You might have noticed the annoying line of the form `[<matplotlib.lines.Line2D at 0x7f72fdbc1710>]` before the plots. This is because the `.plot` function actually produces output. Sometimes we wish not to display output, we can accomplish this with the semi-colon as follows."
      ]
    },
    {
      "cell_type": "code",
      "metadata": {
        "id": "dRN5h80urzeW",
        "colab": {
          "base_uri": "https://localhost:8080/",
          "height": 265
        },
        "outputId": "6a7d5424-e352-49cc-d176-1987de8f5cd3"
      },
      "source": [
        "plt.plot(X);"
      ],
      "execution_count": null,
      "outputs": [
        {
          "output_type": "display_data",
          "data": {
            "image/png": "[encoded data removed]",
            "text/plain": [
              "<Figure size 432x288 with 1 Axes>"
            ]
          },
          "metadata": {
            "tags": [],
            "needs_background": "light"
          }
        }
      ]
    },
    {
      "cell_type": "code",
      "metadata": {
        "colab": {
          "base_uri": "https://localhost:8080/",
          "height": 269
        },
        "id": "IvZhK5TRYK6-",
        "outputId": "dd47ff82-31c5-4d04-e565-373bb4eea2d5"
      },
      "source": [
        "# Ejemplo para la variable y\r\n",
        "plt.plot(y);"
      ],
      "execution_count": null,
      "outputs": [
        {
          "output_type": "display_data",
          "data": {
            "image/png": "[encoded data removed]",
            "text/plain": [
              "<Figure size 432x288 with 1 Axes>"
            ]
          },
          "metadata": {
            "tags": [],
            "needs_background": "light"
          }
        }
      ]
    },
    {
      "cell_type": "markdown",
      "metadata": {
        "id": "vtciDN8OrzeW"
      },
      "source": [
        "###Adding Axis Labels\n",
        "\n",
        "No self-respecting quant leaves a graph without labeled axes. Here are some commands to help with that."
      ]
    },
    {
      "cell_type": "code",
      "metadata": {
        "id": "rbPClG-6rzeW",
        "colab": {
          "base_uri": "https://localhost:8080/",
          "height": 279
        },
        "outputId": "b2564a4a-c791-4076-be6f-9d2d7d8a836f"
      },
      "source": [
        "X = np.random.normal(0, 1, 100)\n",
        "X2 = np.random.normal(0, 1, 100)\n",
        "\n",
        "plt.plot(X);\n",
        "plt.plot(X2);\n",
        "plt.xlabel('Time') # The data we generated is unitless, but don't forget units in general.\n",
        "plt.ylabel('Returns')\n",
        "plt.legend(['X', 'X2']);"
      ],
      "execution_count": null,
      "outputs": [
        {
          "output_type": "display_data",
          "data": {
            "image/png": "[encoded data removed]",
            "text/plain": [
              "<Figure size 432x288 with 1 Axes>"
            ]
          },
          "metadata": {
            "tags": [],
            "needs_background": "light"
          }
        }
      ]
    },
    {
      "cell_type": "code",
      "metadata": {
        "colab": {
          "base_uri": "https://localhost:8080/",
          "height": 279
        },
        "id": "Um-awQAQq7W5",
        "outputId": "1b9692f2-f046-4110-cf36-a8fcb7986999"
      },
      "source": [
        "# Ejemplo para la variable y\r\n",
        "y2 = np.random.normal(0, 1, 55)\r\n",
        "\r\n",
        "plt.plot(y);\r\n",
        "plt.plot(y2);\r\n",
        "plt.xlabel('Distancia', ) \r\n",
        "plt.ylabel('Velocidad')\r\n",
        "plt.legend(['y', 'y2']);"
      ],
      "execution_count": null,
      "outputs": [
        {
          "output_type": "display_data",
          "data": {
            "image/png": "[encoded data removed]",
            "text/plain": [
              "<Figure size 432x288 with 1 Axes>"
            ]
          },
          "metadata": {
            "tags": [],
            "needs_background": "light"
          }
        }
      ]
    },
    {
      "cell_type": "markdown",
      "metadata": {
        "id": "NRbn64RprzeX"
      },
      "source": [
        "##Generating Statistics\n",
        "\n",
        "Let's use `numpy` to take some simple statistics."
      ]
    },
    {
      "cell_type": "code",
      "metadata": {
        "id": "I2lBWk-BrzeX",
        "colab": {
          "base_uri": "https://localhost:8080/"
        },
        "outputId": "c109d14a-b4bb-4f15-e7c5-3819e1dbf311"
      },
      "source": [
        "np.mean(X)"
      ],
      "execution_count": null,
      "outputs": [
        {
          "output_type": "execute_result",
          "data": {
            "text/plain": [
              "-0.15155256084931512"
            ]
          },
          "metadata": {
            "tags": []
          },
          "execution_count": 38
        }
      ]
    },
    {
      "cell_type": "markdown",
      "metadata": {
        "id": "gxihR_yO4aKJ"
      },
      "source": [
        "> *numpy.mean(arr, axis = None): Calcule la media aritmética (promedio) de los datos dados (elementos de matriz) a lo largo del eje especificado. Empleando la siguiente fórmula:*\r\n",
        "\r\n",
        "> $ Media(x) = \\bar{x} = \\frac{\\sum_{i = 1}^{N}X_{i}}{N} $\r\n",
        "\r\n",
        "> $ siendo\\ (X_{1}, X_{2},...,X_{N})\\ el\\ conjunto\\ de\\ observaciones. $"
      ]
    },
    {
      "cell_type": "code",
      "metadata": {
        "colab": {
          "base_uri": "https://localhost:8080/"
        },
        "id": "VW_k78D47liq",
        "outputId": "7abce206-9551-4ba4-8151-13c948c29296"
      },
      "source": [
        "#Mi ejemplo\r\n",
        "np.mean(y)"
      ],
      "execution_count": null,
      "outputs": [
        {
          "output_type": "execute_result",
          "data": {
            "text/plain": [
              "2.638643916534471"
            ]
          },
          "metadata": {
            "tags": []
          },
          "execution_count": 82
        }
      ]
    },
    {
      "cell_type": "code",
      "metadata": {
        "id": "ayp2Zh3SrzeX",
        "colab": {
          "base_uri": "https://localhost:8080/"
        },
        "outputId": "a7ae5e6e-69a1-4ead-98bb-73dcaa29f117"
      },
      "source": [
        "np.std(X)"
      ],
      "execution_count": null,
      "outputs": [
        {
          "output_type": "execute_result",
          "data": {
            "text/plain": [
              "1.0242991299650155"
            ]
          },
          "metadata": {
            "tags": []
          },
          "execution_count": 15
        }
      ]
    },
    {
      "cell_type": "markdown",
      "metadata": {
        "id": "V9A9RVcN7WUi"
      },
      "source": [
        "> *numpy.std(arr, axis = None): calcula la desviación estándar de los datos dados (elementos de la matriz) a lo largo del eje especificado (si corresponde).*\r\n",
        "\r\n",
        "> *La desviación estándar (S) se mide como la extensión de la distribución de datos en el conjunto de datos dado. Empleando la siguiente fórmula:*\r\n",
        "\r\n",
        "> $ S_{x} =\\sqrt{\\frac{\\sum_{i = 1}^{N}(x_{i} - \\bar{x})^{2}}{N - 1}} $\r\n",
        "\r\n",
        "> $ siendo\\ (X_{1}, X_{2},...,X_{N})\\ un\\ conjunto\\ de\\ datos. $"
      ]
    },
    {
      "cell_type": "code",
      "metadata": {
        "colab": {
          "base_uri": "https://localhost:8080/"
        },
        "id": "z3GZ8ec17zWE",
        "outputId": "32649b39-1c6d-4288-a2de-b2f86fe0d575"
      },
      "source": [
        "#Mi ejemplo\r\n",
        "np.std(y)"
      ],
      "execution_count": null,
      "outputs": [
        {
          "output_type": "execute_result",
          "data": {
            "text/plain": [
              "2.3588222383401583"
            ]
          },
          "metadata": {
            "tags": []
          },
          "execution_count": 83
        }
      ]
    },
    {
      "cell_type": "markdown",
      "metadata": {
        "id": "jJxDLiYOrzeY"
      },
      "source": [
        "##Getting Real Pricing Data\n",
        "\n",
        "Randomly sampled data can be great for testing ideas, but let's get some real data. We can use `get_pricing` to do that. You can use the `?` syntax as discussed above to get more information on `get_pricing`'s arguments."
      ]
    },
    {
      "cell_type": "code",
      "metadata": {
        "id": "HzrgdVZPy6jG"
      },
      "source": [
        "#Este no funciona no ejecutar\r\n",
        "data = get_pricing('MSFT', start_date='2012-1-1', end_date='2015-6-1')"
      ],
      "execution_count": null,
      "outputs": []
    },
    {
      "cell_type": "markdown",
      "metadata": {
        "id": "jZ5sA1Xx-RmW"
      },
      "source": [
        "> *Ya que **\"get_pricing\"** no funciona, debido a que Quantopian cerró, entonces utilicé **\"data_reader\"**. Primero se instaló pandas-reader con el siguiente comando:*"
      ]
    },
    {
      "cell_type": "code",
      "metadata": {
        "id": "z--G9hBLtwyQ",
        "colab": {
          "base_uri": "https://localhost:8080/"
        },
        "outputId": "ab1caa2f-f2d0-4976-cb8b-39aec3883ee1"
      },
      "source": [
        "!pip install pandas-datareader"
      ],
      "execution_count": null,
      "outputs": [
        {
          "output_type": "stream",
          "text": [
            "Requirement already satisfied: pandas-datareader in /usr/local/lib/python3.7/dist-packages (0.9.0)\n",
            "Requirement already satisfied: lxml in /usr/local/lib/python3.7/dist-packages (from pandas-datareader) (4.2.6)\n",
            "Requirement already satisfied: requests>=2.19.0 in /usr/local/lib/python3.7/dist-packages (from pandas-datareader) (2.23.0)\n",
            "Requirement already satisfied: pandas>=0.23 in /usr/local/lib/python3.7/dist-packages (from pandas-datareader) (1.1.5)\n",
            "Requirement already satisfied: idna<3,>=2.5 in /usr/local/lib/python3.7/dist-packages (from requests>=2.19.0->pandas-datareader) (2.10)\n",
            "Requirement already satisfied: chardet<4,>=3.0.2 in /usr/local/lib/python3.7/dist-packages (from requests>=2.19.0->pandas-datareader) (3.0.4)\n",
            "Requirement already satisfied: certifi>=2017.4.17 in /usr/local/lib/python3.7/dist-packages (from requests>=2.19.0->pandas-datareader) (2020.12.5)\n",
            "Requirement already satisfied: urllib3!=1.25.0,!=1.25.1,<1.26,>=1.21.1 in /usr/local/lib/python3.7/dist-packages (from requests>=2.19.0->pandas-datareader) (1.24.3)\n",
            "Requirement already satisfied: pytz>=2017.2 in /usr/local/lib/python3.7/dist-packages (from pandas>=0.23->pandas-datareader) (2018.9)\n",
            "Requirement already satisfied: numpy>=1.15.4 in /usr/local/lib/python3.7/dist-packages (from pandas>=0.23->pandas-datareader) (1.19.5)\n",
            "Requirement already satisfied: python-dateutil>=2.7.3 in /usr/local/lib/python3.7/dist-packages (from pandas>=0.23->pandas-datareader) (2.8.1)\n",
            "Requirement already satisfied: six>=1.5 in /usr/local/lib/python3.7/dist-packages (from python-dateutil>=2.7.3->pandas>=0.23->pandas-datareader) (1.15.0)\n"
          ],
          "name": "stdout"
        }
      ]
    },
    {
      "cell_type": "markdown",
      "metadata": {
        "id": "uomchkLB-ld8"
      },
      "source": [
        "> *Se llaman  algunas funciones que pueden ser requeridas y se procede a ejecutar la función **\"data_reader\"**:"
      ]
    },
    {
      "cell_type": "code",
      "metadata": {
        "id": "jNt8RxzN-yAJ"
      },
      "source": [
        "from pandas_datareader import data as pdr\r\n",
        "import fix_yahoo_finance as yf\r\n",
        "from datetime import datetime"
      ],
      "execution_count": null,
      "outputs": []
    },
    {
      "cell_type": "code",
      "metadata": {
        "id": "fVrrvxNirzeY"
      },
      "source": [
        "# Grabamos valores de datos para Apple, Google, Microsoft and Amazon ('AAPL', 'GOOG', 'AMZN', 'MSFT')\r\n",
        "data = pdr.get_data_yahoo('AAPL', start= datetime(2020,12,1), end=datetime(2021,2,1))"
      ],
      "execution_count": null,
      "outputs": []
    },
    {
      "cell_type": "code",
      "metadata": {
        "id": "ZNy-5n-GfqrX"
      },
      "source": [
        "# Mi ejemplo para Amazon\r\n",
        "data1 = pdr.get_data_yahoo('AMZN', start= datetime(2020,12,1), end=datetime(2021,2,1))"
      ],
      "execution_count": null,
      "outputs": []
    },
    {
      "cell_type": "markdown",
      "metadata": {
        "id": "DVXW8hV6rzeY"
      },
      "source": [
        "Our data is now a dataframe. You can see the datetime index and the colums with different pricing data."
      ]
    },
    {
      "cell_type": "code",
      "metadata": {
        "id": "ib4WlCfhrzeZ",
        "colab": {
          "base_uri": "https://localhost:8080/",
          "height": 1000
        },
        "outputId": "566a3a0b-c827-4f95-9a49-d39869549d06"
      },
      "source": [
        "data"
      ],
      "execution_count": null,
      "outputs": [
        {
          "output_type": "execute_result",
          "data": {
            "text/html": [
              "<div>\n",
              "<style scoped>\n",
              "    .dataframe tbody tr th:only-of-type {\n",
              "        vertical-align: middle;\n",
              "    }\n",
              "\n",
              "    .dataframe tbody tr th {\n",
              "        vertical-align: top;\n",
              "    }\n",
              "\n",
              "    .dataframe thead th {\n",
              "        text-align: right;\n",
              "    }\n",
              "</style>\n",
              "<table border=\"1\" class=\"dataframe\">\n",
              "  <thead>\n",
              "    <tr style=\"text-align: right;\">\n",
              "      <th></th>\n",
              "      <th>High</th>\n",
              "      <th>Low</th>\n",
              "      <th>Open</th>\n",
              "      <th>Close</th>\n",
              "      <th>Volume</th>\n",
              "      <th>Adj Close</th>\n",
              "    </tr>\n",
              "    <tr>\n",
              "      <th>Date</th>\n",
              "      <th></th>\n",
              "      <th></th>\n",
              "      <th></th>\n",
              "      <th></th>\n",
              "      <th></th>\n",
              "      <th></th>\n",
              "    </tr>\n",
              "  </thead>\n",
              "  <tbody>\n",
              "    <tr>\n",
              "      <th>2020-12-01</th>\n",
              "      <td>123.470001</td>\n",
              "      <td>120.010002</td>\n",
              "      <td>121.010002</td>\n",
              "      <td>122.720001</td>\n",
              "      <td>128166800</td>\n",
              "      <td>122.536896</td>\n",
              "    </tr>\n",
              "    <tr>\n",
              "      <th>2020-12-02</th>\n",
              "      <td>123.370003</td>\n",
              "      <td>120.889999</td>\n",
              "      <td>122.019997</td>\n",
              "      <td>123.080002</td>\n",
              "      <td>89004200</td>\n",
              "      <td>122.896355</td>\n",
              "    </tr>\n",
              "    <tr>\n",
              "      <th>2020-12-03</th>\n",
              "      <td>123.779999</td>\n",
              "      <td>122.209999</td>\n",
              "      <td>123.519997</td>\n",
              "      <td>122.940002</td>\n",
              "      <td>78967600</td>\n",
              "      <td>122.756569</td>\n",
              "    </tr>\n",
              "    <tr>\n",
              "      <th>2020-12-04</th>\n",
              "      <td>122.860001</td>\n",
              "      <td>121.519997</td>\n",
              "      <td>122.599998</td>\n",
              "      <td>122.250000</td>\n",
              "      <td>78260400</td>\n",
              "      <td>122.067596</td>\n",
              "    </tr>\n",
              "    <tr>\n",
              "      <th>2020-12-07</th>\n",
              "      <td>124.570000</td>\n",
              "      <td>122.250000</td>\n",
              "      <td>122.309998</td>\n",
              "      <td>123.750000</td>\n",
              "      <td>86712000</td>\n",
              "      <td>123.565353</td>\n",
              "    </tr>\n",
              "    <tr>\n",
              "      <th>2020-12-08</th>\n",
              "      <td>124.980003</td>\n",
              "      <td>123.089996</td>\n",
              "      <td>124.370003</td>\n",
              "      <td>124.379997</td>\n",
              "      <td>82225500</td>\n",
              "      <td>124.194412</td>\n",
              "    </tr>\n",
              "    <tr>\n",
              "      <th>2020-12-09</th>\n",
              "      <td>125.949997</td>\n",
              "      <td>121.000000</td>\n",
              "      <td>124.529999</td>\n",
              "      <td>121.779999</td>\n",
              "      <td>115089200</td>\n",
              "      <td>121.598289</td>\n",
              "    </tr>\n",
              "    <tr>\n",
              "      <th>2020-12-10</th>\n",
              "      <td>123.870003</td>\n",
              "      <td>120.150002</td>\n",
              "      <td>120.500000</td>\n",
              "      <td>123.239998</td>\n",
              "      <td>81312200</td>\n",
              "      <td>123.056114</td>\n",
              "    </tr>\n",
              "    <tr>\n",
              "      <th>2020-12-11</th>\n",
              "      <td>122.760002</td>\n",
              "      <td>120.550003</td>\n",
              "      <td>122.430000</td>\n",
              "      <td>122.410004</td>\n",
              "      <td>86939800</td>\n",
              "      <td>122.227356</td>\n",
              "    </tr>\n",
              "    <tr>\n",
              "      <th>2020-12-14</th>\n",
              "      <td>123.349998</td>\n",
              "      <td>121.540001</td>\n",
              "      <td>122.599998</td>\n",
              "      <td>121.779999</td>\n",
              "      <td>79184500</td>\n",
              "      <td>121.598289</td>\n",
              "    </tr>\n",
              "    <tr>\n",
              "      <th>2020-12-15</th>\n",
              "      <td>127.900002</td>\n",
              "      <td>124.129997</td>\n",
              "      <td>124.339996</td>\n",
              "      <td>127.879997</td>\n",
              "      <td>157572300</td>\n",
              "      <td>127.689186</td>\n",
              "    </tr>\n",
              "    <tr>\n",
              "      <th>2020-12-16</th>\n",
              "      <td>128.369995</td>\n",
              "      <td>126.559998</td>\n",
              "      <td>127.410004</td>\n",
              "      <td>127.809998</td>\n",
              "      <td>98208600</td>\n",
              "      <td>127.619293</td>\n",
              "    </tr>\n",
              "    <tr>\n",
              "      <th>2020-12-17</th>\n",
              "      <td>129.580002</td>\n",
              "      <td>128.039993</td>\n",
              "      <td>128.899994</td>\n",
              "      <td>128.699997</td>\n",
              "      <td>94359800</td>\n",
              "      <td>128.507965</td>\n",
              "    </tr>\n",
              "    <tr>\n",
              "      <th>2020-12-18</th>\n",
              "      <td>129.100006</td>\n",
              "      <td>126.120003</td>\n",
              "      <td>128.960007</td>\n",
              "      <td>126.660004</td>\n",
              "      <td>192541500</td>\n",
              "      <td>126.471016</td>\n",
              "    </tr>\n",
              "    <tr>\n",
              "      <th>2020-12-21</th>\n",
              "      <td>128.309998</td>\n",
              "      <td>123.449997</td>\n",
              "      <td>125.019997</td>\n",
              "      <td>128.229996</td>\n",
              "      <td>121251600</td>\n",
              "      <td>128.038666</td>\n",
              "    </tr>\n",
              "    <tr>\n",
              "      <th>2020-12-22</th>\n",
              "      <td>134.410004</td>\n",
              "      <td>129.649994</td>\n",
              "      <td>131.610001</td>\n",
              "      <td>131.880005</td>\n",
              "      <td>168904800</td>\n",
              "      <td>131.683228</td>\n",
              "    </tr>\n",
              "    <tr>\n",
              "      <th>2020-12-23</th>\n",
              "      <td>132.429993</td>\n",
              "      <td>130.779999</td>\n",
              "      <td>132.160004</td>\n",
              "      <td>130.960007</td>\n",
              "      <td>88223700</td>\n",
              "      <td>130.764603</td>\n",
              "    </tr>\n",
              "    <tr>\n",
              "      <th>2020-12-24</th>\n",
              "      <td>133.460007</td>\n",
              "      <td>131.100006</td>\n",
              "      <td>131.320007</td>\n",
              "      <td>131.970001</td>\n",
              "      <td>54930100</td>\n",
              "      <td>131.773087</td>\n",
              "    </tr>\n",
              "    <tr>\n",
              "      <th>2020-12-28</th>\n",
              "      <td>137.339996</td>\n",
              "      <td>133.509995</td>\n",
              "      <td>133.990005</td>\n",
              "      <td>136.690002</td>\n",
              "      <td>124486200</td>\n",
              "      <td>136.486053</td>\n",
              "    </tr>\n",
              "    <tr>\n",
              "      <th>2020-12-29</th>\n",
              "      <td>138.789993</td>\n",
              "      <td>134.339996</td>\n",
              "      <td>138.050003</td>\n",
              "      <td>134.869995</td>\n",
              "      <td>121047300</td>\n",
              "      <td>134.668762</td>\n",
              "    </tr>\n",
              "    <tr>\n",
              "      <th>2020-12-30</th>\n",
              "      <td>135.990005</td>\n",
              "      <td>133.399994</td>\n",
              "      <td>135.580002</td>\n",
              "      <td>133.720001</td>\n",
              "      <td>96452100</td>\n",
              "      <td>133.520477</td>\n",
              "    </tr>\n",
              "    <tr>\n",
              "      <th>2020-12-31</th>\n",
              "      <td>134.740005</td>\n",
              "      <td>131.720001</td>\n",
              "      <td>134.080002</td>\n",
              "      <td>132.690002</td>\n",
              "      <td>99116600</td>\n",
              "      <td>132.492020</td>\n",
              "    </tr>\n",
              "    <tr>\n",
              "      <th>2021-01-04</th>\n",
              "      <td>133.610001</td>\n",
              "      <td>126.760002</td>\n",
              "      <td>133.520004</td>\n",
              "      <td>129.410004</td>\n",
              "      <td>143301900</td>\n",
              "      <td>129.216919</td>\n",
              "    </tr>\n",
              "    <tr>\n",
              "      <th>2021-01-05</th>\n",
              "      <td>131.740005</td>\n",
              "      <td>128.429993</td>\n",
              "      <td>128.889999</td>\n",
              "      <td>131.009995</td>\n",
              "      <td>97664900</td>\n",
              "      <td>130.814514</td>\n",
              "    </tr>\n",
              "    <tr>\n",
              "      <th>2021-01-06</th>\n",
              "      <td>131.050003</td>\n",
              "      <td>126.379997</td>\n",
              "      <td>127.720001</td>\n",
              "      <td>126.599998</td>\n",
              "      <td>155088000</td>\n",
              "      <td>126.411102</td>\n",
              "    </tr>\n",
              "    <tr>\n",
              "      <th>2021-01-07</th>\n",
              "      <td>131.630005</td>\n",
              "      <td>127.860001</td>\n",
              "      <td>128.360001</td>\n",
              "      <td>130.919998</td>\n",
              "      <td>109578200</td>\n",
              "      <td>130.724655</td>\n",
              "    </tr>\n",
              "    <tr>\n",
              "      <th>2021-01-08</th>\n",
              "      <td>132.630005</td>\n",
              "      <td>130.229996</td>\n",
              "      <td>132.429993</td>\n",
              "      <td>132.050003</td>\n",
              "      <td>105158200</td>\n",
              "      <td>131.852966</td>\n",
              "    </tr>\n",
              "    <tr>\n",
              "      <th>2021-01-11</th>\n",
              "      <td>130.169998</td>\n",
              "      <td>128.500000</td>\n",
              "      <td>129.190002</td>\n",
              "      <td>128.979996</td>\n",
              "      <td>100620900</td>\n",
              "      <td>128.787552</td>\n",
              "    </tr>\n",
              "    <tr>\n",
              "      <th>2021-01-12</th>\n",
              "      <td>129.690002</td>\n",
              "      <td>126.860001</td>\n",
              "      <td>128.500000</td>\n",
              "      <td>128.800003</td>\n",
              "      <td>91951100</td>\n",
              "      <td>128.607819</td>\n",
              "    </tr>\n",
              "    <tr>\n",
              "      <th>2021-01-13</th>\n",
              "      <td>131.449997</td>\n",
              "      <td>128.490005</td>\n",
              "      <td>128.759995</td>\n",
              "      <td>130.889999</td>\n",
              "      <td>88636800</td>\n",
              "      <td>130.694702</td>\n",
              "    </tr>\n",
              "    <tr>\n",
              "      <th>2021-01-14</th>\n",
              "      <td>131.000000</td>\n",
              "      <td>128.759995</td>\n",
              "      <td>130.800003</td>\n",
              "      <td>128.910004</td>\n",
              "      <td>90221800</td>\n",
              "      <td>128.717667</td>\n",
              "    </tr>\n",
              "    <tr>\n",
              "      <th>2021-01-15</th>\n",
              "      <td>130.220001</td>\n",
              "      <td>127.000000</td>\n",
              "      <td>128.779999</td>\n",
              "      <td>127.139999</td>\n",
              "      <td>111598500</td>\n",
              "      <td>126.950294</td>\n",
              "    </tr>\n",
              "    <tr>\n",
              "      <th>2021-01-19</th>\n",
              "      <td>128.710007</td>\n",
              "      <td>126.940002</td>\n",
              "      <td>127.779999</td>\n",
              "      <td>127.830002</td>\n",
              "      <td>90757300</td>\n",
              "      <td>127.639267</td>\n",
              "    </tr>\n",
              "    <tr>\n",
              "      <th>2021-01-20</th>\n",
              "      <td>132.490005</td>\n",
              "      <td>128.550003</td>\n",
              "      <td>128.660004</td>\n",
              "      <td>132.029999</td>\n",
              "      <td>104319500</td>\n",
              "      <td>131.832993</td>\n",
              "    </tr>\n",
              "    <tr>\n",
              "      <th>2021-01-21</th>\n",
              "      <td>139.669998</td>\n",
              "      <td>133.589996</td>\n",
              "      <td>133.800003</td>\n",
              "      <td>136.869995</td>\n",
              "      <td>120529500</td>\n",
              "      <td>136.665771</td>\n",
              "    </tr>\n",
              "    <tr>\n",
              "      <th>2021-01-22</th>\n",
              "      <td>139.850006</td>\n",
              "      <td>135.020004</td>\n",
              "      <td>136.279999</td>\n",
              "      <td>139.070007</td>\n",
              "      <td>114459400</td>\n",
              "      <td>138.862503</td>\n",
              "    </tr>\n",
              "    <tr>\n",
              "      <th>2021-01-25</th>\n",
              "      <td>145.089996</td>\n",
              "      <td>136.539993</td>\n",
              "      <td>143.070007</td>\n",
              "      <td>142.919998</td>\n",
              "      <td>157611700</td>\n",
              "      <td>142.706757</td>\n",
              "    </tr>\n",
              "    <tr>\n",
              "      <th>2021-01-26</th>\n",
              "      <td>144.300003</td>\n",
              "      <td>141.369995</td>\n",
              "      <td>143.600006</td>\n",
              "      <td>143.160004</td>\n",
              "      <td>98390600</td>\n",
              "      <td>142.946396</td>\n",
              "    </tr>\n",
              "    <tr>\n",
              "      <th>2021-01-27</th>\n",
              "      <td>144.300003</td>\n",
              "      <td>140.410004</td>\n",
              "      <td>143.429993</td>\n",
              "      <td>142.059998</td>\n",
              "      <td>140843800</td>\n",
              "      <td>141.848038</td>\n",
              "    </tr>\n",
              "    <tr>\n",
              "      <th>2021-01-28</th>\n",
              "      <td>141.990005</td>\n",
              "      <td>136.699997</td>\n",
              "      <td>139.520004</td>\n",
              "      <td>137.089996</td>\n",
              "      <td>142621100</td>\n",
              "      <td>136.885452</td>\n",
              "    </tr>\n",
              "    <tr>\n",
              "      <th>2021-01-29</th>\n",
              "      <td>136.740005</td>\n",
              "      <td>130.210007</td>\n",
              "      <td>135.830002</td>\n",
              "      <td>131.960007</td>\n",
              "      <td>177180600</td>\n",
              "      <td>131.763107</td>\n",
              "    </tr>\n",
              "    <tr>\n",
              "      <th>2021-02-01</th>\n",
              "      <td>135.380005</td>\n",
              "      <td>130.929993</td>\n",
              "      <td>133.750000</td>\n",
              "      <td>134.139999</td>\n",
              "      <td>106239800</td>\n",
              "      <td>133.939850</td>\n",
              "    </tr>\n",
              "  </tbody>\n",
              "</table>\n",
              "</div>"
            ],
            "text/plain": [
              "                  High         Low  ...     Volume   Adj Close\n",
              "Date                                ...                       \n",
              "2020-12-01  123.470001  120.010002  ...  128166800  122.536896\n",
              "2020-12-02  123.370003  120.889999  ...   89004200  122.896355\n",
              "2020-12-03  123.779999  122.209999  ...   78967600  122.756569\n",
              "2020-12-04  122.860001  121.519997  ...   78260400  122.067596\n",
              "2020-12-07  124.570000  122.250000  ...   86712000  123.565353\n",
              "2020-12-08  124.980003  123.089996  ...   82225500  124.194412\n",
              "2020-12-09  125.949997  121.000000  ...  115089200  121.598289\n",
              "2020-12-10  123.870003  120.150002  ...   81312200  123.056114\n",
              "2020-12-11  122.760002  120.550003  ...   86939800  122.227356\n",
              "2020-12-14  123.349998  121.540001  ...   79184500  121.598289\n",
              "2020-12-15  127.900002  124.129997  ...  157572300  127.689186\n",
              "2020-12-16  128.369995  126.559998  ...   98208600  127.619293\n",
              "2020-12-17  129.580002  128.039993  ...   94359800  128.507965\n",
              "2020-12-18  129.100006  126.120003  ...  192541500  126.471016\n",
              "2020-12-21  128.309998  123.449997  ...  121251600  128.038666\n",
              "2020-12-22  134.410004  129.649994  ...  168904800  131.683228\n",
              "2020-12-23  132.429993  130.779999  ...   88223700  130.764603\n",
              "2020-12-24  133.460007  131.100006  ...   54930100  131.773087\n",
              "2020-12-28  137.339996  133.509995  ...  124486200  136.486053\n",
              "2020-12-29  138.789993  134.339996  ...  121047300  134.668762\n",
              "2020-12-30  135.990005  133.399994  ...   96452100  133.520477\n",
              "2020-12-31  134.740005  131.720001  ...   99116600  132.492020\n",
              "2021-01-04  133.610001  126.760002  ...  143301900  129.216919\n",
              "2021-01-05  131.740005  128.429993  ...   97664900  130.814514\n",
              "2021-01-06  131.050003  126.379997  ...  155088000  126.411102\n",
              "2021-01-07  131.630005  127.860001  ...  109578200  130.724655\n",
              "2021-01-08  132.630005  130.229996  ...  105158200  131.852966\n",
              "2021-01-11  130.169998  128.500000  ...  100620900  128.787552\n",
              "2021-01-12  129.690002  126.860001  ...   91951100  128.607819\n",
              "2021-01-13  131.449997  128.490005  ...   88636800  130.694702\n",
              "2021-01-14  131.000000  128.759995  ...   90221800  128.717667\n",
              "2021-01-15  130.220001  127.000000  ...  111598500  126.950294\n",
              "2021-01-19  128.710007  126.940002  ...   90757300  127.639267\n",
              "2021-01-20  132.490005  128.550003  ...  104319500  131.832993\n",
              "2021-01-21  139.669998  133.589996  ...  120529500  136.665771\n",
              "2021-01-22  139.850006  135.020004  ...  114459400  138.862503\n",
              "2021-01-25  145.089996  136.539993  ...  157611700  142.706757\n",
              "2021-01-26  144.300003  141.369995  ...   98390600  142.946396\n",
              "2021-01-27  144.300003  140.410004  ...  140843800  141.848038\n",
              "2021-01-28  141.990005  136.699997  ...  142621100  136.885452\n",
              "2021-01-29  136.740005  130.210007  ...  177180600  131.763107\n",
              "2021-02-01  135.380005  130.929993  ...  106239800  133.939850\n",
              "\n",
              "[42 rows x 6 columns]"
            ]
          },
          "metadata": {
            "tags": []
          },
          "execution_count": 5
        }
      ]
    },
    {
      "cell_type": "code",
      "metadata": {
        "colab": {
          "base_uri": "https://localhost:8080/",
          "height": 1000
        },
        "id": "KxbyV20-f1io",
        "outputId": "cb168224-d148-4fdd-9a53-1e6c7ef3b85d"
      },
      "source": [
        "# Mi ejemplo con Amazon\r\n",
        "data1"
      ],
      "execution_count": null,
      "outputs": [
        {
          "output_type": "execute_result",
          "data": {
            "text/html": [
              "<div>\n",
              "<style scoped>\n",
              "    .dataframe tbody tr th:only-of-type {\n",
              "        vertical-align: middle;\n",
              "    }\n",
              "\n",
              "    .dataframe tbody tr th {\n",
              "        vertical-align: top;\n",
              "    }\n",
              "\n",
              "    .dataframe thead th {\n",
              "        text-align: right;\n",
              "    }\n",
              "</style>\n",
              "<table border=\"1\" class=\"dataframe\">\n",
              "  <thead>\n",
              "    <tr style=\"text-align: right;\">\n",
              "      <th></th>\n",
              "      <th>High</th>\n",
              "      <th>Low</th>\n",
              "      <th>Open</th>\n",
              "      <th>Close</th>\n",
              "      <th>Volume</th>\n",
              "      <th>Adj Close</th>\n",
              "    </tr>\n",
              "    <tr>\n",
              "      <th>Date</th>\n",
              "      <th></th>\n",
              "      <th></th>\n",
              "      <th></th>\n",
              "      <th></th>\n",
              "      <th></th>\n",
              "      <th></th>\n",
              "    </tr>\n",
              "  </thead>\n",
              "  <tbody>\n",
              "    <tr>\n",
              "      <th>2020-12-01</th>\n",
              "      <td>3248.949951</td>\n",
              "      <td>3157.179932</td>\n",
              "      <td>3188.500000</td>\n",
              "      <td>3220.080078</td>\n",
              "      <td>4544400</td>\n",
              "      <td>3220.080078</td>\n",
              "    </tr>\n",
              "    <tr>\n",
              "      <th>2020-12-02</th>\n",
              "      <td>3232.000000</td>\n",
              "      <td>3173.260010</td>\n",
              "      <td>3221.649902</td>\n",
              "      <td>3203.530029</td>\n",
              "      <td>3129300</td>\n",
              "      <td>3203.530029</td>\n",
              "    </tr>\n",
              "    <tr>\n",
              "      <th>2020-12-03</th>\n",
              "      <td>3228.639893</td>\n",
              "      <td>3181.310059</td>\n",
              "      <td>3205.459961</td>\n",
              "      <td>3186.729980</td>\n",
              "      <td>2892000</td>\n",
              "      <td>3186.729980</td>\n",
              "    </tr>\n",
              "    <tr>\n",
              "      <th>2020-12-04</th>\n",
              "      <td>3198.209961</td>\n",
              "      <td>3158.760010</td>\n",
              "      <td>3198.209961</td>\n",
              "      <td>3162.580078</td>\n",
              "      <td>2913600</td>\n",
              "      <td>3162.580078</td>\n",
              "    </tr>\n",
              "    <tr>\n",
              "      <th>2020-12-07</th>\n",
              "      <td>3180.760010</td>\n",
              "      <td>3141.689941</td>\n",
              "      <td>3156.479980</td>\n",
              "      <td>3158.000000</td>\n",
              "      <td>2751300</td>\n",
              "      <td>3158.000000</td>\n",
              "    </tr>\n",
              "    <tr>\n",
              "      <th>2020-12-08</th>\n",
              "      <td>3184.129883</td>\n",
              "      <td>3120.020020</td>\n",
              "      <td>3158.899902</td>\n",
              "      <td>3177.290039</td>\n",
              "      <td>3286300</td>\n",
              "      <td>3177.290039</td>\n",
              "    </tr>\n",
              "    <tr>\n",
              "      <th>2020-12-09</th>\n",
              "      <td>3174.429932</td>\n",
              "      <td>3088.000000</td>\n",
              "      <td>3167.889893</td>\n",
              "      <td>3104.199951</td>\n",
              "      <td>4100800</td>\n",
              "      <td>3104.199951</td>\n",
              "    </tr>\n",
              "    <tr>\n",
              "      <th>2020-12-10</th>\n",
              "      <td>3142.100098</td>\n",
              "      <td>3076.000000</td>\n",
              "      <td>3088.989990</td>\n",
              "      <td>3101.489990</td>\n",
              "      <td>3030200</td>\n",
              "      <td>3101.489990</td>\n",
              "    </tr>\n",
              "    <tr>\n",
              "      <th>2020-12-11</th>\n",
              "      <td>3118.669922</td>\n",
              "      <td>3072.820068</td>\n",
              "      <td>3096.659912</td>\n",
              "      <td>3116.419922</td>\n",
              "      <td>3064700</td>\n",
              "      <td>3116.419922</td>\n",
              "    </tr>\n",
              "    <tr>\n",
              "      <th>2020-12-14</th>\n",
              "      <td>3190.469971</td>\n",
              "      <td>3126.000000</td>\n",
              "      <td>3143.000000</td>\n",
              "      <td>3156.969971</td>\n",
              "      <td>4155800</td>\n",
              "      <td>3156.969971</td>\n",
              "    </tr>\n",
              "    <tr>\n",
              "      <th>2020-12-15</th>\n",
              "      <td>3188.500000</td>\n",
              "      <td>3130.489990</td>\n",
              "      <td>3181.010010</td>\n",
              "      <td>3165.120117</td>\n",
              "      <td>3323700</td>\n",
              "      <td>3165.120117</td>\n",
              "    </tr>\n",
              "    <tr>\n",
              "      <th>2020-12-16</th>\n",
              "      <td>3247.000000</td>\n",
              "      <td>3163.679932</td>\n",
              "      <td>3176.010010</td>\n",
              "      <td>3240.959961</td>\n",
              "      <td>4427600</td>\n",
              "      <td>3240.959961</td>\n",
              "    </tr>\n",
              "    <tr>\n",
              "      <th>2020-12-17</th>\n",
              "      <td>3263.510010</td>\n",
              "      <td>3221.000000</td>\n",
              "      <td>3250.000000</td>\n",
              "      <td>3236.080078</td>\n",
              "      <td>3474300</td>\n",
              "      <td>3236.080078</td>\n",
              "    </tr>\n",
              "    <tr>\n",
              "      <th>2020-12-18</th>\n",
              "      <td>3249.419922</td>\n",
              "      <td>3171.600098</td>\n",
              "      <td>3243.989990</td>\n",
              "      <td>3201.649902</td>\n",
              "      <td>5995700</td>\n",
              "      <td>3201.649902</td>\n",
              "    </tr>\n",
              "    <tr>\n",
              "      <th>2020-12-21</th>\n",
              "      <td>3226.969971</td>\n",
              "      <td>3166.000000</td>\n",
              "      <td>3200.010010</td>\n",
              "      <td>3206.179932</td>\n",
              "      <td>3836800</td>\n",
              "      <td>3206.179932</td>\n",
              "    </tr>\n",
              "    <tr>\n",
              "      <th>2020-12-22</th>\n",
              "      <td>3222.000000</td>\n",
              "      <td>3180.080078</td>\n",
              "      <td>3202.840088</td>\n",
              "      <td>3206.520020</td>\n",
              "      <td>2369400</td>\n",
              "      <td>3206.520020</td>\n",
              "    </tr>\n",
              "    <tr>\n",
              "      <th>2020-12-23</th>\n",
              "      <td>3210.129883</td>\n",
              "      <td>3184.169922</td>\n",
              "      <td>3205.000000</td>\n",
              "      <td>3185.270020</td>\n",
              "      <td>2093800</td>\n",
              "      <td>3185.270020</td>\n",
              "    </tr>\n",
              "    <tr>\n",
              "      <th>2020-12-24</th>\n",
              "      <td>3202.000000</td>\n",
              "      <td>3169.000000</td>\n",
              "      <td>3193.899902</td>\n",
              "      <td>3172.689941</td>\n",
              "      <td>1451900</td>\n",
              "      <td>3172.689941</td>\n",
              "    </tr>\n",
              "    <tr>\n",
              "      <th>2020-12-28</th>\n",
              "      <td>3304.000000</td>\n",
              "      <td>3172.689941</td>\n",
              "      <td>3194.000000</td>\n",
              "      <td>3283.959961</td>\n",
              "      <td>5686800</td>\n",
              "      <td>3283.959961</td>\n",
              "    </tr>\n",
              "    <tr>\n",
              "      <th>2020-12-29</th>\n",
              "      <td>3350.649902</td>\n",
              "      <td>3281.219971</td>\n",
              "      <td>3309.939941</td>\n",
              "      <td>3322.000000</td>\n",
              "      <td>4872900</td>\n",
              "      <td>3322.000000</td>\n",
              "    </tr>\n",
              "    <tr>\n",
              "      <th>2020-12-30</th>\n",
              "      <td>3342.100098</td>\n",
              "      <td>3282.469971</td>\n",
              "      <td>3341.000000</td>\n",
              "      <td>3285.850098</td>\n",
              "      <td>3209300</td>\n",
              "      <td>3285.850098</td>\n",
              "    </tr>\n",
              "    <tr>\n",
              "      <th>2020-12-31</th>\n",
              "      <td>3282.919922</td>\n",
              "      <td>3241.199951</td>\n",
              "      <td>3275.000000</td>\n",
              "      <td>3256.929932</td>\n",
              "      <td>2957200</td>\n",
              "      <td>3256.929932</td>\n",
              "    </tr>\n",
              "    <tr>\n",
              "      <th>2021-01-04</th>\n",
              "      <td>3272.000000</td>\n",
              "      <td>3144.020020</td>\n",
              "      <td>3270.000000</td>\n",
              "      <td>3186.629883</td>\n",
              "      <td>4411400</td>\n",
              "      <td>3186.629883</td>\n",
              "    </tr>\n",
              "    <tr>\n",
              "      <th>2021-01-05</th>\n",
              "      <td>3223.379883</td>\n",
              "      <td>3165.060059</td>\n",
              "      <td>3166.010010</td>\n",
              "      <td>3218.510010</td>\n",
              "      <td>2655500</td>\n",
              "      <td>3218.510010</td>\n",
              "    </tr>\n",
              "    <tr>\n",
              "      <th>2021-01-06</th>\n",
              "      <td>3197.510010</td>\n",
              "      <td>3131.159912</td>\n",
              "      <td>3146.479980</td>\n",
              "      <td>3138.379883</td>\n",
              "      <td>4394800</td>\n",
              "      <td>3138.379883</td>\n",
              "    </tr>\n",
              "    <tr>\n",
              "      <th>2021-01-07</th>\n",
              "      <td>3208.540039</td>\n",
              "      <td>3155.000000</td>\n",
              "      <td>3157.000000</td>\n",
              "      <td>3162.159912</td>\n",
              "      <td>3514500</td>\n",
              "      <td>3162.159912</td>\n",
              "    </tr>\n",
              "    <tr>\n",
              "      <th>2021-01-08</th>\n",
              "      <td>3190.639893</td>\n",
              "      <td>3142.199951</td>\n",
              "      <td>3180.000000</td>\n",
              "      <td>3182.699951</td>\n",
              "      <td>3537700</td>\n",
              "      <td>3182.699951</td>\n",
              "    </tr>\n",
              "    <tr>\n",
              "      <th>2021-01-11</th>\n",
              "      <td>3156.379883</td>\n",
              "      <td>3110.000000</td>\n",
              "      <td>3148.010010</td>\n",
              "      <td>3114.209961</td>\n",
              "      <td>3683400</td>\n",
              "      <td>3114.209961</td>\n",
              "    </tr>\n",
              "    <tr>\n",
              "      <th>2021-01-12</th>\n",
              "      <td>3142.139893</td>\n",
              "      <td>3086.000000</td>\n",
              "      <td>3120.000000</td>\n",
              "      <td>3120.830078</td>\n",
              "      <td>3514600</td>\n",
              "      <td>3120.830078</td>\n",
              "    </tr>\n",
              "    <tr>\n",
              "      <th>2021-01-13</th>\n",
              "      <td>3189.949951</td>\n",
              "      <td>3122.080078</td>\n",
              "      <td>3128.439941</td>\n",
              "      <td>3165.889893</td>\n",
              "      <td>3321200</td>\n",
              "      <td>3165.889893</td>\n",
              "    </tr>\n",
              "    <tr>\n",
              "      <th>2021-01-14</th>\n",
              "      <td>3178.000000</td>\n",
              "      <td>3120.590088</td>\n",
              "      <td>3167.520020</td>\n",
              "      <td>3127.469971</td>\n",
              "      <td>3070900</td>\n",
              "      <td>3127.469971</td>\n",
              "    </tr>\n",
              "    <tr>\n",
              "      <th>2021-01-15</th>\n",
              "      <td>3142.550049</td>\n",
              "      <td>3095.169922</td>\n",
              "      <td>3123.020020</td>\n",
              "      <td>3104.250000</td>\n",
              "      <td>4244000</td>\n",
              "      <td>3104.250000</td>\n",
              "    </tr>\n",
              "    <tr>\n",
              "      <th>2021-01-19</th>\n",
              "      <td>3145.000000</td>\n",
              "      <td>3096.000000</td>\n",
              "      <td>3107.000000</td>\n",
              "      <td>3120.760010</td>\n",
              "      <td>3305100</td>\n",
              "      <td>3120.760010</td>\n",
              "    </tr>\n",
              "    <tr>\n",
              "      <th>2021-01-20</th>\n",
              "      <td>3279.800049</td>\n",
              "      <td>3175.000000</td>\n",
              "      <td>3181.989990</td>\n",
              "      <td>3263.379883</td>\n",
              "      <td>5309800</td>\n",
              "      <td>3263.379883</td>\n",
              "    </tr>\n",
              "    <tr>\n",
              "      <th>2021-01-21</th>\n",
              "      <td>3348.550049</td>\n",
              "      <td>3289.570068</td>\n",
              "      <td>3293.000000</td>\n",
              "      <td>3306.989990</td>\n",
              "      <td>4945100</td>\n",
              "      <td>3306.989990</td>\n",
              "    </tr>\n",
              "    <tr>\n",
              "      <th>2021-01-22</th>\n",
              "      <td>3321.909912</td>\n",
              "      <td>3283.159912</td>\n",
              "      <td>3304.310059</td>\n",
              "      <td>3292.229980</td>\n",
              "      <td>2821900</td>\n",
              "      <td>3292.229980</td>\n",
              "    </tr>\n",
              "    <tr>\n",
              "      <th>2021-01-25</th>\n",
              "      <td>3363.889893</td>\n",
              "      <td>3243.149902</td>\n",
              "      <td>3328.500000</td>\n",
              "      <td>3294.000000</td>\n",
              "      <td>3749800</td>\n",
              "      <td>3294.000000</td>\n",
              "    </tr>\n",
              "    <tr>\n",
              "      <th>2021-01-26</th>\n",
              "      <td>3338.000000</td>\n",
              "      <td>3282.870117</td>\n",
              "      <td>3296.360107</td>\n",
              "      <td>3326.129883</td>\n",
              "      <td>2955200</td>\n",
              "      <td>3326.129883</td>\n",
              "    </tr>\n",
              "    <tr>\n",
              "      <th>2021-01-27</th>\n",
              "      <td>3346.520020</td>\n",
              "      <td>3207.080078</td>\n",
              "      <td>3341.489990</td>\n",
              "      <td>3232.580078</td>\n",
              "      <td>4660200</td>\n",
              "      <td>3232.580078</td>\n",
              "    </tr>\n",
              "    <tr>\n",
              "      <th>2021-01-28</th>\n",
              "      <td>3301.679932</td>\n",
              "      <td>3228.689941</td>\n",
              "      <td>3235.040039</td>\n",
              "      <td>3237.620117</td>\n",
              "      <td>3149200</td>\n",
              "      <td>3237.620117</td>\n",
              "    </tr>\n",
              "    <tr>\n",
              "      <th>2021-01-29</th>\n",
              "      <td>3236.989990</td>\n",
              "      <td>3184.550049</td>\n",
              "      <td>3230.000000</td>\n",
              "      <td>3206.199951</td>\n",
              "      <td>4285600</td>\n",
              "      <td>3206.199951</td>\n",
              "    </tr>\n",
              "    <tr>\n",
              "      <th>2021-02-01</th>\n",
              "      <td>3350.260010</td>\n",
              "      <td>3235.030029</td>\n",
              "      <td>3242.360107</td>\n",
              "      <td>3342.879883</td>\n",
              "      <td>4160200</td>\n",
              "      <td>3342.879883</td>\n",
              "    </tr>\n",
              "  </tbody>\n",
              "</table>\n",
              "</div>"
            ],
            "text/plain": [
              "                   High          Low  ...   Volume    Adj Close\n",
              "Date                                  ...                      \n",
              "2020-12-01  3248.949951  3157.179932  ...  4544400  3220.080078\n",
              "2020-12-02  3232.000000  3173.260010  ...  3129300  3203.530029\n",
              "2020-12-03  3228.639893  3181.310059  ...  2892000  3186.729980\n",
              "2020-12-04  3198.209961  3158.760010  ...  2913600  3162.580078\n",
              "2020-12-07  3180.760010  3141.689941  ...  2751300  3158.000000\n",
              "2020-12-08  3184.129883  3120.020020  ...  3286300  3177.290039\n",
              "2020-12-09  3174.429932  3088.000000  ...  4100800  3104.199951\n",
              "2020-12-10  3142.100098  3076.000000  ...  3030200  3101.489990\n",
              "2020-12-11  3118.669922  3072.820068  ...  3064700  3116.419922\n",
              "2020-12-14  3190.469971  3126.000000  ...  4155800  3156.969971\n",
              "2020-12-15  3188.500000  3130.489990  ...  3323700  3165.120117\n",
              "2020-12-16  3247.000000  3163.679932  ...  4427600  3240.959961\n",
              "2020-12-17  3263.510010  3221.000000  ...  3474300  3236.080078\n",
              "2020-12-18  3249.419922  3171.600098  ...  5995700  3201.649902\n",
              "2020-12-21  3226.969971  3166.000000  ...  3836800  3206.179932\n",
              "2020-12-22  3222.000000  3180.080078  ...  2369400  3206.520020\n",
              "2020-12-23  3210.129883  3184.169922  ...  2093800  3185.270020\n",
              "2020-12-24  3202.000000  3169.000000  ...  1451900  3172.689941\n",
              "2020-12-28  3304.000000  3172.689941  ...  5686800  3283.959961\n",
              "2020-12-29  3350.649902  3281.219971  ...  4872900  3322.000000\n",
              "2020-12-30  3342.100098  3282.469971  ...  3209300  3285.850098\n",
              "2020-12-31  3282.919922  3241.199951  ...  2957200  3256.929932\n",
              "2021-01-04  3272.000000  3144.020020  ...  4411400  3186.629883\n",
              "2021-01-05  3223.379883  3165.060059  ...  2655500  3218.510010\n",
              "2021-01-06  3197.510010  3131.159912  ...  4394800  3138.379883\n",
              "2021-01-07  3208.540039  3155.000000  ...  3514500  3162.159912\n",
              "2021-01-08  3190.639893  3142.199951  ...  3537700  3182.699951\n",
              "2021-01-11  3156.379883  3110.000000  ...  3683400  3114.209961\n",
              "2021-01-12  3142.139893  3086.000000  ...  3514600  3120.830078\n",
              "2021-01-13  3189.949951  3122.080078  ...  3321200  3165.889893\n",
              "2021-01-14  3178.000000  3120.590088  ...  3070900  3127.469971\n",
              "2021-01-15  3142.550049  3095.169922  ...  4244000  3104.250000\n",
              "2021-01-19  3145.000000  3096.000000  ...  3305100  3120.760010\n",
              "2021-01-20  3279.800049  3175.000000  ...  5309800  3263.379883\n",
              "2021-01-21  3348.550049  3289.570068  ...  4945100  3306.989990\n",
              "2021-01-22  3321.909912  3283.159912  ...  2821900  3292.229980\n",
              "2021-01-25  3363.889893  3243.149902  ...  3749800  3294.000000\n",
              "2021-01-26  3338.000000  3282.870117  ...  2955200  3326.129883\n",
              "2021-01-27  3346.520020  3207.080078  ...  4660200  3232.580078\n",
              "2021-01-28  3301.679932  3228.689941  ...  3149200  3237.620117\n",
              "2021-01-29  3236.989990  3184.550049  ...  4285600  3206.199951\n",
              "2021-02-01  3350.260010  3235.030029  ...  4160200  3342.879883\n",
              "\n",
              "[42 rows x 6 columns]"
            ]
          },
          "metadata": {
            "tags": []
          },
          "execution_count": 6
        }
      ]
    },
    {
      "cell_type": "markdown",
      "metadata": {
        "id": "gtwMeaUYrzeZ"
      },
      "source": [
        "This is a pandas dataframe, so we can index in to just get price like this. For more info on pandas, please [click here](http://pandas.pydata.org/pandas-docs/stable/10min.html)."
      ]
    },
    {
      "cell_type": "code",
      "metadata": {
        "id": "CfKQcKlMrzeZ"
      },
      "source": [
        "#De esta manera no funciona\r\n",
        "X = data['price']"
      ],
      "execution_count": null,
      "outputs": []
    },
    {
      "cell_type": "code",
      "metadata": {
        "colab": {
          "base_uri": "https://localhost:8080/"
        },
        "id": "Ben8Lj1ozFjI",
        "outputId": "35a5ad32-b3a6-42e5-b265-f25ad4dde85a"
      },
      "source": [
        "# Al importar datareader la información funciona de la siguiente manera\r\n",
        "x = data['Adj Close']\r\n",
        "print(x, type(x))"
      ],
      "execution_count": null,
      "outputs": [
        {
          "output_type": "stream",
          "text": [
            "Date\n",
            "2020-12-01    122.536896\n",
            "2020-12-02    122.896355\n",
            "2020-12-03    122.756569\n",
            "2020-12-04    122.067596\n",
            "2020-12-07    123.565353\n",
            "2020-12-08    124.194412\n",
            "2020-12-09    121.598289\n",
            "2020-12-10    123.056114\n",
            "2020-12-11    122.227356\n",
            "2020-12-14    121.598289\n",
            "2020-12-15    127.689186\n",
            "2020-12-16    127.619293\n",
            "2020-12-17    128.507965\n",
            "2020-12-18    126.471016\n",
            "2020-12-21    128.038666\n",
            "2020-12-22    131.683228\n",
            "2020-12-23    130.764603\n",
            "2020-12-24    131.773087\n",
            "2020-12-28    136.486053\n",
            "2020-12-29    134.668762\n",
            "2020-12-30    133.520477\n",
            "2020-12-31    132.492020\n",
            "2021-01-04    129.216919\n",
            "2021-01-05    130.814514\n",
            "2021-01-06    126.411102\n",
            "2021-01-07    130.724655\n",
            "2021-01-08    131.852966\n",
            "2021-01-11    128.787552\n",
            "2021-01-12    128.607819\n",
            "2021-01-13    130.694702\n",
            "2021-01-14    128.717667\n",
            "2021-01-15    126.950294\n",
            "2021-01-19    127.639267\n",
            "2021-01-20    131.832993\n",
            "2021-01-21    136.665771\n",
            "2021-01-22    138.862503\n",
            "2021-01-25    142.706757\n",
            "2021-01-26    142.946396\n",
            "2021-01-27    141.848038\n",
            "2021-01-28    136.885452\n",
            "2021-01-29    131.763107\n",
            "2021-02-01    133.939850\n",
            "Name: Adj Close, dtype: float64 <class 'pandas.core.series.Series'>\n"
          ],
          "name": "stdout"
        }
      ]
    },
    {
      "cell_type": "code",
      "metadata": {
        "colab": {
          "base_uri": "https://localhost:8080/"
        },
        "id": "1eQ63QfTgfFz",
        "outputId": "2855d4f0-c4fd-48c8-f95f-25246aa68f0f"
      },
      "source": [
        "# Mi ejemplo para Amazon\r\n",
        "y = data1['Adj Close']\r\n",
        "print(y, type(y))"
      ],
      "execution_count": null,
      "outputs": [
        {
          "output_type": "stream",
          "text": [
            "Date\n",
            "2020-12-01    3220.080078\n",
            "2020-12-02    3203.530029\n",
            "2020-12-03    3186.729980\n",
            "2020-12-04    3162.580078\n",
            "2020-12-07    3158.000000\n",
            "2020-12-08    3177.290039\n",
            "2020-12-09    3104.199951\n",
            "2020-12-10    3101.489990\n",
            "2020-12-11    3116.419922\n",
            "2020-12-14    3156.969971\n",
            "2020-12-15    3165.120117\n",
            "2020-12-16    3240.959961\n",
            "2020-12-17    3236.080078\n",
            "2020-12-18    3201.649902\n",
            "2020-12-21    3206.179932\n",
            "2020-12-22    3206.520020\n",
            "2020-12-23    3185.270020\n",
            "2020-12-24    3172.689941\n",
            "2020-12-28    3283.959961\n",
            "2020-12-29    3322.000000\n",
            "2020-12-30    3285.850098\n",
            "2020-12-31    3256.929932\n",
            "2021-01-04    3186.629883\n",
            "2021-01-05    3218.510010\n",
            "2021-01-06    3138.379883\n",
            "2021-01-07    3162.159912\n",
            "2021-01-08    3182.699951\n",
            "2021-01-11    3114.209961\n",
            "2021-01-12    3120.830078\n",
            "2021-01-13    3165.889893\n",
            "2021-01-14    3127.469971\n",
            "2021-01-15    3104.250000\n",
            "2021-01-19    3120.760010\n",
            "2021-01-20    3263.379883\n",
            "2021-01-21    3306.989990\n",
            "2021-01-22    3292.229980\n",
            "2021-01-25    3294.000000\n",
            "2021-01-26    3326.129883\n",
            "2021-01-27    3232.580078\n",
            "2021-01-28    3237.620117\n",
            "2021-01-29    3206.199951\n",
            "2021-02-01    3342.879883\n",
            "Name: Adj Close, dtype: float64 <class 'pandas.core.series.Series'>\n"
          ],
          "name": "stdout"
        }
      ]
    },
    {
      "cell_type": "markdown",
      "metadata": {
        "id": "BCBmSXJWrzeZ"
      },
      "source": [
        "Because there is now also date information in our data, we provide two series to `.plot`. `X.index` gives us the datetime index, and `X.values` gives us the pricing values. These are used as the X and Y coordinates to make a graph."
      ]
    },
    {
      "cell_type": "code",
      "metadata": {
        "id": "ANtaMyqjrzea",
        "colab": {
          "base_uri": "https://localhost:8080/",
          "height": 265
        },
        "outputId": "a18ede9b-ad7c-4d26-e90e-887003d8596c"
      },
      "source": [
        "import matplotlib.pyplot as plt\n",
        "plt.plot(x.index, x.values)\n",
        "plt.ylabel('Price')\n",
        "plt.legend(['AAPL']);"
      ],
      "execution_count": null,
      "outputs": [
        {
          "output_type": "display_data",
          "data": {
            "image/png": "[encoded data removed]",
            "text/plain": [
              "<Figure size 432x288 with 1 Axes>"
            ]
          },
          "metadata": {
            "tags": [],
            "needs_background": "light"
          }
        }
      ]
    },
    {
      "cell_type": "code",
      "metadata": {
        "colab": {
          "base_uri": "https://localhost:8080/",
          "height": 265
        },
        "id": "e9NB3DBd0M7X",
        "outputId": "b54b75a5-3dad-44a6-a1f4-357d4df1860f"
      },
      "source": [
        "# Mi ejemplo para Amazon\r\n",
        "plt.plot(y.index, y.values)\r\n",
        "plt.ylabel('adj Close')\r\n",
        "plt.legend(['AMZN']);"
      ],
      "execution_count": null,
      "outputs": [
        {
          "output_type": "display_data",
          "data": {
            "image/png": "[encoded data removed]",
            "text/plain": [
              "<Figure size 432x288 with 1 Axes>"
            ]
          },
          "metadata": {
            "tags": [],
            "needs_background": "light"
          }
        }
      ]
    },
    {
      "cell_type": "markdown",
      "metadata": {
        "id": "_llehEQ-rzea"
      },
      "source": [
        "We can get statistics again on real data."
      ]
    },
    {
      "cell_type": "code",
      "metadata": {
        "id": "T4-66R-krzea",
        "colab": {
          "base_uri": "https://localhost:8080/"
        },
        "outputId": "65d19901-e8d6-4925-bd05-c75d1de82fb9"
      },
      "source": [
        "#Media aritmética o promedio de la nueva información real\r\n",
        "import numpy as np\r\n",
        "np.mean(x)"
      ],
      "execution_count": null,
      "outputs": [
        {
          "output_type": "execute_result",
          "data": {
            "text/plain": [
              "129.85904548281715"
            ]
          },
          "metadata": {
            "tags": []
          },
          "execution_count": 14
        }
      ]
    },
    {
      "cell_type": "markdown",
      "metadata": {
        "id": "nC2n-U77myOT"
      },
      "source": [
        "> *Como se mencionó más arriba, la media aritmética se obtiene a partir de la siguiente fórmula:*\r\n",
        "\r\n",
        "> $ Media(x) = \\bar{x} = \\frac{\\sum_{i = 1}^{N}X_{i}}{N} $\r\n",
        "\r\n",
        "> $ siendo~ (X_{1}, X_{2},...,X_{N})\\ el\\ conjunto\\ de\\ observaciones. $"
      ]
    },
    {
      "cell_type": "code",
      "metadata": {
        "colab": {
          "base_uri": "https://localhost:8080/"
        },
        "id": "1wdVTWlNrELY",
        "outputId": "84918d04-3187-48b2-f5a4-a055da9eabe0"
      },
      "source": [
        "# Ejemplo para Amazon\r\n",
        "np.mean(y)"
      ],
      "execution_count": null,
      "outputs": [
        {
          "output_type": "execute_result",
          "data": {
            "text/plain": [
              "3202.2452218191966"
            ]
          },
          "metadata": {
            "tags": []
          },
          "execution_count": 33
        }
      ]
    },
    {
      "cell_type": "code",
      "metadata": {
        "id": "IuqS20Gqrzeb",
        "colab": {
          "base_uri": "https://localhost:8080/"
        },
        "outputId": "a7dd5641-cfc2-42a7-d9af-7d72892630f2"
      },
      "source": [
        "#Calcula la desviación estándar de los datos dados\r\n",
        "np.std(x)"
      ],
      "execution_count": null,
      "outputs": [
        {
          "output_type": "execute_result",
          "data": {
            "text/plain": [
              "5.699933790391244"
            ]
          },
          "metadata": {
            "tags": []
          },
          "execution_count": 15
        }
      ]
    },
    {
      "cell_type": "markdown",
      "metadata": {
        "id": "vM6nh2pKnEid"
      },
      "source": [
        "> *Como se mencionó más arriba, para la desviación estándar se emplea la siguiente fórmula:*\r\n",
        "\r\n",
        "> $ S_{x} =\\sqrt{\\frac{\\sum_{i = 1}^{N}(x_{i} - \\bar{x})^{2}}{N - 1}} $\r\n",
        "\r\n",
        "> $ siendo\\ (X_{1}, X_{2},...,X_{N})\\ un\\ conjunto\\ de\\ datos. $"
      ]
    },
    {
      "cell_type": "code",
      "metadata": {
        "colab": {
          "base_uri": "https://localhost:8080/"
        },
        "id": "C491KYAzrU-s",
        "outputId": "bc38847a-6159-4184-eecd-b32e28134a88"
      },
      "source": [
        "# Ejemplo para Amazon\r\n",
        "np.std(y)"
      ],
      "execution_count": null,
      "outputs": [
        {
          "output_type": "execute_result",
          "data": {
            "text/plain": [
              "65.96523892784248"
            ]
          },
          "metadata": {
            "tags": []
          },
          "execution_count": 34
        }
      ]
    },
    {
      "cell_type": "markdown",
      "metadata": {
        "id": "rOgQHXJ6rzeb"
      },
      "source": [
        "##Getting Returns from Prices\n",
        "\n",
        "We can use the `pct_change` function to get returns. Notice how we drop the first element after doing this, as it will be `NaN` (nothing -> something results in a NaN percent change)."
      ]
    },
    {
      "cell_type": "code",
      "metadata": {
        "id": "Wl66R6xsrzeb"
      },
      "source": [
        "R = x.pct_change()[1:]"
      ],
      "execution_count": null,
      "outputs": []
    },
    {
      "cell_type": "markdown",
      "metadata": {
        "id": "U0uPHy3bC9kn"
      },
      "source": [
        "> *Esta función calcula por defecto el cambio porcentual de la fila inmediatamente anterior.*\r\n",
        "\r\n",
        "> *A continuación imprimo R.*"
      ]
    },
    {
      "cell_type": "code",
      "metadata": {
        "id": "agcREanjnXw1"
      },
      "source": [
        "# Continuando ejemplo para Amazon\r\n",
        "# [1:] Desde la posición 1 \r\n",
        "R1 = y.pct_change()[1:]"
      ],
      "execution_count": null,
      "outputs": []
    },
    {
      "cell_type": "code",
      "metadata": {
        "colab": {
          "base_uri": "https://localhost:8080/"
        },
        "id": "CIj6SkZIDOKz",
        "outputId": "889d9009-2df5-42d7-9bc8-ef4e1c2c07cb"
      },
      "source": [
        "print(R)"
      ],
      "execution_count": null,
      "outputs": [
        {
          "output_type": "stream",
          "text": [
            "Date\n",
            "2020-12-02    0.002933\n",
            "2020-12-03   -0.001137\n",
            "2020-12-04   -0.005613\n",
            "2020-12-07    0.012270\n",
            "2020-12-08    0.005091\n",
            "2020-12-09   -0.020904\n",
            "2020-12-10    0.011989\n",
            "2020-12-11   -0.006735\n",
            "2020-12-14   -0.005147\n",
            "2020-12-15    0.050090\n",
            "2020-12-16   -0.000547\n",
            "2020-12-17    0.006963\n",
            "2020-12-18   -0.015851\n",
            "2020-12-21    0.012395\n",
            "2020-12-22    0.028465\n",
            "2020-12-23   -0.006976\n",
            "2020-12-24    0.007712\n",
            "2020-12-28    0.035766\n",
            "2020-12-29   -0.013315\n",
            "2020-12-30   -0.008527\n",
            "2020-12-31   -0.007703\n",
            "2021-01-04   -0.024719\n",
            "2021-01-05    0.012364\n",
            "2021-01-06   -0.033661\n",
            "2021-01-07    0.034123\n",
            "2021-01-08    0.008631\n",
            "2021-01-11   -0.023249\n",
            "2021-01-12   -0.001396\n",
            "2021-01-13    0.016227\n",
            "2021-01-14   -0.015127\n",
            "2021-01-15   -0.013731\n",
            "2021-01-19    0.005427\n",
            "2021-01-20    0.032856\n",
            "2021-01-21    0.036658\n",
            "2021-01-22    0.016074\n",
            "2021-01-25    0.027684\n",
            "2021-01-26    0.001679\n",
            "2021-01-27   -0.007684\n",
            "2021-01-28   -0.034985\n",
            "2021-01-29   -0.037421\n",
            "2021-02-01    0.016520\n",
            "Name: Adj Close, dtype: float64\n"
          ],
          "name": "stdout"
        }
      ]
    },
    {
      "cell_type": "code",
      "metadata": {
        "colab": {
          "base_uri": "https://localhost:8080/"
        },
        "id": "P2MOuQoanhQC",
        "outputId": "fef75c75-9315-47d0-de95-4d9ca6b619a8"
      },
      "source": [
        "# Ejemplo R1 para Amazon\r\n",
        "print(R1)"
      ],
      "execution_count": null,
      "outputs": [
        {
          "output_type": "stream",
          "text": [
            "Date\n",
            "2020-12-02   -0.005140\n",
            "2020-12-03   -0.005244\n",
            "2020-12-04   -0.007578\n",
            "2020-12-07   -0.001448\n",
            "2020-12-08    0.006108\n",
            "2020-12-09   -0.023004\n",
            "2020-12-10   -0.000873\n",
            "2020-12-11    0.004814\n",
            "2020-12-14    0.013012\n",
            "2020-12-15    0.002582\n",
            "2020-12-16    0.023961\n",
            "2020-12-17   -0.001506\n",
            "2020-12-18   -0.010639\n",
            "2020-12-21    0.001415\n",
            "2020-12-22    0.000106\n",
            "2020-12-23   -0.006627\n",
            "2020-12-24   -0.003949\n",
            "2020-12-28    0.035071\n",
            "2020-12-29    0.011584\n",
            "2020-12-30   -0.010882\n",
            "2020-12-31   -0.008801\n",
            "2021-01-04   -0.021585\n",
            "2021-01-05    0.010004\n",
            "2021-01-06   -0.024897\n",
            "2021-01-07    0.007577\n",
            "2021-01-08    0.006496\n",
            "2021-01-11   -0.021519\n",
            "2021-01-12    0.002126\n",
            "2021-01-13    0.014438\n",
            "2021-01-14   -0.012136\n",
            "2021-01-15   -0.007425\n",
            "2021-01-19    0.005319\n",
            "2021-01-20    0.045700\n",
            "2021-01-21    0.013363\n",
            "2021-01-22   -0.004463\n",
            "2021-01-25    0.000538\n",
            "2021-01-26    0.009754\n",
            "2021-01-27   -0.028126\n",
            "2021-01-28    0.001559\n",
            "2021-01-29   -0.009705\n",
            "2021-02-01    0.042630\n",
            "Name: Adj Close, dtype: float64\n"
          ],
          "name": "stdout"
        }
      ]
    },
    {
      "cell_type": "markdown",
      "metadata": {
        "id": "6fCC89werzeb"
      },
      "source": [
        "We can plot the returns distribution as a histogram."
      ]
    },
    {
      "cell_type": "code",
      "metadata": {
        "id": "Dygdjw9Drzec",
        "colab": {
          "base_uri": "https://localhost:8080/",
          "height": 279
        },
        "outputId": "b39c13f8-e4d6-4fd6-b6f3-09b58cf7e0f6"
      },
      "source": [
        "import matplotlib.pyplot as plt\n",
        "\n",
        "plt.hist(R, bins=20)\n",
        "plt.xlabel('Return',)\n",
        "plt.ylabel('Frequency')\n",
        "plt.legend(['MSFT Returns']);"
      ],
      "execution_count": null,
      "outputs": [
        {
          "output_type": "display_data",
          "data": {
            "image/png": "[encoded data removed]",
            "text/plain": [
              "<Figure size 432x288 with 1 Axes>"
            ]
          },
          "metadata": {
            "tags": [],
            "needs_background": "light"
          }
        }
      ]
    },
    {
      "cell_type": "code",
      "metadata": {
        "colab": {
          "base_uri": "https://localhost:8080/",
          "height": 286
        },
        "id": "IZVNywUOGM_b",
        "outputId": "b46472f5-c38c-4017-a6ea-06def392c881"
      },
      "source": [
        "# Ejemplo de histograma para R1 Amazon\r\n",
        "f = {'family': 'serif',\r\n",
        "        'color':  'teal',\r\n",
        "        'weight': 'normal',\r\n",
        "        'size': 16,\r\n",
        "        }\r\n",
        "plt.hist(R1, density=True, bins=20, rwidth=0.9, color='teal')\r\n",
        "plt.xlabel('Return', fontdict=f)\r\n",
        "plt.ylabel('Frequency', fontdict=f)\r\n",
        "plt.legend(['AMZN Returns']);"
      ],
      "execution_count": null,
      "outputs": [
        {
          "output_type": "display_data",
          "data": {
            "image/png": "[encoded data removed]",
            "text/plain": [
              "<Figure size 432x288 with 1 Axes>"
            ]
          },
          "metadata": {
            "tags": [],
            "needs_background": "light"
          }
        }
      ]
    },
    {
      "cell_type": "markdown",
      "metadata": {
        "id": "UK1sBjperzec"
      },
      "source": [
        "Get statistics again."
      ]
    },
    {
      "cell_type": "code",
      "metadata": {
        "id": "ZhTpMHvNrzed",
        "colab": {
          "base_uri": "https://localhost:8080/"
        },
        "outputId": "53f5f1f6-59a6-4d4c-c96f-efe6eb3c9bad"
      },
      "source": [
        "import numpy as np\r\n",
        "np.mean(R)"
      ],
      "execution_count": null,
      "outputs": [
        {
          "output_type": "execute_result",
          "data": {
            "text/plain": [
              "0.0023778594365926682"
            ]
          },
          "metadata": {
            "tags": []
          },
          "execution_count": 24
        }
      ]
    },
    {
      "cell_type": "markdown",
      "metadata": {
        "id": "chd0LN3UMjlS"
      },
      "source": [
        ">*Obteniendo la Media aritmética o promedio de la información de R*"
      ]
    },
    {
      "cell_type": "code",
      "metadata": {
        "colab": {
          "base_uri": "https://localhost:8080/"
        },
        "id": "ncYj433_oWDr",
        "outputId": "e0a48bb6-f3dc-4cca-8c32-3eaec8eee540"
      },
      "source": [
        "# Para el ejemplo de Amazon\r\n",
        "np.mean(R1)"
      ],
      "execution_count": null,
      "outputs": [
        {
          "output_type": "execute_result",
          "data": {
            "text/plain": [
              "0.0010392593327966666"
            ]
          },
          "metadata": {
            "tags": []
          },
          "execution_count": 26
        }
      ]
    },
    {
      "cell_type": "code",
      "metadata": {
        "id": "zjoI8E-nrzed",
        "colab": {
          "base_uri": "https://localhost:8080/"
        },
        "outputId": "858bdb81-600b-4f9d-e0a9-3de2196ab604"
      },
      "source": [
        "np.std(R)"
      ],
      "execution_count": null,
      "outputs": [
        {
          "output_type": "execute_result",
          "data": {
            "text/plain": [
              "0.02030488090512834"
            ]
          },
          "metadata": {
            "tags": []
          },
          "execution_count": 25
        }
      ]
    },
    {
      "cell_type": "markdown",
      "metadata": {
        "id": "gKQEr_x0MuHo"
      },
      "source": [
        ">*Obteniendo la desviación estándar de los datos en R*"
      ]
    },
    {
      "cell_type": "code",
      "metadata": {
        "colab": {
          "base_uri": "https://localhost:8080/"
        },
        "id": "NgHBvxT2odNr",
        "outputId": "004b1886-daa3-4636-f9bf-90d710c1d747"
      },
      "source": [
        "# Para el ejemplo de Amazon\r\n",
        "np.std(R1)"
      ],
      "execution_count": null,
      "outputs": [
        {
          "output_type": "execute_result",
          "data": {
            "text/plain": [
              "0.01594683851885617"
            ]
          },
          "metadata": {
            "tags": []
          },
          "execution_count": 27
        }
      ]
    },
    {
      "cell_type": "markdown",
      "metadata": {
        "id": "pL5fj0H7rzed"
      },
      "source": [
        "Now let's go backwards and generate data out of a normal distribution using the statistics we estimated from Microsoft's returns. We'll see that we have good reason to suspect Microsoft's returns may not be normal, as the resulting normal distribution looks far different."
      ]
    },
    {
      "cell_type": "code",
      "metadata": {
        "id": "6nHJkjxIrzed",
        "colab": {
          "base_uri": "https://localhost:8080/",
          "height": 279
        },
        "outputId": "8bd22225-cbdb-4e1d-bf6b-818e4b5e51ad"
      },
      "source": [
        "plt.hist(np.random.normal(np.mean(R), np.std(R), 10000), bins=20)\n",
        "plt.xlabel('Return')\n",
        "plt.ylabel('Frequency')\n",
        "plt.legend(['Normally Distributed Returns']);"
      ],
      "execution_count": null,
      "outputs": [
        {
          "output_type": "display_data",
          "data": {
            "image/png": "[encoded data removed]",
            "text/plain": [
              "<Figure size 432x288 with 1 Axes>"
            ]
          },
          "metadata": {
            "tags": [],
            "needs_background": "light"
          }
        }
      ]
    },
    {
      "cell_type": "code",
      "metadata": {
        "colab": {
          "base_uri": "https://localhost:8080/",
          "height": 279
        },
        "id": "f2eff4izNK0t",
        "outputId": "63e4b48f-3d81-401c-edf2-2f480b9e71ba"
      },
      "source": [
        "# Para el ejemplo de Amazon\r\n",
        "plt.hist(np.random.normal(np.mean(R1), np.std(R1), 10000), bins=20, rwidth=0.8)\r\n",
        "plt.xlabel('Return')\r\n",
        "plt.ylabel('Frequency')\r\n",
        "plt.legend(['Normally Distributed Returns']);"
      ],
      "execution_count": null,
      "outputs": [
        {
          "output_type": "display_data",
          "data": {
            "image/png": "[encoded data removed]",
            "text/plain": [
              "<Figure size 432x288 with 1 Axes>"
            ]
          },
          "metadata": {
            "tags": [],
            "needs_background": "light"
          }
        }
      ]
    },
    {
      "cell_type": "markdown",
      "metadata": {
        "id": "vGDpLaKNrzee"
      },
      "source": [
        "##Generating a Moving Average\n",
        "\n",
        "`pandas` has some nice tools to allow us to generate rolling statistics. Here's an example. Notice how there's no moving average for the first 60 days, as we don't have 60 days of data on which to generate the statistic."
      ]
    },
    {
      "cell_type": "code",
      "metadata": {
        "id": "7nh6P4P-rzee"
      },
      "source": [
        "# Take the average of the last 60 days at each timepoint.\n",
        "MAVG = pd.rolling_mean(x, window=60)\n",
        "plt.plot(x.index, x.values)\n",
        "plt.plot(MAVG.index, MAVG.values)\n",
        "plt.ylabel('Price')\n",
        "plt.legend(['AAPL', '60-day MAVG']);"
      ],
      "execution_count": null,
      "outputs": []
    },
    {
      "cell_type": "markdown",
      "metadata": {
        "id": "UWdZYNpAQR6q"
      },
      "source": [
        ">*Para el anterior código aparece un error que indica:*\r\n",
        "\r\n",
        "> *AttributeError: module 'pandas' has no attribute 'rolling-mean'*\r\n",
        "\r\n",
        ">*Entonces la solución es la siguiente:*"
      ]
    },
    {
      "cell_type": "code",
      "metadata": {
        "colab": {
          "base_uri": "https://localhost:8080/",
          "height": 265
        },
        "id": "OL1Jf10XQCBR",
        "outputId": "ea99ca12-40bf-4fa1-a4e7-1ba7cde231f8"
      },
      "source": [
        "import pandas as pd\r\n",
        "# Take the average of the last 60 days at each timepoint.\r\n",
        "MAVG = x.rolling(60).mean()\r\n",
        "plt.plot(x.index, x.values)\r\n",
        "plt.plot(MAVG.index, MAVG.values)\r\n",
        "plt.ylabel('Adj Close')\r\n",
        "plt.legend(['AAPL', '60-day MAVG']);"
      ],
      "execution_count": null,
      "outputs": [
        {
          "output_type": "display_data",
          "data": {
            "image/png": "[encoded data removed]",
            "text/plain": [
              "<Figure size 432x288 with 1 Axes>"
            ]
          },
          "metadata": {
            "tags": [],
            "needs_background": "light"
          }
        }
      ]
    },
    {
      "cell_type": "code",
      "metadata": {
        "colab": {
          "base_uri": "https://localhost:8080/",
          "height": 265
        },
        "id": "Sa3BvSIXo68d",
        "outputId": "f1a8da98-93bb-4f11-d8c8-f37f0dc02f3f"
      },
      "source": [
        "# Ahora para el ejemplo de Amazon\r\n",
        "MAVG = y.rolling(60).mean()\r\n",
        "plt.plot(y.index, y.values)\r\n",
        "plt.plot(MAVG.index, MAVG.values)\r\n",
        "plt.ylabel('Adj Close')\r\n",
        "plt.legend(['AMNZ', '60-day MAVG']);"
      ],
      "execution_count": null,
      "outputs": [
        {
          "output_type": "display_data",
          "data": {
            "image/png": "[encoded data removed]",
            "text/plain": [
              "<Figure size 432x288 with 1 Axes>"
            ]
          },
          "metadata": {
            "tags": [],
            "needs_background": "light"
          }
        }
      ]
    },
    {
      "cell_type": "markdown",
      "metadata": {
        "id": "xtCzi9JOrzee"
      },
      "source": [
        "This presentation is for informational purposes only and does not constitute an offer to sell, a solicitation to buy, or a recommendation for any security; nor does it constitute an offer to provide investment advisory or other services by Quantopian, Inc. (\"Quantopian\"). Nothing contained herein constitutes investment advice or offers any opinion with respect to the suitability of any security, and any views expressed herein should not be taken as advice to buy, sell, or hold any security or as an endorsement of any security or company. In preparing the information contained herein, Quantopian, Inc. has not taken into account the investment needs, objectives, and financial circumstances of any particular investor. Any views expressed and data illustrated herein were prepared based upon information, believed to be reliable, available to Quantopian, Inc. at the time of publication. Quantopian makes no guarantees as to their accuracy or completeness. All information is subject to change and may quickly become unreliable for various reasons, including changes in market conditions or economic circumstances."
      ]
    }
  ]
}