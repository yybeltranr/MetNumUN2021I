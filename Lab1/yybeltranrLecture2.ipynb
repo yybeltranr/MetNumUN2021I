{
  "nbformat": 4,
  "nbformat_minor": 0,
  "metadata": {
    "kernelspec": {
      "name": "python3",
      "display_name": "Python 3"
    },
    "colab": {
      "name": "Lecture 2_Introduction to Python.ipynb",
      "provenance": [],
      "collapsed_sections": []
    }
  },
  "cells": [
    {
      "cell_type": "markdown",
      "metadata": {
        "id": "MUXb3gTnsduu"
      },
      "source": [
        "# Introduction to Python\n",
        "by Maxwell Margenot\n",
        "\n",
        "Part of the Quantopian Lecture Series:\n",
        "\n",
        "* [www.quantopian.com/lectures](https://www.quantopian.com/lectures)\n",
        "* [github.com/quantopian/research_public](https://github.com/quantopian/research_public)\n",
        "\n",
        "\n",
        "---\n",
        "\n",
        "All of the coding that you will do on the Quantopian platform will be in Python. It is also just a good, jack-of-all-trades language to know! Here we will provide you with the basics so that you can feel confident going through our other lectures and understanding what is happening."
      ]
    },
    {
      "cell_type": "markdown",
      "metadata": {
        "id": "NOKvWjZLsdu4"
      },
      "source": [
        "## Code Comments\n",
        "\n",
        "A comment is a note made by a programmer in the source code of a program. Its purpose is to clarify the source code and make it easier for people to follow along with what is happening. Anything in a comment is generally ignored when the code is actually run, making comments useful for including explanations and reasoning as well as removing specific lines of code that you may be unsure about. Comments in Python are created by using the pound symbol (`# Insert Text Here`). Including a `#` in a line of code will comment out anything that follows it."
      ]
    },
    {
      "cell_type": "code",
      "metadata": {
        "id": "uFaTSukpsdu5"
      },
      "source": [
        "# This is a comment\n",
        "# These lines of code will not change any values\n",
        "# Anything following the first # is not run as code"
      ],
      "execution_count": null,
      "outputs": []
    },
    {
      "cell_type": "code",
      "metadata": {
        "id": "uHp6-fvXkPjE"
      },
      "source": [
        "# Mi ejemplo \r\n",
        "\r\n",
        "# Comentarios de \r\n",
        "# una sola línea"
      ],
      "execution_count": null,
      "outputs": []
    },
    {
      "cell_type": "markdown",
      "metadata": {
        "id": "KLImLd4Rsdu6"
      },
      "source": [
        "You may hear text enclosed in triple quotes (`\"\"\" Insert Text Here \"\"\"`) referred to as multi-line comments, but this is not entirely accurate. This is a special type of `string` (a data type we will cover), called a `docstring`, used to explain the purpose of a function."
      ]
    },
    {
      "cell_type": "code",
      "metadata": {
        "id": "fWzlChESsdu7"
      },
      "source": [
        "\"\"\" This is a special string \"\"\""
      ],
      "execution_count": null,
      "outputs": []
    },
    {
      "cell_type": "code",
      "metadata": {
        "id": "F6hVsRJpkZD9",
        "colab": {
          "base_uri": "https://localhost:8080/",
          "height": 35
        },
        "outputId": "8be00e46-14ec-476b-d8b9-6ae808883b07"
      },
      "source": [
        "# Mi ejemplo\r\n",
        "\"\"\" Multiples\r\n",
        "líneas \r\n",
        "de \r\n",
        "información \"\"\""
      ],
      "execution_count": null,
      "outputs": [
        {
          "output_type": "execute_result",
          "data": {
            "application/vnd.google.colaboratory.intrinsic+json": {
              "type": "string"
            },
            "text/plain": [
              "' Multiples\\nlíneas \\nde \\ninformación '"
            ]
          },
          "metadata": {
            "tags": []
          },
          "execution_count": 2
        }
      ]
    },
    {
      "cell_type": "markdown",
      "metadata": {
        "id": "hLvzFidBsdu7"
      },
      "source": [
        "Make sure you read the comments within each code cell (if they are there). They will provide more real-time explanations of what is going on as you look at each line of code."
      ]
    },
    {
      "cell_type": "markdown",
      "metadata": {
        "id": "yXHUgpiCsdu8"
      },
      "source": [
        "## Variables\n",
        "\n",
        "Variables provide names for values in programming. If you want to save a value for later or repeated use, you give the value a name, storing the contents in a variable. Variables in programming work in a fundamentally similar way to variables in algebra, but in Python they can take on various different data types.\n",
        "\n",
        "The basic variable types that we will cover in this section are `integers`, `floating point numbers`, `booleans`, and `strings`. \n",
        "\n",
        "An `integer` in programming is the same as in mathematics, a round number with no values after the decimal point. We use the built-in `print` function here to display the values of our variables as well as their types!"
      ]
    },
    {
      "cell_type": "code",
      "metadata": {
        "id": "TR90Yo4Vsdu9",
        "colab": {
          "base_uri": "https://localhost:8080/"
        },
        "outputId": "dda7aa55-4e85-46ca-ed5e-2a71552a5fab"
      },
      "source": [
        "my_integer = 50\n",
        "print (my_integer, type(my_integer))"
      ],
      "execution_count": null,
      "outputs": [
        {
          "output_type": "stream",
          "text": [
            "50 <class 'int'>\n"
          ],
          "name": "stdout"
        }
      ]
    },
    {
      "cell_type": "code",
      "metadata": {
        "colab": {
          "base_uri": "https://localhost:8080/"
        },
        "id": "qEhdgoaJk8u1",
        "outputId": "ad832725-9458-41f2-d555-edd47edf55a4"
      },
      "source": [
        "# Mi ejemplode variables\r\n",
        "x = 5\r\n",
        "y = \"Jane\"\r\n",
        "z= 3.0\r\n",
        "print(x, type(x))\r\n",
        "print(y, type(y))\r\n",
        "print(z, type(z))"
      ],
      "execution_count": null,
      "outputs": [
        {
          "output_type": "stream",
          "text": [
            "5 <class 'int'>\n",
            "Jane <class 'str'>\n",
            "3.0 <class 'float'>\n"
          ],
          "name": "stdout"
        }
      ]
    },
    {
      "cell_type": "markdown",
      "metadata": {
        "id": "q94po1aRsdu9"
      },
      "source": [
        "Variables, regardless of type, are assigned by using a single equals sign (`=`). Variables are case-sensitive so any changes in variation in the capitals of a variable name will reference a different variable entirely."
      ]
    },
    {
      "cell_type": "code",
      "metadata": {
        "id": "yor9vyDRsdu-"
      },
      "source": [
        "one = 1\n",
        "print (One)"
      ],
      "execution_count": null,
      "outputs": []
    },
    {
      "cell_type": "markdown",
      "metadata": {
        "id": "6EMX6dWFldxg"
      },
      "source": [
        "> *Es importante recordar que Python es case-sensitive: distingue mayúsculas y minúsculas.*\r\n",
        "\r\n"
      ]
    },
    {
      "cell_type": "code",
      "metadata": {
        "id": "n_DDVJKQStOJ"
      },
      "source": [
        "# Mi ejemplo\r\n",
        "Violet = 56.8\r\n",
        "print (violet)"
      ],
      "execution_count": null,
      "outputs": []
    },
    {
      "cell_type": "markdown",
      "metadata": {
        "id": "xJkYmu9esdu-"
      },
      "source": [
        "A `floating point` number, or a `float` is a fancy name for a real number (again as in mathematics). To define a `float`, we need to either include a decimal point or specify that the value is a float."
      ]
    },
    {
      "cell_type": "code",
      "metadata": {
        "scrolled": true,
        "id": "yP07Yut9sdu-",
        "colab": {
          "base_uri": "https://localhost:8080/"
        },
        "outputId": "172846c9-86e7-415e-ce20-f6f6b79aa648"
      },
      "source": [
        "my_float = 1.0\n",
        "print (my_float, type(my_float))\n",
        "my_float = float(1)\n",
        "print (my_float, type(my_float))"
      ],
      "execution_count": null,
      "outputs": [
        {
          "output_type": "stream",
          "text": [
            "1.0 <class 'float'>\n",
            "1.0 <class 'float'>\n"
          ],
          "name": "stdout"
        }
      ]
    },
    {
      "cell_type": "code",
      "metadata": {
        "colab": {
          "base_uri": "https://localhost:8080/"
        },
        "id": "7RWc6khom1BD",
        "outputId": "e627e92a-08b6-4b96-e13c-437444402ae2"
      },
      "source": [
        "# Mi ejemplo\r\n",
        "y = 5.0\r\n",
        "print(y, type(y))\r\n",
        "y = float(5)\r\n",
        "print(y, type(y))"
      ],
      "execution_count": null,
      "outputs": [
        {
          "output_type": "stream",
          "text": [
            "5.0 <class 'float'>\n",
            "5.0 <class 'float'>\n"
          ],
          "name": "stdout"
        }
      ]
    },
    {
      "cell_type": "markdown",
      "metadata": {
        "id": "PIk8_ToYsdu_"
      },
      "source": [
        "A variable of type `float` will not round the number that you store in it, while a variable of type `integer` will. This makes `floats` more suitable for mathematical calculations where you want more than just integers.\n",
        "\n",
        "Note that as we used the `float()` function to force an number to be considered a `float`, we can use the `int()` function to force a number to be considered an `int`."
      ]
    },
    {
      "cell_type": "code",
      "metadata": {
        "id": "Ag4pnVJisdu_",
        "colab": {
          "base_uri": "https://localhost:8080/"
        },
        "outputId": "292d16cf-7bf1-46fd-b542-efc1dc4ed2ee"
      },
      "source": [
        "my_int = int(3.14159)\n",
        "print (my_int, type(my_int))"
      ],
      "execution_count": null,
      "outputs": [
        {
          "output_type": "stream",
          "text": [
            "3 <class 'int'>\n"
          ],
          "name": "stdout"
        }
      ]
    },
    {
      "cell_type": "code",
      "metadata": {
        "colab": {
          "base_uri": "https://localhost:8080/"
        },
        "id": "CeXPtA2Mr9lZ",
        "outputId": "9e34fa4b-f577-4830-dd31-dfaa7001964c"
      },
      "source": [
        "# Mi ejemplo\r\n",
        "x = int(85.89745687)\r\n",
        "print (x, type(x))"
      ],
      "execution_count": null,
      "outputs": [
        {
          "output_type": "stream",
          "text": [
            "85 <class 'int'>\n"
          ],
          "name": "stdout"
        }
      ]
    },
    {
      "cell_type": "markdown",
      "metadata": {
        "id": "CCRC34xSsdvA"
      },
      "source": [
        "The `int()` function will also truncate any digits that a number may have after the decimal point!\n",
        "\n",
        "Strings allow you to include text as a variable to operate on. They are defined using either single quotes ('') or double quotes (\"\")."
      ]
    },
    {
      "cell_type": "code",
      "metadata": {
        "id": "SDW6fxiwsdvB",
        "colab": {
          "base_uri": "https://localhost:8080/"
        },
        "outputId": "43fd5b77-11ce-46cb-e75a-fb79b444c2e7"
      },
      "source": [
        "my_string = 'This is a string with single quotes'\n",
        "print (my_string)\n",
        "my_string = \"This is a string with double quotes\"\n",
        "print (my_string)"
      ],
      "execution_count": null,
      "outputs": [
        {
          "output_type": "stream",
          "text": [
            "This is a string with single quotes\n",
            "This is a string with double quotes\n"
          ],
          "name": "stdout"
        }
      ]
    },
    {
      "cell_type": "markdown",
      "metadata": {
        "id": "cpRPy0amsh3L"
      },
      "source": [
        ">*No hay relevancia al escribir una cadena con comillas simples o dobles pues es lo mismo.*\r\n",
        "\r\n"
      ]
    },
    {
      "cell_type": "code",
      "metadata": {
        "colab": {
          "base_uri": "https://localhost:8080/"
        },
        "id": "0VRT7l2SsxPj",
        "outputId": "83edac83-1b1a-4b58-858d-cff15619859c"
      },
      "source": [
        "# Mi ejemplo\r\n",
        "k = 'Hello'\r\n",
        "m = \" Hola \"\r\n",
        "l = \" 'Good' \"\r\n",
        "n = ' \"Nice\" '\r\n",
        "print (k, m, l, n)"
      ],
      "execution_count": null,
      "outputs": [
        {
          "output_type": "stream",
          "text": [
            "Hello  Hola   'Good'   \"Nice\" \n"
          ],
          "name": "stdout"
        }
      ]
    },
    {
      "cell_type": "markdown",
      "metadata": {
        "id": "Nbj-dmmpsdvB"
      },
      "source": [
        "Both are allowed so that we can include apostrophes or quotation marks in a string if we so choose."
      ]
    },
    {
      "cell_type": "code",
      "metadata": {
        "id": "LsTExwARsdvC",
        "colab": {
          "base_uri": "https://localhost:8080/"
        },
        "outputId": "ea4d5970-6db3-4863-e169-df3882055ea4"
      },
      "source": [
        "my_string = '\"Jabberwocky\", by Lewis Carroll'\n",
        "print (my_string)\n",
        "my_string = \"'Twas brillig, and the slithy toves / Did gyre and gimble in the wabe;\"\n",
        "print (my_string)"
      ],
      "execution_count": null,
      "outputs": [
        {
          "output_type": "stream",
          "text": [
            "\"Jabberwocky\", by Lewis Carroll\n",
            "'Twas brillig, and the slithy toves / Did gyre and gimble in the wabe;\n"
          ],
          "name": "stdout"
        }
      ]
    },
    {
      "cell_type": "code",
      "metadata": {
        "colab": {
          "base_uri": "https://localhost:8080/"
        },
        "id": "m-MnTAz6tKI8",
        "outputId": "2d9a5492-9688-4069-e36d-9d82802fb46c"
      },
      "source": [
        "# Mi ejemplo\r\n",
        "k = \"'Hello........'\"\r\n",
        "m = ' \"Hola\" '\r\n",
        "print (k, m)"
      ],
      "execution_count": null,
      "outputs": [
        {
          "output_type": "stream",
          "text": [
            "'Hello........'  \"Hola\" \n"
          ],
          "name": "stdout"
        }
      ]
    },
    {
      "cell_type": "markdown",
      "metadata": {
        "id": "wXE37DvKsdvC"
      },
      "source": [
        "Booleans, or `bools` are binary variable types. A `bool` can only take on one of two values, these being `True` or `False`. There is much more to this idea of truth values when it comes to programming, which we cover later in the [Logical Operators](#id-section5) of this notebook."
      ]
    },
    {
      "cell_type": "code",
      "metadata": {
        "id": "g2oW1pcOsdvD",
        "colab": {
          "base_uri": "https://localhost:8080/"
        },
        "outputId": "ebfb622d-e73e-412e-e7f6-e87c06b09e1a"
      },
      "source": [
        "my_bool = True\n",
        "print (my_bool, type(my_bool))"
      ],
      "execution_count": null,
      "outputs": [
        {
          "output_type": "stream",
          "text": [
            "True <class 'bool'>\n"
          ],
          "name": "stdout"
        }
      ]
    },
    {
      "cell_type": "code",
      "metadata": {
        "colab": {
          "base_uri": "https://localhost:8080/"
        },
        "id": "2lnXWzuOtc8B",
        "outputId": "f6c2bd37-5547-4b12-9e99-1f27ad4ac837"
      },
      "source": [
        "# Mi ejemplo\r\n",
        "b = False\r\n",
        "print (b, type(b))"
      ],
      "execution_count": null,
      "outputs": [
        {
          "output_type": "stream",
          "text": [
            "False <class 'bool'>\n"
          ],
          "name": "stdout"
        }
      ]
    },
    {
      "cell_type": "markdown",
      "metadata": {
        "id": "DXq45TGosdvD"
      },
      "source": [
        "There are many more data types that you can assign as variables in Python, but these are the basic ones! We will cover a few more later as we move through this tutorial."
      ]
    },
    {
      "cell_type": "markdown",
      "metadata": {
        "id": "DzBZf_9ksdvD"
      },
      "source": [
        "## Basic Math\n",
        "\n",
        "Python has a number of built-in math functions. These can be extended even further by importing the **math** package or by including any number of other calculation-based packages.\n",
        "\n",
        "All of the basic arithmetic operations are supported: `+`, `-`, `/`, and `*`. You can create exponents by using `**` and modular arithmetic is introduced with the mod operator, `%`."
      ]
    },
    {
      "cell_type": "code",
      "metadata": {
        "id": "vkN2iSNVsdvE",
        "colab": {
          "base_uri": "https://localhost:8080/"
        },
        "outputId": "fd55a00b-473e-48ee-a4e1-105fa0e118ad"
      },
      "source": [
        "print ('Addition: ', 2 + 2)\n",
        "print ('Subtraction: ', 7 - 4)\n",
        "print ('Multiplication: ', 2 * 5)\n",
        "print ('Division: ', 10 / 2)\n",
        "print ('Exponentiation: ', 3**2)"
      ],
      "execution_count": null,
      "outputs": [
        {
          "output_type": "stream",
          "text": [
            "Addition:  4\n",
            "Subtraction:  3\n",
            "Multiplication:  10\n",
            "Division:  5.0\n",
            "Exponentiation:  9\n"
          ],
          "name": "stdout"
        }
      ]
    },
    {
      "cell_type": "markdown",
      "metadata": {
        "id": "BH9HaMDaUZHL"
      },
      "source": [
        "> *Existe un orden de precedencia para los operadores aritméticos:*\r\n",
        "> *   Exponente: **\r\n",
        "*   Negación: -\r\n",
        "*   Multiplicación, División, División entera, Módulo: *, /, //, %\r\n",
        "*   Suma, Resta: +, -\r\n",
        "\r\n",
        "> *La exponenciación por ejemplo, es una operación matemática escrita como:* $ b^{n} $ *que involucra dos números, la base b y el exponente o potencia n, y se pronuncia como \" b elevado a la potencia n \". Cuando n es un número entero positivo , la exponenciación corresponde a la multiplicación repetida de la base: es decir, $b^{n}$ es el producto de multiplicar $n$ bases:* $ b^{n} =\\underset{n\\ veces}{\\underbrace{b\\ *\\ b\\ * \\cdots *\\ b}} $\r\n",
        "\r\n",
        "\r\n",
        "\r\n",
        "\r\n",
        "\r\n"
      ]
    },
    {
      "cell_type": "code",
      "metadata": {
        "colab": {
          "base_uri": "https://localhost:8080/"
        },
        "id": "RiWf1w6pvz9q",
        "outputId": "db49ddd5-da2a-404d-afef-d666a60bfcc9"
      },
      "source": [
        "# Mi ejemplo\r\n",
        "m = 4589\r\n",
        "n = 14\r\n",
        "print ('Addition: ', m + n)\r\n",
        "print ('Subtraction: ', m - n)\r\n",
        "print ('Multiplication: ', m * n)\r\n",
        "print ('Division: ', m / n)\r\n",
        "print ('Exponentiation: ', m**n)"
      ],
      "execution_count": null,
      "outputs": [
        {
          "output_type": "stream",
          "text": [
            "Addition:  4603\n",
            "Subtraction:  4575\n",
            "Multiplication:  64246\n",
            "Division:  327.7857142857143\n",
            "Exponentiation:  1836761669484886866810215311857717145541356509186841\n"
          ],
          "name": "stdout"
        }
      ]
    },
    {
      "cell_type": "markdown",
      "metadata": {
        "id": "X_oiGUkdsdvE"
      },
      "source": [
        "If you are not familiar with the the mod operator, it operates like a remainder function. If we type $15 \\ \\% \\ 4$, it will return the remainder after dividing $15$ by $4$."
      ]
    },
    {
      "cell_type": "code",
      "metadata": {
        "id": "7-Bv4bzlsdvF",
        "colab": {
          "base_uri": "https://localhost:8080/"
        },
        "outputId": "2b57952a-cb8f-40ce-f1cb-dc728d80f172"
      },
      "source": [
        "print ('Modulo: ', 15 % 4)"
      ],
      "execution_count": null,
      "outputs": [
        {
          "output_type": "stream",
          "text": [
            "Modulo:  3\n"
          ],
          "name": "stdout"
        }
      ]
    },
    {
      "cell_type": "markdown",
      "metadata": {
        "id": "LwBYL0TeU5kY"
      },
      "source": [
        "> *La operación módulo obtiene el resto de la división euclídea dados dos números positivos, a veces también llamado residuo y suele abreviarse como 'mod' y en lenguajes de programación suele denotarse con el signo '%'.*\r\n",
        "> *Dados dos números positivos, $a$ (el dividendo) y $n$ (el divisor),  tenemos que daçra como resultado un cociente $c$ y un residuo $b$ que se denotará como módulo:* \r\n",
        "\r\n",
        "> $ b = mod(a,n) $\r\n",
        "\r\n",
        "> *Por ejemplo, al dividir 7 entre 2 el cociente sería 3 y el residuo 1, luego el módulo es 1.*\r\n",
        "\r\n",
        "> $ 1 = mod(7,2) $\r\n",
        "\r\n",
        "\r\n",
        "\r\n",
        "\r\n",
        "\r\n"
      ]
    },
    {
      "cell_type": "code",
      "metadata": {
        "colab": {
          "base_uri": "https://localhost:8080/"
        },
        "id": "g7kl-NbTu509",
        "outputId": "25fbb8c0-3a05-4e78-9f42-86fa6e1c1b41"
      },
      "source": [
        "# Mi ejemplo\r\n",
        "# También se halla el módulo o el redondeo al número entero más cercano\r\n",
        "print ('Modulus: ', 19 % 2)\r\n",
        "print ('Division: ', 19 / 2)\r\n",
        "print ('Floor division: ', 19 // 2)"
      ],
      "execution_count": null,
      "outputs": [
        {
          "output_type": "stream",
          "text": [
            "Modulus:  1\n",
            "Division:  9.5\n",
            "Floor division:  9\n"
          ],
          "name": "stdout"
        }
      ]
    },
    {
      "cell_type": "markdown",
      "metadata": {
        "id": "7KJtnOvfsdvF"
      },
      "source": [
        "Mathematical functions also work on variables!"
      ]
    },
    {
      "cell_type": "code",
      "metadata": {
        "scrolled": true,
        "id": "QaFYJQYmsdvF",
        "colab": {
          "base_uri": "https://localhost:8080/"
        },
        "outputId": "c2cd3e1c-6c9a-49f6-d641-20961b492665"
      },
      "source": [
        "first_integer = 4\n",
        "second_integer = 5\n",
        "print (first_integer * second_integer)"
      ],
      "execution_count": null,
      "outputs": [
        {
          "output_type": "stream",
          "text": [
            "20\n"
          ],
          "name": "stdout"
        }
      ]
    },
    {
      "cell_type": "code",
      "metadata": {
        "colab": {
          "base_uri": "https://localhost:8080/"
        },
        "id": "m0RQSzPrwM6P",
        "outputId": "3da08cc0-460f-4d4c-ee5c-5feddf169a69"
      },
      "source": [
        "# Mi ejemplo\r\n",
        "i = 500\r\n",
        "j = 5\r\n",
        "print(i / j)\r\n",
        "print(i - j)"
      ],
      "execution_count": null,
      "outputs": [
        {
          "output_type": "stream",
          "text": [
            "100.0\n",
            "495\n"
          ],
          "name": "stdout"
        }
      ]
    },
    {
      "cell_type": "markdown",
      "metadata": {
        "id": "Oq7gIiXwsdvG"
      },
      "source": [
        "Make sure that your variables are floats if you want to have decimal points in your answer. If you perform math exclusively with integers, you get an integer. Including any float in the calculation will make the result a float."
      ]
    },
    {
      "cell_type": "code",
      "metadata": {
        "id": "LOVx7Ss2sdvG",
        "colab": {
          "base_uri": "https://localhost:8080/"
        },
        "outputId": "6f2cafcb-7005-475e-9dee-e05e9b48164a"
      },
      "source": [
        "first_integer = 11\n",
        "second_integer = 3\n",
        "print (first_integer / second_integer)"
      ],
      "execution_count": null,
      "outputs": [
        {
          "output_type": "stream",
          "text": [
            "3.6666666666666665\n"
          ],
          "name": "stdout"
        }
      ]
    },
    {
      "cell_type": "code",
      "metadata": {
        "id": "a7l8BjjvsdvI",
        "colab": {
          "base_uri": "https://localhost:8080/"
        },
        "outputId": "e4336ef2-bcdb-4dcb-d633-42a4355b86d0"
      },
      "source": [
        "first_number = 11.0\n",
        "second_number = 3.0\n",
        "print (first_number / second_number)"
      ],
      "execution_count": null,
      "outputs": [
        {
          "output_type": "stream",
          "text": [
            "3.6666666666666665\n"
          ],
          "name": "stdout"
        }
      ]
    },
    {
      "cell_type": "code",
      "metadata": {
        "colab": {
          "base_uri": "https://localhost:8080/"
        },
        "id": "BewW1ru4wmdr",
        "outputId": "c8926778-5d65-40d2-b774-c2f00e0bb443"
      },
      "source": [
        "# Mi ejemplo\r\n",
        "i = 4120\r\n",
        "j = 18\r\n",
        "print(i / j)\r\n",
        "print(i - j)"
      ],
      "execution_count": null,
      "outputs": [
        {
          "output_type": "stream",
          "text": [
            "228.88888888888889\n",
            "4102\n"
          ],
          "name": "stdout"
        }
      ]
    },
    {
      "cell_type": "code",
      "metadata": {
        "colab": {
          "base_uri": "https://localhost:8080/"
        },
        "id": "IRvGlwHzwpAi",
        "outputId": "ccdf834b-c472-4134-bdae-f0c04983c4df"
      },
      "source": [
        "# Mi ejemplo\r\n",
        "# Si uno de los dos operandos se deja como flotante, el resultado será flotante\r\n",
        "# A menos que se especifique que el resultado debe darse como entero\r\n",
        "i = 4120.56\r\n",
        "j = 18\r\n",
        "print(i / j)\r\n",
        "print(int(i - j))"
      ],
      "execution_count": null,
      "outputs": [
        {
          "output_type": "stream",
          "text": [
            "228.92000000000002\n",
            "4102\n"
          ],
          "name": "stdout"
        }
      ]
    },
    {
      "cell_type": "markdown",
      "metadata": {
        "id": "DBmJ7TyWsdvI"
      },
      "source": [
        "Python has a few built-in math functions. The most notable of these are:\n",
        "\n",
        "* `abs()`\n",
        "* `round()`\n",
        "* `max()`\n",
        "* `min()`\n",
        "* `sum()`\n",
        "\n",
        "These functions all act as you would expect, given their names. Calling `abs()` on a number will return its absolute value. The `round()` function will round a number to a specified number of the decimal points (the default is $0$). Calling `max()` or `min()` on a collection of numbers will return, respectively, the maximum or minimum value in the collection. Calling `sum()` on a collection of numbers will add them all up. If you're not familiar with how collections of values in Python work, don't worry! We will cover collections in-depth in the next section. \n",
        "\n",
        "Additional math functionality can be added in with the `math` package."
      ]
    },
    {
      "cell_type": "code",
      "metadata": {
        "id": "bl4ZWh1ssdvJ"
      },
      "source": [
        "import math"
      ],
      "execution_count": null,
      "outputs": []
    },
    {
      "cell_type": "markdown",
      "metadata": {
        "id": "2376kH6qsdvJ"
      },
      "source": [
        "The math library adds a long list of new mathematical functions to Python. Feel free to check out the [documentation](https://docs.python.org/2/library/math.html) for the full list and details. It concludes some mathematical constants"
      ]
    },
    {
      "cell_type": "code",
      "metadata": {
        "id": "Tenk3MPzsdvK",
        "colab": {
          "base_uri": "https://localhost:8080/"
        },
        "outputId": "346a89b6-3e66-4784-f99f-477dd3995226"
      },
      "source": [
        "print ('Pi: ', math.pi)\n",
        "print (\"Euler's Constant: \", math.e)"
      ],
      "execution_count": null,
      "outputs": [
        {
          "output_type": "stream",
          "text": [
            "Pi:  3.141592653589793\n",
            "Euler's Constant:  2.718281828459045\n"
          ],
          "name": "stdout"
        }
      ]
    },
    {
      "cell_type": "code",
      "metadata": {
        "colab": {
          "base_uri": "https://localhost:8080/"
        },
        "id": "zT7r-Tx70z8s",
        "outputId": "97f18f7a-6751-4da7-e2f5-c707960f80d6"
      },
      "source": [
        "# Mi ejemplo\r\n",
        "# Así como también se pueden usar funciones como el máximo o el mínimo\r\n",
        "x = min(14, 10, 2)\r\n",
        "y = max(14, 10, 2)\r\n",
        "\r\n",
        "print('El mínimo número es: ', x, 'y el máximo es: ', y)"
      ],
      "execution_count": null,
      "outputs": [
        {
          "output_type": "stream",
          "text": [
            "El mínimo número es:  2 y el máximo es:  14\n"
          ],
          "name": "stdout"
        }
      ]
    },
    {
      "cell_type": "code",
      "metadata": {
        "colab": {
          "base_uri": "https://localhost:8080/"
        },
        "id": "5n_Vfo7Y1Z1s",
        "outputId": "19ce77c3-fff8-4abf-ec5f-9100864a5cb4"
      },
      "source": [
        "# Mi ejemplo\r\n",
        "# O el valor absoluto\r\n",
        "x = abs(-14)\r\n",
        "print(\"El valor absoluto de -14 es:\", x)"
      ],
      "execution_count": null,
      "outputs": [
        {
          "output_type": "stream",
          "text": [
            "El valor absoluto de -14 es: 14\n"
          ],
          "name": "stdout"
        }
      ]
    },
    {
      "cell_type": "markdown",
      "metadata": {
        "id": "QEt4l2NSsdvK"
      },
      "source": [
        "As well as some commonly used math functions"
      ]
    },
    {
      "cell_type": "code",
      "metadata": {
        "id": "OoLjeOiRsdvK",
        "colab": {
          "base_uri": "https://localhost:8080/"
        },
        "outputId": "1171543a-d306-4fb5-aa6a-e5aa19914b93"
      },
      "source": [
        "print ('Cosine of pi: ', math.cos(math.pi))"
      ],
      "execution_count": null,
      "outputs": [
        {
          "output_type": "stream",
          "text": [
            "Cosine of pi:  -1.0\n"
          ],
          "name": "stdout"
        }
      ]
    },
    {
      "cell_type": "code",
      "metadata": {
        "colab": {
          "base_uri": "https://localhost:8080/"
        },
        "id": "iB5vu4bA17T_",
        "outputId": "7ad23bbc-3a2a-4b51-e2b5-2c45b904b77a"
      },
      "source": [
        "# Mi ejemplo\r\n",
        "# También la raíz cuadrada de un número\r\n",
        "x = 144\r\n",
        "y = math.sqrt(x)\r\n",
        "print(\"La raíz cuadrada de\", x, \"es\", y)"
      ],
      "execution_count": null,
      "outputs": [
        {
          "output_type": "stream",
          "text": [
            "La raíz cuadrada de 144 es 12.0\n"
          ],
          "name": "stdout"
        }
      ]
    },
    {
      "cell_type": "markdown",
      "metadata": {
        "id": "z7ExrbwksdvL"
      },
      "source": [
        "## Collections\n",
        "### Lists\n",
        "\n",
        "A `list` in Python is an ordered collection of objects that can contain any data type. We define a `list` using brackets (`[]`)."
      ]
    },
    {
      "cell_type": "code",
      "metadata": {
        "id": "ztoQmm5JsdvL",
        "colab": {
          "base_uri": "https://localhost:8080/"
        },
        "outputId": "39d80e8f-078e-4ef9-9b77-c0a6e2a0955a"
      },
      "source": [
        "my_list = [1, 2, 3]\n",
        "print (my_list)"
      ],
      "execution_count": null,
      "outputs": [
        {
          "output_type": "stream",
          "text": [
            "[1, 2, 3]\n"
          ],
          "name": "stdout"
        }
      ]
    },
    {
      "cell_type": "markdown",
      "metadata": {
        "id": "hrJNl10hNcwy"
      },
      "source": [
        "> *Los elementos de la lista están ordenados, se pueden modificar y permiten valores duplicados. Además están indexados, el primer elemento tiene índice [0], el segundo elemento tiene índice, [1], etc.*\r\n",
        "\r\n"
      ]
    },
    {
      "cell_type": "code",
      "metadata": {
        "colab": {
          "base_uri": "https://localhost:8080/"
        },
        "id": "8WQaMg-l2oRp",
        "outputId": "084c1833-ac4e-4ad3-9d5a-91915126a83e"
      },
      "source": [
        "# Mi ejemplo\r\n",
        "# También puede ser una lista de strings\r\n",
        "cars = [\"Lamborgini\", \"Porsche\", \"Toyota\", \"Mazda\"]\r\n",
        "print(cars)"
      ],
      "execution_count": null,
      "outputs": [
        {
          "output_type": "stream",
          "text": [
            "['Lamborgini', 'Porsche', 'Toyota', 'Mazda']\n"
          ],
          "name": "stdout"
        }
      ]
    },
    {
      "cell_type": "markdown",
      "metadata": {
        "id": "qZn-CuMmsdvL"
      },
      "source": [
        "We can access and index the list by using brackets as well. In order to select an individual element, simply type the list name followed by the index of the item you are looking for in braces."
      ]
    },
    {
      "cell_type": "code",
      "metadata": {
        "id": "bqBEEIaPsdvM",
        "colab": {
          "base_uri": "https://localhost:8080/"
        },
        "outputId": "9fc363b7-e2f7-4c23-c579-fb3bf02a86cc"
      },
      "source": [
        "print (my_list[0])\n",
        "print (my_list[2])"
      ],
      "execution_count": null,
      "outputs": [
        {
          "output_type": "stream",
          "text": [
            "1\n",
            "3\n"
          ],
          "name": "stdout"
        }
      ]
    },
    {
      "cell_type": "code",
      "metadata": {
        "colab": {
          "base_uri": "https://localhost:8080/"
        },
        "id": "HxIxEMHs3Kdq",
        "outputId": "a8047b86-3b35-4925-a09c-7988c1fc4ccb"
      },
      "source": [
        "# Mi ejemplo\r\n",
        "# Y de la segunda lista tenemos:\r\n",
        "print (cars[0])\r\n",
        "print (cars[3])"
      ],
      "execution_count": null,
      "outputs": [
        {
          "output_type": "stream",
          "text": [
            "Lamborgini\n",
            "Mazda\n"
          ],
          "name": "stdout"
        }
      ]
    },
    {
      "cell_type": "markdown",
      "metadata": {
        "id": "iE8sZ5WBsdvP"
      },
      "source": [
        "Indexing in Python starts from $0$. If you have a list of length $n$, the first element of the list is at index $0$, the second element is at index $1$, and so on and so forth. The final element of the list will be at index $n-1$. Be careful! Trying to access a non-existent index will cause an error."
      ]
    },
    {
      "cell_type": "code",
      "metadata": {
        "id": "xDYl3JnXsdvP",
        "colab": {
          "base_uri": "https://localhost:8080/",
          "height": 197
        },
        "outputId": "a25f81f0-56bf-48cf-b1a9-c110fbbc95ac"
      },
      "source": [
        "print ('The first, second, and third list elements: ', my_list[0], my_list[1], my_list[2])\n",
        "print ('Accessing outside the list bounds causes an error: ', my_list[3])"
      ],
      "execution_count": null,
      "outputs": [
        {
          "output_type": "stream",
          "text": [
            "The first, second, and third list elements:  1 2 3\n"
          ],
          "name": "stdout"
        },
        {
          "output_type": "error",
          "ename": "IndexError",
          "evalue": "ignored",
          "traceback": [
            "\u001b[0;31m---------------------------------------------------------------------------\u001b[0m",
            "\u001b[0;31mIndexError\u001b[0m                                Traceback (most recent call last)",
            "\u001b[0;32m<ipython-input-7-71889cb02960>\u001b[0m in \u001b[0;36m<module>\u001b[0;34m()\u001b[0m\n\u001b[1;32m      1\u001b[0m \u001b[0mprint\u001b[0m \u001b[0;34m(\u001b[0m\u001b[0;34m'The first, second, and third list elements: '\u001b[0m\u001b[0;34m,\u001b[0m \u001b[0mmy_list\u001b[0m\u001b[0;34m[\u001b[0m\u001b[0;36m0\u001b[0m\u001b[0;34m]\u001b[0m\u001b[0;34m,\u001b[0m \u001b[0mmy_list\u001b[0m\u001b[0;34m[\u001b[0m\u001b[0;36m1\u001b[0m\u001b[0;34m]\u001b[0m\u001b[0;34m,\u001b[0m \u001b[0mmy_list\u001b[0m\u001b[0;34m[\u001b[0m\u001b[0;36m2\u001b[0m\u001b[0;34m]\u001b[0m\u001b[0;34m)\u001b[0m\u001b[0;34m\u001b[0m\u001b[0;34m\u001b[0m\u001b[0m\n\u001b[0;32m----> 2\u001b[0;31m \u001b[0mprint\u001b[0m \u001b[0;34m(\u001b[0m\u001b[0;34m'Accessing outside the list bounds causes an error: '\u001b[0m\u001b[0;34m,\u001b[0m \u001b[0mmy_list\u001b[0m\u001b[0;34m[\u001b[0m\u001b[0;36m3\u001b[0m\u001b[0;34m]\u001b[0m\u001b[0;34m)\u001b[0m\u001b[0;34m\u001b[0m\u001b[0;34m\u001b[0m\u001b[0m\n\u001b[0m",
            "\u001b[0;31mIndexError\u001b[0m: list index out of range"
          ]
        }
      ]
    },
    {
      "cell_type": "markdown",
      "metadata": {
        "id": "kaaGeNAxYo55"
      },
      "source": [
        "> *La primera linea del código se ejecuta con normalidad:*\r\n",
        "\r\n",
        "> **The first, second, and third list elements:  1 2 3**\r\n",
        "\r\n",
        "> *Pero la segunda lanza un error al mencionar un index no existente:*\r\n",
        "\r\n",
        "> **IndexError: list index out of range**\r\n",
        "\r\n",
        "> *Pues no es posible acceder a un index no existente.*\r\n",
        "\r\n",
        "\r\n",
        "\r\n",
        "\r\n",
        "\r\n",
        "\r\n"
      ]
    },
    {
      "cell_type": "code",
      "metadata": {
        "colab": {
          "base_uri": "https://localhost:8080/"
        },
        "id": "LsM6U2V7aYBE",
        "outputId": "210eb395-2041-4c32-af0f-9f3b9156a813"
      },
      "source": [
        "# Mi ejemplo \\n salto de línea\r\n",
        "print ('The first, second, and third list elements: \\n', cars[0], cars[1], cars[2])"
      ],
      "execution_count": null,
      "outputs": [
        {
          "output_type": "stream",
          "text": [
            "The first, second, and third list elements: \n",
            " Lamborgini Porsche Toyota\n"
          ],
          "name": "stdout"
        }
      ]
    },
    {
      "cell_type": "markdown",
      "metadata": {
        "id": "tGV2LozesdvP"
      },
      "source": [
        "We can see the number of elements in a list by calling the `len()` function."
      ]
    },
    {
      "cell_type": "code",
      "metadata": {
        "id": "zpOzuf6dsdvQ",
        "colab": {
          "base_uri": "https://localhost:8080/"
        },
        "outputId": "c8b8f2ee-d831-4e9d-b0b0-30969d84da2d"
      },
      "source": [
        "print (len(my_list))"
      ],
      "execution_count": null,
      "outputs": [
        {
          "output_type": "stream",
          "text": [
            "3\n"
          ],
          "name": "stdout"
        }
      ]
    },
    {
      "cell_type": "code",
      "metadata": {
        "colab": {
          "base_uri": "https://localhost:8080/"
        },
        "id": "V8hGnqWnZ1N5",
        "outputId": "4e2c41e7-4048-4fc7-8136-603382826b9e"
      },
      "source": [
        "# Para el ejemplo de los carros:\r\n",
        "print (len(cars))"
      ],
      "execution_count": null,
      "outputs": [
        {
          "output_type": "stream",
          "text": [
            "4\n"
          ],
          "name": "stdout"
        }
      ]
    },
    {
      "cell_type": "markdown",
      "metadata": {
        "id": "KAuaFDzSsdvQ"
      },
      "source": [
        "We can update and change a list by accessing an index and assigning new value."
      ]
    },
    {
      "cell_type": "code",
      "metadata": {
        "id": "ZU97kWXtsdvQ",
        "colab": {
          "base_uri": "https://localhost:8080/"
        },
        "outputId": "25d8705a-6a18-4ce7-a19b-a362e3e59826"
      },
      "source": [
        "print (my_list)\n",
        "my_list[0] = 42\n",
        "print (my_list)"
      ],
      "execution_count": null,
      "outputs": [
        {
          "output_type": "stream",
          "text": [
            "[1, 2, 3]\n",
            "[42, 2, 3]\n"
          ],
          "name": "stdout"
        }
      ]
    },
    {
      "cell_type": "code",
      "metadata": {
        "colab": {
          "base_uri": "https://localhost:8080/"
        },
        "id": "oSyodMuoaGCn",
        "outputId": "6dbaf057-57cf-45da-f9ca-76f30368a044"
      },
      "source": [
        "# Para el ejemplo de los carros:\r\n",
        "print (cars)\r\n",
        "cars[3] = \"Ford\"\r\n",
        "print (cars)"
      ],
      "execution_count": null,
      "outputs": [
        {
          "output_type": "stream",
          "text": [
            "['Lamborgini', 'Porsche', 'Toyota', 'Ford']\n",
            "['Lamborgini', 'Porsche', 'Toyota', 'Ford']\n"
          ],
          "name": "stdout"
        }
      ]
    },
    {
      "cell_type": "markdown",
      "metadata": {
        "id": "yaXFMB7LsdvR"
      },
      "source": [
        "This is fundamentally different from how strings are handled. A `list` is mutable, meaning that you can change a `list`'s elements without changing the list itself. Some data types, like `strings`, are immutable, meaning you cannot change them at all. Once a `string` or other immutable data type has been created, it cannot be directly modified without creating an entirely new object."
      ]
    },
    {
      "cell_type": "code",
      "metadata": {
        "id": "S4_XZXN7sdvR"
      },
      "source": [
        "my_string = \"Strings never change\"\n",
        "my_string[0] = 'Z'"
      ],
      "execution_count": null,
      "outputs": []
    },
    {
      "cell_type": "markdown",
      "metadata": {
        "id": "qcIFbmcEcWra"
      },
      "source": [
        "> *Al correr el código se presenta un error:*\r\n",
        "\r\n",
        "> **'str' object does not support item assignment**\r\n",
        "\r\n",
        "> *evidenciando que las cadenas son inmutables.*\r\n",
        "\r\n",
        "\r\n",
        "\r\n",
        "\r\n",
        "\r\n"
      ]
    },
    {
      "cell_type": "markdown",
      "metadata": {
        "id": "6lgsdUJ7sdvR"
      },
      "source": [
        "As we stated before, a list can contain any data type. Thus, lists can also contain strings."
      ]
    },
    {
      "cell_type": "code",
      "metadata": {
        "id": "cKzTy9mFsdvR",
        "colab": {
          "base_uri": "https://localhost:8080/"
        },
        "outputId": "69e1747b-ed29-4de9-a6ab-738d123108a4"
      },
      "source": [
        "my_list_2 = ['one', 'two', 'three']\n",
        "print (my_list_2)"
      ],
      "execution_count": null,
      "outputs": [
        {
          "output_type": "stream",
          "text": [
            "['one', 'two', 'three']\n"
          ],
          "name": "stdout"
        }
      ]
    },
    {
      "cell_type": "code",
      "metadata": {
        "colab": {
          "base_uri": "https://localhost:8080/"
        },
        "id": "oAGJGv5JdRgG",
        "outputId": "5d0e82e8-7ef7-4dae-ac93-5bd4612e9eff"
      },
      "source": [
        "# Mi ejemplo\r\n",
        "# Comprobando contenidos\r\n",
        "list1 = [\"apple\", \"banana\", \"cherry\"]\r\n",
        "list2 = [1, 5, 7, 9, 3]\r\n",
        "list3 = [True, False, False]\r\n",
        "\r\n",
        "print(list1)\r\n",
        "print(list2)\r\n",
        "print(list3)"
      ],
      "execution_count": null,
      "outputs": [
        {
          "output_type": "stream",
          "text": [
            "['apple', 'banana', 'cherry']\n",
            "[1, 5, 7, 9, 3]\n",
            "[True, False, False]\n"
          ],
          "name": "stdout"
        }
      ]
    },
    {
      "cell_type": "markdown",
      "metadata": {
        "id": "AJhqnYKvsdvS"
      },
      "source": [
        "Lists can also contain multiple different data types at once!"
      ]
    },
    {
      "cell_type": "code",
      "metadata": {
        "id": "OaygQ54PsdvT"
      },
      "source": [
        "my_list_3 = [True, 'False', 42]"
      ],
      "execution_count": null,
      "outputs": []
    },
    {
      "cell_type": "code",
      "metadata": {
        "colab": {
          "base_uri": "https://localhost:8080/"
        },
        "id": "agvLOK_wdc6T",
        "outputId": "333c2617-76a8-478e-e388-a3fc1d2eedf6"
      },
      "source": [
        "# Mi ejemplo\r\n",
        "# Mezclando contenido e imprimiendolo\r\n",
        "list1 = [\"apple\", \"banana\", \"cherry\", 1, 5, 7, 9, 3, True, False, False]\r\n",
        "print(list1)"
      ],
      "execution_count": null,
      "outputs": [
        {
          "output_type": "stream",
          "text": [
            "['apple', 'banana', 'cherry', 1, 5, 7, 9, 3, True, False, False]\n"
          ],
          "name": "stdout"
        }
      ]
    },
    {
      "cell_type": "markdown",
      "metadata": {
        "id": "PaokqfbXsdvT"
      },
      "source": [
        "If you want to put two lists together, they can be combined with a `+` symbol."
      ]
    },
    {
      "cell_type": "code",
      "metadata": {
        "id": "3WlhNhJBsdvT",
        "colab": {
          "base_uri": "https://localhost:8080/"
        },
        "outputId": "0960d869-d63d-4a95-fc60-fc4eaa98683d"
      },
      "source": [
        "my_list_4 = my_list + my_list_2 + my_list_3\n",
        "print (my_list_4)"
      ],
      "execution_count": null,
      "outputs": [
        {
          "output_type": "stream",
          "text": [
            "[42, 2, 3, 'one', 'two', 'three', True, 'False', 42]\n"
          ],
          "name": "stdout"
        }
      ]
    },
    {
      "cell_type": "code",
      "metadata": {
        "colab": {
          "base_uri": "https://localhost:8080/"
        },
        "id": "Ye1ja4Pkd3xt",
        "outputId": "2b8f07f3-10e0-48ab-d873-6856a6194a82"
      },
      "source": [
        "# Mi ejemplo\r\n",
        "# Uniendo listas\r\n",
        "list4 = list1 + list2 + list3\r\n",
        "print(list4)"
      ],
      "execution_count": null,
      "outputs": [
        {
          "output_type": "stream",
          "text": [
            "['apple', 'banana', 'cherry', 1, 5, 7, 9, 3, True, False, False, 1, 5, 7, 9, 3, True, False, False]\n"
          ],
          "name": "stdout"
        }
      ]
    },
    {
      "cell_type": "markdown",
      "metadata": {
        "id": "myEb-WcesdvT"
      },
      "source": [
        "In addition to accessing individual elements of a list, we can access groups of elements through slicing."
      ]
    },
    {
      "cell_type": "code",
      "metadata": {
        "id": "ZvqjA-gFsdvU"
      },
      "source": [
        "my_list = ['friends', 'romans', 'countrymen', 'lend', 'me', 'your', 'ears']"
      ],
      "execution_count": null,
      "outputs": []
    },
    {
      "cell_type": "code",
      "metadata": {
        "colab": {
          "base_uri": "https://localhost:8080/"
        },
        "id": "q3Vo8L2F86KZ",
        "outputId": "03ebd55e-da44-4fb7-ff5c-c19f6afd69b9"
      },
      "source": [
        "# Mi ejemplo\r\n",
        "print(list4)"
      ],
      "execution_count": null,
      "outputs": [
        {
          "output_type": "stream",
          "text": [
            "['apple', 'banana', 'cherry', 1, 5, 7, 9, 3, True, False, False, 1, 5, 7, 9, 3, True, False, False]\n"
          ],
          "name": "stdout"
        }
      ]
    },
    {
      "cell_type": "markdown",
      "metadata": {
        "id": "slYDpODNsdvU"
      },
      "source": [
        "#### Slicing\n",
        "\n",
        "We use the colon (`:`) to slice lists. "
      ]
    },
    {
      "cell_type": "code",
      "metadata": {
        "scrolled": true,
        "id": "bmFgr0_WsdvU",
        "colab": {
          "base_uri": "https://localhost:8080/"
        },
        "outputId": "7e635e39-c097-485f-ab01-9f61987c9e3c"
      },
      "source": [
        "print (my_list[2:4])"
      ],
      "execution_count": null,
      "outputs": [
        {
          "output_type": "stream",
          "text": [
            "['countrymen', 'lend']\n"
          ],
          "name": "stdout"
        }
      ]
    },
    {
      "cell_type": "code",
      "metadata": {
        "colab": {
          "base_uri": "https://localhost:8080/"
        },
        "id": "mqqk68zFeOs5",
        "outputId": "b36e362a-9c1a-4d91-f5f6-26845b2d30e4"
      },
      "source": [
        "# Mi ejemplo\r\n",
        "# En lista4 tenemos desde la poscición 2 hasta la 6-1\r\n",
        "print (list4[2:6])"
      ],
      "execution_count": null,
      "outputs": [
        {
          "output_type": "stream",
          "text": [
            "['cherry', 1, 5, 7]\n"
          ],
          "name": "stdout"
        }
      ]
    },
    {
      "cell_type": "markdown",
      "metadata": {
        "id": "N5wBTnmRsdvV"
      },
      "source": [
        "Using `:` we can select a group of elements in the list starting from the first element indicated and going up to  (but not including) the last element indicated.\n",
        "\n",
        "We can also select everything after a certain point"
      ]
    },
    {
      "cell_type": "code",
      "metadata": {
        "scrolled": true,
        "id": "vcAiJ8jTsdvV",
        "colab": {
          "base_uri": "https://localhost:8080/"
        },
        "outputId": "b4747f29-9696-4db9-ea72-8786ee4f3d90"
      },
      "source": [
        "print (my_list[1:])"
      ],
      "execution_count": null,
      "outputs": [
        {
          "output_type": "stream",
          "text": [
            "['romans', 'countrymen', 'lend', 'me', 'your', 'ears']\n"
          ],
          "name": "stdout"
        }
      ]
    },
    {
      "cell_type": "code",
      "metadata": {
        "colab": {
          "base_uri": "https://localhost:8080/"
        },
        "id": "AfL-fVUoe6w6",
        "outputId": "230cdd1e-468d-4bda-99a4-fa6bfe6270cb"
      },
      "source": [
        "# Mi ejemplo\r\n",
        "# De la lista4 creo un nuevo grupo a partir de la primera posición (no desde el index 0)\r\n",
        "print (list4[1:])"
      ],
      "execution_count": null,
      "outputs": [
        {
          "output_type": "stream",
          "text": [
            "['banana', 'cherry', 1, 5, 7, 9, 3, True, False, False, 1, 5, 7, 9, 3, True, False, False]\n"
          ],
          "name": "stdout"
        }
      ]
    },
    {
      "cell_type": "markdown",
      "metadata": {
        "id": "1obXVvaPsdvV"
      },
      "source": [
        "And everything before a certain point"
      ]
    },
    {
      "cell_type": "code",
      "metadata": {
        "scrolled": true,
        "id": "xH6461VCsdvW",
        "colab": {
          "base_uri": "https://localhost:8080/"
        },
        "outputId": "4731897f-4d02-47b3-b941-5fbd886e9a61"
      },
      "source": [
        "print (my_list[:4])"
      ],
      "execution_count": null,
      "outputs": [
        {
          "output_type": "stream",
          "text": [
            "['friends', 'romans', 'countrymen', 'lend']\n"
          ],
          "name": "stdout"
        }
      ]
    },
    {
      "cell_type": "code",
      "metadata": {
        "colab": {
          "base_uri": "https://localhost:8080/"
        },
        "id": "1psBCH0Ufvhj",
        "outputId": "9a9e8510-a4d1-4d03-895f-5890a8ee4024"
      },
      "source": [
        "# Mi ejemplo\r\n",
        "# De la lista4 creo un nuevo grupo a partir de la sexta posición\r\n",
        "print(list4)\r\n",
        "print (list4[6:])"
      ],
      "execution_count": null,
      "outputs": [
        {
          "output_type": "stream",
          "text": [
            "['apple', 'banana', 'cherry', 1, 5, 7, 9, 3, True, False, False, 1, 5, 7, 9, 3, True, False, False]\n",
            "[9, 3, True, False, False, 1, 5, 7, 9, 3, True, False, False]\n"
          ],
          "name": "stdout"
        }
      ]
    },
    {
      "cell_type": "markdown",
      "metadata": {
        "id": "t_vb9vLKsdvW"
      },
      "source": [
        "Using negative numbers will count from the end of the indices instead of from the beginning. For example, an index of `-1` indicates the last element of the list."
      ]
    },
    {
      "cell_type": "code",
      "metadata": {
        "id": "U-rQEOG5sdvW",
        "colab": {
          "base_uri": "https://localhost:8080/"
        },
        "outputId": "d7d4e122-8684-4a4b-8d54-66cf6ac81f68"
      },
      "source": [
        "print(my_list)\r\n",
        "print (my_list[-1])"
      ],
      "execution_count": null,
      "outputs": [
        {
          "output_type": "stream",
          "text": [
            "['friends', 'romans', 'countrymen', 'lend', 'me', 'your', 'ears']\n",
            "ears\n"
          ],
          "name": "stdout"
        }
      ]
    },
    {
      "cell_type": "code",
      "metadata": {
        "colab": {
          "base_uri": "https://localhost:8080/"
        },
        "id": "rT41Kno1f-IC",
        "outputId": "2d11bd6b-c117-49ba-95c5-d57957197993"
      },
      "source": [
        "# Mi ejemplo\r\n",
        "# De la lista4 tomo la última posición\r\n",
        "print(list4)\r\n",
        "print (list4[-1])"
      ],
      "execution_count": null,
      "outputs": [
        {
          "output_type": "stream",
          "text": [
            "['apple', 'banana', 'cherry', 1, 5, 7, 9, 3, True, False, False, 1, 5, 7, 9, 3, True, False, False]\n",
            "False\n"
          ],
          "name": "stdout"
        }
      ]
    },
    {
      "cell_type": "markdown",
      "metadata": {
        "id": "u80muEyusdvW"
      },
      "source": [
        "You can also add a third component to slicing. Instead of simply indicating the first and final parts of your slice, you can specify the step size that you want to take. So instead of taking every single element, you can take every other element."
      ]
    },
    {
      "cell_type": "code",
      "metadata": {
        "id": "1LSpNrlTsdvW",
        "colab": {
          "base_uri": "https://localhost:8080/"
        },
        "outputId": "6897d456-d596-42a4-e27a-b4cdb1970397"
      },
      "source": [
        "print(my_list)\r\n",
        "print (my_list[0:7:2])"
      ],
      "execution_count": null,
      "outputs": [
        {
          "output_type": "stream",
          "text": [
            "['friends', 'romans', 'countrymen', 'lend', 'me', 'your', 'ears']\n",
            "['friends', 'countrymen', 'me', 'ears']\n"
          ],
          "name": "stdout"
        }
      ]
    },
    {
      "cell_type": "code",
      "metadata": {
        "colab": {
          "base_uri": "https://localhost:8080/"
        },
        "id": "2_dH8W3pgZwH",
        "outputId": "e72c4781-d2e8-4838-c1fd-553ea0ef7cc4"
      },
      "source": [
        "# Mi ejemplo\r\n",
        "#Tomo el elemento de la posición 2, continúo hasta la posición 9, y cuento hasta la sexta posición y tomo ese elemento\r\n",
        "print(list4)\r\n",
        "print(list4[2:9:6])"
      ],
      "execution_count": null,
      "outputs": [
        {
          "output_type": "stream",
          "text": [
            "['apple', 'banana', 'cherry', 1, 5, 7, 9, 3, True, False, False, 1, 5, 7, 9, 3, True, False, False]\n",
            "['cherry', True]\n"
          ],
          "name": "stdout"
        }
      ]
    },
    {
      "cell_type": "markdown",
      "metadata": {
        "id": "bEDKsudFsdvX"
      },
      "source": [
        "Here we have selected the entire list (because `0:7` will yield elements `0` through `6`) and we have selected a step size of `2`. So this will spit out element `0` , element `2`, element `4`, and so on through the list element selected. We can skip indicated the beginning and end of our slice, only indicating the step, if we like."
      ]
    },
    {
      "cell_type": "code",
      "metadata": {
        "id": "m_2av7TNsdvX",
        "colab": {
          "base_uri": "https://localhost:8080/"
        },
        "outputId": "82ec4f39-f7a6-4d89-ed54-c515d4af7d42"
      },
      "source": [
        "print(my_list)\r\n",
        "print (my_list[::2])"
      ],
      "execution_count": null,
      "outputs": [
        {
          "output_type": "stream",
          "text": [
            "['friends', 'romans', 'countrymen', 'lend', 'me', 'your', 'ears']\n",
            "['friends', 'countrymen', 'me', 'ears']\n"
          ],
          "name": "stdout"
        }
      ]
    },
    {
      "cell_type": "code",
      "metadata": {
        "colab": {
          "base_uri": "https://localhost:8080/"
        },
        "id": "vZ9tTO_ch696",
        "outputId": "92833a35-400f-4425-9858-f72893949897"
      },
      "source": [
        "# Mi ejemplo\r\n",
        "#Se toma el primer elemento y luego es como contar de 5 en cinco dentro de la lista\r\n",
        "print (list4)\r\n",
        "print (list4[::5])"
      ],
      "execution_count": null,
      "outputs": [
        {
          "output_type": "stream",
          "text": [
            "['apple', 'banana', 'cherry', 1, 5, 7, 9, 3, True, False, False, 1, 5, 7, 9, 3, True, False, False]\n",
            "['apple', 7, False, 3]\n"
          ],
          "name": "stdout"
        }
      ]
    },
    {
      "cell_type": "markdown",
      "metadata": {
        "id": "ORlU-qocsdvX"
      },
      "source": [
        "Lists implictly select the beginning and end of the list when not otherwise specified."
      ]
    },
    {
      "cell_type": "code",
      "metadata": {
        "id": "3B2oc6ZSsdvX",
        "colab": {
          "base_uri": "https://localhost:8080/"
        },
        "outputId": "c600570d-78ad-41b9-ce9b-015f6ad6ce3e"
      },
      "source": [
        "print(my_list)\r\n",
        "print (my_list[:])"
      ],
      "execution_count": null,
      "outputs": [
        {
          "output_type": "stream",
          "text": [
            "['friends', 'romans', 'countrymen', 'lend', 'me', 'your', 'ears']\n",
            "['friends', 'romans', 'countrymen', 'lend', 'me', 'your', 'ears']\n"
          ],
          "name": "stdout"
        }
      ]
    },
    {
      "cell_type": "code",
      "metadata": {
        "colab": {
          "base_uri": "https://localhost:8080/"
        },
        "id": "KPdGfMIRiiMS",
        "outputId": "6c059198-c775-49fd-e2af-3ec448a4ebe5"
      },
      "source": [
        "# Mi ejemplo\r\n",
        "# Toma todos los valores al no especificar\r\n",
        "print (list4)\r\n",
        "print (list4[:])"
      ],
      "execution_count": null,
      "outputs": [
        {
          "output_type": "stream",
          "text": [
            "['apple', 'banana', 'cherry', 1, 5, 7, 9, 3, True, False, False, 1, 5, 7, 9, 3, True, False, False]\n",
            "['apple', 'banana', 'cherry', 1, 5, 7, 9, 3, True, False, False, 1, 5, 7, 9, 3, True, False, False]\n"
          ],
          "name": "stdout"
        }
      ]
    },
    {
      "cell_type": "markdown",
      "metadata": {
        "id": "R_aSWfeSsdvY"
      },
      "source": [
        "With a negative step size we can even reverse the list!"
      ]
    },
    {
      "cell_type": "code",
      "metadata": {
        "id": "AdwV9RPhsdvY",
        "colab": {
          "base_uri": "https://localhost:8080/"
        },
        "outputId": "c5b79990-8dc5-45dd-8398-22bea11f607c"
      },
      "source": [
        "print(my_list)\r\n",
        "print (my_list[::-1])"
      ],
      "execution_count": null,
      "outputs": [
        {
          "output_type": "stream",
          "text": [
            "['friends', 'romans', 'countrymen', 'lend', 'me', 'your', 'ears']\n",
            "['ears', 'your', 'me', 'lend', 'countrymen', 'romans', 'friends']\n"
          ],
          "name": "stdout"
        }
      ]
    },
    {
      "cell_type": "code",
      "metadata": {
        "colab": {
          "base_uri": "https://localhost:8080/"
        },
        "id": "ojjJmLesjNfP",
        "outputId": "53170699-fddc-45ed-fe64-cdfdc7226d94"
      },
      "source": [
        "# Mi ejemplo\r\n",
        "# Reversa\r\n",
        "print (list4)\r\n",
        "print (list4[::-1])"
      ],
      "execution_count": null,
      "outputs": [
        {
          "output_type": "stream",
          "text": [
            "['apple', 'banana', 'cherry', 1, 5, 7, 9, 3, True, False, False, 1, 5, 7, 9, 3, True, False, False]\n",
            "[False, False, True, 3, 9, 7, 5, 1, False, False, True, 3, 9, 7, 5, 1, 'cherry', 'banana', 'apple']\n"
          ],
          "name": "stdout"
        }
      ]
    },
    {
      "cell_type": "markdown",
      "metadata": {
        "id": "V9yZN4JjsdvY"
      },
      "source": [
        "Python does not have native matrices, but with lists we can produce a working fascimile. Other packages, such as `numpy`, add matrices as a separate data type, but in base Python the best way to create a matrix is to use a list of lists."
      ]
    },
    {
      "cell_type": "markdown",
      "metadata": {
        "id": "b3vEVk-_sdvY"
      },
      "source": [
        "We can also use built-in functions to generate lists. In particular we will look at `range()` (because we will be using it later!). Range can take several different inputs and will return a list."
      ]
    },
    {
      "cell_type": "code",
      "metadata": {
        "id": "hjS-0nKxsdvZ",
        "colab": {
          "base_uri": "https://localhost:8080/"
        },
        "outputId": "959ad34e-e0a4-47f1-bcaf-357c6ca338ac"
      },
      "source": [
        "b = 10\n",
        "my_list = range(b)\n",
        "print (my_list)"
      ],
      "execution_count": null,
      "outputs": [
        {
          "output_type": "stream",
          "text": [
            "range(0, 10)\n"
          ],
          "name": "stdout"
        }
      ]
    },
    {
      "cell_type": "code",
      "metadata": {
        "colab": {
          "base_uri": "https://localhost:8080/"
        },
        "id": "WC3xoabRjsE6",
        "outputId": "20c2fba4-9020-4e24-e78d-279f4b3afbc8"
      },
      "source": [
        "# Mi ejemplo\r\n",
        "# Trying\r\n",
        "a = 100\r\n",
        "l = range(a)\r\n",
        "print (l)"
      ],
      "execution_count": null,
      "outputs": [
        {
          "output_type": "stream",
          "text": [
            "range(0, 100)\n"
          ],
          "name": "stdout"
        }
      ]
    },
    {
      "cell_type": "markdown",
      "metadata": {
        "id": "CJSvstfusdvZ"
      },
      "source": [
        "Similar to our list-slicing methods from before, we can define both a start and an end for our range. This will return a list that is includes the start and excludes the end, just like a slice."
      ]
    },
    {
      "cell_type": "code",
      "metadata": {
        "id": "lrr7y57VsdvZ",
        "colab": {
          "base_uri": "https://localhost:8080/"
        },
        "outputId": "f4c16966-0a10-4782-940b-bff17c874fd8"
      },
      "source": [
        "a = 0\n",
        "b = 10\n",
        "my_list = range(a, b)\n",
        "print (my_list)"
      ],
      "execution_count": null,
      "outputs": [
        {
          "output_type": "stream",
          "text": [
            "range(0, 10)\n"
          ],
          "name": "stdout"
        }
      ]
    },
    {
      "cell_type": "code",
      "metadata": {
        "colab": {
          "base_uri": "https://localhost:8080/"
        },
        "id": "Rt88t6K3kQnl",
        "outputId": "7074befa-2638-45b3-d2e9-ef33cab418f6"
      },
      "source": [
        "# Mi ejemplo\r\n",
        "c = 100\r\n",
        "d = 500\r\n",
        "l = range(c, d)\r\n",
        "print (l)"
      ],
      "execution_count": null,
      "outputs": [
        {
          "output_type": "stream",
          "text": [
            "range(100, 500)\n"
          ],
          "name": "stdout"
        }
      ]
    },
    {
      "cell_type": "markdown",
      "metadata": {
        "id": "Kf0R18zUsdvZ"
      },
      "source": [
        "We can also specify a step size. This again has the same behavior as a slice."
      ]
    },
    {
      "cell_type": "code",
      "metadata": {
        "scrolled": true,
        "id": "-JlP0UsOsdva",
        "colab": {
          "base_uri": "https://localhost:8080/"
        },
        "outputId": "be9c3782-5758-44fb-d00c-9aaea5380dfb"
      },
      "source": [
        "a = 0\n",
        "b = 10\n",
        "step = 2\n",
        "my_list = range(a, b, step)\n",
        "print (my_list)"
      ],
      "execution_count": null,
      "outputs": [
        {
          "output_type": "stream",
          "text": [
            "range(0, 10, 2)\n"
          ],
          "name": "stdout"
        }
      ]
    },
    {
      "cell_type": "code",
      "metadata": {
        "colab": {
          "base_uri": "https://localhost:8080/"
        },
        "id": "WnmZ7l3Rkg5K",
        "outputId": "7efa349c-618e-41b7-c4cc-d257f9b77276"
      },
      "source": [
        "# Mi ejemplo\r\n",
        "c = 100\r\n",
        "d = 500\r\n",
        "s = 5\r\n",
        "l = range(c, d, s)\r\n",
        "print (l)"
      ],
      "execution_count": null,
      "outputs": [
        {
          "output_type": "stream",
          "text": [
            "range(100, 500, 5)\n"
          ],
          "name": "stdout"
        }
      ]
    },
    {
      "cell_type": "markdown",
      "metadata": {
        "id": "cN1iK0wBsdva"
      },
      "source": [
        "### Tuples\n",
        "\n",
        "A `tuple` is a data type similar to a list in that it can hold different kinds of data types. The key difference here is that a `tuple` is immutable. We define a `tuple` by separating the elements we want to include by commas. It is conventional to surround a `tuple` with parentheses."
      ]
    },
    {
      "cell_type": "code",
      "metadata": {
        "colab": {
          "base_uri": "https://localhost:8080/"
        },
        "id": "ASEHR1Jgsdva",
        "outputId": "92bf22c4-b512-4ded-9034-bc6a6ee5a203"
      },
      "source": [
        "my_tuple = 'I', 'have', 30, 'cats'\n",
        "print (my_tuple)"
      ],
      "execution_count": null,
      "outputs": [
        {
          "output_type": "stream",
          "text": [
            "('I', 'have', 30, 'cats')\n"
          ],
          "name": "stdout"
        }
      ]
    },
    {
      "cell_type": "markdown",
      "metadata": {
        "id": "zdpEMDBP5zRA"
      },
      "source": [
        "> *Las principales propiedades que distinguen una tupla de, por ejemplo, un conjunto, son que en dicha tupla:*\r\n",
        "\r\n",
        "> * Un objeto puede contener internamente (por agregación) a otros objetos.\r\n",
        "\r\n",
        "> * Los objetos aparecen obligatoriamente representados en un orden dado.\r\n",
        "\r\n",
        "> *Es de notar que la primera de las características distingue de lo que se denomina un multiconjunto y la segunda de los que se denomina un conjunto ordenado. Esto se puede formalizar dando la siguiente regla de identidad para dos n-tuplas:*\r\n",
        "\r\n",
        "> ${\\displaystyle (a_{1},a_{2},\\ldots ,a_{n}) = (b_{1},b_{2},\\ldots ,b_{n})\\Leftrightarrow a_{1}=b_{1},{\\text{ }}a_{2}=b_{2},{\\text{ }}\\ldots ,{\\text{ }}a_{n}=b_{n}}$\r\n",
        "\r\n",
        "> *Otra forma de formalizar tuplas es mediante asociación biyectiva entre la definición de una tupla y una construcción más primitiva en la teoría de conjuntos tal y como pares ordenados. Por ejemplo, una n-tupla (con n> 2) se puede definir como un par ordenado de su primera entrada y (n−1)-tupla que contenga el resto de las entradas, de tal forma que:*\r\n",
        "\r\n",
        "> $ {\\displaystyle (a_{1},a_{2},\\ldots ,a_{n})=(a_{1},(a_\r\n",
        "{2},(\\ldots ,(a_{n}))))} $\r\n",
        "\r\n",
        "> *Empleando la definición más corriente dentro de la teoría de conjuntos para un par ordenado y dejando que el conjunto vacío represente la tupla vacía, se puede obtener un resultado correcto empleando una definición por inductiva:*\r\n",
        "\r\n",
        "> * La 0-tupla (por ejemplo la tupla vacía) se representa por ${\\displaystyle \\varnothing } $.\r\n",
        "\r\n",
        "> * Si x es una n-tupla entonces $ {\\displaystyle \\,\\{\\{a\\},\\{a,x\\}\\}} $ es una (n + 1)-tupla.\r\n",
        "\r\n",
        "> *Empleando esta definición, la 3-tupla ${\\displaystyle \\,(1,2,2)} $ podría ser:\r\n",
        "\r\n",
        "> ${\\displaystyle \\,(1,(2,(2,())))=(1,(2,\\{\\{2\\},\\{2,\\varnothing \\}\\}))=(1,\\{\\{2\\},\\{2,\\{\\{2\\},\\{2,\\varnothing \\}\\}\\}\\})=\\{\\{1\\},\\{1,\\{\\{2\\},\\{2,\\{\\{2\\},\\{2,\\varnothing \\}\\}\\}\\}\\}\\}} $\r\n",
        "\r\n",
        "> *Existe una similitud importante aquí con la forma en que se describen objetos en algunos lenguajes informáticos, tales como Lisp en los que generalmente se emplea un par ordenado, y se emplea esta abstracción para iterar todos los elementos de la estructura del n-tupla, para ello se procede de la siguiente forma:*\r\n",
        "\r\n",
        "> * Un símbolo especial, tal y como NIL representa a una lista vacía.\r\n",
        "\r\n",
        "> * Si X es una lista y A es un valor arbitrario, entonces el par (A, X) respresenta una lista con la cabecera (es decir el primer elemento) A y la cola (es decir el resto de la estructura) X."
      ]
    },
    {
      "cell_type": "code",
      "metadata": {
        "id": "CKVYGgSFsdva",
        "colab": {
          "base_uri": "https://localhost:8080/"
        },
        "outputId": "672ec8a9-ac2d-4448-9bac-40921e4f5337"
      },
      "source": [
        "# Mi ejemplo\n",
        "my_tuple1 = ('So', 58, 14, 'letters')\n",
        "print (my_tuple1)"
      ],
      "execution_count": null,
      "outputs": [
        {
          "output_type": "stream",
          "text": [
            "('So', 58, 14, 'letters')\n"
          ],
          "name": "stdout"
        }
      ]
    },
    {
      "cell_type": "markdown",
      "metadata": {
        "id": "RVE6LO2ksdvb"
      },
      "source": [
        "As mentioned before, tuples are immutable. You can't change any part of them without defining a new tuple."
      ]
    },
    {
      "cell_type": "code",
      "metadata": {
        "id": "zty6JOZXsdvb"
      },
      "source": [
        "my_tuple[3] = 'dogs' # Attempts to change the 'cats' value stored in the the tuple to 'dogs'"
      ],
      "execution_count": null,
      "outputs": []
    },
    {
      "cell_type": "markdown",
      "metadata": {
        "id": "rwT-jYxzlDz-"
      },
      "source": [
        "> *Al correr el código se presenta un error:*\r\n",
        "\r\n",
        "> **'tuple' object does not support item assignment**\r\n",
        "\r\n",
        "> *evidenciando que las Tuplas son inmutables.*\r\n",
        "\r\n",
        "\r\n",
        "\r\n"
      ]
    },
    {
      "cell_type": "markdown",
      "metadata": {
        "id": "AaYsDqhcsdvb"
      },
      "source": [
        "You can slice tuples the same way that you slice lists!"
      ]
    },
    {
      "cell_type": "code",
      "metadata": {
        "id": "IeKQy_Xqsdvb",
        "colab": {
          "base_uri": "https://localhost:8080/"
        },
        "outputId": "c9dad707-dfe2-472a-e331-575a8a191066"
      },
      "source": [
        "print (my_tuple[1:3])"
      ],
      "execution_count": null,
      "outputs": [
        {
          "output_type": "stream",
          "text": [
            "('have', 30)\n"
          ],
          "name": "stdout"
        }
      ]
    },
    {
      "cell_type": "code",
      "metadata": {
        "colab": {
          "base_uri": "https://localhost:8080/"
        },
        "id": "-SpwuyYUnHmE",
        "outputId": "28924e4b-bff4-4fd4-d8e3-f3fac6b8bc13"
      },
      "source": [
        "# Mi ejemplo\r\n",
        "print (my_tuple1)\r\n",
        "print (my_tuple1[1:3])"
      ],
      "execution_count": null,
      "outputs": [
        {
          "output_type": "stream",
          "text": [
            "('So', 58, 14, 'letters')\n",
            "(58, 14)\n"
          ],
          "name": "stdout"
        }
      ]
    },
    {
      "cell_type": "markdown",
      "metadata": {
        "id": "uW09V9Pnsdvc"
      },
      "source": [
        "And concatenate them the way that you would with strings!"
      ]
    },
    {
      "cell_type": "code",
      "metadata": {
        "id": "TPEXpw0osdvc",
        "colab": {
          "base_uri": "https://localhost:8080/"
        },
        "outputId": "a2b2f284-74fa-4ff3-9240-62bb0b376569"
      },
      "source": [
        "my_other_tuple = ('make', 'that', 50)\n",
        "print (my_tuple + my_other_tuple)"
      ],
      "execution_count": null,
      "outputs": [
        {
          "output_type": "stream",
          "text": [
            "('I', 'have', 30, 'cats', 'make', 'that', 50)\n"
          ],
          "name": "stdout"
        }
      ]
    },
    {
      "cell_type": "code",
      "metadata": {
        "colab": {
          "base_uri": "https://localhost:8080/"
        },
        "id": "C19J8K_0nbzl",
        "outputId": "20b2dc97-1193-419c-8cb6-fbe81e578382"
      },
      "source": [
        "# Mi ejemplo\r\n",
        "# Concateno todas las tuplas de mis propios ejemplos\r\n",
        "print(my_tuple + my_tuple1 + my_other_tuple)"
      ],
      "execution_count": null,
      "outputs": [
        {
          "output_type": "stream",
          "text": [
            "('I', 'have', 30, 'cats', 'So', 58, 14, 'letters', 'make', 'that', 50)\n"
          ],
          "name": "stdout"
        }
      ]
    },
    {
      "cell_type": "markdown",
      "metadata": {
        "id": "PmUygvuwsdvc"
      },
      "source": [
        "We can 'pack' values together, creating a tuple (as above), or we can 'unpack' values from a tuple, taking them out."
      ]
    },
    {
      "cell_type": "code",
      "metadata": {
        "id": "VNB7S6Kfsdvc",
        "colab": {
          "base_uri": "https://localhost:8080/"
        },
        "outputId": "149ca143-8646-40d2-b870-c0743cf95db5"
      },
      "source": [
        "str_1, str_2, int_1 = my_other_tuple\n",
        "print (str_1, str_2, int_1)"
      ],
      "execution_count": null,
      "outputs": [
        {
          "output_type": "stream",
          "text": [
            "make that 50\n"
          ],
          "name": "stdout"
        }
      ]
    },
    {
      "cell_type": "code",
      "metadata": {
        "colab": {
          "base_uri": "https://localhost:8080/"
        },
        "id": "Lqu-XmFroX70",
        "outputId": "ace2ebf8-8079-4702-813e-9d4656d2a0f7"
      },
      "source": [
        "# Mi ejemplo\r\n",
        "colores = (\"rojo\", \"verde\", \"violeta\")\r\n",
        "(r, g, v) = colores\r\n",
        "print(r, g, v)"
      ],
      "execution_count": null,
      "outputs": [
        {
          "output_type": "stream",
          "text": [
            "rojo verde violeta\n"
          ],
          "name": "stdout"
        }
      ]
    },
    {
      "cell_type": "markdown",
      "metadata": {
        "id": "QKq-1dz0sdvd"
      },
      "source": [
        "Unpacking assigns each value of the tuple in order to each variable on the left hand side of the equals sign. Some functions, including user-defined functions, may return tuples, so we can use this to directly unpack them and access the values that we want."
      ]
    },
    {
      "cell_type": "markdown",
      "metadata": {
        "id": "OuVAJdVWsdvd"
      },
      "source": [
        "### Sets\n",
        "\n",
        "A `set` is a collection of unordered, unique elements. It works almost exactly as you would expect a normal set of things in mathematics to work and is defined using braces (`{}`)."
      ]
    },
    {
      "cell_type": "code",
      "metadata": {
        "colab": {
          "base_uri": "https://localhost:8080/"
        },
        "id": "SDRfY1zHsdvd",
        "outputId": "8e44014a-b454-491b-f048-3fd26d83063a"
      },
      "source": [
        "things_i_like = {'dogs', 7, 'the number 4', 4, 4, 4, 42, 'lizards', 'man I just LOVE the number 4'}\n",
        "print (things_i_like, type(things_i_like))"
      ],
      "execution_count": null,
      "outputs": [
        {
          "output_type": "stream",
          "text": [
            "{'man I just LOVE the number 4', 4, 'the number 4', 7, 42, 'lizards', 'dogs'} <class 'set'>\n"
          ],
          "name": "stdout"
        }
      ]
    },
    {
      "cell_type": "code",
      "metadata": {
        "colab": {
          "base_uri": "https://localhost:8080/"
        },
        "id": "EoYYu-tupWc3",
        "outputId": "b462a69d-d1c5-4de6-c43e-18745ce20e1c"
      },
      "source": [
        "# Mi ejemplo\r\n",
        "set1 = {\"mix\", \"45.8\", \"abc\", 34, True, 40, \"male\"}\r\n",
        "print(set1)"
      ],
      "execution_count": null,
      "outputs": [
        {
          "output_type": "stream",
          "text": [
            "{True, 34, 40, 'abc', 'mix', '45.8', 'male'}\n"
          ],
          "name": "stdout"
        }
      ]
    },
    {
      "cell_type": "markdown",
      "metadata": {
        "id": "jKD1Psuzsdve"
      },
      "source": [
        "Note how any extra instances of the same item are removed in the final set. We can also create a `set` from a list, using the `set()` function."
      ]
    },
    {
      "cell_type": "code",
      "metadata": {
        "colab": {
          "base_uri": "https://localhost:8080/"
        },
        "id": "t4aYjvcWsdve",
        "outputId": "7278e5c7-0359-425c-b716-1bfd3c1968bf"
      },
      "source": [
        "animal_list = ['cats', 'dogs', 'dogs', 'dogs', 'lizards', 'sponges', 'cows', 'bats', 'sponges']\n",
        "animal_set = set(animal_list)\n",
        "print (animal_set) # Removes all extra instances from the list"
      ],
      "execution_count": null,
      "outputs": [
        {
          "output_type": "stream",
          "text": [
            "{'sponges', 'cats', 'lizards', 'bats', 'cows', 'dogs'}\n"
          ],
          "name": "stdout"
        }
      ]
    },
    {
      "cell_type": "code",
      "metadata": {
        "colab": {
          "base_uri": "https://localhost:8080/"
        },
        "id": "Pde2duojqVK9",
        "outputId": "c87f65b5-0199-4791-d5e4-62f7ba5b15a5"
      },
      "source": [
        "# Mi ejemplo\r\n",
        "# Removiendo duplicados\r\n",
        "set2 = {\"mix\", \"45.8\", True, \"abc\", 34, \"mix\", True, 40, \"male\", True, \"mix\", True, 34}\r\n",
        "s = set(set2)\r\n",
        "print(s)"
      ],
      "execution_count": null,
      "outputs": [
        {
          "output_type": "stream",
          "text": [
            "{True, 34, 40, 'mix', '45.8', 'male', 'abc'}\n"
          ],
          "name": "stdout"
        }
      ]
    },
    {
      "cell_type": "markdown",
      "metadata": {
        "id": "ecAzHwRCsdve"
      },
      "source": [
        "Calling `len()` on a set will tell you how many elements are in it."
      ]
    },
    {
      "cell_type": "code",
      "metadata": {
        "colab": {
          "base_uri": "https://localhost:8080/"
        },
        "id": "AAUxU9Mbsdvf",
        "outputId": "b943bad4-28e9-4d2c-820e-992c24fa6b75"
      },
      "source": [
        "print (len(animal_set))"
      ],
      "execution_count": null,
      "outputs": [
        {
          "output_type": "stream",
          "text": [
            "6\n"
          ],
          "name": "stdout"
        }
      ]
    },
    {
      "cell_type": "code",
      "metadata": {
        "colab": {
          "base_uri": "https://localhost:8080/"
        },
        "id": "D7G7mkqiq4Pz",
        "outputId": "acf98903-8ebd-4fc6-fd09-32505b13075f"
      },
      "source": [
        "# Mi ejemplo\r\n",
        "print (len(s))"
      ],
      "execution_count": null,
      "outputs": [
        {
          "output_type": "stream",
          "text": [
            "7\n"
          ],
          "name": "stdout"
        }
      ]
    },
    {
      "cell_type": "markdown",
      "metadata": {
        "id": "orcaoIAysdvf"
      },
      "source": [
        "Because a `set` is unordered, we can't access individual elements using an index. We can, however, easily check for membership (to see if something is contained in a set) and take the unions and intersections of sets by using the built-in set functions."
      ]
    },
    {
      "cell_type": "code",
      "metadata": {
        "colab": {
          "base_uri": "https://localhost:8080/"
        },
        "id": "qjR0snTrsdvf",
        "outputId": "c3e10182-f6c1-4385-e171-6995e0f4b381"
      },
      "source": [
        "'cats' in animal_set # Here we check for membership using the `in` keyword."
      ],
      "execution_count": null,
      "outputs": [
        {
          "output_type": "execute_result",
          "data": {
            "text/plain": [
              "True"
            ]
          },
          "metadata": {
            "tags": []
          },
          "execution_count": 96
        }
      ]
    },
    {
      "cell_type": "code",
      "metadata": {
        "colab": {
          "base_uri": "https://localhost:8080/"
        },
        "id": "lyCvWDCMrCPw",
        "outputId": "bb22fa35-f86b-472f-8136-05ab657266c6"
      },
      "source": [
        "# Mi ejemplo imprimo s y pregunto si 84 existe en ella\r\n",
        "print(s)\r\n",
        "84 in s"
      ],
      "execution_count": null,
      "outputs": [
        {
          "output_type": "stream",
          "text": [
            "{True, 34, 40, 'mix', '45.8', 'male', 'abc'}\n"
          ],
          "name": "stdout"
        },
        {
          "output_type": "execute_result",
          "data": {
            "text/plain": [
              "False"
            ]
          },
          "metadata": {
            "tags": []
          },
          "execution_count": 98
        }
      ]
    },
    {
      "cell_type": "markdown",
      "metadata": {
        "id": "1eWxa1kmsdvf"
      },
      "source": [
        "Here we checked to see whether the string 'cats' was contained within our `animal_set` and it returned `True`, telling us that it is indeed in our set.\n",
        "\n",
        "We can connect sets by using typical mathematical set operators, namely `|`, for union, and `&`, for intersection. Using `|` or `&` will return exactly what you would expect if you are familiar with sets in mathematics."
      ]
    },
    {
      "cell_type": "code",
      "metadata": {
        "id": "b61pI8TIsdvg",
        "colab": {
          "base_uri": "https://localhost:8080/"
        },
        "outputId": "ab02f5c7-bd44-499a-e8f4-44d57e6a306a"
      },
      "source": [
        "print (animal_set | things_i_like) # You can also write things_i_like | animal_set with no difference"
      ],
      "execution_count": null,
      "outputs": [
        {
          "output_type": "stream",
          "text": [
            "{'sponges', 'cats', 'man I just LOVE the number 4', 4, 'the number 4', 7, 42, 'lizards', 'bats', 'cows', 'dogs'}\n"
          ],
          "name": "stdout"
        }
      ]
    },
    {
      "cell_type": "code",
      "metadata": {
        "colab": {
          "base_uri": "https://localhost:8080/"
        },
        "id": "dI8rDis9ro3b",
        "outputId": "09a0c2c9-f72a-4d4e-9d24-e767fbf37e4c"
      },
      "source": [
        "# Mi ejemplo\r\n",
        "# Uniendo dos conjuntos\r\n",
        "print(set1)\r\n",
        "print(s)\r\n",
        "print (set1 | s | animal_set)"
      ],
      "execution_count": null,
      "outputs": [
        {
          "output_type": "stream",
          "text": [
            "{True, 34, 40, 'abc', 'mix', '45.8', 'male'}\n",
            "{True, 34, 40, 'mix', '45.8', 'male', 'abc'}\n",
            "{'sponges', True, 34, 'cats', 40, 'abc', 'lizards', 'bats', 'cows', 'mix', '45.8', 'dogs', 'male'}\n"
          ],
          "name": "stdout"
        }
      ]
    },
    {
      "cell_type": "markdown",
      "metadata": {
        "id": "RW70qsQSsdvg"
      },
      "source": [
        "Pairing two sets together with `|` combines the sets, removing any repetitions to make every set element unique."
      ]
    },
    {
      "cell_type": "code",
      "metadata": {
        "id": "g8E-p6nLsdvh",
        "colab": {
          "base_uri": "https://localhost:8080/"
        },
        "outputId": "4e8fa514-dd57-4d89-d283-ea6e2209dc2f"
      },
      "source": [
        "print (animal_set & things_i_like) # You can also write things_i_like & animal_set with no difference"
      ],
      "execution_count": null,
      "outputs": [
        {
          "output_type": "stream",
          "text": [
            "{'dogs', 'lizards'}\n"
          ],
          "name": "stdout"
        }
      ]
    },
    {
      "cell_type": "code",
      "metadata": {
        "colab": {
          "base_uri": "https://localhost:8080/"
        },
        "id": "ruW79SHEsUOO",
        "outputId": "b0e5daae-6682-4b37-8e0d-a49e5c372144"
      },
      "source": [
        "# Mi ejemplo\r\n",
        "# Intersecando dos conjuntos\r\n",
        "print(set1)\r\n",
        "print(s)\r\n",
        "print (set1 & s)"
      ],
      "execution_count": null,
      "outputs": [
        {
          "output_type": "stream",
          "text": [
            "{True, 34, 40, 'abc', 'mix', '45.8', 'male'}\n",
            "{True, 34, 40, 'mix', '45.8', 'male', 'abc'}\n",
            "{True, 34, 40, 'abc', 'mix', '45.8', 'male'}\n"
          ],
          "name": "stdout"
        }
      ]
    },
    {
      "cell_type": "code",
      "metadata": {
        "colab": {
          "base_uri": "https://localhost:8080/"
        },
        "id": "bg8sb4tWtFw6",
        "outputId": "286c246e-2ff8-4d93-d60a-a04e491a0b1b"
      },
      "source": [
        "# Mi ejemplo\r\n",
        "# Intersecando tres conjuntos\r\n",
        "print(set1)\r\n",
        "print(s)\r\n",
        "print (set1 & s & animal_set)"
      ],
      "execution_count": null,
      "outputs": [
        {
          "output_type": "stream",
          "text": [
            "{True, 34, 40, 'abc', 'mix', '45.8', 'male'}\n",
            "{True, 34, 40, 'mix', '45.8', 'male', 'abc'}\n",
            "set()\n"
          ],
          "name": "stdout"
        }
      ]
    },
    {
      "cell_type": "markdown",
      "metadata": {
        "id": "RuYfVUc6sdvh"
      },
      "source": [
        "Pairing two sets together with `&` will calculate the intersection of both sets, returning a set that only contains what they have in common.\n",
        "\n",
        "If you are interested in learning more about the built-in functions for sets, feel free to check out the [documentation](https://docs.python.org/2/library/sets.html)."
      ]
    },
    {
      "cell_type": "markdown",
      "metadata": {
        "id": "YF-lkQNosdvi"
      },
      "source": [
        "### Dictionaries\n",
        "\n",
        "Another essential data structure in Python is the dictionary. Dictionaries are defined with a combination of curly braces (`{}`) and colons (`:`). The braces define the beginning and end of a dictionary and the colons indicate key-value pairs. A dictionary is essentially a set of key-value pairs. The key of any entry must be an immutable data type. This makes both strings and tuples candidates. Keys can be both added and deleted.\n",
        "\n",
        "In the following example, we have a dictionary composed of key-value pairs where the key is a genre of fiction (`string`) and the value is a list of books (`list`) within that genre. Since a collection is still considered a single entity, we can use one to collect multiple variables or values into one key-value pair."
      ]
    },
    {
      "cell_type": "code",
      "metadata": {
        "id": "c0ugQvFJsdvi"
      },
      "source": [
        "my_dict = {\"High Fantasy\": [\"Wheel of Time\", \"Lord of the Rings\"], \n",
        "           \"Sci-fi\": [\"Book of the New Sun\", \"Neuromancer\", \"Snow Crash\"],\n",
        "           \"Weird Fiction\": [\"At the Mountains of Madness\", \"The House on the Borderland\"]}"
      ],
      "execution_count": null,
      "outputs": []
    },
    {
      "cell_type": "code",
      "metadata": {
        "id": "iBBgVZaguKid"
      },
      "source": [
        "# Mi ejemplo\r\n",
        "# Creando un diccionario\r\n",
        "diccionario = {\"clave1\":[234, 589, 874], \"clave2\":[True, False, False, True], \"clave3\":[\"Valor 1\", \"Valor 2\"], \"clave4\":[1,2,3,4]}"
      ],
      "execution_count": null,
      "outputs": []
    },
    {
      "cell_type": "markdown",
      "metadata": {
        "id": "N1MwNYnPsdvi"
      },
      "source": [
        "After defining a dictionary, we can access any individual value by indicating its key in brackets."
      ]
    },
    {
      "cell_type": "code",
      "metadata": {
        "id": "dRwGpz_csdvj",
        "colab": {
          "base_uri": "https://localhost:8080/"
        },
        "outputId": "9a202fae-5859-4246-85a7-5f3f2a60232c"
      },
      "source": [
        "print (my_dict[\"Sci-fi\"])"
      ],
      "execution_count": null,
      "outputs": [
        {
          "output_type": "stream",
          "text": [
            "['Book of the New Sun', 'Neuromancer', 'Snow Crash']\n"
          ],
          "name": "stdout"
        }
      ]
    },
    {
      "cell_type": "code",
      "metadata": {
        "colab": {
          "base_uri": "https://localhost:8080/"
        },
        "id": "gEeE-jk6uYHT",
        "outputId": "a8cc2a61-e1b8-4d10-980f-41bc000160ae"
      },
      "source": [
        "# Mi ejemplo\r\n",
        "# Imprimiendo diccionario\r\n",
        "print(diccionario[\"clave2\"])"
      ],
      "execution_count": null,
      "outputs": [
        {
          "output_type": "stream",
          "text": [
            "[True, False, False, True]\n"
          ],
          "name": "stdout"
        }
      ]
    },
    {
      "cell_type": "markdown",
      "metadata": {
        "id": "E1f6v3Sdsdvj"
      },
      "source": [
        "We can also change the value associated with a given key"
      ]
    },
    {
      "cell_type": "code",
      "metadata": {
        "id": "P2I7AAWUsdvj",
        "colab": {
          "base_uri": "https://localhost:8080/"
        },
        "outputId": "e0e7d10c-89b8-49fc-da58-da571e3e8c1c"
      },
      "source": [
        "my_dict[\"Sci-fi\"] = \"I can't read\"\n",
        "print (my_dict[\"Sci-fi\"])"
      ],
      "execution_count": null,
      "outputs": [
        {
          "output_type": "stream",
          "text": [
            "I can't read\n"
          ],
          "name": "stdout"
        }
      ]
    },
    {
      "cell_type": "code",
      "metadata": {
        "colab": {
          "base_uri": "https://localhost:8080/"
        },
        "id": "Z5vXSRwDuqvd",
        "outputId": "8f1b16b9-90a2-44a7-cdda-a5d57d5cf7b9"
      },
      "source": [
        "# Mi ejemplo\r\n",
        "# Cambiando contenido de clave4\r\n",
        "diccionario[\"clave4\"] = \"Neither do I.\"\r\n",
        "print(diccionario[\"clave4\"])"
      ],
      "execution_count": null,
      "outputs": [
        {
          "output_type": "stream",
          "text": [
            "Neither do I.\n"
          ],
          "name": "stdout"
        }
      ]
    },
    {
      "cell_type": "markdown",
      "metadata": {
        "id": "ngJgT4ujsdvj"
      },
      "source": [
        "Adding a new key-value pair is as simple as defining it."
      ]
    },
    {
      "cell_type": "code",
      "metadata": {
        "id": "O5z-XXIisdvk",
        "colab": {
          "base_uri": "https://localhost:8080/"
        },
        "outputId": "21422547-8840-44bb-a90b-5694abb25b52"
      },
      "source": [
        "my_dict[\"Historical Fiction\"] = [\"Pillars of the Earth\"]\n",
        "print (my_dict[\"Historical Fiction\"])"
      ],
      "execution_count": null,
      "outputs": [
        {
          "output_type": "stream",
          "text": [
            "['Pillars of the Earth']\n"
          ],
          "name": "stdout"
        }
      ]
    },
    {
      "cell_type": "code",
      "metadata": {
        "id": "zTIiFlhhsdvk",
        "colab": {
          "base_uri": "https://localhost:8080/"
        },
        "outputId": "005f598d-26ff-4e02-da9c-98f3808ea099"
      },
      "source": [
        "print (my_dict)"
      ],
      "execution_count": null,
      "outputs": [
        {
          "output_type": "stream",
          "text": [
            "{'High Fantasy': ['Wheel of Time', 'Lord of the Rings'], 'Sci-fi': \"I can't read\", 'Weird Fiction': ['At the Mountains of Madness', 'The House on the Borderland'], 'Historical Fiction': ['Pillars of the Earth']}\n"
          ],
          "name": "stdout"
        }
      ]
    },
    {
      "cell_type": "code",
      "metadata": {
        "colab": {
          "base_uri": "https://localhost:8080/"
        },
        "id": "iwcdLhqAvSft",
        "outputId": "c24c91c6-5e09-49cb-f38e-58aeaf4fccab"
      },
      "source": [
        "# Mi ejemplo e imprimo de una vez\r\n",
        "# Adiconando nueva clave\r\n",
        "diccionario[\"clave5\"] = [\"Pillars of the Earth\"]\r\n",
        "print (diccionario[\"clave5\"])\r\n",
        "print (diccionario)"
      ],
      "execution_count": null,
      "outputs": [
        {
          "output_type": "stream",
          "text": [
            "['Pillars of the Earth']\n",
            "{'clave1': [234, 589, 874], 'clave2': [True, False, False, True], 'clave3': ['Valor 1', 'Valor 2'], 'clave4': 'Neither do I.', 'clave5': ['Pillars of the Earth']}\n"
          ],
          "name": "stdout"
        }
      ]
    },
    {
      "cell_type": "markdown",
      "metadata": {
        "id": "HBgcneKesdvk"
      },
      "source": [
        "## String Shenanigans\n",
        "\n",
        "We already know that strings are generally used for text. We can used built-in operations to combine, split, and format strings easily, depending on our needs.\n",
        "\n",
        "The `+` symbol indicates concatenation in string language. It will combine two strings into a longer string."
      ]
    },
    {
      "cell_type": "code",
      "metadata": {
        "id": "UVyWWyO6sdvk",
        "colab": {
          "base_uri": "https://localhost:8080/"
        },
        "outputId": "b3966dc6-5a2f-4a23-dced-d8897eec82f7"
      },
      "source": [
        "first_string = '\"Beware the Jabberwock, my son! /The jaws that bite, the claws that catch! /'\n",
        "second_string = 'Beware the Jubjub bird, and shun /The frumious Bandersnatch!\"/'\n",
        "third_string = first_string + second_string\n",
        "print (third_string)"
      ],
      "execution_count": null,
      "outputs": [
        {
          "output_type": "stream",
          "text": [
            "\"Beware the Jabberwock, my son! /The jaws that bite, the claws that catch! /Beware the Jubjub bird, and shun /The frumious Bandersnatch!\"/\n"
          ],
          "name": "stdout"
        }
      ]
    },
    {
      "cell_type": "code",
      "metadata": {
        "colab": {
          "base_uri": "https://localhost:8080/"
        },
        "id": "wo4T0RKi8kSF",
        "outputId": "1df9ab69-1252-476f-8c11-6c708eae5092"
      },
      "source": [
        "# Mi ejemplo\r\n",
        "# Concatenación\r\n",
        "a = \"Concatenando dos Cadenas utilizando:\" \r\n",
        "b = \"el sIGno +.\"\r\n",
        "c = a + \" \" + b\r\n",
        "print(c)"
      ],
      "execution_count": null,
      "outputs": [
        {
          "output_type": "stream",
          "text": [
            "Concatenando dos Cadenas utilizando: el sIGno +.\n"
          ],
          "name": "stdout"
        }
      ]
    },
    {
      "cell_type": "markdown",
      "metadata": {
        "id": "rVBszYkDsdvl"
      },
      "source": [
        "Strings are also indexed much in the same way that lists are."
      ]
    },
    {
      "cell_type": "code",
      "metadata": {
        "id": "v7Amp4xKsdvl",
        "colab": {
          "base_uri": "https://localhost:8080/"
        },
        "outputId": "9a8cda17-4c1a-4e8f-9956-4a998fbc5b20"
      },
      "source": [
        "my_string = 'Supercalifragilisticexpialidocious'\n",
        "print ('The first letter is: ', my_string[0]) # Uppercase S\n",
        "print ('The last letter is: ', my_string[-1]) # lowercase s\n",
        "print ('The second to last letter is: ', my_string[-2]) # lowercase u\n",
        "print ('The first five characters are: ', my_string[0:5]) # Remember: slicing doesn't include the final element!\n",
        "print ('Reverse it!: ', my_string[::-1])"
      ],
      "execution_count": null,
      "outputs": [
        {
          "output_type": "stream",
          "text": [
            "The first letter is:  S\n",
            "The last letter is:  s\n",
            "The second to last letter is:  u\n",
            "The first five characters are:  Super\n",
            "Reverse it!:  suoicodilaipxecitsiligarfilacrepuS\n"
          ],
          "name": "stdout"
        }
      ]
    },
    {
      "cell_type": "code",
      "metadata": {
        "colab": {
          "base_uri": "https://localhost:8080/"
        },
        "id": "JJbWQ3dT9IMO",
        "outputId": "74c10ede-29d3-4cb2-cda7-6bfb248dff52"
      },
      "source": [
        "# Mi ejemplo\r\n",
        "print(\"La cadena es: \", \"'\", a, \"' \\n\")\r\n",
        "print(\"Primeras 3 letras: \", a[0:3])\r\n",
        "print(\"El 17avo caracter es: \", a[17])\r\n",
        "print(\"Su reversa es: \", a[::-1])\r\n",
        "print(\"Del caracter 5 al 14 encontramos:\", a[5:15])"
      ],
      "execution_count": null,
      "outputs": [
        {
          "output_type": "stream",
          "text": [
            "La cadena es:  ' Concatenando dos Cadenas utilizando: ' \n",
            "\n",
            "Primeras 3 letras:  Con\n",
            "El 17avo caracter es:  C\n",
            "Su reversa es:  :odnazilitu sanedaC sod odnanetacnoC\n",
            "Del caracter 5 al 14 encontramos: tenando do\n"
          ],
          "name": "stdout"
        }
      ]
    },
    {
      "cell_type": "markdown",
      "metadata": {
        "id": "MoFQ_nFTsdvl"
      },
      "source": [
        "Built-in objects and classes often have special functions associated with them that are called methods. We access these methods by using a period ('.'). We will cover objects and their associated methods more in another lecture!\n",
        "\n",
        "Using string methods we can count instances of a character or group of characters."
      ]
    },
    {
      "cell_type": "code",
      "metadata": {
        "scrolled": true,
        "id": "CitMVKrMsdvl",
        "colab": {
          "base_uri": "https://localhost:8080/"
        },
        "outputId": "7643fb67-305e-43b0-a7ae-a7c5158e29a8"
      },
      "source": [
        "print ('Count of the letter i in Supercalifragilisticexpialidocious: ', my_string.count('i'))\n",
        "print ('Count of \"li\" in the same word: ', my_string.count('li'))"
      ],
      "execution_count": null,
      "outputs": [
        {
          "output_type": "stream",
          "text": [
            "Count of the letter i in Supercalifragilisticexpialidocious:  7\n",
            "Count of \"li\" in the same word:  3\n"
          ],
          "name": "stdout"
        }
      ]
    },
    {
      "cell_type": "code",
      "metadata": {
        "colab": {
          "base_uri": "https://localhost:8080/"
        },
        "id": "m_40srn5NiTx",
        "outputId": "aded1b29-7e98-4ff4-9cde-6ed1dfc12d74"
      },
      "source": [
        "# Mi ejemplo\r\n",
        "# Otro método puede ser split, que se encarga de \r\n",
        "\"\"\"\r\n",
        "  Divir una cadena en una lista, usando una coma, seguida de un espacio (,) como separador.\r\n",
        "  Este método divide una cadena en una lista, comenzando por la derecha.\r\n",
        "\"\"\" \r\n",
        "print('La cadena es: ', a)\r\n",
        "print(a.rsplit(\" \"))"
      ],
      "execution_count": null,
      "outputs": [
        {
          "output_type": "stream",
          "text": [
            "La cadena es:  Concatenando dos Cadenas utilizando:\n",
            "['Concatenando', 'dos', 'Cadenas', 'utilizando:']\n"
          ],
          "name": "stdout"
        }
      ]
    },
    {
      "cell_type": "markdown",
      "metadata": {
        "id": "oZKE5A0esdvm"
      },
      "source": [
        "We can also find the first instance of a character or group of characters in a string."
      ]
    },
    {
      "cell_type": "code",
      "metadata": {
        "id": "4PidglQSsdvm",
        "colab": {
          "base_uri": "https://localhost:8080/"
        },
        "outputId": "af99cf4b-5d88-4d3a-c923-150db1529248"
      },
      "source": [
        "print ('The first time i appears is at index: ', my_string.find('i'))"
      ],
      "execution_count": null,
      "outputs": [
        {
          "output_type": "stream",
          "text": [
            "The first time i appears is at index:  8\n"
          ],
          "name": "stdout"
        }
      ]
    },
    {
      "cell_type": "code",
      "metadata": {
        "colab": {
          "base_uri": "https://localhost:8080/"
        },
        "id": "WLOq5ZvROqZM",
        "outputId": "f256217d-a37c-4e75-a112-4dfe95f517f9"
      },
      "source": [
        "# Mi ejemplo\r\n",
        "# Hallando la primera t\r\n",
        "print('La cadena es: ', a)\r\n",
        "print(\"La primera t aparece con el index: \", a.find(\"t\"))"
      ],
      "execution_count": null,
      "outputs": [
        {
          "output_type": "stream",
          "text": [
            "La cadena es:  Concatenando dos Cadenas utilizando:\n",
            "La primera t aparece con el index:  5\n"
          ],
          "name": "stdout"
        }
      ]
    },
    {
      "cell_type": "markdown",
      "metadata": {
        "id": "ndUOaELbsdvm"
      },
      "source": [
        "As well as replace characters in a string."
      ]
    },
    {
      "cell_type": "code",
      "metadata": {
        "id": "l8xh8ATLsdvm",
        "colab": {
          "base_uri": "https://localhost:8080/"
        },
        "outputId": "9c88b2e6-0793-42b0-f850-718cf96c455d"
      },
      "source": [
        "print (\"All i's are now a's: \", my_string.replace('i', 'a'))"
      ],
      "execution_count": null,
      "outputs": [
        {
          "output_type": "stream",
          "text": [
            "All i's are now a's:  Supercalafragalastacexpaaladocaous\n"
          ],
          "name": "stdout"
        }
      ]
    },
    {
      "cell_type": "code",
      "metadata": {
        "colab": {
          "base_uri": "https://localhost:8080/"
        },
        "id": "xSg-SHryQ0AK",
        "outputId": "49b79227-3653-492c-f377-7bceae0d5c9c"
      },
      "source": [
        "# Mi ejemplo\r\n",
        "# cambiando la o's de lowercase a uppercase\r\n",
        "print (\"All o's lowercaseare now O's UPPERCASE: \", a.replace('o', 'O'))"
      ],
      "execution_count": null,
      "outputs": [
        {
          "output_type": "stream",
          "text": [
            "All o's lowercaseare now O's UPPERCASE:  COncatenandO dOs Cadenas utilizandO:\n"
          ],
          "name": "stdout"
        }
      ]
    },
    {
      "cell_type": "code",
      "metadata": {
        "id": "4VcQQDnjsdvn",
        "colab": {
          "base_uri": "https://localhost:8080/"
        },
        "outputId": "420c6beb-7605-478d-9be1-1126f7565fed"
      },
      "source": [
        "print (\"It's raining cats and dogs\".replace('dogs', 'more cats'))"
      ],
      "execution_count": null,
      "outputs": [
        {
          "output_type": "stream",
          "text": [
            "It's raining cats and more cats\n"
          ],
          "name": "stdout"
        }
      ]
    },
    {
      "cell_type": "code",
      "metadata": {
        "colab": {
          "base_uri": "https://localhost:8080/"
        },
        "id": "-Cf3iH2_WKzT",
        "outputId": "cfc097ed-05cb-46c8-e0bb-7a7943f2b77f"
      },
      "source": [
        "# Mi ejemplo\r\n",
        "# Reemplazando \r\n",
        "print(a)\r\n",
        "print(a.replace(\"Concatenando\", \"Concatenación de\"))"
      ],
      "execution_count": null,
      "outputs": [
        {
          "output_type": "stream",
          "text": [
            "Concatenando dos Cadenas utilizando:\n",
            "Concatenación de dos Cadenas utilizando:\n"
          ],
          "name": "stdout"
        }
      ]
    },
    {
      "cell_type": "markdown",
      "metadata": {
        "id": "rLvyJqFdsdvn"
      },
      "source": [
        "There are also some methods that are unique to strings. The function `upper()` will convert all characters in a string to uppercase, while `lower()` will convert all characters in a string to lowercase!"
      ]
    },
    {
      "cell_type": "code",
      "metadata": {
        "id": "BGk5FLUDsdvn",
        "colab": {
          "base_uri": "https://localhost:8080/"
        },
        "outputId": "9e502200-2e56-49b9-d0a4-6dcf870bfe4d"
      },
      "source": [
        "my_string = \"I can't hear you\"\n",
        "print (my_string.upper())\n",
        "my_string = \"I said HELLO\"\n",
        "print (my_string.lower())"
      ],
      "execution_count": null,
      "outputs": [
        {
          "output_type": "stream",
          "text": [
            "I CAN'T HEAR YOU\n",
            "i said hello\n"
          ],
          "name": "stdout"
        }
      ]
    },
    {
      "cell_type": "code",
      "metadata": {
        "colab": {
          "base_uri": "https://localhost:8080/"
        },
        "id": "IJhxT2ZUWmpE",
        "outputId": "8ad8ce92-a4db-45c6-d832-eb3ebec5a218"
      },
      "source": [
        "# Mi ejemplo\r\n",
        "# convirtiendo la cadena a uppercase y luego a lowcase\r\n",
        "print(\"Original: \", a)\r\n",
        "print(a.upper())\r\n",
        "print(a.lower())\r\n",
        "#O bien se puede convertir la primera letra de cada palabra en uppercase\r\n",
        "print(a.title())"
      ],
      "execution_count": null,
      "outputs": [
        {
          "output_type": "stream",
          "text": [
            "Original:  Concatenando dos Cadenas utilizando:\n",
            "CONCATENANDO DOS CADENAS UTILIZANDO:\n",
            "concatenando dos cadenas utilizando:\n",
            "Concatenando Dos Cadenas Utilizando:\n"
          ],
          "name": "stdout"
        }
      ]
    },
    {
      "cell_type": "markdown",
      "metadata": {
        "id": "svyv6kzIsdvn"
      },
      "source": [
        "### String Formatting\n",
        "\n",
        "Using the `format()` method we can add in variable values and generally format our strings."
      ]
    },
    {
      "cell_type": "code",
      "metadata": {
        "id": "JKBfvRSlsdvo",
        "colab": {
          "base_uri": "https://localhost:8080/"
        },
        "outputId": "5f38075b-fd7d-4006-8b90-001ff6260a90"
      },
      "source": [
        "my_string = \"{0} {1}\".format('Marco', 'Polo')\n",
        "print (my_string)"
      ],
      "execution_count": null,
      "outputs": [
        {
          "output_type": "stream",
          "text": [
            "Marco Polo\n"
          ],
          "name": "stdout"
        }
      ]
    },
    {
      "cell_type": "code",
      "metadata": {
        "colab": {
          "base_uri": "https://localhost:8080/"
        },
        "id": "QVV0zVpNYI1J",
        "outputId": "2781e240-4a73-4c20-8dba-83c8de115c81"
      },
      "source": [
        "# Mi ejemplo\r\n",
        "# También es posible hacerlo mediante las siguientes tres opciones\r\n",
        "txt1 = \"My name is {fname}, I'm {age}\".format(fname = \"John\", age = 36)\r\n",
        "txt2 = \"My name is {0}, I'm {1}\".format(\"John\",36)\r\n",
        "txt3 = \"My name is {}, I'm {}\".format(\"John\",36)\r\n",
        "print(txt1)\r\n",
        "print(txt2)\r\n",
        "print(txt3)"
      ],
      "execution_count": null,
      "outputs": [
        {
          "output_type": "stream",
          "text": [
            "My name is John, I'm 36\n",
            "My name is John, I'm 36\n",
            "My name is John, I'm 36\n"
          ],
          "name": "stdout"
        }
      ]
    },
    {
      "cell_type": "code",
      "metadata": {
        "id": "nzqOvf0-sdvo",
        "colab": {
          "base_uri": "https://localhost:8080/"
        },
        "outputId": "9b5a483a-ecbc-4ba4-923d-d8b91585fb12"
      },
      "source": [
        "my_string = \"{1} {0}\".format('Marco', 'Polo')\n",
        "print (my_string)"
      ],
      "execution_count": null,
      "outputs": [
        {
          "output_type": "stream",
          "text": [
            "Polo Marco\n"
          ],
          "name": "stdout"
        }
      ]
    },
    {
      "cell_type": "code",
      "metadata": {
        "colab": {
          "base_uri": "https://localhost:8080/"
        },
        "id": "osKrnqvdYlv7",
        "outputId": "0b43e5b4-d5e2-4c89-8258-2fa4504ddd77"
      },
      "source": [
        "# Mi ejemplo\r\n",
        "# O incluso así:\r\n",
        "# Aquí se indica adicionalmente que el precio debe estar en formato de coma fija y con dos decimales\r\n",
        "txt = \"For only {price:.2f} dollars!\"\r\n",
        "print(txt.format(price = 49))"
      ],
      "execution_count": null,
      "outputs": [
        {
          "output_type": "stream",
          "text": [
            "For only 49.00 dollars!\n"
          ],
          "name": "stdout"
        }
      ]
    },
    {
      "cell_type": "markdown",
      "metadata": {
        "id": "w-59IC_Esdvo"
      },
      "source": [
        "We use braces (`{}`) to indicate parts of the string that will be filled in later and we use the arguments of the `format()` function to provide the values to substitute. The numbers within the braces indicate the index of the value in the `format()` arguments."
      ]
    },
    {
      "cell_type": "markdown",
      "metadata": {
        "id": "8SoojaLCsdvo"
      },
      "source": [
        "See the `format()` [documentation](https://docs.python.org/2/library/string.html#format-examples) for additional examples."
      ]
    },
    {
      "cell_type": "markdown",
      "metadata": {
        "id": "WfuZGGOmsdvp"
      },
      "source": [
        "If you need some quick and dirty formatting, you can instead use the `%` symbol, called the string formatting operator. "
      ]
    },
    {
      "cell_type": "code",
      "metadata": {
        "id": "oRMooCNcsdvp",
        "colab": {
          "base_uri": "https://localhost:8080/"
        },
        "outputId": "a25303c3-b59c-4109-9e27-1bc668a9be00"
      },
      "source": [
        "print ('insert %s here' % 'value')"
      ],
      "execution_count": null,
      "outputs": [
        {
          "output_type": "stream",
          "text": [
            "insert value here\n"
          ],
          "name": "stdout"
        }
      ]
    },
    {
      "cell_type": "code",
      "metadata": {
        "colab": {
          "base_uri": "https://localhost:8080/"
        },
        "id": "vEvPaN48ZKGd",
        "outputId": "8872ba37-6bbb-4374-d010-e4eec679ae39"
      },
      "source": [
        "# Mi ejemplo y con una variable\"\r\n",
        "name = \"Carlos\"\r\n",
        "print(\"Bienvenido, %s!\" % name)"
      ],
      "execution_count": null,
      "outputs": [
        {
          "output_type": "stream",
          "text": [
            "Bienvenido, Carlos!\n"
          ],
          "name": "stdout"
        }
      ]
    },
    {
      "cell_type": "markdown",
      "metadata": {
        "id": "P8UUKemQsdvp"
      },
      "source": [
        "The `%` symbol basically cues Python to create a placeholder. Whatever character follows the `%` (in the string) indicates what sort of type the value put into the placeholder will have. This character is called a *conversion type*. Once the string has been closed, we need another `%` that will be followed by the values to insert. In the case of one value, you can just put it there. If you are inserting more than one value, they must be enclosed in a tuple."
      ]
    },
    {
      "cell_type": "code",
      "metadata": {
        "id": "xGLxGxgSsdvp",
        "colab": {
          "base_uri": "https://localhost:8080/"
        },
        "outputId": "6bbc4fce-db25-4a8d-e222-e84affa51be3"
      },
      "source": [
        "print ('There are %s cats in my %s' % (13, 'apartment'))"
      ],
      "execution_count": null,
      "outputs": [
        {
          "output_type": "stream",
          "text": [
            "There are 13 cats in my apartment\n"
          ],
          "name": "stdout"
        }
      ]
    },
    {
      "cell_type": "code",
      "metadata": {
        "colab": {
          "base_uri": "https://localhost:8080/"
        },
        "id": "zv_92cKHbJ-U",
        "outputId": "c6ca6083-c8d5-46d2-e6a0-5857872eaf44"
      },
      "source": [
        "# Mi ejemplo\r\n",
        "# Incluso es posible con una lista: \r\n",
        "l = [\"45\", \"Carros\", 34, 10.3, True]\r\n",
        "print(\"La lista contiene los siguientes elementos: %s\" % l)"
      ],
      "execution_count": null,
      "outputs": [
        {
          "output_type": "stream",
          "text": [
            "La lista contiene los siguientes elementos: ['45', 'Carros', 34, 10.3, True]\n"
          ],
          "name": "stdout"
        }
      ]
    },
    {
      "cell_type": "markdown",
      "metadata": {
        "id": "PJ8tG4wpsdvq"
      },
      "source": [
        "In these examples, the `%s` indicates that Python should convert the values into strings. There are multiple conversion types that you can use to get more specific with the the formatting. See the string formatting [documentation](https://docs.python.org/2/library/stdtypes.html#string-formatting) for additional examples and more complete details on use."
      ]
    },
    {
      "cell_type": "markdown",
      "metadata": {
        "id": "Iwf3k3cPsdvq"
      },
      "source": [
        "## Logical Operators\n",
        "### Basic Logic\n",
        "\n",
        "Logical operators deal with `boolean` values, as we briefly covered before. If you recall, a `bool` takes on one of two values, `True` or `False` (or $1$ or $0$). The basic logical statements that we can make are defined using the built-in comparators. These are `==` (equal), `!=` (not equal), `<` (less than), `>` (greater than), `<=` (less than or equal to), and `>=` (greater than or equal to)."
      ]
    },
    {
      "cell_type": "code",
      "metadata": {
        "colab": {
          "base_uri": "https://localhost:8080/"
        },
        "id": "81l1T7YRsdvq",
        "outputId": "5e947acc-1f2a-4a2e-e95f-7aabaf463f1a"
      },
      "source": [
        "print (5 == 5)"
      ],
      "execution_count": null,
      "outputs": [
        {
          "output_type": "stream",
          "text": [
            "True\n"
          ],
          "name": "stdout"
        }
      ]
    },
    {
      "cell_type": "code",
      "metadata": {
        "colab": {
          "base_uri": "https://localhost:8080/"
        },
        "id": "nJWZmJJscMRt",
        "outputId": "3d029443-afe0-4542-b497-e51dd95a7676"
      },
      "source": [
        "# Mi ejemplo\r\n",
        "print(8 != 8)"
      ],
      "execution_count": null,
      "outputs": [
        {
          "output_type": "stream",
          "text": [
            "False\n"
          ],
          "name": "stdout"
        }
      ]
    },
    {
      "cell_type": "code",
      "metadata": {
        "colab": {
          "base_uri": "https://localhost:8080/"
        },
        "id": "F9mvOt1Osdvq",
        "outputId": "9fca2dd6-7f30-464d-a225-312f07c026c2"
      },
      "source": [
        "print (5 > 5)"
      ],
      "execution_count": null,
      "outputs": [
        {
          "output_type": "stream",
          "text": [
            "False\n"
          ],
          "name": "stdout"
        }
      ]
    },
    {
      "cell_type": "code",
      "metadata": {
        "colab": {
          "base_uri": "https://localhost:8080/"
        },
        "id": "XOAkm6o0cj7S",
        "outputId": "589068e4-bb54-4638-df1b-fbfc610fcbb6"
      },
      "source": [
        "# Mi ejemplo\r\n",
        "print(8 <= 16)"
      ],
      "execution_count": null,
      "outputs": [
        {
          "output_type": "stream",
          "text": [
            "True\n"
          ],
          "name": "stdout"
        }
      ]
    },
    {
      "cell_type": "markdown",
      "metadata": {
        "id": "b5SDsyiEsdvr"
      },
      "source": [
        "These comparators also work in conjunction with variables."
      ]
    },
    {
      "cell_type": "code",
      "metadata": {
        "id": "UHJRWsKusdvr",
        "colab": {
          "base_uri": "https://localhost:8080/"
        },
        "outputId": "450dfa60-473f-454a-c96c-a4cb6f0f12b8"
      },
      "source": [
        "m = 2\n",
        "n = 23\n",
        "print(m < n)"
      ],
      "execution_count": null,
      "outputs": [
        {
          "output_type": "stream",
          "text": [
            "True\n"
          ],
          "name": "stdout"
        }
      ]
    },
    {
      "cell_type": "code",
      "metadata": {
        "colab": {
          "base_uri": "https://localhost:8080/"
        },
        "id": "xOfsLkljcPcf",
        "outputId": "751d4ad6-e82a-424e-9429-0d228b5b21c3"
      },
      "source": [
        "# Mi ejemplo con variables\r\n",
        "x = 5\r\n",
        "y = 3\r\n",
        "print(x != y)"
      ],
      "execution_count": null,
      "outputs": [
        {
          "output_type": "stream",
          "text": [
            "True\n"
          ],
          "name": "stdout"
        }
      ]
    },
    {
      "cell_type": "markdown",
      "metadata": {
        "id": "8LNLlR7esdvr"
      },
      "source": [
        "We can string these comparators together to make more complex logical statements using the logical operators `or`, `and`, and `not`. "
      ]
    },
    {
      "cell_type": "code",
      "metadata": {
        "id": "kMVIZCEXsdvr",
        "colab": {
          "base_uri": "https://localhost:8080/"
        },
        "outputId": "d730558f-b725-494c-e194-4ead9236b4bc"
      },
      "source": [
        "statement_1 = 10 > 2\n",
        "statement_2 = 4 <= 6\n",
        "print (\"Statement 1 truth value: {0}\".format(statement_1))\n",
        "print (\"Statement 2 truth value: {0}\".format(statement_2))\n",
        "print (\"Statement 1 and Statement 2: {0}\".format(statement_1 and statement_2))"
      ],
      "execution_count": null,
      "outputs": [
        {
          "output_type": "stream",
          "text": [
            "Statement 1 truth value: True\n",
            "Statement 2 truth value: True\n",
            "Statement 1 and Statement 2: True\n"
          ],
          "name": "stdout"
        }
      ]
    },
    {
      "cell_type": "code",
      "metadata": {
        "colab": {
          "base_uri": "https://localhost:8080/"
        },
        "id": "AdebrC9heysA",
        "outputId": "d9acb74d-943d-416e-ceb6-a94a03ee689f"
      },
      "source": [
        "# Mi ejemplo\r\n",
        "# Valores de verdad para pruebas\r\n",
        "x = 5\r\n",
        "Prueba1 = x > 3\r\n",
        "Prueba2 = x < 4\r\n",
        "print(\"Valor de verdad para la prueba 1: {0}\".format(Prueba1))\r\n",
        "print(\"Valor de verdad para la prueba 2: {0}\".format(Prueba2))\r\n",
        "print(\"Valor de verdad para la prueba 1 o 2: {0}\".format(Prueba1 or Prueba2) )"
      ],
      "execution_count": null,
      "outputs": [
        {
          "output_type": "stream",
          "text": [
            "Valor de verdad para la prueba 1: True\n",
            "Valor de verdad para la prueba 2: False\n",
            "Valor de verdad para la prueba 1 o 2: True\n"
          ],
          "name": "stdout"
        }
      ]
    },
    {
      "cell_type": "markdown",
      "metadata": {
        "id": "m3kylzr5sdvs"
      },
      "source": [
        "The `or` operator performs a logical `or` calculation. This is an inclusive `or`, so if either component paired together by `or` is `True`, the whole statement will be `True`. The `and` statement only outputs `True` if all components that are `and`ed together are True. Otherwise it will output `False`. The `not` statement simply inverts the truth value of whichever statement follows it. So a `True` statement will be evaluated as `False` when a `not` is placed in front of it. Similarly, a `False` statement will become `True` when a `not` is in front of it.\n",
        "\n",
        "Say that we have two logical statements, or assertions, $P$ and $Q$. The truth table for the basic logical operators is as follows:\n",
        "\n",
        "|  P  |  Q  | `not` P| P `and` Q | P `or` Q|\n",
        "|:-----:|:-----:|:---:|:---:|:---:|\n",
        "| `True` | `True` | `False` | `True` | `True` |\n",
        "| `False` | `True` | `True` | `False` | `True` |\n",
        "| `True` | `False` | `False` | `False` | `True` |\n",
        "| `False` | `False` | `True` | `False` | `False` |\n",
        "\n",
        "We can string multiple logical statements together using the logical operators."
      ]
    },
    {
      "cell_type": "code",
      "metadata": {
        "id": "c_phMbGHsdvs",
        "colab": {
          "base_uri": "https://localhost:8080/"
        },
        "outputId": "d692038f-7f48-433f-b86b-a7841a823364"
      },
      "source": [
        "print ((2 < 3) and (3 > 0)) or ((5 > 6) and not (4 < 2))"
      ],
      "execution_count": null,
      "outputs": [
        {
          "output_type": "stream",
          "text": [
            "True\n"
          ],
          "name": "stdout"
        },
        {
          "output_type": "execute_result",
          "data": {
            "text/plain": [
              "False"
            ]
          },
          "metadata": {
            "tags": []
          },
          "execution_count": 145
        }
      ]
    },
    {
      "cell_type": "code",
      "metadata": {
        "colab": {
          "base_uri": "https://localhost:8080/"
        },
        "id": "RoKNLNBnkOuB",
        "outputId": "d32e6c63-a2f4-4904-f95f-8a2c998d3444"
      },
      "source": [
        "# Mi ejemplo con variables\r\n",
        "x = True\r\n",
        "y = False\r\n",
        "\r\n",
        "print( ((x and y) and (x or y)) or (not x))"
      ],
      "execution_count": null,
      "outputs": [
        {
          "output_type": "stream",
          "text": [
            "False\n"
          ],
          "name": "stdout"
        }
      ]
    },
    {
      "cell_type": "markdown",
      "metadata": {
        "id": "0rkHRGycsdvs"
      },
      "source": [
        "Logical statements can be as simple or complex as we like, depending on what we need to express. Evaluating the above logical statement step by step we see that we are evaluating (`True and True`) `or` (`False and not False`). This becomes `True or (False and True`), subsequently becoming `True or False`, ultimately being evaluated as `True`."
      ]
    },
    {
      "cell_type": "markdown",
      "metadata": {
        "id": "1InY8Z6Esdvs"
      },
      "source": [
        "#### Truthiness\n",
        "\n",
        "Data types in Python have a fun characteristic called truthiness. What this means is that most built-in types will evaluate as either `True` or `False` when a boolean value is needed (such as with an if-statement). As a general rule, containers like strings, tuples, dictionaries, lists, and sets, will return `True` if they contain anything at all and `False` if they contain nothing."
      ]
    },
    {
      "cell_type": "code",
      "metadata": {
        "id": "7vsbuRw7sdvt",
        "colab": {
          "base_uri": "https://localhost:8080/"
        },
        "outputId": "6bc86e80-ae26-4a31-c7c8-0e407a9ddbfa"
      },
      "source": [
        "# Similar to how float() and int() work, bool() forces a value to be considered a boolean!\n",
        "print (bool(''))"
      ],
      "execution_count": null,
      "outputs": [
        {
          "output_type": "stream",
          "text": [
            "False\n"
          ],
          "name": "stdout"
        }
      ]
    },
    {
      "cell_type": "code",
      "metadata": {
        "colab": {
          "base_uri": "https://localhost:8080/"
        },
        "id": "mZJrawgil9eR",
        "outputId": "08c8000f-e09b-4ac5-e83d-56a7f7958d28"
      },
      "source": [
        "# Mi ejemplo de vacío \r\n",
        "bool(None)"
      ],
      "execution_count": null,
      "outputs": [
        {
          "output_type": "execute_result",
          "data": {
            "text/plain": [
              "False"
            ]
          },
          "metadata": {
            "tags": []
          },
          "execution_count": 148
        }
      ]
    },
    {
      "cell_type": "code",
      "metadata": {
        "id": "pxNtynyQsdvt",
        "colab": {
          "base_uri": "https://localhost:8080/"
        },
        "outputId": "98ff36ee-486f-4dc4-8988-af5c4781242d"
      },
      "source": [
        "print (bool('I have character!'))"
      ],
      "execution_count": null,
      "outputs": [
        {
          "output_type": "stream",
          "text": [
            "True\n"
          ],
          "name": "stdout"
        }
      ]
    },
    {
      "cell_type": "code",
      "metadata": {
        "colab": {
          "base_uri": "https://localhost:8080/"
        },
        "id": "CQXOozIfmPqw",
        "outputId": "c2e4fa10-d718-48ce-85a2-1d5c07276aeb"
      },
      "source": [
        "# Mi ejemplo donde hay algo\r\n",
        "bool(range(50))"
      ],
      "execution_count": null,
      "outputs": [
        {
          "output_type": "execute_result",
          "data": {
            "text/plain": [
              "True"
            ]
          },
          "metadata": {
            "tags": []
          },
          "execution_count": 150
        }
      ]
    },
    {
      "cell_type": "code",
      "metadata": {
        "id": "h8BvAFlvsdvt",
        "colab": {
          "base_uri": "https://localhost:8080/"
        },
        "outputId": "5ddad46a-f571-40da-e21a-1e8d8faf47c0"
      },
      "source": [
        "print (bool([]))"
      ],
      "execution_count": null,
      "outputs": [
        {
          "output_type": "stream",
          "text": [
            "False\n"
          ],
          "name": "stdout"
        }
      ]
    },
    {
      "cell_type": "code",
      "metadata": {
        "colab": {
          "base_uri": "https://localhost:8080/"
        },
        "id": "t-2EKc2kmZfk",
        "outputId": "3d6393bd-91a2-43bb-9f85-fab4ed286357"
      },
      "source": [
        "# Mi ejemplo de vacío\r\n",
        "bool({})"
      ],
      "execution_count": null,
      "outputs": [
        {
          "output_type": "execute_result",
          "data": {
            "text/plain": [
              "False"
            ]
          },
          "metadata": {
            "tags": []
          },
          "execution_count": 152
        }
      ]
    },
    {
      "cell_type": "code",
      "metadata": {
        "id": "Av9Ldb90sdvt",
        "colab": {
          "base_uri": "https://localhost:8080/"
        },
        "outputId": "31b88013-ac73-47da-8f70-58c831aa4a70"
      },
      "source": [
        "print (bool([1, 2, 3]))"
      ],
      "execution_count": null,
      "outputs": [
        {
          "output_type": "stream",
          "text": [
            "True\n"
          ],
          "name": "stdout"
        }
      ]
    },
    {
      "cell_type": "code",
      "metadata": {
        "colab": {
          "base_uri": "https://localhost:8080/"
        },
        "id": "53HeiV0Rmi_7",
        "outputId": "8e990e03-0945-4cae-ebdd-445fbf8add4e"
      },
      "source": [
        "# Mi ejemplo donde hay algo\r\n",
        "bool({5, 6, 2, 5})"
      ],
      "execution_count": null,
      "outputs": [
        {
          "output_type": "execute_result",
          "data": {
            "text/plain": [
              "True"
            ]
          },
          "metadata": {
            "tags": []
          },
          "execution_count": 154
        }
      ]
    },
    {
      "cell_type": "markdown",
      "metadata": {
        "id": "TdTjSJgHsdvu"
      },
      "source": [
        "And so on, for the other collections and containers. `None` also evaluates as `False`. The number `1` is equivalent to `True` and the number `0` is equivalent to `False` as well, in a boolean context."
      ]
    },
    {
      "cell_type": "markdown",
      "metadata": {
        "id": "t647VSjUsdvu"
      },
      "source": [
        "### If-statements\n",
        "\n",
        "We can create segments of code that only execute if a set of conditions is met. We use if-statements in conjunction with logical statements in order to create branches in our code. \n",
        "\n",
        "An `if` block gets entered when the condition is considered to be `True`. If condition is evaluated as `False`, the `if` block will simply be skipped unless there is an `else` block to accompany it. Conditions are made using either logical operators or by using the truthiness of values in Python. An if-statement is defined with a colon and a block of indented text."
      ]
    },
    {
      "cell_type": "code",
      "metadata": {
        "id": "YPpDPcVIsdvv",
        "colab": {
          "base_uri": "https://localhost:8080/"
        },
        "outputId": "2c0dec23-1563-4b63-901d-7cfdbb397748"
      },
      "source": [
        "# This is the basic format of an if statement. This is a vacuous example. \n",
        "# The string \"Condition\" will always evaluated as True because it is a\n",
        "# non-empty string. he purpose of this code is to show the formatting of\n",
        "# an if-statement.\n",
        "if \"Condition\": \n",
        "    # This block of code will execute because the string is non-empty\n",
        "    # Everything on these indented lines\n",
        "    print (True)\n",
        "else:\n",
        "    # So if the condition that we examined with if is in fact False\n",
        "    # This block of code will execute INSTEAD of the first block of code\n",
        "    # Everything on these indented lines\n",
        "    print (False)\n",
        "# The else block here will never execute because \"Condition\" is a non-empty string."
      ],
      "execution_count": null,
      "outputs": [
        {
          "output_type": "stream",
          "text": [
            "True\n"
          ],
          "name": "stdout"
        }
      ]
    },
    {
      "cell_type": "code",
      "metadata": {
        "id": "Znrj3EXksdvv"
      },
      "source": [
        "i = 4\n",
        "if i == 5:\n",
        "    print ('The variable i has a value of 5')"
      ],
      "execution_count": null,
      "outputs": []
    },
    {
      "cell_type": "markdown",
      "metadata": {
        "id": "C_J6O_lnpk3o"
      },
      "source": [
        "> *En el anterior código no imprime nada pues la variable no es igual a 5, y no se coloca qué hacer si la condición no se cumple.*\r\n",
        "\r\n"
      ]
    },
    {
      "cell_type": "code",
      "metadata": {
        "id": "oG7ZY-PxhXwr"
      },
      "source": [
        "# Mi ejemplo\r\n",
        "i = 'Jean'\r\n",
        "if i == 'HOE':\r\n",
        "    print ('The variable i has a value of HOE')"
      ],
      "execution_count": null,
      "outputs": []
    },
    {
      "cell_type": "markdown",
      "metadata": {
        "id": "Ccl73jB8sdvw"
      },
      "source": [
        "Because in this example `i = 4` and the if-statement is only looking for whether `i` is equal to `5`, the print statement will never be executed. We can add in an `else` statement to create a contingency block of code in case the condition in the if-statement is not evaluated as `True`."
      ]
    },
    {
      "cell_type": "code",
      "metadata": {
        "id": "xy6J5nGmsdvw",
        "colab": {
          "base_uri": "https://localhost:8080/"
        },
        "outputId": "03d94afe-12d0-4b9e-c5d7-7ae479cbd89d"
      },
      "source": [
        "i = 4\n",
        "if i == 5:\n",
        "    print (\"All lines in this indented block are part of this block\")\n",
        "    print ('The variable i has a value of 5')\n",
        "else:\n",
        "    print (\"All lines in this indented block are part of this block\")\n",
        "    print ('The variable i is not equal to 5')"
      ],
      "execution_count": null,
      "outputs": [
        {
          "output_type": "stream",
          "text": [
            "All lines in this indented block are part of this block\n",
            "The variable i is not equal to 5\n"
          ],
          "name": "stdout"
        }
      ]
    },
    {
      "cell_type": "markdown",
      "metadata": {
        "id": "vvtLlmMXqIxG"
      },
      "source": [
        "> *En el anterior código SÍ imprime algo si la condición no se cumple.*"
      ]
    },
    {
      "cell_type": "code",
      "metadata": {
        "colab": {
          "base_uri": "https://localhost:8080/"
        },
        "id": "T1OCFEU3hmpd",
        "outputId": "c232611d-30ef-4a4c-efa2-c7ef192aa826"
      },
      "source": [
        "# Mi ejemplo\r\n",
        "i = 'Jean'\r\n",
        "if i == 'HOE':\r\n",
        "    print ('The variable i has a value of HOE')\r\n",
        "else:\r\n",
        "  print(i)"
      ],
      "execution_count": null,
      "outputs": [
        {
          "output_type": "stream",
          "text": [
            "Jean\n"
          ],
          "name": "stdout"
        }
      ]
    },
    {
      "cell_type": "markdown",
      "metadata": {
        "id": "nf4KVrH6sdvx"
      },
      "source": [
        "We can implement other branches off of the same if-statement by using `elif`, an abbreviation of \"else if\". We can include as many `elifs` as we like until we have exhausted all the logical branches of a condition."
      ]
    },
    {
      "cell_type": "code",
      "metadata": {
        "id": "L-zONBywsdvx",
        "colab": {
          "base_uri": "https://localhost:8080/"
        },
        "outputId": "8e5f3bd5-48bd-483e-edcb-75fd66e36163"
      },
      "source": [
        "i = 1\n",
        "if i == 1:\n",
        "    print ('The variable i has a value of 1')\n",
        "elif i == 2:\n",
        "    print ('The variable i has a value of 2')\n",
        "elif i == 3:\n",
        "    print ('The variable i has a value of 3')\n",
        "else:\n",
        "    print (\"I don't care what i is\")"
      ],
      "execution_count": null,
      "outputs": [
        {
          "output_type": "stream",
          "text": [
            "The variable i has a value of 1\n"
          ],
          "name": "stdout"
        }
      ]
    },
    {
      "cell_type": "code",
      "metadata": {
        "colab": {
          "base_uri": "https://localhost:8080/"
        },
        "id": "8NBKRfG9oagh",
        "outputId": "cc8a7805-9fd6-4c8e-d754-e15654db59ef"
      },
      "source": [
        "# Mi ejemplo\r\n",
        "# O comparando dos variables\r\n",
        "a = 84596\r\n",
        "b = 56324\r\n",
        "if b > a:\r\n",
        "  print(a, \" is greater than \", b)\r\n",
        "elif a == b:\r\n",
        "  print(a, \" and \", b, \" are equal\")\r\n",
        "else:\r\n",
        "  print(b, \" is greater than \", a)"
      ],
      "execution_count": null,
      "outputs": [
        {
          "output_type": "stream",
          "text": [
            "56324  is greater than  84596\n"
          ],
          "name": "stdout"
        }
      ]
    },
    {
      "cell_type": "markdown",
      "metadata": {
        "id": "6DRI23WKsdvx"
      },
      "source": [
        "You can also nest if-statements within if-statements to check for further conditions."
      ]
    },
    {
      "cell_type": "code",
      "metadata": {
        "id": "RuRQzJcQsdvy",
        "colab": {
          "base_uri": "https://localhost:8080/"
        },
        "outputId": "c93b4534-7451-4b30-ab10-6fece7269bc5"
      },
      "source": [
        "i = 10\n",
        "if i % 2 == 0:\n",
        "    if i % 3 == 0:\n",
        "        print ('i is divisible by both 2 and 3! Wow!')\n",
        "    elif i % 5 == 0:\n",
        "        print ('i is divisible by both 2 and 5! Wow!')\n",
        "    else:\n",
        "        print ('i is divisible by 2, but not 3 or 5. Meh.')\n",
        "else:\n",
        "    print ('I guess that i is an odd number. Boring.')"
      ],
      "execution_count": null,
      "outputs": [
        {
          "output_type": "stream",
          "text": [
            "i is divisible by both 2 and 5! Wow!\n"
          ],
          "name": "stdout"
        }
      ]
    },
    {
      "cell_type": "code",
      "metadata": {
        "colab": {
          "base_uri": "https://localhost:8080/"
        },
        "id": "g23XWikzqnpB",
        "outputId": "ea0a7ba3-b6dd-4053-9d53-8067bae93035"
      },
      "source": [
        "# Mi ejemplo\r\n",
        "# O tal vez un triple condicional\r\n",
        "x = 41\r\n",
        "if x != 0:\r\n",
        "  if x > 10:\r\n",
        "    print(\"Mayor que 10,\")\r\n",
        "    if x > 20:\r\n",
        "      print(\"y también mayor que 20!\")\r\n",
        "    else:\r\n",
        "      print(\"pero no mayor que 20.\")\r\n",
        "else:\r\n",
        "  print(\"El número es igual a 0.\")"
      ],
      "execution_count": null,
      "outputs": [
        {
          "output_type": "stream",
          "text": [
            "Mayor que 10,\n",
            "y también mayor que 20!\n"
          ],
          "name": "stdout"
        }
      ]
    },
    {
      "cell_type": "markdown",
      "metadata": {
        "id": "ourCTzNEsdvy"
      },
      "source": [
        "Remember that we can group multiple conditions together by using the logical operators!"
      ]
    },
    {
      "cell_type": "code",
      "metadata": {
        "colab": {
          "base_uri": "https://localhost:8080/"
        },
        "id": "UfvxpLHItb9r",
        "outputId": "07156f8c-3597-4e86-8461-78829cc14c5f"
      },
      "source": [
        "i = 5\r\n",
        "j = 12\r\n",
        "if i < 10 and j > 11:\r\n",
        "    print ('{0} is less than 10 and {1} is greater than 11! How novel and interesting!'.format(i, j))"
      ],
      "execution_count": null,
      "outputs": [
        {
          "output_type": "stream",
          "text": [
            "5 is less than 10 and 12 is greater than 11! How novel and interesting!\n"
          ],
          "name": "stdout"
        }
      ]
    },
    {
      "cell_type": "code",
      "metadata": {
        "id": "qql2RuHisdvy",
        "colab": {
          "base_uri": "https://localhost:8080/"
        },
        "outputId": "e6e067ad-d378-4079-8b57-e3b1cc37b12f"
      },
      "source": [
        "# Mi ejemplo\n",
        "# Anadiendo otro índice al formato\n",
        "i = 5\n",
        "j = 12\n",
        "k = 19\n",
        "if (i < 10 and i != 0) and j > 11 and k < 20:\n",
        "    print ('{0} is less than 10 and different to 0, {1} is greater than 11, but {2} is not greater than 20.'.format(i, j, k))"
      ],
      "execution_count": null,
      "outputs": [
        {
          "output_type": "stream",
          "text": [
            "5 is less than 10 and different to 0, 12 is greater than 11, but 19 is not greater than 20.\n"
          ],
          "name": "stdout"
        }
      ]
    },
    {
      "cell_type": "markdown",
      "metadata": {
        "id": "Sqy3GSxVsdvz"
      },
      "source": [
        "You can use the logical comparators to compare strings!"
      ]
    },
    {
      "cell_type": "code",
      "metadata": {
        "id": "QJDVk5V7sdvz",
        "colab": {
          "base_uri": "https://localhost:8080/"
        },
        "outputId": "b266a203-d204-4e17-f2d7-773795c8d6a1"
      },
      "source": [
        "my_string = \"Carthago delenda est\"\n",
        "if my_string == \"Carthago delenda est\":\n",
        "    print ('And so it was! For the glory of Rome!')\n",
        "else:\n",
        "    print ('War elephants are TERRIFYING. I am staying home.')"
      ],
      "execution_count": null,
      "outputs": [
        {
          "output_type": "stream",
          "text": [
            "And so it was! For the glory of Rome!\n"
          ],
          "name": "stdout"
        }
      ]
    },
    {
      "cell_type": "code",
      "metadata": {
        "colab": {
          "base_uri": "https://localhost:8080/"
        },
        "id": "OPqpkVu0uq14",
        "outputId": "e26e9426-9a72-44a0-b9c4-499a71b2d6b2"
      },
      "source": [
        "# Mi ejemplo\r\n",
        "# Usando comparadores logicos con el condicional\r\n",
        "temperature = float(input('What is the temperature? '))\r\n",
        "if temperature > 20:\r\n",
        "  print('Wear shorts.')\r\n",
        "else:\r\n",
        "  print('Wear long pants.')\r\n",
        "print('Get some exercise outside.')"
      ],
      "execution_count": null,
      "outputs": [
        {
          "output_type": "stream",
          "text": [
            "What is the temperature? 4\n",
            "Wear long pants.\n",
            "Get some exercise outside.\n"
          ],
          "name": "stdout"
        }
      ]
    },
    {
      "cell_type": "markdown",
      "metadata": {
        "id": "8OkJl_uCsdvz"
      },
      "source": [
        "As with other data types, `==` will check for whether the two things on either side of it have the same value. In this case, we compare whether the value of the strings are the same. Using `>` or `<` or any of the other comparators is not quite so intuitive, however, so we will stay from using comparators with strings in this lecture. Comparators will examine the [lexicographical order](https://en.wikipedia.org/wiki/Lexicographical_order) of the strings, which might be a bit more in-depth than you might like."
      ]
    },
    {
      "cell_type": "markdown",
      "metadata": {
        "id": "wTSAss2Bsdv0"
      },
      "source": [
        "Some built-in functions return a boolean value, so they can be used as conditions in an if-statement. User-defined functions can also be constructed so that they return a boolean value. This will be covered later with function definition!\n",
        "\n",
        "The `in` keyword is generally used to check membership of a value within another value. We can check memebership in the context of an if-statement and use it to output a truth value."
      ]
    },
    {
      "cell_type": "code",
      "metadata": {
        "id": "csA2YTdbsdv0",
        "colab": {
          "base_uri": "https://localhost:8080/"
        },
        "outputId": "340e3236-8293-4564-df83-8c52f307e587"
      },
      "source": [
        "if 'a' in my_string or 'e' in my_string:\n",
        "    print ('Those are my favorite vowels!')"
      ],
      "execution_count": null,
      "outputs": [
        {
          "output_type": "stream",
          "text": [
            "Those are my favorite vowels!\n"
          ],
          "name": "stdout"
        }
      ]
    },
    {
      "cell_type": "code",
      "metadata": {
        "colab": {
          "base_uri": "https://localhost:8080/"
        },
        "id": "CA2U1AVfvvfF",
        "outputId": "9697b817-d8d4-4dc2-c189-70e06a2d4c83"
      },
      "source": [
        "# Mi ejemplo\r\n",
        "# Si hay números positicos en la lista los imprime = bool value\r\n",
        "lista = [3, -5, 2, -1, 0, 7]\r\n",
        "print(lista)\r\n",
        "print('Los números positivos de la lista anterior son: ')\r\n",
        "for num in lista:\r\n",
        "    if num > 0:\r\n",
        "      print(num)\r\n"
      ],
      "execution_count": null,
      "outputs": [
        {
          "output_type": "stream",
          "text": [
            "[3, -5, 2, -1, 0, 7]\n",
            "Los números positivos de la lista anterior son: \n",
            "3\n",
            "2\n",
            "7\n"
          ],
          "name": "stdout"
        }
      ]
    },
    {
      "cell_type": "markdown",
      "metadata": {
        "id": "yuemWcAMsdv0"
      },
      "source": [
        "Here we use `in` to check whether the variable `my_string` contains any particular letters. We will later use `in` to iterate through lists!"
      ]
    },
    {
      "cell_type": "markdown",
      "metadata": {
        "id": "75YnGyN0sdv0"
      },
      "source": [
        "## Loop Structures\n",
        "\n",
        "Loop structures are one of the most important parts of programming. The `for` loop and the `while` loop provide a way to repeatedly run a block of code repeatedly. A `while` loop will iterate until a certain condition has been met. If at any point after an iteration that condition is no longer satisfied, the loop terminates. A `for` loop will iterate over a sequence of values and terminate when the sequence has ended. You can instead include conditions within the `for` loop to decide whether it should terminate early or you could simply let it run its course."
      ]
    },
    {
      "cell_type": "code",
      "metadata": {
        "id": "Anwb5SS8sdv1",
        "colab": {
          "base_uri": "https://localhost:8080/"
        },
        "outputId": "475accd7-ef8b-48d5-fc21-abdea528a9e7"
      },
      "source": [
        "i = 5\n",
        "while i > 0: # We can write this as 'while i:' because 0 is False!\n",
        "    i -= 1\n",
        "    print ('I am looping! {0} more to go!'.format(i))"
      ],
      "execution_count": null,
      "outputs": [
        {
          "output_type": "stream",
          "text": [
            "I am looping! 4 more to go!\n",
            "I am looping! 3 more to go!\n",
            "I am looping! 2 more to go!\n",
            "I am looping! 1 more to go!\n",
            "I am looping! 0 more to go!\n"
          ],
          "name": "stdout"
        }
      ]
    },
    {
      "cell_type": "code",
      "metadata": {
        "colab": {
          "base_uri": "https://localhost:8080/"
        },
        "id": "iTZV5Ing3-o0",
        "outputId": "b44abb0b-0b32-48a9-d90f-da8f228612b4"
      },
      "source": [
        "# Mi ejemplo\r\n",
        "# Con el While puede usarse un \"continue\"\r\n",
        "# Con la instrucción \"continue\" podemos detener \r\n",
        "# la iteración actual y continuar con la siguiente.\r\n",
        "i = 0\r\n",
        "while i < 6:\r\n",
        "  i += 1\r\n",
        "  if i == 3:\r\n",
        "    continue\r\n",
        "  print('I am looping! {0} more to go!'.format(i))\r\n",
        "  # Al imprimir el número 3 falta en el resultado"
      ],
      "execution_count": null,
      "outputs": [
        {
          "output_type": "stream",
          "text": [
            "I am looping! 1 more to go!\n",
            "I am looping! 2 more to go!\n",
            "I am looping! 4 more to go!\n",
            "I am looping! 5 more to go!\n",
            "I am looping! 6 more to go!\n"
          ],
          "name": "stdout"
        }
      ]
    },
    {
      "cell_type": "markdown",
      "metadata": {
        "id": "dK7sAUzisdv1"
      },
      "source": [
        "\n",
        "With `while` loops we need to make sure that something actually changes from iteration to iteration so that that the loop actually terminates. In this case, we use the shorthand `i -= 1` (short for `i = i - 1`) so that the value of `i` gets smaller with each iteration. Eventually `i` will be reduced to `0`, rendering the condition `False` and exiting the loop."
      ]
    },
    {
      "cell_type": "markdown",
      "metadata": {
        "id": "zBKjpYQ1sdv1"
      },
      "source": [
        "A `for` loop iterates a set number of times, determined when you state the entry into the loop. In this case we are iterating over the list returned from `range()`. The `for` loop selects a value from the list, in order, and temporarily assigns the value of `i` to it so that operations can be performed with the value."
      ]
    },
    {
      "cell_type": "code",
      "metadata": {
        "id": "3_cziasQsdv1",
        "colab": {
          "base_uri": "https://localhost:8080/"
        },
        "outputId": "f419e860-903c-4481-894d-8456cf72860b"
      },
      "source": [
        "for i in range(5):\n",
        "    print ('I am looping! I have looped {0} times!'.format(i + 1))"
      ],
      "execution_count": null,
      "outputs": [
        {
          "output_type": "stream",
          "text": [
            "I am looping! I have looped 1 times!\n",
            "I am looping! I have looped 2 times!\n",
            "I am looping! I have looped 3 times!\n",
            "I am looping! I have looped 4 times!\n",
            "I am looping! I have looped 5 times!\n"
          ],
          "name": "stdout"
        }
      ]
    },
    {
      "cell_type": "code",
      "metadata": {
        "colab": {
          "base_uri": "https://localhost:8080/"
        },
        "id": "w2feLC3P5eEa",
        "outputId": "0b508dc1-de47-4f0a-8b01-f55c40c120b6"
      },
      "source": [
        "# Mi ejemplo\r\n",
        "# Ahora imprimiré los número de 3 en 3\r\n",
        "# Hasta el número 30\r\n",
        "\r\n",
        "for i in range(2, 30, 3):\r\n",
        "  print('I am looping! I have looped {0} times!'.format(i + 1)) "
      ],
      "execution_count": null,
      "outputs": [
        {
          "output_type": "stream",
          "text": [
            "I am looping! I have looped 3 times!\n",
            "I am looping! I have looped 6 times!\n",
            "I am looping! I have looped 9 times!\n",
            "I am looping! I have looped 12 times!\n",
            "I am looping! I have looped 15 times!\n",
            "I am looping! I have looped 18 times!\n",
            "I am looping! I have looped 21 times!\n",
            "I am looping! I have looped 24 times!\n",
            "I am looping! I have looped 27 times!\n",
            "I am looping! I have looped 30 times!\n"
          ],
          "name": "stdout"
        }
      ]
    },
    {
      "cell_type": "markdown",
      "metadata": {
        "id": "FQx7UWopsdv2"
      },
      "source": [
        "Note that in this `for` loop we use the `in` keyword. Use of the `in` keyword is not limited to checking for membership as in the if-statement example. You can iterate over any collection with a `for` loop by using the `in` keyword.\n",
        "\n",
        "In this next example, we will iterate over a `set` because we want to check for containment and add to a new set."
      ]
    },
    {
      "cell_type": "code",
      "metadata": {
        "id": "JWiWftHhsdv2",
        "colab": {
          "base_uri": "https://localhost:8080/"
        },
        "outputId": "26abab4c-60bb-4e6a-e3c4-db6c905783de"
      },
      "source": [
        "my_list = {'cats', 'dogs', 'lizards', 'cows', 'bats', 'sponges', 'humans'} # Lists all the animals in the world\n",
        "mammal_list = {'cats', 'dogs', 'cows', 'bats', 'humans'} # Lists all the mammals in the world\n",
        "my_new_list = set()\n",
        "for animal in my_list:\n",
        "    if animal in mammal_list:\n",
        "        # This adds any animal that is both in my_list and mammal_list to my_new_list\n",
        "        my_new_list.add(animal)\n",
        "        \n",
        "print (my_new_list)"
      ],
      "execution_count": null,
      "outputs": [
        {
          "output_type": "stream",
          "text": [
            "{'humans', 'cats', 'bats', 'cows', 'dogs'}\n"
          ],
          "name": "stdout"
        }
      ]
    },
    {
      "cell_type": "markdown",
      "metadata": {
        "id": "i90fcirM7skC"
      },
      "source": [
        "> *SET() hace que la nueva lista sea desordenada y no permite duplicados.*\r\n",
        "\r\n"
      ]
    },
    {
      "cell_type": "code",
      "metadata": {
        "colab": {
          "base_uri": "https://localhost:8080/"
        },
        "id": "viyWXmLU7fGO",
        "outputId": "11a4470e-8c66-49cf-985c-b29e183d73c8"
      },
      "source": [
        "# Es como una intersección de las tres listas\r\n",
        "list1 = {0,1,2,3,4,5,6,7,8,9}\r\n",
        "list2 = {1,3,5,7,9}\r\n",
        "list3 = {2,3,5,7}\r\n",
        "newlist = set()\r\n",
        "for i in list1:\r\n",
        "  if i in list2 and i in list3:\r\n",
        "    newlist.add(i)\r\n",
        "\r\n",
        "print(newlist)"
      ],
      "execution_count": null,
      "outputs": [
        {
          "output_type": "stream",
          "text": [
            "{3, 5, 7}\n"
          ],
          "name": "stdout"
        }
      ]
    },
    {
      "cell_type": "markdown",
      "metadata": {
        "id": "GgPuOzm_sdv2"
      },
      "source": [
        "There are two statements that are very helpful in dealing with both `for` and `while` loops. These are `break` and `continue`. If `break` is encountered at any point while a loop is executing, the loop will immediately end."
      ]
    },
    {
      "cell_type": "code",
      "metadata": {
        "id": "8A9T7YXfsdv2",
        "colab": {
          "base_uri": "https://localhost:8080/"
        },
        "outputId": "65c8830e-6286-49d1-8dd0-205567221320"
      },
      "source": [
        "i = 10\n",
        "while True:\n",
        "    if i == 14:\n",
        "        break\n",
        "    i += 1 # This is shorthand for i = i + 1. It increments i with each iteration.\n",
        "    print (i)"
      ],
      "execution_count": null,
      "outputs": [
        {
          "output_type": "stream",
          "text": [
            "11\n",
            "12\n",
            "13\n",
            "14\n"
          ],
          "name": "stdout"
        }
      ]
    },
    {
      "cell_type": "code",
      "metadata": {
        "colab": {
          "base_uri": "https://localhost:8080/"
        },
        "id": "6ns37mYa_pUW",
        "outputId": "25a71669-0a71-4090-8561-678f4212b29f"
      },
      "source": [
        "# Mi ejemplo\r\n",
        "a = ['l', 'y', 'n', 'p']\r\n",
        "s = 'n'\r\n",
        "\r\n",
        "i = 0\r\n",
        "while i < len(a):\r\n",
        "  if s in a:\r\n",
        "    print(s, 'found in list.')\r\n",
        "    break\r\n",
        "  else:\r\n",
        "    print(s, 'not found in list.')\r\n",
        "    break\r\n",
        "  i += 1 "
      ],
      "execution_count": null,
      "outputs": [
        {
          "output_type": "stream",
          "text": [
            "n found in list.\n"
          ],
          "name": "stdout"
        }
      ]
    },
    {
      "cell_type": "code",
      "metadata": {
        "id": "3n41X5Ntsdv3",
        "colab": {
          "base_uri": "https://localhost:8080/"
        },
        "outputId": "caa06e39-68aa-4f86-d605-d4c143434404"
      },
      "source": [
        "for i in range(5):\n",
        "    if i == 2:\n",
        "        break\n",
        "    print(i)"
      ],
      "execution_count": null,
      "outputs": [
        {
          "output_type": "stream",
          "text": [
            "0\n",
            "1\n"
          ],
          "name": "stdout"
        }
      ]
    },
    {
      "cell_type": "code",
      "metadata": {
        "colab": {
          "base_uri": "https://localhost:8080/"
        },
        "id": "XAMZuer2-4Pq",
        "outputId": "c5c88ef2-6ef8-4c25-ea23-ebbfcc817283"
      },
      "source": [
        "# Mi ejemplo\r\n",
        "# Break cuando encuentra la letra y se detiene\r\n",
        "for val in \"Everlasting\":\r\n",
        "    if val == \"s\":\r\n",
        "        break\r\n",
        "    print(val)"
      ],
      "execution_count": null,
      "outputs": [
        {
          "output_type": "stream",
          "text": [
            "E\n",
            "v\n",
            "e\n",
            "r\n",
            "l\n",
            "a\n"
          ],
          "name": "stdout"
        }
      ]
    },
    {
      "cell_type": "markdown",
      "metadata": {
        "id": "MACfME2ksdv3"
      },
      "source": [
        "The `continue` statement will tell the loop to immediately end this iteration and continue onto the next iteration of the loop."
      ]
    },
    {
      "cell_type": "code",
      "metadata": {
        "id": "i4nbQrs1sdv3",
        "colab": {
          "base_uri": "https://localhost:8080/"
        },
        "outputId": "740b4020-a488-4d97-e2a9-173f9d795597"
      },
      "source": [
        "i = 0\n",
        "while i < 5:\n",
        "    i += 1\n",
        "    if i == 3:\n",
        "        continue\n",
        "    print (i)"
      ],
      "execution_count": null,
      "outputs": [
        {
          "output_type": "stream",
          "text": [
            "1\n",
            "2\n",
            "4\n",
            "5\n"
          ],
          "name": "stdout"
        }
      ]
    },
    {
      "cell_type": "code",
      "metadata": {
        "colab": {
          "base_uri": "https://localhost:8080/"
        },
        "id": "q3lWA9KAA9NS",
        "outputId": "d3334dee-2f98-4442-f2f8-17466019bd4e"
      },
      "source": [
        "# Mi ejemplo\r\n",
        "# Para este ejemplo se salta la \"s\"\r\n",
        "a = \"Everlasting\"\r\n",
        "i = 0\r\n",
        "while i < len(a):\r\n",
        "  c = a[i]\r\n",
        "  i += 1\r\n",
        "  if c == \"s\":\r\n",
        "    continue\r\n",
        "  print (c, end = ' ') #Coneste formato end = ' ' es podible imprimir en una sola línea"
      ],
      "execution_count": null,
      "outputs": [
        {
          "output_type": "stream",
          "text": [
            "E v e r l a t i n g "
          ],
          "name": "stdout"
        }
      ]
    },
    {
      "cell_type": "markdown",
      "metadata": {
        "id": "ib593UX9sdv3"
      },
      "source": [
        "This loop skips printing the number $3$ because of the `continue` statement that executes when we enter the if-statement. The code never sees the command to print the number $3$ because it has already moved to the next iteration. The `break` and `continue` statements are further tools to help you control the flow of your loops and, as a result, your code."
      ]
    },
    {
      "cell_type": "markdown",
      "metadata": {
        "id": "hhzgW1CTsdv4"
      },
      "source": [
        "The variable that we use to iterate over a loop will retain its value when the loop exits. Similarly, any variables defined within the context of the loop will continue to exist outside of it."
      ]
    },
    {
      "cell_type": "code",
      "metadata": {
        "id": "vjYoW405sdv4",
        "colab": {
          "base_uri": "https://localhost:8080/"
        },
        "outputId": "d2bb4873-a6d0-4068-e8ef-d0441f0774c4"
      },
      "source": [
        "for i in range(5):\n",
        "    loop_string = 'I transcend the loop!'\n",
        "    print ('I am eternal! I am {0} and I exist everywhere!'.format(i))\n",
        "\n",
        "print ('I persist! My value is {0}'.format(i))\n",
        "print (loop_string)"
      ],
      "execution_count": null,
      "outputs": [
        {
          "output_type": "stream",
          "text": [
            "I am eternal! I am 0 and I exist everywhere!\n",
            "I am eternal! I am 1 and I exist everywhere!\n",
            "I am eternal! I am 2 and I exist everywhere!\n",
            "I am eternal! I am 3 and I exist everywhere!\n",
            "I am eternal! I am 4 and I exist everywhere!\n",
            "I persist! My value is 4\n",
            "I transcend the loop!\n"
          ],
          "name": "stdout"
        }
      ]
    },
    {
      "cell_type": "code",
      "metadata": {
        "colab": {
          "base_uri": "https://localhost:8080/"
        },
        "id": "sl4dlYLIFoOm",
        "outputId": "ce26ea0e-5ae3-452e-f9e3-1742c9c78c1e"
      },
      "source": [
        "# Mi ejemplo\r\n",
        "for i in range(3, 9):\r\n",
        "    l = \"I'm tired. This is so much work!\"\r\n",
        "    print (\"(-_-)! {0} Exhausted by excessive autonomy.\".format(i))\r\n",
        "\r\n",
        "print ('My value is form 3 to {0}'.format(i))\r\n",
        "print (l)"
      ],
      "execution_count": null,
      "outputs": [
        {
          "output_type": "stream",
          "text": [
            "(-_-)! 3 Exhausted by excessive autonomy.\n",
            "(-_-)! 4 Exhausted by excessive autonomy.\n",
            "(-_-)! 5 Exhausted by excessive autonomy.\n",
            "(-_-)! 6 Exhausted by excessive autonomy.\n",
            "(-_-)! 7 Exhausted by excessive autonomy.\n",
            "(-_-)! 8 Exhausted by excessive autonomy.\n",
            "My value is form 3 to 8\n",
            "I'm tired. This is so much work!\n"
          ],
          "name": "stdout"
        }
      ]
    },
    {
      "cell_type": "markdown",
      "metadata": {
        "id": "EtB5qtsqsdv4"
      },
      "source": [
        "We can also iterate over a dictionary!"
      ]
    },
    {
      "cell_type": "code",
      "metadata": {
        "id": "vLdcx8c4sdv4"
      },
      "source": [
        "my_dict = {'firstname' : 'Inigo', 'lastname' : 'Montoya', 'nemesis' : 'Rugen'}"
      ],
      "execution_count": null,
      "outputs": []
    },
    {
      "cell_type": "code",
      "metadata": {
        "id": "9hRpTIpttxcv"
      },
      "source": [
        "# Mi ejemplo\r\n",
        "diccionario = {\"clave1\":[234, 589, 874], \"clave2\":[True, False, False, True], \"clave3\":[\"Valor 1\", \"Valor 2\"], \"clave4\":[1,2,3,4]}"
      ],
      "execution_count": null,
      "outputs": []
    },
    {
      "cell_type": "code",
      "metadata": {
        "id": "Ab8PO9lssdv5",
        "colab": {
          "base_uri": "https://localhost:8080/"
        },
        "outputId": "a1b7daa5-397d-4bcd-bc2e-1a1ad5099f0c"
      },
      "source": [
        "for key in my_dict:\n",
        "    print (key)"
      ],
      "execution_count": null,
      "outputs": [
        {
          "output_type": "stream",
          "text": [
            "firstname\n",
            "lastname\n",
            "nemesis\n"
          ],
          "name": "stdout"
        }
      ]
    },
    {
      "cell_type": "code",
      "metadata": {
        "colab": {
          "base_uri": "https://localhost:8080/"
        },
        "id": "flsaKdaHHn-Z",
        "outputId": "fd70e6fa-b5d6-45ac-97c9-804966e4201a"
      },
      "source": [
        "# Mi ejemplo\r\n",
        "# Claves en el diccionario\r\n",
        "for k in diccionario:\r\n",
        "    print (k)"
      ],
      "execution_count": null,
      "outputs": [
        {
          "output_type": "stream",
          "text": [
            "clave1\n",
            "clave2\n",
            "clave3\n",
            "clave4\n"
          ],
          "name": "stdout"
        }
      ]
    },
    {
      "cell_type": "markdown",
      "metadata": {
        "id": "Ya70y8_tsdv5"
      },
      "source": [
        "If we just iterate over a dictionary without doing anything else, we will only get the keys. We can either use the keys to get the values, like so:"
      ]
    },
    {
      "cell_type": "code",
      "metadata": {
        "id": "Yad6kKgMsdv5",
        "colab": {
          "base_uri": "https://localhost:8080/"
        },
        "outputId": "b12f7841-0261-451a-efd5-eed343dbe472"
      },
      "source": [
        "for key in my_dict:\n",
        "    print (my_dict[key])"
      ],
      "execution_count": null,
      "outputs": [
        {
          "output_type": "stream",
          "text": [
            "Inigo\n",
            "Montoya\n",
            "Rugen\n"
          ],
          "name": "stdout"
        }
      ]
    },
    {
      "cell_type": "code",
      "metadata": {
        "colab": {
          "base_uri": "https://localhost:8080/"
        },
        "id": "k2-bSoz3IATi",
        "outputId": "79abf16b-cefb-47d6-b4e4-e5163b42f5c5"
      },
      "source": [
        "# Mi ejemplo\r\n",
        "# Mostrando el contenido de las llaves\r\n",
        "for k in diccionario:\r\n",
        "    print (diccionario[k])"
      ],
      "execution_count": null,
      "outputs": [
        {
          "output_type": "stream",
          "text": [
            "[234, 589, 874]\n",
            "[True, False, False, True]\n",
            "['Valor 1', 'Valor 2']\n",
            "[1, 2, 3, 4]\n"
          ],
          "name": "stdout"
        }
      ]
    },
    {
      "cell_type": "markdown",
      "metadata": {
        "id": "gsuzrfiUsdv5"
      },
      "source": [
        "Or we can use the `items()` function to get both key and value at the same time."
      ]
    },
    {
      "cell_type": "code",
      "metadata": {
        "id": "kGyxuigXsdv6",
        "colab": {
          "base_uri": "https://localhost:8080/"
        },
        "outputId": "af383788-24df-4cd0-8915-34ec1fdae249"
      },
      "source": [
        "for key, value in my_dict.items():\n",
        "    print (key, ':', value)"
      ],
      "execution_count": null,
      "outputs": [
        {
          "output_type": "stream",
          "text": [
            "firstname : Inigo\n",
            "lastname : Montoya\n",
            "nemesis : Rugen\n"
          ],
          "name": "stdout"
        }
      ]
    },
    {
      "cell_type": "code",
      "metadata": {
        "colab": {
          "base_uri": "https://localhost:8080/"
        },
        "id": "UY8n61CSIVCn",
        "outputId": "bec2e98c-59db-4810-a0d0-20067c71a5b0"
      },
      "source": [
        "# Mi ejemplo\r\n",
        "# Mostrando claves y su contenido con cunción 'items()'\r\n",
        "for i, j in diccionario.items():\r\n",
        "    print (i, ':', j)"
      ],
      "execution_count": null,
      "outputs": [
        {
          "output_type": "stream",
          "text": [
            "clave1 : [234, 589, 874]\n",
            "clave2 : [True, False, False, True]\n",
            "clave3 : ['Valor 1', 'Valor 2']\n",
            "clave4 : [1, 2, 3, 4]\n"
          ],
          "name": "stdout"
        }
      ]
    },
    {
      "cell_type": "markdown",
      "metadata": {
        "id": "T-XEldRnsdv6"
      },
      "source": [
        "The `items()` function creates a tuple of each key-value pair and the for loop unpacks that tuple into `key, value` on each separate execution of the loop!"
      ]
    },
    {
      "cell_type": "markdown",
      "metadata": {
        "id": "XxcBxhWnsdv6"
      },
      "source": [
        "## Functions\n",
        "\n",
        "A function is a reusable block of code that you can call repeatedly to make calculations, output data, or really do anything that you want. This is one of the key aspects of using a programming language. To add to the built-in functions in Python, you can define your own!"
      ]
    },
    {
      "cell_type": "code",
      "metadata": {
        "id": "CEZ30xZjsdv6",
        "colab": {
          "base_uri": "https://localhost:8080/"
        },
        "outputId": "8fc87036-da3b-48e1-e93b-6c8bad11a1ef"
      },
      "source": [
        "def hello_world():\n",
        "    \"\"\" Prints Hello, world! \"\"\"\n",
        "    print ('Hello, world!')\n",
        "\n",
        "hello_world()"
      ],
      "execution_count": null,
      "outputs": [
        {
          "output_type": "stream",
          "text": [
            "Hello, world!\n"
          ],
          "name": "stdout"
        }
      ]
    },
    {
      "cell_type": "code",
      "metadata": {
        "colab": {
          "base_uri": "https://localhost:8080/"
        },
        "id": "W2m0dHpyua9g",
        "outputId": "036259d0-aac3-43ec-91fc-75e3352788e9"
      },
      "source": [
        "# Mi ejemplo\r\n",
        "def mensaje():\r\n",
        "    print ('Demasiado largossssss.')\r\n",
        "\r\n",
        "mensaje()"
      ],
      "execution_count": null,
      "outputs": [
        {
          "output_type": "stream",
          "text": [
            "Demasiado largossssss.\n"
          ],
          "name": "stdout"
        }
      ]
    },
    {
      "cell_type": "code",
      "metadata": {
        "colab": {
          "base_uri": "https://localhost:8080/"
        },
        "id": "E4LQAFJju8dg",
        "outputId": "9a015924-51a2-4402-db20-a4dc05f6f3d0"
      },
      "source": [
        "for i in range(5):\r\n",
        "    hello_world()"
      ],
      "execution_count": null,
      "outputs": [
        {
          "output_type": "stream",
          "text": [
            "Hello, world!\n",
            "Hello, world!\n",
            "Hello, world!\n",
            "Hello, world!\n",
            "Hello, world!\n"
          ],
          "name": "stdout"
        }
      ]
    },
    {
      "cell_type": "code",
      "metadata": {
        "id": "jQealhfasdv7",
        "colab": {
          "base_uri": "https://localhost:8080/"
        },
        "outputId": "2f0fa824-3194-43bb-da62-010457127ba3"
      },
      "source": [
        "# Mi ejemplo Definiendo una nueva función\n",
        "def multip(x, y):\n",
        "  return x * y\n",
        "\n",
        "print(multip(5,3))"
      ],
      "execution_count": null,
      "outputs": [
        {
          "output_type": "stream",
          "text": [
            "15\n"
          ],
          "name": "stdout"
        }
      ]
    },
    {
      "cell_type": "code",
      "metadata": {
        "colab": {
          "base_uri": "https://localhost:8080/"
        },
        "id": "HFYxkIhaJUl-",
        "outputId": "e2dcb9d3-2e00-421f-c38d-e5de866fa370"
      },
      "source": [
        "# Mi ejemplo\r\n",
        "# La tabla del 5\r\n",
        "a = 5\r\n",
        "for i in range(1, 11):\r\n",
        "    print(a, '*', i, '=', multip(a, i))"
      ],
      "execution_count": null,
      "outputs": [
        {
          "output_type": "stream",
          "text": [
            "5 * 1 = 5\n",
            "5 * 2 = 10\n",
            "5 * 3 = 15\n",
            "5 * 4 = 20\n",
            "5 * 5 = 25\n",
            "5 * 6 = 30\n",
            "5 * 7 = 35\n",
            "5 * 8 = 40\n",
            "5 * 9 = 45\n",
            "5 * 10 = 50\n"
          ],
          "name": "stdout"
        }
      ]
    },
    {
      "cell_type": "markdown",
      "metadata": {
        "id": "uEaVjbm8sdv7"
      },
      "source": [
        "Functions are defined with `def`, a function name, a list of parameters, and a colon. Everything indented below the colon will be included in the definition of the function.\n",
        "\n",
        "We can have our functions do anything that you can do with a normal block of code. For example, our `hello_world()` function prints a string every time it is called. If we want to keep a value that a function calculates, we can define the function so that it will `return` the value we want. This is a very important feature of functions, as any variable defined purely within a function will not exist outside of it."
      ]
    },
    {
      "cell_type": "code",
      "metadata": {
        "id": "DSmMWCdHsdv7"
      },
      "source": [
        "def see_the_scope():\n",
        "    in_function_string = \"I'm stuck in here!\"\n",
        "\n",
        "see_the_scope()\n",
        "print (in_function_string)"
      ],
      "execution_count": null,
      "outputs": []
    },
    {
      "cell_type": "markdown",
      "metadata": {
        "id": "XWHvsG4XLSnF"
      },
      "source": [
        "> *El anterior código muestra el siguiente error:*\r\n",
        "\r\n",
        "> **NameError: name 'in_function_string' is not defined**\r\n",
        "\r\n",
        "> *Pues no es posible llamar una variable definida dentro de una función ya que cualquier variable definida puramente dentro de una función no existirá fuera de ella.*\r\n"
      ]
    },
    {
      "cell_type": "code",
      "metadata": {
        "id": "JoFv7Y74vu8Q"
      },
      "source": [
        "# Mi ejemplo\r\n",
        "def mensaje():\r\n",
        "    m = 'Demasiado largossssss.'\r\n",
        "\r\n",
        "mensaje()\r\n",
        "print(m)"
      ],
      "execution_count": null,
      "outputs": []
    },
    {
      "cell_type": "markdown",
      "metadata": {
        "id": "lnpIG5iZsdv8"
      },
      "source": [
        " The **scope** of a variable is the part of a block of code where that variable is tied to a particular value. Functions in Python have an enclosed scope, making it so that variables defined within them can only be accessed directly within them. If we pass those values to a return statement we can get them out of the function. This makes it so that the function call returns values so that you can store them in variables that have a greater scope.\n",
        " \n",
        "In this case specifically, including a return statement allows us to keep the string value that we define in the function."
      ]
    },
    {
      "cell_type": "code",
      "metadata": {
        "id": "GZyeWDDtsdv8",
        "colab": {
          "base_uri": "https://localhost:8080/"
        },
        "outputId": "d49a9038-541b-40e8-86d2-1bc412db1f3c"
      },
      "source": [
        "def free_the_scope():\n",
        "    in_function_string = \"Anything you can do I can do better!\"\n",
        "    return in_function_string\n",
        "my_string = free_the_scope()\n",
        "print (my_string)"
      ],
      "execution_count": null,
      "outputs": [
        {
          "output_type": "stream",
          "text": [
            "Anything you can do I can do better!\n"
          ],
          "name": "stdout"
        }
      ]
    },
    {
      "cell_type": "markdown",
      "metadata": {
        "id": "0w5S9stRMHb6"
      },
      "source": [
        "> *El anterior código demuestra que es posible llamar una función que devuelve valores, para que luego puedan ser almacenados en **variables** que tienen un mayor alcance.*"
      ]
    },
    {
      "cell_type": "code",
      "metadata": {
        "colab": {
          "base_uri": "https://localhost:8080/"
        },
        "id": "899D_ah8v_Jh",
        "outputId": "e4691aec-3451-4083-9c39-307bd5d61f1e"
      },
      "source": [
        "# Mi ejemplo\r\n",
        "def mensaje():\r\n",
        "    m = 'NOOOO... Demasiado largossssss.'\r\n",
        "    return m\r\n",
        "\r\n",
        "s = mensaje()\r\n",
        "print(s)"
      ],
      "execution_count": null,
      "outputs": [
        {
          "output_type": "stream",
          "text": [
            "NOOOO... Demasiado largossssss.\n"
          ],
          "name": "stdout"
        }
      ]
    },
    {
      "cell_type": "markdown",
      "metadata": {
        "id": "LxnkR-9esdv8"
      },
      "source": [
        "Just as we can get values out of a function, we can also put values into a function. We do this by defining our function with parameters."
      ]
    },
    {
      "cell_type": "code",
      "metadata": {
        "id": "j-worQGgsdv8",
        "colab": {
          "base_uri": "https://localhost:8080/"
        },
        "outputId": "9ee31292-566e-4f08-cdfe-d72c5dbe50b7"
      },
      "source": [
        "def multiply_by_five(x):\n",
        "    \"\"\" Multiplies an input number by 5 \"\"\"\n",
        "    return x * 5\n",
        "\n",
        "n = 4\n",
        "print (n)\n",
        "print (multiply_by_five(n))"
      ],
      "execution_count": null,
      "outputs": [
        {
          "output_type": "stream",
          "text": [
            "4\n",
            "20\n"
          ],
          "name": "stdout"
        }
      ]
    },
    {
      "cell_type": "code",
      "metadata": {
        "colab": {
          "base_uri": "https://localhost:8080/"
        },
        "id": "1LrvyKxSNRHf",
        "outputId": "3b5cbb13-2750-45c7-c4c5-cc69cc79e91e"
      },
      "source": [
        "# Mi ejemplo\r\n",
        "# Definiendo la función con paámetros y recursión\r\n",
        "def tri_recursion(k):\r\n",
        "  if (k > 0):\r\n",
        "    result = k + tri_recursion(k - 1)\r\n",
        "    return result\r\n",
        "  else:\r\n",
        "    result = 0\r\n",
        "  return result\r\n",
        "\r\n",
        "num = 5\r\n",
        "print(\"The Recursion Example Results For\", num, \"is:\\n\") # \\n devuelve un enter\r\n",
        "tri_recursion(5)"
      ],
      "execution_count": null,
      "outputs": [
        {
          "output_type": "stream",
          "text": [
            "The Recursion Example Results For 5 is:\n",
            "\n"
          ],
          "name": "stdout"
        },
        {
          "output_type": "execute_result",
          "data": {
            "text/plain": [
              "15"
            ]
          },
          "metadata": {
            "tags": []
          },
          "execution_count": 214
        }
      ]
    },
    {
      "cell_type": "markdown",
      "metadata": {
        "id": "PSxToc3hsdv9"
      },
      "source": [
        "In this example we only had one parameter for our function, `x`. We can easily add more parameters, separating everything with a comma."
      ]
    },
    {
      "cell_type": "code",
      "metadata": {
        "id": "_TAF4wFgsdv9"
      },
      "source": [
        "def calculate_area(length, width):\n",
        "    \"\"\" Calculates the area of a rectangle \"\"\"\n",
        "    return length * width"
      ],
      "execution_count": null,
      "outputs": []
    },
    {
      "cell_type": "markdown",
      "metadata": {
        "id": "1mpFlP9dw4zb"
      },
      "source": [
        "> *El área de una figura de dos dimensiones describe la cantidad de superficie que cubre la figura. El rectángulo es un paralelogramo cuyos ángulos son todos de 90º, y el área es igual al producto de dos de sus lados contiguos $a$ y $b$:*\r\n",
        "\r\n",
        "> $ A = a\\ * \\ b $"
      ]
    },
    {
      "cell_type": "code",
      "metadata": {
        "id": "jWfACtYSsdv9",
        "colab": {
          "base_uri": "https://localhost:8080/"
        },
        "outputId": "135263a5-3248-47d8-f1b2-e7d4032c9cf5"
      },
      "source": [
        "l = 5\n",
        "w = 10\n",
        "print ('Area: ', calculate_area(l, w))\n",
        "print ('Length: ', l)\n",
        "print ('Width: ', w)"
      ],
      "execution_count": null,
      "outputs": [
        {
          "output_type": "stream",
          "text": [
            "Area:  50\n",
            "Length:  5\n",
            "Width:  10\n"
          ],
          "name": "stdout"
        }
      ]
    },
    {
      "cell_type": "code",
      "metadata": {
        "colab": {
          "base_uri": "https://localhost:8080/"
        },
        "id": "PYbzqeGgxpvg",
        "outputId": "80ae0a54-2875-43d6-f4c8-9cdf7a056804"
      },
      "source": [
        "# Mi ejemplo\r\n",
        "larg = 48.9\r\n",
        "anch = 13.89\r\n",
        "print ('Area: ', calculate_area(larg, anch))\r\n",
        "print ('Length: ', larg)\r\n",
        "print ('Width: ', anch)"
      ],
      "execution_count": null,
      "outputs": [
        {
          "output_type": "stream",
          "text": [
            "Area:  679.221\n",
            "Length:  48.9\n",
            "Width:  13.89\n"
          ],
          "name": "stdout"
        }
      ]
    },
    {
      "cell_type": "code",
      "metadata": {
        "id": "uLatS2_-sdv9"
      },
      "source": [
        "def calculate_volume(length, width, depth):\n",
        "    \"\"\" Calculates the volume of a rectangular prism \"\"\"\n",
        "    return length * width * depth"
      ],
      "execution_count": null,
      "outputs": []
    },
    {
      "cell_type": "markdown",
      "metadata": {
        "id": "qMCHD5ZGyCP6"
      },
      "source": [
        "> *El vomuen es el espacio que ocupa un cuerpo. Es una proporción métrica de tipo escalar, la cual es definida como el tamaño en tres dimensiones de una zona del espacio. Para el caso del volumen de un prisma rectangular u ortoedro, tenemos la siguiente fórmula:*\r\n",
        "\r\n",
        "> $ V = a\\ *\\ b\\ *\\ c $\r\n",
        "\r\n",
        "> *Considérese una cara (rectángulo) trace su diagonal de tal polígono. Por uno de sus extremos trace una arísta perpendicular. Se une el primer extremo de la diagonal del rectángulo con el extremo de la arista, fuera del plano de la cara; tal segmento es una diagonal del ortoedro. Basándonos en el Teorema de Pitágoras podemos calcular la diagonal espacial del ortoedro de la siguiente forma:*\r\n",
        "\r\n",
        "> $ D = \\sqrt{a^{2}+ b^{2} + c^{2}} $\r\n"
      ]
    },
    {
      "cell_type": "code",
      "metadata": {
        "colab": {
          "base_uri": "https://localhost:8080/"
        },
        "id": "GMxSu1K1TAyc",
        "outputId": "16c5cc94-f4e3-4fe0-b6bf-79545c969ccd"
      },
      "source": [
        "# Mi ejemplo\r\n",
        "import math\r\n",
        "def diagonal (x, y, z):\r\n",
        "  d = math.sqrt((x**2) + (y**2) + (z**2))\r\n",
        "  return d\r\n",
        "\r\n",
        "la = 25.0\r\n",
        "an = 13.5\r\n",
        "prof = 15.6\r\n",
        "print('Largo = ', la)\r\n",
        "print('Ancho = ', an)\r\n",
        "print('Profundidad = ', prof)\r\n",
        "print ('Área: ', calculate_area(la, an))\r\n",
        "print('Volumen = ', calculate_volume(la, an, prof))\r\n",
        "print('Diagonal: ', diagonal(la, an, prof))"
      ],
      "execution_count": null,
      "outputs": [
        {
          "output_type": "stream",
          "text": [
            "Largo =  25.0\n",
            "Ancho =  13.5\n",
            "Profundidad =  15.6\n",
            "Área:  337.5\n",
            "Volumen =  5265.0\n",
            "Diagonal:  32.41311462972973\n"
          ],
          "name": "stdout"
        }
      ]
    },
    {
      "cell_type": "markdown",
      "metadata": {
        "id": "aN3xsOxIsdv-"
      },
      "source": [
        "If we want to, we can define a function so that it takes an arbitrary number of parameters. We tell Python that we want this by using an asterisk (`*`)."
      ]
    },
    {
      "cell_type": "code",
      "metadata": {
        "id": "bkAFUgBusdv-"
      },
      "source": [
        "def sum_values(*args):\n",
        "    sum_val = 0\n",
        "    for i in args:\n",
        "        sum_val += i\n",
        "    return sum_val"
      ],
      "execution_count": null,
      "outputs": []
    },
    {
      "cell_type": "code",
      "metadata": {
        "id": "5CRNa3fh1axe"
      },
      "source": [
        "# Mi ejemplo\r\n",
        "# Producto de varios argumentos\r\n",
        "def multp(*args):\r\n",
        "  p = 1\r\n",
        "  for j in args:\r\n",
        "    p *= j\r\n",
        "  return p"
      ],
      "execution_count": null,
      "outputs": []
    },
    {
      "cell_type": "code",
      "metadata": {
        "id": "WIqUisC7sdv-",
        "colab": {
          "base_uri": "https://localhost:8080/"
        },
        "outputId": "76336023-c094-47ef-e071-bc44419b5f8c"
      },
      "source": [
        "print (sum_values(1, 2, 3))\n",
        "print (sum_values(10, 20, 30, 40, 50))\n",
        "print (sum_values(4, 2, 5, 1, 10, 249, 25, 24, 13, 6, 4))"
      ],
      "execution_count": null,
      "outputs": [
        {
          "output_type": "stream",
          "text": [
            "6\n",
            "150\n",
            "343\n"
          ],
          "name": "stdout"
        }
      ]
    },
    {
      "cell_type": "code",
      "metadata": {
        "colab": {
          "base_uri": "https://localhost:8080/"
        },
        "id": "Y9q6hpxBUZYO",
        "outputId": "754b428d-10cf-44c7-f49f-0092acb9b3e9"
      },
      "source": [
        "# Mi ejemplo\r\n",
        "print(multp(4))\r\n",
        "print(multp(8,2))\r\n",
        "print(multp(5,8,2))\r\n",
        "print(multp(5,5,5,2,6))"
      ],
      "execution_count": null,
      "outputs": [
        {
          "output_type": "stream",
          "text": [
            "4\n",
            "16\n",
            "80\n",
            "1500\n"
          ],
          "name": "stdout"
        }
      ]
    },
    {
      "cell_type": "markdown",
      "metadata": {
        "id": "q0GreWg4sdwA"
      },
      "source": [
        "The time to use `*args` as a parameter for your function is when you do not know how many values may be passed to it, as in the case of our sum function. The asterisk in this case is the syntax that tells Python that you are going to pass an arbitrary number of parameters into your function. These parameters are stored in the form of a tuple."
      ]
    },
    {
      "cell_type": "code",
      "metadata": {
        "id": "u6YBnx2OsdwB",
        "colab": {
          "base_uri": "https://localhost:8080/"
        },
        "outputId": "f4368ab8-5559-4951-f127-fe0dfbd71c8d"
      },
      "source": [
        "def test_args(*args):\n",
        "    print (type(args))\n",
        "\n",
        "test_args(1, 2, 3, 4, 5, 6)"
      ],
      "execution_count": null,
      "outputs": [
        {
          "output_type": "stream",
          "text": [
            "<class 'tuple'>\n"
          ],
          "name": "stdout"
        }
      ]
    },
    {
      "cell_type": "code",
      "metadata": {
        "colab": {
          "base_uri": "https://localhost:8080/"
        },
        "id": "XIpAcQv8XTIN",
        "outputId": "2b9401cf-4ec1-4669-8c48-4e5a58cfa12a"
      },
      "source": [
        "# Mi ejemplo  con strings\r\n",
        "def my_function(*kids):\r\n",
        "  print(type(kids))\r\n",
        "\r\n",
        "my_function(\"Emil\", \"Tobias\", \"Linus\")"
      ],
      "execution_count": null,
      "outputs": [
        {
          "output_type": "stream",
          "text": [
            "<class 'tuple'>\n"
          ],
          "name": "stdout"
        }
      ]
    },
    {
      "cell_type": "markdown",
      "metadata": {
        "id": "a_EHhpQxsdwB"
      },
      "source": [
        "We can put as many elements into the `args` tuple as we want to when we call the function. However, because `args` is a tuple, we cannot modify it after it has been created.\n",
        "\n",
        "The `args` name of the variable is purely by convention. You could just as easily name your parameter `*vars` or `*things`. You can treat the `args` tuple like you would any other tuple, easily accessing `arg`'s values and iterating over it, as in the above `sum_values(*args)` function."
      ]
    },
    {
      "cell_type": "markdown",
      "metadata": {
        "id": "bN8KpCSosdwC"
      },
      "source": [
        "Our functions can return any data type. This makes it easy for us to create functions that check for conditions that we might want to monitor.\n",
        "\n",
        "Here we define a function that returns a boolean value. We can easily use this in conjunction with if-statements and  other situations that require a boolean."
      ]
    },
    {
      "cell_type": "code",
      "metadata": {
        "id": "lUHc-9hbsdwC"
      },
      "source": [
        "def has_a_vowel(word):\n",
        "    \"\"\" \n",
        "    Checks to see whether a word contains a vowel \n",
        "    If it doesn't contain a conventional vowel, it\n",
        "    will check for the presence of 'y' or 'w'. Does\n",
        "    not check to see whether those are in the word\n",
        "    in a vowel context.\n",
        "    \"\"\"\n",
        "    vowel_list = ['a', 'e', 'i', 'o', 'u']\n",
        "    \n",
        "    for vowel in vowel_list:\n",
        "        if vowel in word:\n",
        "            return True\n",
        "    # If there is a vowel in the word, the function returns, preventing anything after this loop from running\n",
        "    return False"
      ],
      "execution_count": null,
      "outputs": []
    },
    {
      "cell_type": "code",
      "metadata": {
        "id": "CAZVwO8818Lk"
      },
      "source": [
        "# Mi ejemplo\r\n",
        "def g(s):\r\n",
        "    c = ['c', 'z', 's']\r\n",
        "    for g in c:\r\n",
        "        if g in s:\r\n",
        "            return True\r\n",
        "    return False"
      ],
      "execution_count": null,
      "outputs": []
    },
    {
      "cell_type": "code",
      "metadata": {
        "id": "rd2TYlOmsdwD",
        "colab": {
          "base_uri": "https://localhost:8080/"
        },
        "outputId": "1adeedf3-2503-43d9-da08-00503f8f4ab3"
      },
      "source": [
        "my_word = 'catnapping'\n",
        "if has_a_vowel(my_word):\n",
        "    print ('How surprising, an english word contains a vowel.')\n",
        "else:\n",
        "    print ('This is actually surprising.')"
      ],
      "execution_count": null,
      "outputs": [
        {
          "output_type": "stream",
          "text": [
            "How surprising, an english word contains a vowel.\n"
          ],
          "name": "stdout"
        }
      ]
    },
    {
      "cell_type": "code",
      "metadata": {
        "colab": {
          "base_uri": "https://localhost:8080/"
        },
        "id": "ezhzb3zS2mi3",
        "outputId": "031f6ef8-594d-445a-f9db-37d6b086cfeb"
      },
      "source": [
        "# Mi ejemplo\r\n",
        "w = \"Exterminación\"\r\n",
        "if g(w):\r\n",
        "  print(\"La palabra:\", w, \"contiene una c, una z o una s.\")\r\n",
        "else:\r\n",
        "  print(\"La palabra:\", w, \" NO contiene una c, una z o una s.\")"
      ],
      "execution_count": null,
      "outputs": [
        {
          "output_type": "stream",
          "text": [
            "La palabra: Exterminación contiene una c, una z o una s.\n"
          ],
          "name": "stdout"
        }
      ]
    },
    {
      "cell_type": "code",
      "metadata": {
        "id": "c5PioSsfsdwD"
      },
      "source": [
        "def point_maker(x, y):\n",
        "    \"\"\" Groups x and y values into a point, technically a tuple \"\"\"\n",
        "    return x, y"
      ],
      "execution_count": null,
      "outputs": []
    },
    {
      "cell_type": "code",
      "metadata": {
        "colab": {
          "base_uri": "https://localhost:8080/"
        },
        "id": "WjJjqKgtYLx9",
        "outputId": "34fec54b-057f-4247-c890-385f155a50d7"
      },
      "source": [
        "# Mi ejemplo\r\n",
        "# Se imprime según el orden especificado\r\n",
        "f = 598\r\n",
        "g = 697\r\n",
        "print(point_maker(g,f))"
      ],
      "execution_count": null,
      "outputs": [
        {
          "output_type": "stream",
          "text": [
            "(697, 598)\n"
          ],
          "name": "stdout"
        }
      ]
    },
    {
      "cell_type": "markdown",
      "metadata": {
        "id": "CDk0q-gdsdwE"
      },
      "source": [
        "This above function returns an ordered pair of the input parameters, stored as a tuple."
      ]
    },
    {
      "cell_type": "code",
      "metadata": {
        "scrolled": true,
        "id": "GtQ5D3ybsdwE",
        "colab": {
          "base_uri": "https://localhost:8080/"
        },
        "outputId": "4ca963f9-7859-4d22-8153-764e079e9ff2"
      },
      "source": [
        "a = point_maker(0, 10)\n",
        "b = point_maker(5, 3)\n",
        "def calculate_slope(point_a, point_b):\n",
        "    \"\"\" Calculates the linear slope between two points \"\"\"\n",
        "    return (point_b[1] - point_a[1])/(point_b[0] - point_a[0])\n",
        "print (\"The slope between a and b is {0}\".format(calculate_slope(a, b)))"
      ],
      "execution_count": null,
      "outputs": [
        {
          "output_type": "stream",
          "text": [
            "The slope between a and b is -1.4\n"
          ],
          "name": "stdout"
        }
      ]
    },
    {
      "cell_type": "markdown",
      "metadata": {
        "id": "rQveOjdmsdwE"
      },
      "source": [
        "And that one calculates the slope between two points!"
      ]
    },
    {
      "cell_type": "code",
      "metadata": {
        "colab": {
          "base_uri": "https://localhost:8080/"
        },
        "id": "26FeEb9_bVwl",
        "outputId": "b4a6ec07-5631-4aef-8bab-e880742c39da"
      },
      "source": [
        "# En este caso se recalculan las coordenadas x y y\r\n",
        "import math\r\n",
        "def distancia_puntos(x, y, x1, y1):\r\n",
        "  d = math.sqrt(((x1 - x)**2) + ((y1 - y)**2))\r\n",
        "  return d\r\n",
        "\r\n",
        "x = 6\r\n",
        "y = 7\r\n",
        "x1 = 4\r\n",
        "y1 = 9\r\n",
        "print(\"La distancia entre los puntos (\", x, \",\", y, \") y (\", x1, \",\", y1, \") es:\", distancia_puntos(x, y, x1, y1))"
      ],
      "execution_count": null,
      "outputs": [
        {
          "output_type": "stream",
          "text": [
            "Ladistancia entre los puntos ( 6 , 7 ) y ( 4 , 9 ) es: 2.8284271247461903\n"
          ],
          "name": "stdout"
        }
      ]
    },
    {
      "cell_type": "code",
      "metadata": {
        "id": "TtvocygCsdwF",
        "colab": {
          "base_uri": "https://localhost:8080/"
        },
        "outputId": "bb9c32af-a24a-4954-8a32-cbe55d533df6"
      },
      "source": [
        "print (\"The slope-intercept form of the line between a and b, using point a, is: y - {0} = {2}(x - {1})\".format(a[1], a[0], calculate_slope(a, b)))"
      ],
      "execution_count": null,
      "outputs": [
        {
          "output_type": "stream",
          "text": [
            "The slope-intercept form of the line between a and b, using point a, is: y - 10 = -1.4(x - 0)\n"
          ],
          "name": "stdout"
        }
      ]
    },
    {
      "cell_type": "markdown",
      "metadata": {
        "id": "1YJKN4IE5qmh"
      },
      "source": [
        "> *Para el ejemplo proporcionado, tenemos que el cálculo de la distancia entre dos puntos en el plano cartesiano esta dado por la siguiente fórmula:*\r\n",
        "\r\n",
        "> $ d = \\sqrt{(x_{2} - x_{1})^{2} + (y_{2} - y_{1})^{2}} $\r\n",
        "\r\n",
        "> *En donde el punto 1 (P1) y el punto 2 (P2) son respectivamente:*\r\n",
        "\r\n",
        "> $ P1 = (x_{1},\\ y_{1}) $\r\n",
        "\r\n",
        "> $ P2 = (x_{2},\\ y_{2}) $"
      ]
    },
    {
      "cell_type": "markdown",
      "metadata": {
        "id": "o4PKjkZqsdwF"
      },
      "source": [
        "With the proper syntax, you can define functions to do whatever calculations you want. This makes them an indispensible part of programming in any language."
      ]
    },
    {
      "cell_type": "markdown",
      "metadata": {
        "id": "s0y-ZbP2sdwF"
      },
      "source": [
        "## Next Steps\n",
        "\n",
        "This was a lot of material and there is still even more to cover! Make sure you play around with the cells in each notebook to accustom yourself to the syntax featured here and to figure out any limitations. If you want to delve even deeper into the material, the [documentation for Python](https://docs.python.org/2/) is all available online. We are in the process of developing a second part to this Python tutorial, designed to provide you with even more programming knowledge, so keep an eye on the [Quantopian Lectures Page](quantopian.com/lectures) and the [forums](quantopian.com/posts) for any new lectures."
      ]
    },
    {
      "cell_type": "markdown",
      "metadata": {
        "id": "T56HBPJvsdwG"
      },
      "source": [
        "*This presentation is for informational purposes only and does not constitute an offer to sell, a solicitation to buy, or a recommendation for any security; nor does it constitute an offer to provide investment advisory or other services by Quantopian, Inc. (\"Quantopian\"). Nothing contained herein constitutes investment advice or offers any opinion with respect to the suitability of any security, and any views expressed herein should not be taken as advice to buy, sell, or hold any security or as an endorsement of any security or company.  In preparing the information contained herein, Quantopian, Inc. has not taken into account the investment needs, objectives, and financial circumstances of any particular investor. Any views expressed and data illustrated herein were prepared based upon information, believed to be reliable, available to Quantopian, Inc. at the time of publication. Quantopian makes no guarantees as to their accuracy or completeness. All information is subject to change and may quickly become unreliable for various reasons, including changes in market conditions or economic circumstances.*"
      ]
    }
  ]
}