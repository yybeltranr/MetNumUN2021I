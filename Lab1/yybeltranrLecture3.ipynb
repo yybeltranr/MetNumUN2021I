{
  "nbformat": 4,
  "nbformat_minor": 0,
  "metadata": {
    "kernelspec": {
      "name": "python3",
      "display_name": "Python 3"
    },
    "colab": {
      "name": "Lecture 3_Introduction to NumPy.ipynb",
      "provenance": [],
      "collapsed_sections": [
        "ISrc78XPvLnM"
      ]
    }
  },
  "cells": [
    {
      "cell_type": "markdown",
      "metadata": {
        "id": "kjvMU-M9vLmk"
      },
      "source": [
        "# Introduction to NumPy\n",
        "by Maxwell Margenot\n",
        "\n",
        "Part of the Quantopian Lecture Series:\n",
        "\n",
        "* [www.quantopian.com/lectures](https://www.quantopian.com/lectures)\n",
        "* [github.com/quantopian/research_public](https://github.com/quantopian/research_public)\n",
        "\n",
        "Notebook released under the Creative Commons Attribution 4.0 License."
      ]
    },
    {
      "cell_type": "markdown",
      "metadata": {
        "id": "k_1-PYpjvLmu"
      },
      "source": [
        "NumPy is an incredibly powerful package in Python that is ubiquitous throughout the Quantopian platform. It has strong integration with Pandas, another tool we will be covering in the lecture series. NumPy adds support for multi-dimensional arrays and mathematical functions that allow you to easily perform linear algebra calculations. This lecture will be a collection of linear algebra examples computed using NumPy."
      ]
    },
    {
      "cell_type": "code",
      "metadata": {
        "collapsed": true,
        "id": "QtS0CHb9vLmv"
      },
      "source": [
        "import numpy as np\n",
        "import matplotlib.pyplot as plt"
      ],
      "execution_count": null,
      "outputs": []
    },
    {
      "cell_type": "markdown",
      "metadata": {
        "id": "IElL6EeXqNXa"
      },
      "source": [
        "> *Importando librerías*"
      ]
    },
    {
      "cell_type": "markdown",
      "metadata": {
        "id": "x84spEWKvLmw"
      },
      "source": [
        "### Basic NumPy arrays"
      ]
    },
    {
      "cell_type": "markdown",
      "metadata": {
        "id": "mcgyAqw5vLmw"
      },
      "source": [
        "The most basic way that we could make use of NumPy in finance is calculating the mean return of a portfolio. Say that we have a list containing the historical return of several stocks."
      ]
    },
    {
      "cell_type": "code",
      "metadata": {
        "collapsed": true,
        "id": "dsQnny5yvLmw"
      },
      "source": [
        "stock_list = [3.5, 5, 2, 8, 4.2]"
      ],
      "execution_count": null,
      "outputs": []
    },
    {
      "cell_type": "code",
      "metadata": {
        "id": "RzwLD8efqkEf"
      },
      "source": [
        "# Mi ejemplo\r\n",
        "list1 = [2.4, 5.1, 3, 2.0, 1, 9, 13, 14]"
      ],
      "execution_count": null,
      "outputs": []
    },
    {
      "cell_type": "markdown",
      "metadata": {
        "id": "6gFQN68SvLmx"
      },
      "source": [
        "We can make an array by calling a function on the list:"
      ]
    },
    {
      "cell_type": "code",
      "metadata": {
        "id": "s5uUZIgPvLmx",
        "colab": {
          "base_uri": "https://localhost:8080/"
        },
        "outputId": "e4fa5b5e-ee78-446a-8e41-ad6cc1aeb4dc"
      },
      "source": [
        "returns = np.array(stock_list)\n",
        "print (returns, type(returns))"
      ],
      "execution_count": null,
      "outputs": [
        {
          "output_type": "stream",
          "text": [
            "[3.5 5.  2.  8.  4.2] <class 'numpy.ndarray'>\n"
          ],
          "name": "stdout"
        }
      ]
    },
    {
      "cell_type": "code",
      "metadata": {
        "colab": {
          "base_uri": "https://localhost:8080/"
        },
        "id": "GhcDI2lxrTVX",
        "outputId": "42fc7795-5361-46d5-9eb7-227a5c6d1492"
      },
      "source": [
        "# Mi ejemplo\r\n",
        "f = np.array(list1)\r\n",
        "print (returns, type(f))"
      ],
      "execution_count": null,
      "outputs": [
        {
          "output_type": "stream",
          "text": [
            "[3.5 5.  2.  8.  4.2] <class 'numpy.ndarray'>\n"
          ],
          "name": "stdout"
        }
      ]
    },
    {
      "cell_type": "markdown",
      "metadata": {
        "id": "dQDdz7djvLmz"
      },
      "source": [
        "You'll notice that the type of our array is 'ndarray', not just 'array'. This is because NumPy arrays can be created with multiple dimensions. If we pass np.array() a list of lists, it will create a 2-dimensional array. If we pass a list of lists of lists, it will create a 3-dimensional array, and so on and so forth."
      ]
    },
    {
      "cell_type": "code",
      "metadata": {
        "id": "FD8tjZZNvLmz",
        "colab": {
          "base_uri": "https://localhost:8080/"
        },
        "outputId": "d80a8eb5-6913-4ecc-dbcf-f08367c35c48"
      },
      "source": [
        "A = np.array([[1, 2], [3, 4]])\n",
        "print (A, type(A))"
      ],
      "execution_count": null,
      "outputs": [
        {
          "output_type": "stream",
          "text": [
            "[[1 2]\n",
            " [3 4]] <class 'numpy.ndarray'>\n"
          ],
          "name": "stdout"
        }
      ]
    },
    {
      "cell_type": "code",
      "metadata": {
        "colab": {
          "base_uri": "https://localhost:8080/"
        },
        "id": "J2ct11cVrxNL",
        "outputId": "6066b454-d1b2-4958-94ee-8f5a1d3f245f"
      },
      "source": [
        "# Mi ejemplo\r\n",
        "# Arreglo de 2D\r\n",
        "arr = np.array([[1, 2, 3], [4, 5, 6]])\r\n",
        "print(arr, type(arr))"
      ],
      "execution_count": null,
      "outputs": [
        {
          "output_type": "stream",
          "text": [
            "[[1 2 3]\n",
            " [4 5 6]] <class 'numpy.ndarray'>\n"
          ],
          "name": "stdout"
        }
      ]
    },
    {
      "cell_type": "markdown",
      "metadata": {
        "id": "eJghAv0xvLm0"
      },
      "source": [
        "We can access the dimensions of an array by looking at its `shape` member variable."
      ]
    },
    {
      "cell_type": "code",
      "metadata": {
        "id": "c35a40cBvLm0",
        "colab": {
          "base_uri": "https://localhost:8080/"
        },
        "outputId": "9ef8f5f5-3765-4003-a7f3-a82eca02d49a"
      },
      "source": [
        "print (A.shape)"
      ],
      "execution_count": null,
      "outputs": [
        {
          "output_type": "stream",
          "text": [
            "(2, 2)\n"
          ],
          "name": "stdout"
        }
      ]
    },
    {
      "cell_type": "code",
      "metadata": {
        "colab": {
          "base_uri": "https://localhost:8080/"
        },
        "id": "UVX8HYnrsD23",
        "outputId": "588c576f-9184-4996-a155-9ed24ee29fd4"
      },
      "source": [
        "# Shape del ejemplo, 2 filas 3 columnas\r\n",
        "print (arr.shape)"
      ],
      "execution_count": null,
      "outputs": [
        {
          "output_type": "stream",
          "text": [
            "(2, 3)\n"
          ],
          "name": "stdout"
        }
      ]
    },
    {
      "cell_type": "markdown",
      "metadata": {
        "id": "RUqX8UaAvLm1"
      },
      "source": [
        "Arrays are indexed in much the same way as lists in Python. Elements of a list begin indexing from $0$ and end at $n - 1$, where $n$ is the length of the array."
      ]
    },
    {
      "cell_type": "code",
      "metadata": {
        "id": "CBtbEu9cvLm1",
        "colab": {
          "base_uri": "https://localhost:8080/"
        },
        "outputId": "35865227-54ab-4151-faae-19154f376554"
      },
      "source": [
        "print (returns[0], returns[len(returns) - 1])"
      ],
      "execution_count": null,
      "outputs": [
        {
          "output_type": "stream",
          "text": [
            "3.5 4.2\n"
          ],
          "name": "stdout"
        }
      ]
    },
    {
      "cell_type": "code",
      "metadata": {
        "colab": {
          "base_uri": "https://localhost:8080/"
        },
        "id": "nZnFqa97spXJ",
        "outputId": "b145081b-dbba-47ca-c9a1-f768068dfa3a"
      },
      "source": [
        "# Mi ejemplo\r\n",
        "# También se puede Reversa\r\n",
        "print(f)\r\n",
        "print(f[::-1])"
      ],
      "execution_count": null,
      "outputs": [
        {
          "output_type": "stream",
          "text": [
            "[ 2.4  5.1  3.   2.   1.   9.  13.  14. ]\n",
            "[14.  13.   9.   1.   2.   3.   5.1  2.4]\n"
          ],
          "name": "stdout"
        }
      ]
    },
    {
      "cell_type": "markdown",
      "metadata": {
        "id": "RNqhqOEuvLm1"
      },
      "source": [
        "We can take a slice of an array using a colon, just like in a list."
      ]
    },
    {
      "cell_type": "code",
      "metadata": {
        "id": "N4stF3-lvLm2",
        "colab": {
          "base_uri": "https://localhost:8080/"
        },
        "outputId": "9443ecd2-8e55-45cb-9dbc-3a7728e80bf5"
      },
      "source": [
        "print (returns[1:3])"
      ],
      "execution_count": null,
      "outputs": [
        {
          "output_type": "stream",
          "text": [
            "[5. 2.]\n"
          ],
          "name": "stdout"
        }
      ]
    },
    {
      "cell_type": "code",
      "metadata": {
        "colab": {
          "base_uri": "https://localhost:8080/"
        },
        "id": "VjEajCbTs_2Z",
        "outputId": "74d6cf64-4622-47aa-955d-85a3e8fb1cf5"
      },
      "source": [
        "# Mi ejemplo\r\n",
        "# Sustrayendo desde la posición 3 a la 6\r\n",
        "print(f[3:7])"
      ],
      "execution_count": null,
      "outputs": [
        {
          "output_type": "stream",
          "text": [
            "[ 2.  1.  9. 13.]\n"
          ],
          "name": "stdout"
        }
      ]
    },
    {
      "cell_type": "markdown",
      "metadata": {
        "id": "_YJtR8rpvLm2"
      },
      "source": [
        "A slice of an array, like in a list, will select a group of elements in the array starting from the first element indicated and going up to (but not including) the last element indicated.\n",
        "\n",
        "In the case of multidimensional arrays, many of the same conventions with slicing and indexing hold. We can access the first column of a 2-dimensional array like so:"
      ]
    },
    {
      "cell_type": "code",
      "metadata": {
        "id": "oPuDIfi4vLm3",
        "colab": {
          "base_uri": "https://localhost:8080/"
        },
        "outputId": "d3f3b724-f3fd-425f-9519-fbb37d5f7fa3"
      },
      "source": [
        "print (A[:, 0])"
      ],
      "execution_count": null,
      "outputs": [
        {
          "output_type": "stream",
          "text": [
            "[1 3]\n"
          ],
          "name": "stdout"
        }
      ]
    },
    {
      "cell_type": "code",
      "metadata": {
        "colab": {
          "base_uri": "https://localhost:8080/"
        },
        "id": "-SvlYh9FthMu",
        "outputId": "482efc22-46cd-456a-c4ce-b8d157825449"
      },
      "source": [
        "# Mi ejemplo\r\n",
        "# Imprime la primera columna\r\n",
        "arr2 = np.array([[1, 2, 3], [4, 5, 6], [7, 8, 9]])\r\n",
        "print(arr2[:, 0])"
      ],
      "execution_count": null,
      "outputs": [
        {
          "output_type": "stream",
          "text": [
            "[1 4 7]\n"
          ],
          "name": "stdout"
        }
      ]
    },
    {
      "cell_type": "markdown",
      "metadata": {
        "id": "cEna2xrovLm3"
      },
      "source": [
        "And the first row of a 2-dimensional array like so:"
      ]
    },
    {
      "cell_type": "code",
      "metadata": {
        "id": "JfvFI9cNvLm3",
        "colab": {
          "base_uri": "https://localhost:8080/"
        },
        "outputId": "247afcdd-7378-438c-bb78-42eeeb2eb78b"
      },
      "source": [
        "print (A[0, :])"
      ],
      "execution_count": null,
      "outputs": [
        {
          "output_type": "stream",
          "text": [
            "[1 2]\n"
          ],
          "name": "stdout"
        }
      ]
    },
    {
      "cell_type": "code",
      "metadata": {
        "colab": {
          "base_uri": "https://localhost:8080/"
        },
        "id": "JvEgPD6OufdQ",
        "outputId": "771c542e-bd85-47d6-eb04-e91bdfc595cc"
      },
      "source": [
        "# Mi ejemplo\r\n",
        "# Imprime la primera fila\r\n",
        "arr2 = np.array([[1, 2, 3], [4, 5, 6], [7, 8, 9]])\r\n",
        "print(arr2[0, :])"
      ],
      "execution_count": null,
      "outputs": [
        {
          "output_type": "stream",
          "text": [
            "[1 2 3]\n"
          ],
          "name": "stdout"
        }
      ]
    },
    {
      "cell_type": "markdown",
      "metadata": {
        "id": "MlEgcjInvLm4"
      },
      "source": [
        "Notice that each slice of the array returns yet another array!"
      ]
    },
    {
      "cell_type": "code",
      "metadata": {
        "id": "9rkym5JIvLm4",
        "colab": {
          "base_uri": "https://localhost:8080/"
        },
        "outputId": "0e88aff7-4af6-4598-8bd0-b78b843a6c23"
      },
      "source": [
        "print (type(A[0,:]))"
      ],
      "execution_count": null,
      "outputs": [
        {
          "output_type": "stream",
          "text": [
            "<class 'numpy.ndarray'>\n"
          ],
          "name": "stdout"
        }
      ]
    },
    {
      "cell_type": "code",
      "metadata": {
        "colab": {
          "base_uri": "https://localhost:8080/"
        },
        "id": "09AWc7Piu7Lj",
        "outputId": "55e4da8c-e73f-4fce-b4b7-53d2022f0164"
      },
      "source": [
        "# Mi ejemplo\r\n",
        "# Aunque sea una porción sigue siendo tipo arreglo\r\n",
        "print(type(arr2[0, :]))"
      ],
      "execution_count": null,
      "outputs": [
        {
          "output_type": "stream",
          "text": [
            "<class 'numpy.ndarray'>\n"
          ],
          "name": "stdout"
        }
      ]
    },
    {
      "cell_type": "markdown",
      "metadata": {
        "id": "83ze8hUtvLm5"
      },
      "source": [
        "Passing only one index to a 2-dimensional array will result in returning the row with the given index as well, providing us with another way to access individual rows."
      ]
    },
    {
      "cell_type": "code",
      "metadata": {
        "id": "XLdnO3zjvLm5",
        "colab": {
          "base_uri": "https://localhost:8080/"
        },
        "outputId": "82493e32-4c3d-44dc-fa54-230431947d17"
      },
      "source": [
        "print (A[0])"
      ],
      "execution_count": null,
      "outputs": [
        {
          "output_type": "stream",
          "text": [
            "[1 2]\n"
          ],
          "name": "stdout"
        }
      ]
    },
    {
      "cell_type": "code",
      "metadata": {
        "colab": {
          "base_uri": "https://localhost:8080/"
        },
        "id": "fkXZxuFAvm8g",
        "outputId": "dbc8200b-549c-4ea2-de9a-f36ba20a0e3d"
      },
      "source": [
        "# Mi ejemplo\r\n",
        "# Imprime cada fila de manera individual solo con el index\r\n",
        "arr2 = np.array([[1, 2, 3], [4, 5, 6], [7, 8, 9]])\r\n",
        "print(arr2[0])\r\n",
        "print(arr2[1])\r\n",
        "print(arr2[2])"
      ],
      "execution_count": null,
      "outputs": [
        {
          "output_type": "stream",
          "text": [
            "[1 2 3]\n",
            "[4 5 6]\n",
            "[7 8 9]\n"
          ],
          "name": "stdout"
        }
      ]
    },
    {
      "cell_type": "markdown",
      "metadata": {
        "id": "1OR_58eLvLm6"
      },
      "source": [
        "Accessing the index of an individual element will return only the element."
      ]
    },
    {
      "cell_type": "code",
      "metadata": {
        "id": "W4ZxXGxPvLm6",
        "colab": {
          "base_uri": "https://localhost:8080/"
        },
        "outputId": "86c84065-8250-4415-c24f-d7c58db9b014"
      },
      "source": [
        "print (A[1, 1])"
      ],
      "execution_count": null,
      "outputs": [
        {
          "output_type": "stream",
          "text": [
            "4\n"
          ],
          "name": "stdout"
        }
      ]
    },
    {
      "cell_type": "code",
      "metadata": {
        "colab": {
          "base_uri": "https://localhost:8080/"
        },
        "id": "tCZ3RMe3wBb1",
        "outputId": "17d7e1a7-0a58-44bc-ab76-58c93c1737fc"
      },
      "source": [
        "# Mi ejemplo\r\n",
        "# Accedo al centro de la matriz de 3x3\r\n",
        "arr2 = np.array([[1, 2, 3], [4, 5, 6], [7, 8, 9]])\r\n",
        "print(arr2[1, 1])"
      ],
      "execution_count": null,
      "outputs": [
        {
          "output_type": "stream",
          "text": [
            "5\n"
          ],
          "name": "stdout"
        }
      ]
    },
    {
      "cell_type": "markdown",
      "metadata": {
        "id": "1TvztK5tvLm6"
      },
      "source": [
        "#### Array functions\n",
        "\n",
        "Functions built into NumPy can be easily called on arrays. Most functions are applied to an array element-wise (as scalar multiplication is). For example, if we call `log()` on an array, the logarithm will be taken of each element."
      ]
    },
    {
      "cell_type": "code",
      "metadata": {
        "id": "_qrC5u3VvLm7",
        "colab": {
          "base_uri": "https://localhost:8080/"
        },
        "outputId": "e51ab264-ceb8-4a13-c65b-d117af1c113a"
      },
      "source": [
        "print (np.log(returns))"
      ],
      "execution_count": null,
      "outputs": [
        {
          "output_type": "stream",
          "text": [
            "[1.25276297 1.60943791 0.69314718 2.07944154 1.43508453]\n"
          ],
          "name": "stdout"
        }
      ]
    },
    {
      "cell_type": "markdown",
      "metadata": {
        "id": "XUofloKlygok"
      },
      "source": [
        "> *La función logarítmica \"básica\" es la función,*\r\n",
        "\r\n",
        "> $ y = log\\ (b_{x}),\\ donde\\ b\\ >\\ 0\\ y\\ b\\ \\neq \\ 1. $\r\n",
        "\r\n",
        "> *El dominio es el conjunto de todos los números reales positivos.\r\n",
        "El rango es el conjunto de todos los números reales.\r\n",
        "La función es continua y uno-a-uno.\r\n",
        "El eje de las $y$ es la asíntota de la gráfica.\r\n",
        "La gráfica intersecta al eje de las $x$ en (1, 0). Esto es, la intercepción en **x** es 1.*"
      ]
    },
    {
      "cell_type": "code",
      "metadata": {
        "colab": {
          "base_uri": "https://localhost:8080/"
        },
        "id": "Fn_SB7DjxO_O",
        "outputId": "cf7da48c-9f06-4b18-b24d-99f14160f87b"
      },
      "source": [
        "# Mi ejemplo\r\n",
        "# Logaritmo de cada elementol array\r\n",
        "print(np.log(list1))"
      ],
      "execution_count": null,
      "outputs": [
        {
          "output_type": "stream",
          "text": [
            "[0.87546874 1.62924054 1.09861229 0.69314718 0.         2.19722458\n",
            " 2.56494936 2.63905733]\n"
          ],
          "name": "stdout"
        }
      ]
    },
    {
      "cell_type": "markdown",
      "metadata": {
        "id": "JEj0NKtTvLm7"
      },
      "source": [
        "Some functions return a single value. This is because they treat the array as a collection (similar to a list), performing the designated function. For example, the `mean()` function will do exactly what you expect, calculating the mean of an array."
      ]
    },
    {
      "cell_type": "code",
      "metadata": {
        "id": "bRDIv6NcvLm7",
        "colab": {
          "base_uri": "https://localhost:8080/"
        },
        "outputId": "357df2c9-33af-457a-9348-6b666057755d"
      },
      "source": [
        "print (np.mean(returns))"
      ],
      "execution_count": null,
      "outputs": [
        {
          "output_type": "stream",
          "text": [
            "4.54\n"
          ],
          "name": "stdout"
        }
      ]
    },
    {
      "cell_type": "markdown",
      "metadata": {
        "id": "G_LCTM8h0YM-"
      },
      "source": [
        "> *numpy.mean(arr, axis = None): Calcule la media aritmética (promedio) de los datos dados (elementos de matriz) a lo largo del eje especificado. Empleando la siguiente fórmula:*\r\n",
        "\r\n",
        "> $ Media(x) = \\bar{x} = \\frac{\\sum_{i = 1}^{N}X_{i}}{N},\\  siendo\\ (X_{1}, X_{2},...,X_{N})\\ el\\ conjunto\\ de\\ observaciones. $"
      ]
    },
    {
      "cell_type": "code",
      "metadata": {
        "colab": {
          "base_uri": "https://localhost:8080/"
        },
        "id": "c29mFGGwxgIa",
        "outputId": "fd36e232-e4ca-4a54-e6a1-78470487f9f0"
      },
      "source": [
        "# Mi ejemplo\r\n",
        "# Promedio de los elementos del array\r\n",
        "print(np.mean(list1))"
      ],
      "execution_count": null,
      "outputs": [
        {
          "output_type": "stream",
          "text": [
            "6.1875\n"
          ],
          "name": "stdout"
        }
      ]
    },
    {
      "cell_type": "markdown",
      "metadata": {
        "id": "K-lLf2R3vLm8"
      },
      "source": [
        "Or the `max()` function will return the maximum element of an array."
      ]
    },
    {
      "cell_type": "code",
      "metadata": {
        "id": "Dyh661dRvLm8",
        "colab": {
          "base_uri": "https://localhost:8080/"
        },
        "outputId": "26115bc9-8ee4-4d49-d802-4f7ec593dfe3"
      },
      "source": [
        "print (np.max(returns))"
      ],
      "execution_count": null,
      "outputs": [
        {
          "output_type": "stream",
          "text": [
            "8.0\n"
          ],
          "name": "stdout"
        }
      ]
    },
    {
      "cell_type": "code",
      "metadata": {
        "colab": {
          "base_uri": "https://localhost:8080/"
        },
        "id": "h10bzaV7xrVR",
        "outputId": "d482f995-8c90-46d5-89c4-715f60345f03"
      },
      "source": [
        "# Mi ejemplo\r\n",
        "# Con la función min se puede devolver el mínimo elemento del array\r\n",
        "print (list1)\r\n",
        "print (np.min(list1))"
      ],
      "execution_count": null,
      "outputs": [
        {
          "output_type": "stream",
          "text": [
            "[2.4, 5.1, 3, 2.0, 1, 9, 13, 14]\n",
            "1.0\n"
          ],
          "name": "stdout"
        }
      ]
    },
    {
      "cell_type": "markdown",
      "metadata": {
        "id": "G7o_gTcCvLm8"
      },
      "source": [
        "For further reading on the universal functions in NumPy, check out the [documentation](https://docs.scipy.org/doc/numpy/user/quickstart.html#universal-functions)."
      ]
    },
    {
      "cell_type": "markdown",
      "metadata": {
        "id": "FNbu1J5UvLm9"
      },
      "source": [
        "### Return to the returns\n",
        "\n",
        "Now let's modify our returns array with scalar values. If we add a scalar value to an array it will be added to every element of the array. If we multiply an array by a scalar value it will be multiplied against every element of the array. If we do both, both will happen!"
      ]
    },
    {
      "cell_type": "code",
      "metadata": {
        "scrolled": false,
        "id": "KDyJgxMavLm9",
        "colab": {
          "base_uri": "https://localhost:8080/"
        },
        "outputId": "019bc382-1328-4938-8be2-c1e9ea064726"
      },
      "source": [
        "returns*2 + 5"
      ],
      "execution_count": null,
      "outputs": [
        {
          "output_type": "execute_result",
          "data": {
            "text/plain": [
              "array([12. , 15. ,  9. , 21. , 13.4])"
            ]
          },
          "metadata": {
            "tags": []
          },
          "execution_count": 33
        }
      ]
    },
    {
      "cell_type": "code",
      "metadata": {
        "colab": {
          "base_uri": "https://localhost:8080/"
        },
        "id": "pyNsxMSeybVx",
        "outputId": "b0a5eac0-0a22-496b-b73e-8e76cafd786e"
      },
      "source": [
        "# Mi ejemplo\r\n",
        "# Cada elemento del Array lo multiplico por 3 y le sumo 8\r\n",
        "print(\"Array original: \", f)\r\n",
        "f*3 + 8"
      ],
      "execution_count": null,
      "outputs": [
        {
          "output_type": "stream",
          "text": [
            "Array original:  [ 2.4  5.1  3.   2.   1.   9.  13.  14. ]\n"
          ],
          "name": "stdout"
        },
        {
          "output_type": "execute_result",
          "data": {
            "text/plain": [
              "array([15.2, 23.3, 17. , 14. , 11. , 35. , 47. , 50. ])"
            ]
          },
          "metadata": {
            "tags": []
          },
          "execution_count": 34
        }
      ]
    },
    {
      "cell_type": "markdown",
      "metadata": {
        "id": "5uG1HlQivLm-"
      },
      "source": [
        "NumPy also has functions specifically built to operate on arrays. Let's take the mean and standard deviation of this group of returns."
      ]
    },
    {
      "cell_type": "code",
      "metadata": {
        "id": "bVmCalqYvLm-",
        "colab": {
          "base_uri": "https://localhost:8080/"
        },
        "outputId": "f40c3228-04ed-41f0-e44c-f86a18e35edf"
      },
      "source": [
        "print (\"Mean: \", np.mean(returns), \"Std Dev: \", np.std(returns))"
      ],
      "execution_count": null,
      "outputs": [
        {
          "output_type": "stream",
          "text": [
            "Mean:  4.54 Std Dev:  1.9915822855207364\n"
          ],
          "name": "stdout"
        }
      ]
    },
    {
      "cell_type": "markdown",
      "metadata": {
        "id": "0VNar8cd1DT7"
      },
      "source": [
        "> *numpy.std(arr, axis = None): calcula la desviación estándar de los datos dados (elementos de la matriz) a lo largo del eje especificado (si corresponde).*\r\n",
        "\r\n",
        "> *La desviación estándar (S) se mide como la extensión de la distribución de datos en el conjunto de datos dado. Empleando la siguiente fórmula:*\r\n",
        "\r\n",
        "> $ S_{x} =\\sqrt{\\frac{\\sum_{i = 1}^{N}(x_{i} - \\bar{x})^{2}}{N - 1}},\\ siendo\\ (X_{1}, X_{2},...,X_{N})\\ un\\ conjunto\\ de\\ datos. $"
      ]
    },
    {
      "cell_type": "code",
      "metadata": {
        "colab": {
          "base_uri": "https://localhost:8080/"
        },
        "id": "5USHIryl2cs7",
        "outputId": "57e9983f-489d-4707-c30f-e2aa9433b8fc"
      },
      "source": [
        "# También se puede calcular la mediana\r\n",
        "print (\"Mediana:\", np.median(f))"
      ],
      "execution_count": null,
      "outputs": [
        {
          "output_type": "stream",
          "text": [
            "Mediana: 4.05\n"
          ],
          "name": "stdout"
        }
      ]
    },
    {
      "cell_type": "markdown",
      "metadata": {
        "id": "GBIyYG0L1OMW"
      },
      "source": [
        "> *La mediana es un estadístico de posición central que parte la distribución en dos, es decir, deja la misma cantidad de valores a un lado que a otro. Para calcular la mediana es importante que los datos estén ordenados de mayor a menor, o al contrario de menor a mayor.*\r\n",
        "\r\n",
        "> *Existen dos métodos para el cálculo de la mediana:*\r\n",
        "* Considerando los datos en forma individual, sin agruparlos.\r\n",
        "\r\n",
        ">> *Sea $(X1,X2,…,X_{N})$ un conjunto de datos ordenado. El cálculo de la mediana depende de si el número de elementos N es par o impar.*\r\n",
        ">> *   Si N es **impar**, la mediana es el valor que está al medio, es decir:\r\n",
        "\r\n",
        "$$ Mediana(x) = X_{\\frac{N + 1}{2}} $$\r\n",
        "\r\n",
        ">> *   Si N es **par**, la mediana es la media de los dos valores del centro, $ \\frac{N}{2} $ y $ \\frac{N}{2} + 1 $: \r\n",
        "\r\n",
        "$$ Mediana(x) = Media(X_{\\frac{N}{2}},X_{\\frac{N}{2}+1}) = \\frac{X_{\\frac{N}{2}},X_{\\frac{N}{2}+1}}{2} $$\r\n",
        "\r\n",
        "> * Utilizando los datos agrupados en intervalos de clase. Para ello hay que seguir dos pasos:\r\n",
        "\r\n",
        ">> *  Encontrar el intervalo en el que se encuentra la mediana usando la fórmula: \r\n",
        "\r\n",
        "$$ Posicion = \\frac{n + 1}{2} $$\r\n",
        "\r\n",
        ">> *  Usar la fórmula de la mediana: \r\n",
        "\r\n",
        "$$ M_{e} = L_{i} + \\frac{\\frac{n}{2} - F_{i - 1}}{f_{i}} * A_{i} $$\r\n",
        "\r\n",
        ">> *Donde:*\r\n",
        ">>*   $L_{i}$: límite inferior del intervalo en el cual se encuentra la mediana.\r\n",
        ">>*   $n$: número de datos del estudio. Es la sumatoria de las frecuencias absolutas.\r\n",
        ">>*   $F_{i - 1}$: frecuencia acumulada del intervalo anterior al que se encuentra la mediana.\r\n",
        ">>*   $A_{i}$: amplitud del intervalo en el que se encuentra la mediana.\r\n",
        ">>*   $f_{i}$: frecuencia absoluta del intervalo en el que se encuentra la mediana.\r\n",
        "\r\n",
        "\r\n",
        "\r\n",
        "\r\n",
        "\r\n",
        "\r\n",
        "\r\n",
        "\r\n"
      ]
    },
    {
      "cell_type": "markdown",
      "metadata": {
        "id": "QPbQBO5yvLm-"
      },
      "source": [
        "Let's simulate a universe of stocks using NumPy's functions. First we need to create the arrays to hold the assets and returns that we will use to build a portfolio. This is because arrays are created with a fixed size. Their dimensions can't be changed without creating a new array."
      ]
    },
    {
      "cell_type": "code",
      "metadata": {
        "collapsed": true,
        "id": "183raSnEvLm_"
      },
      "source": [
        "N = 10\n",
        "assets = np.zeros((N, 100))\n",
        "returns = np.zeros((N, 100))"
      ],
      "execution_count": null,
      "outputs": []
    },
    {
      "cell_type": "markdown",
      "metadata": {
        "id": "2ADhCpHV8Qf6"
      },
      "source": [
        "> *Devuelve una nueva matriz de forma y tipo dados, llena de ceros.*"
      ]
    },
    {
      "cell_type": "code",
      "metadata": {
        "colab": {
          "base_uri": "https://localhost:8080/"
        },
        "id": "WGa4J17j3Dab",
        "outputId": "a9a6aec8-ef77-4257-f549-a33ae4673be2"
      },
      "source": [
        "# Mi ejemplo\r\n",
        "# Imprimiendo el resultado 8 filas x 10 columnas\r\n",
        "N1 = 8\r\n",
        "assets1 = np.zeros((N1, 10))\r\n",
        "returns1 = np.zeros((N1, 10))\r\n",
        "print('Assets: \\n', assets1)\r\n",
        "print('Returns: \\n', returns1)"
      ],
      "execution_count": null,
      "outputs": [
        {
          "output_type": "stream",
          "text": [
            "Assets: \n",
            " [[0. 0. 0. 0. 0. 0. 0. 0. 0. 0.]\n",
            " [0. 0. 0. 0. 0. 0. 0. 0. 0. 0.]\n",
            " [0. 0. 0. 0. 0. 0. 0. 0. 0. 0.]\n",
            " [0. 0. 0. 0. 0. 0. 0. 0. 0. 0.]\n",
            " [0. 0. 0. 0. 0. 0. 0. 0. 0. 0.]\n",
            " [0. 0. 0. 0. 0. 0. 0. 0. 0. 0.]\n",
            " [0. 0. 0. 0. 0. 0. 0. 0. 0. 0.]\n",
            " [0. 0. 0. 0. 0. 0. 0. 0. 0. 0.]]\n",
            "Returns: \n",
            " [[0. 0. 0. 0. 0. 0. 0. 0. 0. 0.]\n",
            " [0. 0. 0. 0. 0. 0. 0. 0. 0. 0.]\n",
            " [0. 0. 0. 0. 0. 0. 0. 0. 0. 0.]\n",
            " [0. 0. 0. 0. 0. 0. 0. 0. 0. 0.]\n",
            " [0. 0. 0. 0. 0. 0. 0. 0. 0. 0.]\n",
            " [0. 0. 0. 0. 0. 0. 0. 0. 0. 0.]\n",
            " [0. 0. 0. 0. 0. 0. 0. 0. 0. 0.]\n",
            " [0. 0. 0. 0. 0. 0. 0. 0. 0. 0.]]\n"
          ],
          "name": "stdout"
        }
      ]
    },
    {
      "cell_type": "markdown",
      "metadata": {
        "id": "mGZ0siX1vLnA"
      },
      "source": [
        "This function, `zeroes()`, creates a NumPy array with the given dimensions that is entirely filled in with $0$. We can pass a single value or a tuple of as many dimensions as we like. Passing in the tuple `(N, 100)`, will return a two-dimensional array with $N$ rows and $100$ columns. Our result is a $N \\times 100$ array.\n",
        "\n",
        "Now we will simulate a base asset. We want the universe of stocks to be correlated with each other so we will use this initial value to generate the others."
      ]
    },
    {
      "cell_type": "code",
      "metadata": {
        "id": "KvAu5dhuvLnB"
      },
      "source": [
        "R_1 = np.random.normal(1.01, 0.03, 100)\n",
        "returns[0] = R_1\n",
        "assets[0] = np.cumprod(R_1)"
      ],
      "execution_count": null,
      "outputs": []
    },
    {
      "cell_type": "markdown",
      "metadata": {
        "id": "2xMSmmk34mBm"
      },
      "source": [
        "> *numpy.cumprod( a , eje = Ninguno , dtype = Ninguno , out = Ninguno )\r\n",
        "Devuelve el producto acumulativo de elementos a lo largo de un eje dado.*\r\n",
        "\r\n",
        ">**Parámetros**\r\n",
        "1.   **a: array_like:** *Matriz de entrada.*\r\n",
        "2.   **eje: int, opcional:** *Eje a lo largo del cual se calcula el producto acumulado. De forma predeterminada, la entrada se aplana.*\r\n",
        "3.   **dtype: dtype, opcional** *Tipo de matriz devuelta, así como del acumulador en el que se multiplican los elementos. Si no se especifica dtype , el valor predeterminado es el dtype de a , a menos que a tenga un dtype entero con una precisión menor que la del entero predeterminado de la plataforma. En ese caso, se utiliza en su lugar el entero de plataforma predeterminado.*\r\n",
        "4.   **out ndarray, opcional** *Matriz de salida alternativa en la que colocar el resultado. Debe tener la misma forma y longitud de búfer que la salida esperada, pero el tipo de los valores resultantes se convertirá si es necesario.*\r\n",
        ">**Devoluciones**\r\n",
        "1.   **cumprod: ndarray:** *Se devuelve una nueva matriz que contiene el resultado a menos que se especifique out , en cuyo caso se devuelve una referencia a out.*"
      ]
    },
    {
      "cell_type": "code",
      "metadata": {
        "colab": {
          "base_uri": "https://localhost:8080/"
        },
        "id": "bUR0CVAi3pWX",
        "outputId": "de46d81f-4450-41b3-8d7b-36e1d9365176"
      },
      "source": [
        "# Mi ejemplo\r\n",
        "# Imprimiendo\r\n",
        "R_2 = np.random.normal(1.01, 0.03, 10)\r\n",
        "returns1[0] = R_2\r\n",
        "assets1[0] = np.cumprod(R_2)\r\n",
        "print(R_2) #Varía normal de 1.01 - 0.03 y muestra 10 valores\r\n",
        "print(\"--------------------------------------------------\")\r\n",
        "print(returns1[0])\r\n",
        "print(\"--------------------------------------------------\")\r\n",
        "print(assets1[0])"
      ],
      "execution_count": null,
      "outputs": [
        {
          "output_type": "stream",
          "text": [
            "[1.01562101 1.04337535 1.05885407 0.98208424 0.99581964 1.04026096\n",
            " 0.98233046 1.01178444 1.03779608 0.98362251]\n",
            "--------------------------------------------------\n",
            "[1.01562101 1.04337535 1.05885407 0.98208424 0.99581964 1.04026096\n",
            " 0.98233046 1.01178444 1.03779608 0.98362251]\n",
            "--------------------------------------------------\n",
            "[1.01562101 1.05967392 1.12204005 1.10193785 1.09733136 1.14151098\n",
            " 1.12134101 1.13455538 1.17743713 1.15815367]\n"
          ],
          "name": "stdout"
        }
      ]
    },
    {
      "cell_type": "markdown",
      "metadata": {
        "id": "LOkWvcqwvLnB"
      },
      "source": [
        "The `random` module in NumPy is exceedingly useful. It contains methods for sampling from many different probability distributions, some of which are covered in the [random variables lecture](https://www.quantopian.com/lectures/random-variables) in the Quantopian lecture series. In this case we draw $N = 100$ random samples from a normal distribution with mean $1.01$ and standard deviation $0.03$. We treat these as the daily percentage returns of our asset and take the cumulative product of these samples to get the current price.\n",
        "\n",
        "The way we have generated our universe, the the individual $R_i$ vectors are each 1-dimensional arrays and the `returns` and `assets` variables contain 2-dimensional arrays. Above, we set the initial row of both `returns` and `assets` to be the first $R_i$ vector and the cumulative asset price based on those returns, respectively.\n",
        "\n",
        "We will now use this base asset to create a few other random assets that are correlated with it."
      ]
    },
    {
      "cell_type": "code",
      "metadata": {
        "id": "uxDLTxH2vLnC"
      },
      "source": [
        "# Generate assets that are correlated with R_1\n",
        "for i in range(1, N):\n",
        "    R_i = R_1 + np.random.normal(0.001, 0.02, 100)\n",
        "    returns[i] = R_i # Set each row of returns equal to the new R_i array\n",
        "    assets[i] = np.cumprod(R_i)\n",
        "    \n",
        "mean_returns = [(np.mean(R) - 1)*100 for R in returns]\n",
        "return_volatilities = [np.std(R) for R in returns]"
      ],
      "execution_count": null,
      "outputs": []
    },
    {
      "cell_type": "code",
      "metadata": {
        "colab": {
          "base_uri": "https://localhost:8080/"
        },
        "id": "zwhwnlsG6f5E",
        "outputId": "8c27a37e-373e-4773-b902-8f76a2ea1f00"
      },
      "source": [
        "# Mi ejemplo\r\n",
        "# Generate assets that are correlated with R_2\r\n",
        "for i in range(1, N1):\r\n",
        "    R_i = R_2 + np.random.normal(0.001, 0.02, 10)\r\n",
        "    returns1[i] = R_i # Set each row of returns equal to the new R_i array\r\n",
        "    assets1[i] = np.cumprod(R_i)\r\n",
        "    \r\n",
        "mean_returns1 = [(np.mean(R1) - 1)*10 for R1 in returns1]\r\n",
        "return_volatilities1 = [np.std(R1) for R1 in returns1]\r\n",
        "print('mean_returns: \\n', mean_returns1)\r\n",
        "print('return_volatilities: \\n', return_volatilities1)"
      ],
      "execution_count": null,
      "outputs": [
        {
          "output_type": "stream",
          "text": [
            "mean_returns: \n",
            " [0.15154877450231252, 0.09248736522212031, 0.27527479088645723, 0.07901634445558026, 0.061301093076711055, 0.24455293005119394, 0.2106579776904871, 0.06834496855406602]\n",
            "return_volatilities: \n",
            " [0.02720254102418148, 0.03558300174820556, 0.03515179085067609, 0.03805000579806711, 0.024389911753569183, 0.029943956006811087, 0.03223005173687215, 0.027380520299901605]\n"
          ],
          "name": "stdout"
        }
      ]
    },
    {
      "cell_type": "markdown",
      "metadata": {
        "id": "fxf7lEEpvLnC"
      },
      "source": [
        "Here we generate the remaining $N - 1$ securities that we want in our universe by adding random noise to $R_1$. This ensures that our $N - 1$ other assets will be correlated with the base asset because they have some underlying information that is shared.\n",
        "\n",
        "Let's plot what the mean return of each asset looks like:"
      ]
    },
    {
      "cell_type": "code",
      "metadata": {
        "scrolled": false,
        "id": "_eEphbOjvLnC",
        "colab": {
          "base_uri": "https://localhost:8080/",
          "height": 295
        },
        "outputId": "11508568-63d2-4193-ee60-4ec6bb0bdb6f"
      },
      "source": [
        "plt.bar(np.arange(len(mean_returns)), mean_returns)\n",
        "plt.xlabel('Stock')\n",
        "plt.ylabel('Returns')\n",
        "plt.title('Returns for {0} Random Assets'.format(N));"
      ],
      "execution_count": null,
      "outputs": [
        {
          "output_type": "display_data",
          "data": {
            "image/png": "[encoded data removed]",
            "text/plain": [
              "<Figure size 432x288 with 1 Axes>"
            ]
          },
          "metadata": {
            "tags": [],
            "needs_background": "light"
          }
        }
      ]
    },
    {
      "cell_type": "code",
      "metadata": {
        "colab": {
          "base_uri": "https://localhost:8080/",
          "height": 297
        },
        "id": "IAigaIid8RCS",
        "outputId": "347ad4b8-069e-449b-8262-7e79b6814c24"
      },
      "source": [
        "# Mi ejemplo\r\n",
        "# También se grafica la desviación hallada\r\n",
        "plt.bar(np.arange(len(return_volatilities1)), return_volatilities1, color='goldenrod')\r\n",
        "plt.xlabel('Stock', backgroundcolor='w')\r\n",
        "plt.ylabel('Returns', backgroundcolor='w')\r\n",
        "plt.title('Returns for {0} Random Assets'.format(N1), fontsize='16', backgroundcolor='w', color='teal');"
      ],
      "execution_count": null,
      "outputs": [
        {
          "output_type": "display_data",
          "data": {
            "image/png": "[encoded data removed]",
            "text/plain": [
              "<Figure size 432x288 with 1 Axes>"
            ]
          },
          "metadata": {
            "tags": [],
            "needs_background": "light"
          }
        }
      ]
    },
    {
      "cell_type": "markdown",
      "metadata": {
        "id": "adUFK3pkvLnD"
      },
      "source": [
        "### Calculating Expected Return\n",
        "\n",
        "So we have a universe of stocks. Great! Now let's put them together in a portfolio and calculate its expected return and risk.\n",
        "\n",
        "We will start off by generating $N$ random weights for each asset in our portfolio."
      ]
    },
    {
      "cell_type": "code",
      "metadata": {
        "id": "_AA-k-RevLnD"
      },
      "source": [
        "weights = np.random.uniform(0, 1, N)\n",
        "weights = weights/np.sum(weights)"
      ],
      "execution_count": null,
      "outputs": []
    },
    {
      "cell_type": "markdown",
      "metadata": {
        "id": "LHFZdZdf-2DQ"
      },
      "source": [
        "> *random.uniform(low=0.0, high=1.0, size=None)*\r\n",
        ">*Extrae muestras de una distribución uniforme.*\r\n",
        "*Las muestras se distribuyen uniformemente en el intervalo semiabierto (incluye bajo, pero excluye alto). En otras palabras, es igualmente probable que se extraiga cualquier valor dentro del intervalo dado .[low, high)uniform*\r\n",
        "\r\n",
        ">**Parámetros**\r\n",
        "1.   **low: float or array_like of floats, optional:** *Límite inferior del intervalo de salida. Todos los valores generados serán mayores o iguales a bajos. El valor predeterminado es 0.*\r\n",
        "2.   **high: float or array_like of floats:** *Todos los valores generados serán menores o iguales a altos. El valor predeterminado es 1.0.*\r\n",
        "3.   **size: int or tuple of ints, optional:** *Forma de salida. Si la forma dada es, por ejemplo , entonces se extraen muestras. Si el tamaño es (predeterminado), se devuelve un solo valor si y son ambos escalares. De lo contrario, se extraen muestras.(m, n, k)m * n * kNonelowhighnp.broadcast(low, high).size*\r\n",
        "\r\n",
        "> **Devoluciones**\r\n",
        "1.   **out: ndarray or scalar:** *Muestras extraídas de la distribución uniforme parametrizada.*\r\n",
        "\r\n"
      ]
    },
    {
      "cell_type": "code",
      "metadata": {
        "colab": {
          "base_uri": "https://localhost:8080/"
        },
        "id": "CeIgv0FKAP2v",
        "outputId": "aa439919-20c0-4a65-b3d8-db80f490c817"
      },
      "source": [
        "# Mi ejemplo\r\n",
        "weights1 = np.random.uniform(0, 1, N1)\r\n",
        "weights1 = weights1/np.sum(weights1)\r\n",
        "#Impriiendo weights1\r\n",
        "print(weights1)"
      ],
      "execution_count": null,
      "outputs": [
        {
          "output_type": "stream",
          "text": [
            "[0.02385697 0.1633652  0.17128815 0.02672367 0.10433981 0.19035765\n",
            " 0.12454185 0.19552671]\n"
          ],
          "name": "stdout"
        }
      ]
    },
    {
      "cell_type": "markdown",
      "metadata": {
        "id": "33BfpsejvLnD"
      },
      "source": [
        "We have to rescale the weights so that they all add up to $1$. We do this by scaling the weights vector by the sum total of all the weights. This step ensures that we will be using $100\\%$ of the portfolio's cash.\n",
        "\n",
        "To calculate the mean return of the portfolio, we have to scale each asset's return by its designated weight. We can pull each element of each array and multiply them individually, but it's quicker to use NumPy's linear algebra methods. The function that we want is `dot()`. This will calculate the dot product between two arrays for us. So if $v = \\left[ 1, 2, 3 \\right]$ and $w = \\left[4, 5, 6 \\right]$, then:\n",
        "\n",
        "$$ v \\cdot w = 1 \\times 4 + 2 \\times 5 + 3 \\times 6 $$\n",
        "\n",
        "For a one-dimensional vector, the dot product will multiply each element pointwise and add all the products together! In our case, we have a vector of weights, $\\omega = \\left[ \\omega_1, \\omega_2, \\dots \\omega_N\\right]$ and a vector of returns, $\\mu = \\left[ \\mu_1, \\mu_2, \\dots, \\mu_N\\right]$. If we take the dot product of these two we will get:\n",
        "\n",
        "$$ \\omega \\cdot \\mu = \\omega_1\\mu_1 + \\omega_2\\mu_2 + \\dots + \\omega_N\\mu_N = \\mu_P $$\n",
        "\n",
        "This yields the sum of all the asset returns scaled by their respective weights. This the the portfolio's overall expected return!"
      ]
    },
    {
      "cell_type": "code",
      "metadata": {
        "id": "XhALWzAFvLnE",
        "colab": {
          "base_uri": "https://localhost:8080/"
        },
        "outputId": "59df739c-b6dc-48a6-c6d4-3069f21e21ae"
      },
      "source": [
        "p_returns = np.dot(weights, mean_returns)\n",
        "print (\"Expected return of the portfolio: \", p_returns)"
      ],
      "execution_count": null,
      "outputs": [
        {
          "output_type": "stream",
          "text": [
            "Expected return of the portfolio:  0.5474165283488316\n"
          ],
          "name": "stdout"
        }
      ]
    },
    {
      "cell_type": "code",
      "metadata": {
        "colab": {
          "base_uri": "https://localhost:8080/"
        },
        "id": "-azm7ZMNDIBN",
        "outputId": "a89f94b9-1c19-4ac3-e2fe-46c52e2639b6"
      },
      "source": [
        "# Mi ejemplo\r\n",
        "p_returns1 = np.dot(weights1, mean_returns1)\r\n",
        "print (\"Expected return of the portfolio: \", p_returns1)"
      ],
      "execution_count": null,
      "outputs": [
        {
          "output_type": "stream",
          "text": [
            "Expected return of the portfolio:  0.16053529323831428\n"
          ],
          "name": "stdout"
        }
      ]
    },
    {
      "cell_type": "markdown",
      "metadata": {
        "id": "4YGyxOWeBMr-"
      },
      "source": [
        "> *numpy.dot(a, b, out=None)*\r\n",
        ">*Producto escalar de dos matrices. Específicamente,*\r\n",
        "*   *Si tanto a como b son matrices 1-D, es producto interno de vectores (sin conjugación compleja).*\r\n",
        "*   *Si tanto a como b son matrices 2-D, es una multiplicación de matrices, pero se prefiere usar matmul o a @ b*\r\n",
        "*   *Si cualquiera de una o b es 0-D (escalar), es equivalente a multiply y usar numpy.multiply(a, b) o se prefiere a * b.*\r\n",
        "*   *Si una es una matriz ND y b es una matriz de 1-D, que es un producto suma sobre el último eje de un y b .*\r\n",
        "*   *Si una es una matriz ND y b es una matriz MD (donde M>=2), que es un producto suma sobre el último eje de un y el segundo a último eje de b :*\r\n",
        "\r\n",
        "$$ dot(a, b)[i, j,k,m] = sum(a[i,j,:] * b[k,:,m]) $$\r\n",
        "\r\n",
        ">**Parámetros**\r\n",
        "1.   **a: array_like:** *Primer argumento.*\r\n",
        "2.   **b: array_like:** *Segundo argumento.\r\n",
        "3.   **out: ndarray, optional:** *Argumento de salida. Debe ser del tipo exacto que se devolvería si no se utilizara. En particular, debe tener el tipo correcto, debe ser C-contiguo y su dtype debe ser el dtype que se devolvería para el punto (a, b) . Esta es una característica de rendimiento. Por lo tanto, si no se cumplen estas condiciones, se genera una excepción, en lugar de intentar ser flexible.*\r\n",
        "\r\n",
        "> **Salidas**\r\n",
        "1.   **out: putndarray:** *Devuelve el producto escalar de una y b . Si un y b son ambos escalares o ambas matrices 1-D entonces se devuelve un escalar; de lo contrario, se devuelve una matriz. Si fuera se da, entonces se devuelve.*\r\n",
        "\r\n",
        "> **Establece**\r\n",
        "1.   **ValueError:** *Si la última dimensión de a no es del mismo tamaño que la penúltima dimensión de b .*"
      ]
    },
    {
      "cell_type": "markdown",
      "metadata": {
        "id": "ub927up1vLnF"
      },
      "source": [
        "Calculating the mean return is fairly intuitive and does not require too much explanation of linear algebra. However, calculating the variance of our portfolio requires a bit more background."
      ]
    },
    {
      "cell_type": "markdown",
      "metadata": {
        "id": "6yDnQGEevLnG"
      },
      "source": [
        "#### Beware of NaN values\n",
        "\n",
        "Most of the time, all of these calculations will work without an issue. However, when working with real data we run the risk of having `nan` values in our arrays. This is NumPy's way of saying that the data there is missing or doesn't exist. These `nan` values can lead to errors in mathematical calculations so it is important to be aware of whether your array contains `nan` values and to know how to drop them."
      ]
    },
    {
      "cell_type": "code",
      "metadata": {
        "id": "kIBOZW4WvLnG",
        "colab": {
          "base_uri": "https://localhost:8080/"
        },
        "outputId": "d85f57c6-1b81-4125-df72-97c519a21b1c"
      },
      "source": [
        "v = np.array([1, 2, np.nan, 4, 5])\n",
        "print(v)"
      ],
      "execution_count": null,
      "outputs": [
        {
          "output_type": "stream",
          "text": [
            "[ 1.  2. nan  4.  5.]\n"
          ],
          "name": "stdout"
        }
      ]
    },
    {
      "cell_type": "markdown",
      "metadata": {
        "id": "EkFXG1LPFsFf"
      },
      "source": [
        "> *NaN es la abreviatura de Not a number. Se utiliza para representar entradas que no están definidas. También se utiliza para representar valores perdidos en un conjunto de datos. Es un valor especial de punto flotante que no se puede convertir a ningún otro tipo que no sea flotante.*\r\n",
        "\r\n"
      ]
    },
    {
      "cell_type": "code",
      "metadata": {
        "colab": {
          "base_uri": "https://localhost:8080/"
        },
        "id": "R7P81ZbcF-Xo",
        "outputId": "8ae252e0-6ee4-41f8-e561-0e3814921d3f"
      },
      "source": [
        "# Mi Ejemplo \r\n",
        "# Utilizado np.ones\r\n",
        "\"\"\"np.ones \r\n",
        "   Devuelve una nueva matriz de forma y tipo dados, con unos.\r\n",
        "\"\"\"\r\n",
        "bot = np.ones(8, dtype=float) # Arreglo de solo unos\r\n",
        "bot[5] = np.nan # Convierte la posicion [5] 5 como no definida\r\n",
        "print(bot)"
      ],
      "execution_count": null,
      "outputs": [
        {
          "output_type": "stream",
          "text": [
            "[ 1.  1.  1.  1.  1. nan  1.  1.]\n"
          ],
          "name": "stdout"
        }
      ]
    },
    {
      "cell_type": "markdown",
      "metadata": {
        "id": "JSk1t9ltvLnH"
      },
      "source": [
        "Let's see what happens when we try to take the mean of this array."
      ]
    },
    {
      "cell_type": "code",
      "metadata": {
        "id": "tWQjejY1vLnI",
        "colab": {
          "base_uri": "https://localhost:8080/"
        },
        "outputId": "e524ace7-bdc0-4c8b-dac5-3ccbdf62ab92"
      },
      "source": [
        "print (np.mean(v))"
      ],
      "execution_count": null,
      "outputs": [
        {
          "output_type": "stream",
          "text": [
            "nan\n"
          ],
          "name": "stdout"
        }
      ]
    },
    {
      "cell_type": "code",
      "metadata": {
        "colab": {
          "base_uri": "https://localhost:8080/"
        },
        "id": "0TCW_UU9IZlR",
        "outputId": "0e671f27-2136-4f75-8b61-f5567ab085b2"
      },
      "source": [
        "# Mi Ejemplo \r\n",
        "print(np.mean(bot))"
      ],
      "execution_count": null,
      "outputs": [
        {
          "output_type": "stream",
          "text": [
            "nan\n"
          ],
          "name": "stdout"
        }
      ]
    },
    {
      "cell_type": "markdown",
      "metadata": {
        "id": "YkUx0zyxvLnI"
      },
      "source": [
        "Clearly, `nan` values can have a large impact on our calculations. Fortunately, we can check for `nan` values with the `isnan()` function."
      ]
    },
    {
      "cell_type": "code",
      "metadata": {
        "id": "W_gCrzU1vLnJ",
        "colab": {
          "base_uri": "https://localhost:8080/"
        },
        "outputId": "a213bf58-8ad0-4b7a-c7b1-b05dff70d4c6"
      },
      "source": [
        "np.isnan(v)"
      ],
      "execution_count": null,
      "outputs": [
        {
          "output_type": "execute_result",
          "data": {
            "text/plain": [
              "array([False, False,  True, False, False])"
            ]
          },
          "metadata": {
            "tags": []
          },
          "execution_count": 94
        }
      ]
    },
    {
      "cell_type": "code",
      "metadata": {
        "colab": {
          "base_uri": "https://localhost:8080/"
        },
        "id": "Eu3YI8X9IgqY",
        "outputId": "39310393-3522-4fef-a139-31a5b9464582"
      },
      "source": [
        "# Mi Ejemplo \r\n",
        "# Revisando cuales elementos están no definidos\r\n",
        "np.isnan(bot)"
      ],
      "execution_count": null,
      "outputs": [
        {
          "output_type": "execute_result",
          "data": {
            "text/plain": [
              "array([False, False, False, False, False,  True, False, False])"
            ]
          },
          "metadata": {
            "tags": []
          },
          "execution_count": 95
        }
      ]
    },
    {
      "cell_type": "markdown",
      "metadata": {
        "id": "ogHobwSHvLnK"
      },
      "source": [
        "Calling `isnan()` on an array will call the function on each value of the array, returning a value of `True` if the element is `nan` and `False` if the element is valid. Now, knowing whether your array contains `nan` values is all well and good, but how do we remove `nan`s? Handily enough, NumPy arrays can be indexed by boolean values (`True` or `False`). If we use a boolean array to index an array, we will remove all values of the array that register as `False` under the condition. We use the `isnan()` function in create a boolean array, assigning a `True` value to everything that is *not* `nan` and a `False` to the `nan`s and we use that to index the same array."
      ]
    },
    {
      "cell_type": "code",
      "metadata": {
        "id": "q_7q86v6vLnK",
        "colab": {
          "base_uri": "https://localhost:8080/"
        },
        "outputId": "24a63b37-f2ce-4102-dd0f-0e3c274ef9cc"
      },
      "source": [
        "ix = ~np.isnan(v) # the ~ indicates a logical not, inverting the bools\n",
        "print (v[ix]) # We can also just write v = v[~np.isnan(v)]"
      ],
      "execution_count": null,
      "outputs": [
        {
          "output_type": "stream",
          "text": [
            "[1. 2. 4. 5.]\n"
          ],
          "name": "stdout"
        }
      ]
    },
    {
      "cell_type": "code",
      "metadata": {
        "colab": {
          "base_uri": "https://localhost:8080/"
        },
        "id": "sQYy08LNI9E9",
        "outputId": "9262fce5-51d3-4317-c479-0605eda1af18"
      },
      "source": [
        "# Mi Ejemplo \r\n",
        "# Ahora se mostrarán los valores que SÍ ESTÁN DEFINIDOS\r\n",
        "t = ~np.isnan(bot)\r\n",
        "print(bot[t])"
      ],
      "execution_count": null,
      "outputs": [
        {
          "output_type": "stream",
          "text": [
            "[1. 1. 1. 1. 1. 1. 1.]\n"
          ],
          "name": "stdout"
        }
      ]
    },
    {
      "cell_type": "code",
      "metadata": {
        "id": "xe-m6_DOvLnL",
        "colab": {
          "base_uri": "https://localhost:8080/"
        },
        "outputId": "1cd5ecd2-2752-4a11-d3ad-074f71656247"
      },
      "source": [
        "print (np.mean(v[ix]))"
      ],
      "execution_count": null,
      "outputs": [
        {
          "output_type": "stream",
          "text": [
            "3.0\n"
          ],
          "name": "stdout"
        }
      ]
    },
    {
      "cell_type": "code",
      "metadata": {
        "colab": {
          "base_uri": "https://localhost:8080/"
        },
        "id": "grriFbnvJRET",
        "outputId": "06126db9-f6a9-43b7-bb7a-75c09def9b24"
      },
      "source": [
        "# Mi Ejemplo \r\n",
        "# Luego de sacar los no difinidos se puede sacar el promedio\r\n",
        "print (np.mean(bot[t]))"
      ],
      "execution_count": null,
      "outputs": [
        {
          "output_type": "stream",
          "text": [
            "1.0\n"
          ],
          "name": "stdout"
        }
      ]
    },
    {
      "cell_type": "markdown",
      "metadata": {
        "id": "JNZ8YTLovLnL"
      },
      "source": [
        "There are a few shortcuts to this process in the form of NumPy functions specifically built to handle them, such as `nanmean()`."
      ]
    },
    {
      "cell_type": "code",
      "metadata": {
        "id": "iWtnVEWmvLnM",
        "colab": {
          "base_uri": "https://localhost:8080/"
        },
        "outputId": "595cda0c-1874-4299-caae-d1f591968729"
      },
      "source": [
        "print (np.nanmean(v))"
      ],
      "execution_count": null,
      "outputs": [
        {
          "output_type": "stream",
          "text": [
            "3.0\n"
          ],
          "name": "stdout"
        }
      ]
    },
    {
      "cell_type": "code",
      "metadata": {
        "colab": {
          "base_uri": "https://localhost:8080/"
        },
        "id": "knrGFTS8NfAK",
        "outputId": "cdb1977b-66a2-4be3-fd36-8e105d8ea1ae"
      },
      "source": [
        "# Mi Ejemplo \r\n",
        "# De igual manera con esta funcion se puede sacar los no difinidos se puede sacar el promedio\r\n",
        "print (np.nanmean(bot))"
      ],
      "execution_count": null,
      "outputs": [
        {
          "output_type": "stream",
          "text": [
            "1.0\n"
          ],
          "name": "stdout"
        }
      ]
    },
    {
      "cell_type": "markdown",
      "metadata": {
        "id": "4D7Bd3L6vLnM"
      },
      "source": [
        "The `nanmean()` function simply calculates the mean of the array as if there were no `nan` values at all! There are a few more of these functions, so feel free to read more about them in the [documentation](https://docs.scipy.org/doc/numpy/user/index.html). These indeterminate values are more an issue with data than linear algebra itself so it is helpful that there are ways to handle them."
      ]
    },
    {
      "cell_type": "markdown",
      "metadata": {
        "id": "ISrc78XPvLnM"
      },
      "source": [
        "### Conclusion\n",
        "\n",
        "Linear algebra is pervasive in finance and in general. For example, the calculation of *optimal* weights according to modern portfolio theory is done using linear algebra techniques. The arrays and functions in NumPy allow us to handle these calculations in an intuitive way. For a quick intro to linear algebra and how to use NumPy to do more significant matrix calculations, proceed to the next section."
      ]
    },
    {
      "cell_type": "markdown",
      "metadata": {
        "id": "JrvxYb-kvLnM"
      },
      "source": [
        "## A brief foray into linear algebra\n",
        "\n",
        "Let's start with a basic overview of some linear algebra. Linear algebra comes down to the multiplication and composition of scalar and matrix values. A scalar value is just a real number that we multiply against an array. When we scale a matrix or array using a scalar, we multiply each individual element of that matrix or array by the scalar.\n",
        "\n",
        "A matrix is a collection of values, typically represented by an $m \\times n$ grid, where $m$ is the number of rows and $n$ is the number of columns. The edge lengths $m$ and $n$ do not necessarily have to be different. If we have $m = n$, we call this a square matrix. A particularly interesting case of a matrix is when $m = 1$ or $n = 1$. In this case we have a special case of a matrix that we call a vector. While there is a matrix object in NumPy we will be doing everything using NumPy arrays because they can have dimensions greater than $2$. For the purpose of this section, we will be using matrix and array interchangeably.\n",
        "\n",
        "We can express the matrix equation as:\n",
        "\n",
        "$$ y = A\\cdot x $$\n",
        "\n",
        "Where $A$ is an $m \\times n$ matrix, $y$ is a $m \\times 1$ vector, and $x$ is a $n \\times 1$ vector. On the right-hand side of the equation we are multiplying a matrix by a vector. This requires a little bit more clarification, lest we think that we can go about multiplying any matrices by any other matrices.\n",
        "\n",
        "#### Matrix multiplication\n",
        "\n",
        "With matrix multiplication, the order in which the matrices are multiplied matters. Multiplying a matrix on the left side by another matrix may be just fine, but multiplying on the right may be undefined."
      ]
    },
    {
      "cell_type": "code",
      "metadata": {
        "collapsed": true,
        "id": "bRowlXakvLnN"
      },
      "source": [
        "A = np.array([\n",
        "        [1, 2, 3, 12, 6],\n",
        "        [4, 5, 6, 15, 20],\n",
        "        [7, 8, 9, 10, 10]        \n",
        "    ])\n",
        "B = np.array([\n",
        "        [4, 4, 2],\n",
        "        [2, 3, 1],\n",
        "        [6, 5, 8],\n",
        "        [9, 9, 9]\n",
        "    ])"
      ],
      "execution_count": null,
      "outputs": []
    },
    {
      "cell_type": "code",
      "metadata": {
        "id": "dybgDcmuPTwn"
      },
      "source": [
        "# Mi Ejemplo \r\n",
        "c = np.array([ [4, 5], \r\n",
        "              [8, 9], \r\n",
        "              [7, 2], \r\n",
        "              [1, 3]])\r\n",
        "d = np.array([ [1, 5, 3, 6, 8], \r\n",
        "              [8, 2, 5, 1, 6]])"
      ],
      "execution_count": null,
      "outputs": []
    },
    {
      "cell_type": "markdown",
      "metadata": {
        "id": "HvUNv6_dvLnN"
      },
      "source": [
        "Notice that the above-defined matrices, $A$ and $B$, have different dimensions. $A$ is $3 \\times 5$ and $B$ is $4 \\times 3$. The general rule of what can and cannot be multiplied in which order is based on the dimensions of the matrices. Specifically, the number of columns in the matrix on the left must be equal to the number of rows in the matrix on the right. In super informal terms, let's say that we have an $m \\times n$ matrix and a $p \\times q$ matrix. If we multiply the first by the second on the right, we get the following:\n",
        "\n",
        "$$ (m \\times n) \\cdot (p \\times q) = (m \\times q) $$\n",
        "\n",
        "So the resultant product has the same number of rows as the left matrix and the same number of columns as the right matrix. This limitation of matrix multiplication with regards to dimensions is important to keep track of when writing code. To demonstrate this, we use the `dot()` function to multiply our matrices below:"
      ]
    },
    {
      "cell_type": "code",
      "metadata": {
        "id": "Vf_HEDDlvLnN",
        "colab": {
          "base_uri": "https://localhost:8080/",
          "height": 197
        },
        "outputId": "0744ab10-86c1-4631-ec7e-bb6a4fa794bc"
      },
      "source": [
        "print (np.dot(A, B))"
      ],
      "execution_count": null,
      "outputs": [
        {
          "output_type": "error",
          "ename": "ValueError",
          "evalue": "ignored",
          "traceback": [
            "\u001b[0;31m---------------------------------------------------------------------------\u001b[0m",
            "\u001b[0;31mValueError\u001b[0m                                Traceback (most recent call last)",
            "\u001b[0;32m<ipython-input-105-39086c8c885f>\u001b[0m in \u001b[0;36m<module>\u001b[0;34m()\u001b[0m\n\u001b[0;32m----> 1\u001b[0;31m \u001b[0mprint\u001b[0m \u001b[0;34m(\u001b[0m\u001b[0mnp\u001b[0m\u001b[0;34m.\u001b[0m\u001b[0mdot\u001b[0m\u001b[0;34m(\u001b[0m\u001b[0mA\u001b[0m\u001b[0;34m,\u001b[0m \u001b[0mB\u001b[0m\u001b[0;34m)\u001b[0m\u001b[0;34m)\u001b[0m\u001b[0;34m\u001b[0m\u001b[0;34m\u001b[0m\u001b[0m\n\u001b[0m",
            "\u001b[0;32m<__array_function__ internals>\u001b[0m in \u001b[0;36mdot\u001b[0;34m(*args, **kwargs)\u001b[0m\n",
            "\u001b[0;31mValueError\u001b[0m: shapes (3,5) and (4,3) not aligned: 5 (dim 1) != 4 (dim 0)"
          ]
        }
      ]
    },
    {
      "cell_type": "code",
      "metadata": {
        "id": "K11v6qwUQApR",
        "colab": {
          "base_uri": "https://localhost:8080/",
          "height": 214
        },
        "outputId": "fd9743e8-eca8-48f9-fcc4-d5e7a4c72752"
      },
      "source": [
        "# Mi Ejemplo \r\n",
        "print (np.dot(d, c))"
      ],
      "execution_count": null,
      "outputs": [
        {
          "output_type": "error",
          "ename": "ValueError",
          "evalue": "ignored",
          "traceback": [
            "\u001b[0;31m---------------------------------------------------------------------------\u001b[0m",
            "\u001b[0;31mValueError\u001b[0m                                Traceback (most recent call last)",
            "\u001b[0;32m<ipython-input-106-28825c8a7cbf>\u001b[0m in \u001b[0;36m<module>\u001b[0;34m()\u001b[0m\n\u001b[1;32m      1\u001b[0m \u001b[0;31m# Mi Ejemplo\u001b[0m\u001b[0;34m\u001b[0m\u001b[0;34m\u001b[0m\u001b[0;34m\u001b[0m\u001b[0m\n\u001b[0;32m----> 2\u001b[0;31m \u001b[0mprint\u001b[0m \u001b[0;34m(\u001b[0m\u001b[0mnp\u001b[0m\u001b[0;34m.\u001b[0m\u001b[0mdot\u001b[0m\u001b[0;34m(\u001b[0m\u001b[0md\u001b[0m\u001b[0;34m,\u001b[0m \u001b[0mc\u001b[0m\u001b[0;34m)\u001b[0m\u001b[0;34m)\u001b[0m\u001b[0;34m\u001b[0m\u001b[0;34m\u001b[0m\u001b[0m\n\u001b[0m",
            "\u001b[0;32m<__array_function__ internals>\u001b[0m in \u001b[0;36mdot\u001b[0;34m(*args, **kwargs)\u001b[0m\n",
            "\u001b[0;31mValueError\u001b[0m: shapes (2,5) and (4,2) not aligned: 5 (dim 1) != 4 (dim 0)"
          ]
        }
      ]
    },
    {
      "cell_type": "markdown",
      "metadata": {
        "id": "fYMn2GUgOrrq"
      },
      "source": [
        "> *Los anteriores códigos muestran los siguientes errores respectivamente:\r\n",
        " $$ ValueError: shapes (3,5) and (4,3) not aligned: 5 (dim 1) != 4 (dim 0) $$\r\n",
        " $$ ValueError: shapes (2,5) and (4,2) not aligned: 5 (dim 1) != 4 (dim 0) $$\r\n",
        " > Pues:\r\n",
        " >>*Solo es posible multiplicar dos matrices si sus dimensiones son **compatibles**, lo que significa que el número de columnas en la primera matriz debe ser igual al número de filas en la segunda matriz.*"
      ]
    },
    {
      "cell_type": "markdown",
      "metadata": {
        "id": "CxFD3QbcIuA1"
      },
      "source": [
        "> *Si $A$ es una matriz de dimensión $mxn$  y $B$  es de dimensión $nxr$, entonces el producto $A \\cdot B$ es una matriz de dimensión $mxr$.*\r\n",
        "\r\n",
        "> **¡Importante!** El número de filas de $B$ tiene que ser igual al número de columnas de $A$.\r\n",
        "\r\n",
        "> *Como ejemplo se multiplicará una matriz de dos filas por una matriz columna:* \r\n",
        "\r\n",
        "$$\\begin{pmatrix}\r\n",
        "1 & -2 & 3\\\\ \r\n",
        "1 & 0 & -1 \r\n",
        "\\end{pmatrix} \\cdot  \\begin{pmatrix}\r\n",
        "4 \\\\ 5 \\\\ 6 \r\n",
        "\\end{pmatrix} = \r\n",
        "A \\cdot B $$\r\n",
        "\r\n",
        "> *El resultado del producto es una matriz columna con dos filas:* \r\n",
        "\r\n",
        "$$ \\begin{pmatrix}\r\n",
        "1\\cdot 4-2\\cdot 5+3\\cdot 6\\\\ \r\n",
        "1\\cdot 4+0\\cdot 5-1\\cdot 6\r\n",
        "\\end{pmatrix} = \\begin{pmatrix}\r\n",
        "12\\\\ \r\n",
        "-2\r\n",
        "\\end{pmatrix} $$"
      ]
    },
    {
      "cell_type": "markdown",
      "metadata": {
        "id": "hquqQrbovLnO"
      },
      "source": [
        "These results make sense in accordance with our rule. Multiplying a $3 \\times 5$ matrix on the right by a $4 \\times 3$ matrix results in an error while multiplying a $4 \\times 3$ matrix on the right by a $3 \\times 5$ matrix results in a $4 \\times 5$ matrix."
      ]
    },
    {
      "cell_type": "code",
      "metadata": {
        "id": "NUZHKJpUvLnO",
        "colab": {
          "base_uri": "https://localhost:8080/"
        },
        "outputId": "1a93f994-a66e-4e11-b5b4-5b1f37679306"
      },
      "source": [
        "print (np.dot(B, A))"
      ],
      "execution_count": null,
      "outputs": [
        {
          "output_type": "stream",
          "text": [
            "[[ 34  44  54 128 124]\n",
            " [ 21  27  33  79  82]\n",
            " [ 82 101 120 227 216]\n",
            " [108 135 162 333 324]]\n"
          ],
          "name": "stdout"
        }
      ]
    },
    {
      "cell_type": "code",
      "metadata": {
        "colab": {
          "base_uri": "https://localhost:8080/"
        },
        "id": "nV5hT_lFQYze",
        "outputId": "304721e8-02c4-414e-f2bf-892b81a9241e"
      },
      "source": [
        "# Mi Ejemplo \r\n",
        "# Correctamente se puede multiplicar así:\r\n",
        "print (np.dot(c, d))"
      ],
      "execution_count": null,
      "outputs": [
        {
          "output_type": "stream",
          "text": [
            "[[ 44  30  37  29  62]\n",
            " [ 80  58  69  57 118]\n",
            " [ 23  39  31  44  68]\n",
            " [ 25  11  18   9  26]]\n"
          ],
          "name": "stdout"
        }
      ]
    },
    {
      "cell_type": "markdown",
      "metadata": {
        "id": "_XkHaxZ5vLnO"
      },
      "source": [
        "### Portfolio Variance\n",
        "\n",
        "Let's return to our portfolio example from before. We calculated the expected return of the portfolio, but how do we calculate the variance? We start by trying to evaluate the portfolio as a sum of each individual asset, scaled by it's weight.\n",
        "\n",
        "$$ VAR[P] = VAR[\\omega_1 S_1 + \\omega_2 S_2 + \\cdots + \\omega_N S_N] $$\n",
        "\n",
        "Where $S_0, \\cdots, S_N$ are the assets contained within our universe. If all of our assets were independent of each other, we could simply evaluate this as\n",
        "\n",
        "$$ VAR[P] = VAR[\\omega_1 S_1] + VAR[\\omega_2 S_2] + \\cdots + VAR[\\omega_N S_N] = \\omega_1^2\\sigma_1^2 + \\omega_2^2\\sigma_2^2 + \\cdots + \\omega_N^2\\sigma_N^2 $$\n",
        "\n",
        "However, all of our assets depend on each other by their construction. They are all in some way related to our base asset and therefore each other. We thus have to calculate the variance of the portfolio by including the individual pairwise covariances of each asset. Our formula for the variance of the portfolio:\n",
        "\n",
        "$$ VAR[P] = \\sigma_P^2 = \\sum_i \\omega_i^2\\sigma_i^2 + \\sum_i\\sum_{i\\neq j} \\omega_i\\omega_j\\sigma_i\\sigma_j\\rho_{i, j}, \\ i, j \\in \\lbrace 1, 2, \\cdots, N \\rbrace $$\n",
        "\n",
        "Where $\\rho_{i,j}$ is the correlation between $S_i$ and $S_j$, $\\rho_{i, j} = \\frac{COV[S_i, S_j]}{\\sigma_i\\sigma_j}$. This seems exceedingly complicated, but we can easily handle all of this using NumPy arrays. First, we calculate the covariance matrix that relates all the individual stocks in our universe."
      ]
    },
    {
      "cell_type": "code",
      "metadata": {
        "colab": {
          "base_uri": "https://localhost:8080/"
        },
        "id": "tQj4YI46vLnO",
        "outputId": "accce10b-aab1-4403-9e1e-6592a50f2dae"
      },
      "source": [
        "cov_mat = np.cov(returns)\n",
        "print(cov_mat)"
      ],
      "execution_count": null,
      "outputs": [
        {
          "output_type": "stream",
          "text": [
            "[[0.00088164 0.00083564 0.00100864 0.00080251 0.00087946 0.00089982\n",
            "  0.00087974 0.00083603 0.00092586 0.00082626]\n",
            " [0.00083564 0.00119364 0.00090567 0.00078157 0.00082436 0.00080362\n",
            "  0.00083381 0.00080469 0.00087991 0.00081054]\n",
            " [0.00100864 0.00090567 0.00160127 0.00084667 0.00103151 0.00104439\n",
            "  0.0010108  0.0009093  0.00105169 0.00098841]\n",
            " [0.00080251 0.00078157 0.00084667 0.00106737 0.00079684 0.00075884\n",
            "  0.00085698 0.00076214 0.00083028 0.00075893]\n",
            " [0.00087946 0.00082436 0.00103151 0.00079684 0.00129363 0.00087562\n",
            "  0.00084642 0.00078455 0.00090996 0.00086171]\n",
            " [0.00089982 0.00080362 0.00104439 0.00075884 0.00087562 0.00129548\n",
            "  0.0009238  0.00088472 0.0009112  0.00082708]\n",
            " [0.00087974 0.00083381 0.0010108  0.00085698 0.00084642 0.0009238\n",
            "  0.00124178 0.00083715 0.00095249 0.00082097]\n",
            " [0.00083603 0.00080469 0.0009093  0.00076214 0.00078455 0.00088472\n",
            "  0.00083715 0.00119745 0.00078309 0.00079179]\n",
            " [0.00092586 0.00087991 0.00105169 0.00083028 0.00090996 0.0009112\n",
            "  0.00095249 0.00078309 0.00137197 0.00087028]\n",
            " [0.00082626 0.00081054 0.00098841 0.00075893 0.00086171 0.00082708\n",
            "  0.00082097 0.00079179 0.00087028 0.00109139]]\n"
          ],
          "name": "stdout"
        }
      ]
    },
    {
      "cell_type": "code",
      "metadata": {
        "colab": {
          "base_uri": "https://localhost:8080/"
        },
        "id": "GmtVZmI_Hjrj",
        "outputId": "9180dada-44ec-4ad2-980e-2c6486e75228"
      },
      "source": [
        "# Mi ejemplo\r\n",
        "cov_mat1 = np.cov(returns1)\r\n",
        "print(cov_mat1)"
      ],
      "execution_count": null,
      "outputs": [
        {
          "output_type": "stream",
          "text": [
            "[[0.0008222  0.00079389 0.00088694 0.00095312 0.00055    0.0008462\n",
            "  0.00083302 0.00060991]\n",
            " [0.00079389 0.00140683 0.00099248 0.0011682  0.00053206 0.00094018\n",
            "  0.00060552 0.00041071]\n",
            " [0.00088694 0.00099248 0.00137294 0.00096316 0.00044604 0.00089829\n",
            "  0.00087065 0.00079376]\n",
            " [0.00095312 0.0011682  0.00096316 0.00160867 0.0004311  0.00097697\n",
            "  0.00076002 0.00056202]\n",
            " [0.00055    0.00053206 0.00044604 0.0004311  0.00066096 0.00061699\n",
            "  0.00059103 0.00029789]\n",
            " [0.0008462  0.00094018 0.00089829 0.00097697 0.00061699 0.00099627\n",
            "  0.00082734 0.00070311]\n",
            " [0.00083302 0.00060552 0.00087065 0.00076002 0.00059103 0.00082734\n",
            "  0.0011542  0.00067478]\n",
            " [0.00060991 0.00041071 0.00079376 0.00056202 0.00029789 0.00070311\n",
            "  0.00067478 0.00083299]]\n"
          ],
          "name": "stdout"
        }
      ]
    },
    {
      "cell_type": "markdown",
      "metadata": {
        "id": "ejI9ikDzSVMO"
      },
      "source": [
        "> **Covarianza**\r\n",
        ">> *La covarianza mide la relación direccional entre los rendimientos de dos activos.\r\n",
        "Una covarianza positiva significa que los rendimientos de los dos activos se mueven juntos, mientras que una covarianza negativa significa que se mueven inversamente. El riesgo y la volatilidad se pueden reducir en una cartera emparejando activos que tienen una covarianza negativa.*\r\n",
        "\r\n",
        "> *Podemos calcular la covarianza de Tesla y Facebook usando la función:* $ .cov() $\r\n",
        "\r\n",
        "> *La fórmula de la covarianza se expresa como sigue:* \r\n",
        "\r\n",
        "$$ Cov(x,y) = \\frac{\\sum_{1}^{n}(x_{i} - \\bar{x})(y_{i} - \\bar{y})}{n} $$"
      ]
    },
    {
      "cell_type": "code",
      "metadata": {
        "colab": {
          "base_uri": "https://localhost:8080/",
          "height": 286
        },
        "id": "-EFK3uJ6SzEl",
        "outputId": "fbeef67c-e231-4564-e55f-c0a2ab69e3af"
      },
      "source": [
        "# Mi ejemplo\r\n",
        "# Cargamos los paquetes necessarios\r\n",
        "import numpy as np\r\n",
        "import pandas as pd\r\n",
        "from pandas_datareader import data\r\n",
        "import matplotlib.pyplot as plt\r\n",
        "%matplotlib inline\r\n",
        "\r\n",
        "# Se leen los datos desde TESLA Y FACEBOOK\r\n",
        "test = data.DataReader(['TSLA', 'FB'], 'yahoo', start='2020/11/01', end='2021/12/01')\r\n",
        "test.head() # Muestra únicamente el encabezado"
      ],
      "execution_count": null,
      "outputs": [
        {
          "output_type": "execute_result",
          "data": {
            "text/html": [
              "<div>\n",
              "<style scoped>\n",
              "    .dataframe tbody tr th:only-of-type {\n",
              "        vertical-align: middle;\n",
              "    }\n",
              "\n",
              "    .dataframe tbody tr th {\n",
              "        vertical-align: top;\n",
              "    }\n",
              "\n",
              "    .dataframe thead tr th {\n",
              "        text-align: left;\n",
              "    }\n",
              "\n",
              "    .dataframe thead tr:last-of-type th {\n",
              "        text-align: right;\n",
              "    }\n",
              "</style>\n",
              "<table border=\"1\" class=\"dataframe\">\n",
              "  <thead>\n",
              "    <tr>\n",
              "      <th>Attributes</th>\n",
              "      <th colspan=\"2\" halign=\"left\">Adj Close</th>\n",
              "      <th colspan=\"2\" halign=\"left\">Close</th>\n",
              "      <th colspan=\"2\" halign=\"left\">High</th>\n",
              "      <th colspan=\"2\" halign=\"left\">Low</th>\n",
              "      <th colspan=\"2\" halign=\"left\">Open</th>\n",
              "      <th colspan=\"2\" halign=\"left\">Volume</th>\n",
              "    </tr>\n",
              "    <tr>\n",
              "      <th>Symbols</th>\n",
              "      <th>TSLA</th>\n",
              "      <th>FB</th>\n",
              "      <th>TSLA</th>\n",
              "      <th>FB</th>\n",
              "      <th>TSLA</th>\n",
              "      <th>FB</th>\n",
              "      <th>TSLA</th>\n",
              "      <th>FB</th>\n",
              "      <th>TSLA</th>\n",
              "      <th>FB</th>\n",
              "      <th>TSLA</th>\n",
              "      <th>FB</th>\n",
              "    </tr>\n",
              "    <tr>\n",
              "      <th>Date</th>\n",
              "      <th></th>\n",
              "      <th></th>\n",
              "      <th></th>\n",
              "      <th></th>\n",
              "      <th></th>\n",
              "      <th></th>\n",
              "      <th></th>\n",
              "      <th></th>\n",
              "      <th></th>\n",
              "      <th></th>\n",
              "      <th></th>\n",
              "      <th></th>\n",
              "    </tr>\n",
              "  </thead>\n",
              "  <tbody>\n",
              "    <tr>\n",
              "      <th>2020-11-02</th>\n",
              "      <td>400.510010</td>\n",
              "      <td>261.359985</td>\n",
              "      <td>400.510010</td>\n",
              "      <td>261.359985</td>\n",
              "      <td>406.980011</td>\n",
              "      <td>270.470001</td>\n",
              "      <td>392.299988</td>\n",
              "      <td>257.339996</td>\n",
              "      <td>394.000000</td>\n",
              "      <td>264.600006</td>\n",
              "      <td>29021100</td>\n",
              "      <td>27165700</td>\n",
              "    </tr>\n",
              "    <tr>\n",
              "      <th>2020-11-03</th>\n",
              "      <td>423.899994</td>\n",
              "      <td>265.299988</td>\n",
              "      <td>423.899994</td>\n",
              "      <td>265.299988</td>\n",
              "      <td>427.769989</td>\n",
              "      <td>270.049988</td>\n",
              "      <td>406.690002</td>\n",
              "      <td>260.880005</td>\n",
              "      <td>409.730011</td>\n",
              "      <td>263.160004</td>\n",
              "      <td>34351700</td>\n",
              "      <td>17961900</td>\n",
              "    </tr>\n",
              "    <tr>\n",
              "      <th>2020-11-04</th>\n",
              "      <td>420.980011</td>\n",
              "      <td>287.380005</td>\n",
              "      <td>420.980011</td>\n",
              "      <td>287.380005</td>\n",
              "      <td>435.399994</td>\n",
              "      <td>288.940002</td>\n",
              "      <td>417.100006</td>\n",
              "      <td>278.619995</td>\n",
              "      <td>430.619995</td>\n",
              "      <td>281.000000</td>\n",
              "      <td>32143100</td>\n",
              "      <td>35364400</td>\n",
              "    </tr>\n",
              "    <tr>\n",
              "      <th>2020-11-05</th>\n",
              "      <td>438.089996</td>\n",
              "      <td>294.679993</td>\n",
              "      <td>438.089996</td>\n",
              "      <td>294.679993</td>\n",
              "      <td>440.000000</td>\n",
              "      <td>297.380005</td>\n",
              "      <td>424.000000</td>\n",
              "      <td>288.950012</td>\n",
              "      <td>428.299988</td>\n",
              "      <td>291.899994</td>\n",
              "      <td>28414500</td>\n",
              "      <td>23823600</td>\n",
              "    </tr>\n",
              "    <tr>\n",
              "      <th>2020-11-06</th>\n",
              "      <td>429.950012</td>\n",
              "      <td>293.410004</td>\n",
              "      <td>429.950012</td>\n",
              "      <td>293.410004</td>\n",
              "      <td>436.570007</td>\n",
              "      <td>294.600006</td>\n",
              "      <td>424.279999</td>\n",
              "      <td>288.059998</td>\n",
              "      <td>436.100006</td>\n",
              "      <td>293.950012</td>\n",
              "      <td>21706000</td>\n",
              "      <td>13891000</td>\n",
              "    </tr>\n",
              "  </tbody>\n",
              "</table>\n",
              "</div>"
            ],
            "text/plain": [
              "Attributes   Adj Close                   Close  ...        Open    Volume          \n",
              "Symbols           TSLA          FB        TSLA  ...          FB      TSLA        FB\n",
              "Date                                            ...                                \n",
              "2020-11-02  400.510010  261.359985  400.510010  ...  264.600006  29021100  27165700\n",
              "2020-11-03  423.899994  265.299988  423.899994  ...  263.160004  34351700  17961900\n",
              "2020-11-04  420.980011  287.380005  420.980011  ...  281.000000  32143100  35364400\n",
              "2020-11-05  438.089996  294.679993  438.089996  ...  291.899994  28414500  23823600\n",
              "2020-11-06  429.950012  293.410004  429.950012  ...  293.950012  21706000  13891000\n",
              "\n",
              "[5 rows x 12 columns]"
            ]
          },
          "metadata": {
            "tags": []
          },
          "execution_count": 110
        }
      ]
    },
    {
      "cell_type": "code",
      "metadata": {
        "colab": {
          "base_uri": "https://localhost:8080/",
          "height": 235
        },
        "id": "AuXeQ6qpWTDl",
        "outputId": "905337fa-c222-4920-a6b9-cfb967c6132a"
      },
      "source": [
        "# Mi ejemplo\r\n",
        "# Se extraen los Percios de cierre\r\n",
        "test = test['Adj Close']\r\n",
        "test.head()"
      ],
      "execution_count": null,
      "outputs": [
        {
          "output_type": "execute_result",
          "data": {
            "text/html": [
              "<div>\n",
              "<style scoped>\n",
              "    .dataframe tbody tr th:only-of-type {\n",
              "        vertical-align: middle;\n",
              "    }\n",
              "\n",
              "    .dataframe tbody tr th {\n",
              "        vertical-align: top;\n",
              "    }\n",
              "\n",
              "    .dataframe thead th {\n",
              "        text-align: right;\n",
              "    }\n",
              "</style>\n",
              "<table border=\"1\" class=\"dataframe\">\n",
              "  <thead>\n",
              "    <tr style=\"text-align: right;\">\n",
              "      <th>Symbols</th>\n",
              "      <th>TSLA</th>\n",
              "      <th>FB</th>\n",
              "    </tr>\n",
              "    <tr>\n",
              "      <th>Date</th>\n",
              "      <th></th>\n",
              "      <th></th>\n",
              "    </tr>\n",
              "  </thead>\n",
              "  <tbody>\n",
              "    <tr>\n",
              "      <th>2020-11-02</th>\n",
              "      <td>400.510010</td>\n",
              "      <td>261.359985</td>\n",
              "    </tr>\n",
              "    <tr>\n",
              "      <th>2020-11-03</th>\n",
              "      <td>423.899994</td>\n",
              "      <td>265.299988</td>\n",
              "    </tr>\n",
              "    <tr>\n",
              "      <th>2020-11-04</th>\n",
              "      <td>420.980011</td>\n",
              "      <td>287.380005</td>\n",
              "    </tr>\n",
              "    <tr>\n",
              "      <th>2020-11-05</th>\n",
              "      <td>438.089996</td>\n",
              "      <td>294.679993</td>\n",
              "    </tr>\n",
              "    <tr>\n",
              "      <th>2020-11-06</th>\n",
              "      <td>429.950012</td>\n",
              "      <td>293.410004</td>\n",
              "    </tr>\n",
              "  </tbody>\n",
              "</table>\n",
              "</div>"
            ],
            "text/plain": [
              "Symbols           TSLA          FB\n",
              "Date                              \n",
              "2020-11-02  400.510010  261.359985\n",
              "2020-11-03  423.899994  265.299988\n",
              "2020-11-04  420.980011  287.380005\n",
              "2020-11-05  438.089996  294.679993\n",
              "2020-11-06  429.950012  293.410004"
            ]
          },
          "metadata": {
            "tags": []
          },
          "execution_count": 111
        }
      ]
    },
    {
      "cell_type": "code",
      "metadata": {
        "colab": {
          "base_uri": "https://localhost:8080/",
          "height": 235
        },
        "id": "YIHakhWrU2Gj",
        "outputId": "009b93c7-c93d-4cef-f2b2-a732dc059889"
      },
      "source": [
        "# Mi ejemplo\r\n",
        "# Se calcula el cambio porcentual en los precios de las acciones\r\n",
        "# tomamando el logaritmo del cambio porcentual\r\n",
        "test1 = test.pct_change().apply(lambda x: np.log(1+x))\r\n",
        "test1.head()"
      ],
      "execution_count": null,
      "outputs": [
        {
          "output_type": "execute_result",
          "data": {
            "text/html": [
              "<div>\n",
              "<style scoped>\n",
              "    .dataframe tbody tr th:only-of-type {\n",
              "        vertical-align: middle;\n",
              "    }\n",
              "\n",
              "    .dataframe tbody tr th {\n",
              "        vertical-align: top;\n",
              "    }\n",
              "\n",
              "    .dataframe thead th {\n",
              "        text-align: right;\n",
              "    }\n",
              "</style>\n",
              "<table border=\"1\" class=\"dataframe\">\n",
              "  <thead>\n",
              "    <tr style=\"text-align: right;\">\n",
              "      <th>Symbols</th>\n",
              "      <th>TSLA</th>\n",
              "      <th>FB</th>\n",
              "    </tr>\n",
              "    <tr>\n",
              "      <th>Date</th>\n",
              "      <th></th>\n",
              "      <th></th>\n",
              "    </tr>\n",
              "  </thead>\n",
              "  <tbody>\n",
              "    <tr>\n",
              "      <th>2020-11-02</th>\n",
              "      <td>NaN</td>\n",
              "      <td>NaN</td>\n",
              "    </tr>\n",
              "    <tr>\n",
              "      <th>2020-11-03</th>\n",
              "      <td>0.056759</td>\n",
              "      <td>0.014963</td>\n",
              "    </tr>\n",
              "    <tr>\n",
              "      <th>2020-11-04</th>\n",
              "      <td>-0.006912</td>\n",
              "      <td>0.079944</td>\n",
              "    </tr>\n",
              "    <tr>\n",
              "      <th>2020-11-05</th>\n",
              "      <td>0.039839</td>\n",
              "      <td>0.025085</td>\n",
              "    </tr>\n",
              "    <tr>\n",
              "      <th>2020-11-06</th>\n",
              "      <td>-0.018755</td>\n",
              "      <td>-0.004319</td>\n",
              "    </tr>\n",
              "  </tbody>\n",
              "</table>\n",
              "</div>"
            ],
            "text/plain": [
              "Symbols         TSLA        FB\n",
              "Date                          \n",
              "2020-11-02       NaN       NaN\n",
              "2020-11-03  0.056759  0.014963\n",
              "2020-11-04 -0.006912  0.079944\n",
              "2020-11-05  0.039839  0.025085\n",
              "2020-11-06 -0.018755 -0.004319"
            ]
          },
          "metadata": {
            "tags": []
          },
          "execution_count": 112
        }
      ]
    },
    {
      "cell_type": "code",
      "metadata": {
        "colab": {
          "base_uri": "https://localhost:8080/"
        },
        "id": "7ntn9DtUUAzc",
        "outputId": "31b89933-0134-4482-a257-725058e10492"
      },
      "source": [
        "# Mi ejemplo\r\n",
        "# Hallamos la covarianza\r\n",
        "test1['TSLA'].cov(test1['FB'])"
      ],
      "execution_count": null,
      "outputs": [
        {
          "output_type": "execute_result",
          "data": {
            "text/plain": [
              "0.00033624215563781513"
            ]
          },
          "metadata": {
            "tags": []
          },
          "execution_count": 113
        }
      ]
    },
    {
      "cell_type": "markdown",
      "metadata": {
        "id": "xUkCLm3IXV_0"
      },
      "source": [
        "> *Se puede notar que existe una pequeña covarianza positiva entre Tesla y Facebook: los rendimientos de los dos activos se mueven juntos.*\r\n",
        "\r\n"
      ]
    },
    {
      "cell_type": "markdown",
      "metadata": {
        "id": "JtcHsSRQvLnP"
      },
      "source": [
        "This array is not formatted particularly nicely, but a covariance matrix is a very important concept. The covariance matrix is of the form:\n",
        "\n",
        "$$ \\left[\\begin{matrix}\n",
        "VAR[S_1] & COV[S_1, S_2] & \\cdots & COV[S_1, S_N] \\\\\n",
        "COV[S_2, S_1] & VAR[S_2] & \\cdots & COV[S_2, S_N] \\\\\n",
        "\\vdots & \\vdots & \\ddots & \\vdots \\\\\n",
        "COV[S_N, S_1] & COV[S_N, S_2] & \\cdots & VAR[S_N]\n",
        "\\end{matrix}\\right] $$\n",
        "\n",
        "So each diagonal entry is the variance of that asset at that index and each off-diagonal holds the covariance of two assets indexed by the column and row number. What is important is that once we have the covariance matrix we are able to do some very quick linear algebra to calculate the variance of the overall portfolio. We can represent the variance of the portfolio in array form as:\n",
        "\n",
        "$$ \\sigma_p^2 = \\omega \\ C \\ \\omega^\\intercal$$\n",
        "\n",
        "Where $C$ is the covariance matrix of all the assets and $\\omega$ is the array containing the weights of each individual asset. The superscript $\\intercal$ on the second $\\omega$ listed above denotes the **transpose** of $\\omega$. For a reference on the evaluation of the variance of a portfolio as a matrix equation, please see the Wikipedia article on [modern portfolio theory](https://en.wikipedia.org/wiki/Modern_portfolio_theory).\n",
        "\n",
        "The transpose of an array is what you get when you switch the rows and columns of an array. This has the effect of reflecting an array across what you might imagine as a diagonal. For example, take our array $A$ from before:"
      ]
    },
    {
      "cell_type": "code",
      "metadata": {
        "colab": {
          "base_uri": "https://localhost:8080/"
        },
        "id": "NJUq-QsJvLnP",
        "outputId": "1851af3c-1e6e-4852-f13e-2ec4e6c57f7a"
      },
      "source": [
        "print (A)"
      ],
      "execution_count": null,
      "outputs": [
        {
          "output_type": "stream",
          "text": [
            "[[ 1  2  3 12  6]\n",
            " [ 4  5  6 15 20]\n",
            " [ 7  8  9 10 10]]\n"
          ],
          "name": "stdout"
        }
      ]
    },
    {
      "cell_type": "code",
      "metadata": {
        "colab": {
          "base_uri": "https://localhost:8080/"
        },
        "id": "GsIwQVtbXoFz",
        "outputId": "8342f580-f8f9-4078-d1fc-a13bad69217f"
      },
      "source": [
        "# Mi ejemplo\r\n",
        "# Matriz d que ya tenía descrita más arriba\r\n",
        "print(d)"
      ],
      "execution_count": null,
      "outputs": [
        {
          "output_type": "stream",
          "text": [
            "[[1 5 3 6 8]\n",
            " [8 2 5 1 6]]\n"
          ],
          "name": "stdout"
        }
      ]
    },
    {
      "cell_type": "markdown",
      "metadata": {
        "id": "CKmOiwiCvLnP"
      },
      "source": [
        "The transpose looks like a mirror image of the same array."
      ]
    },
    {
      "cell_type": "code",
      "metadata": {
        "id": "yzKLJhGSvLnQ",
        "colab": {
          "base_uri": "https://localhost:8080/"
        },
        "outputId": "ee0ed409-07e1-4658-ae4f-6d81550a83d0"
      },
      "source": [
        "print (np.transpose(A))"
      ],
      "execution_count": null,
      "outputs": [
        {
          "output_type": "stream",
          "text": [
            "[[ 1  4  7]\n",
            " [ 2  5  8]\n",
            " [ 3  6  9]\n",
            " [12 15 10]\n",
            " [ 6 20 10]]\n"
          ],
          "name": "stdout"
        }
      ]
    },
    {
      "cell_type": "code",
      "metadata": {
        "colab": {
          "base_uri": "https://localhost:8080/"
        },
        "id": "e_dVjmoyXxDW",
        "outputId": "85151e90-97b2-492f-fee8-fca937c85449"
      },
      "source": [
        "# Mi ejemplo\r\n",
        "# La traspuesta de la matriz d\r\n",
        "print (np.transpose(d))"
      ],
      "execution_count": null,
      "outputs": [
        {
          "output_type": "stream",
          "text": [
            "[[1 8]\n",
            " [5 2]\n",
            " [3 5]\n",
            " [6 1]\n",
            " [8 6]]\n"
          ],
          "name": "stdout"
        }
      ]
    },
    {
      "cell_type": "markdown",
      "metadata": {
        "id": "5SMG3zjFvLnQ"
      },
      "source": [
        "But $\\omega$ here is a 1-dimensional array, a vector! It makes perfect to take the transpose of $A$, a $3 \\times 5$ array, as the output will be a $5 \\times 3$ array, but a 1-dimensional array is not quite as intuitive. A typical 1-dimensional array can be thought of as a $1 \\times n$ horizontal vector. Thus, taking the tranpose of this array essentially means changing it into a $n \\times 1$ vertical vector. This makes sense because 1-dimensional arrays are still arrays and any multiplication done between 1-dimensional and higher dimensional arrays must keep in line with our dimensionality issue of matrix multiplication.\n",
        "\n",
        "To make a long story short, we think of $\\omega$ as $1 \\times N$ since we have $N$ securities. This makes it so that $\\omega^\\intercal$ is $N \\times 1$. Again, our covariance matrix is $N \\times N$. So the overall multiplication works out like so, in informal terms:\n",
        "\n",
        "$$ \\text{Dimensions}(\\sigma_p^2) = \\text{Dimensions}(\\omega C \\omega^\\intercal) = (1 \\times N)\\cdot (N \\times N)\\cdot (N \\times 1) = (1 \\times 1)$$\n",
        "\n",
        "Multiplying the covariance matrix on the left by the plain horizontal vector and on the right by that vector's transpose results in the calculation of a single scalar ($1 \\times 1$) value, our portfolio's variance.\n",
        "\n",
        "So knowing this, let's proceed and calculate the portfolio variance! We can easily calculate the product of these arrays by using `dot()` for matrix multiplication, though this time we have to do it twice."
      ]
    },
    {
      "cell_type": "code",
      "metadata": {
        "scrolled": false,
        "id": "lBLtKyPyvLnQ",
        "colab": {
          "base_uri": "https://localhost:8080/"
        },
        "outputId": "e22f9937-3fad-43fb-c621-0da91b61e5bb"
      },
      "source": [
        "# Calculating the portfolio volatility\n",
        "var_p = np.dot(np.dot(weights, cov_mat), weights.T)\n",
        "vol_p = np.sqrt(var_p)\n",
        "print (\"Portfolio volatility: \", vol_p)"
      ],
      "execution_count": null,
      "outputs": [
        {
          "output_type": "stream",
          "text": [
            "Portfolio volatility:  0.02947289997874911\n"
          ],
          "name": "stdout"
        }
      ]
    },
    {
      "cell_type": "code",
      "metadata": {
        "colab": {
          "base_uri": "https://localhost:8080/"
        },
        "id": "u_WWKU0FHP3z",
        "outputId": "f84f4035-a053-4eb2-ebb9-e449bc3c9c77"
      },
      "source": [
        "# Mi ejemplo\r\n",
        "# Calculating the portfolio volatility\r\n",
        "var_p1 = np.dot(np.dot(weights1, cov_mat1), weights1.T)\r\n",
        "vol_p1 = np.sqrt(var_p1)\r\n",
        "print (\"Portfolio volatility: \", vol_p1)"
      ],
      "execution_count": null,
      "outputs": [
        {
          "output_type": "stream",
          "text": [
            "Portfolio volatility:  0.027835729676230117\n"
          ],
          "name": "stdout"
        }
      ]
    },
    {
      "cell_type": "markdown",
      "metadata": {
        "id": "EejbhChkYFcZ"
      },
      "source": [
        "# **Volatilidad**\r\n",
        "\r\n",
        "> *La volatilidad se mide como la desviación estándar de las acciones de una empresa. \r\n",
        "Si observa detenidamente la fórmula de la desviación estándar, comprenderá que es solo la raíz cuadrada de la varianza.*\r\n",
        "\r\n",
        "> $ Media = \\mu = \\frac{\\sum  x}{N} $\r\n",
        "\r\n",
        "> $ Varianza = \\sigma ^{^{2}} = \\frac{\\sum  (x - \\mu )^{_{2}}}{N} $\r\n",
        "\r\n",
        "> $ Desviacion\\ estandar = \\sigma = \\sqrt{Varianza} $\r\n",
        "\r\n",
        "> *Pero se debe hallar la volatilidad para la desviación estándar anual. Lo que obtenemos de la raíz cuadrada de la varianza es la desviación estándar diaria. Para convertirlo en desviación estándar anual, multiplicamos la varianza por 250.\r\n",
        "Se utiliza 250 porque hay 250 días de negociación en un año.*\r\n",
        "\r\n"
      ]
    },
    {
      "cell_type": "markdown",
      "metadata": {
        "id": "suqguxa0vLnR"
      },
      "source": [
        "To confirm this calculation, let's simply evaluate the volatility of the portfolio using only NumPy functions."
      ]
    },
    {
      "cell_type": "code",
      "metadata": {
        "id": "GX3b_hewvLnR",
        "colab": {
          "base_uri": "https://localhost:8080/"
        },
        "outputId": "fcbd8166-d466-4be9-95a3-dac4a06c3d88"
      },
      "source": [
        "# Confirming calculation\n",
        "vol_p_alt = np.sqrt(np.var(np.dot(weights, returns), ddof=1))\n",
        "print (\"Portfolio volatility: \", vol_p_alt)"
      ],
      "execution_count": null,
      "outputs": [
        {
          "output_type": "stream",
          "text": [
            "Portfolio volatility:  0.028900435791346095\n"
          ],
          "name": "stdout"
        }
      ]
    },
    {
      "cell_type": "code",
      "metadata": {
        "colab": {
          "base_uri": "https://localhost:8080/"
        },
        "id": "Wf1QEgDGIJne",
        "outputId": "ccb00089-b42b-4c18-a907-d5f9facb236c"
      },
      "source": [
        "# Mi ejemplo\r\n",
        "vol_p_alt1 = np.sqrt(np.var(np.dot(weights1, returns1), ddof=1))\r\n",
        "print (\"Portfolio volatility: \", vol_p_alt1)"
      ],
      "execution_count": null,
      "outputs": [
        {
          "output_type": "stream",
          "text": [
            "Portfolio volatility:  0.027835729676230114\n"
          ],
          "name": "stdout"
        }
      ]
    },
    {
      "cell_type": "code",
      "metadata": {
        "colab": {
          "base_uri": "https://localhost:8080/"
        },
        "id": "KYxFBl6eaTOy",
        "outputId": "96aae601-8363-463e-dab4-4c9f45a27455"
      },
      "source": [
        "# Para el ejemplo que venía trabajando sobre Tesla y Facebook tenemos lo siguiente:\r\n",
        "# logaritmo del cambio porcentual\r\n",
        "tesla = test['TSLA'].pct_change().apply(lambda x: np.log(1+x))\r\n",
        "fb = test['FB'].pct_change().apply(lambda x: np.log(1+x))\r\n",
        "#Varianza\r\n",
        "var_tesla = tesla.var()\r\n",
        "var_fb = fb.var()\r\n",
        "#Volatilidad\r\n",
        "tesla_vol = np.sqrt(var_tesla * 250)\r\n",
        "fb_vol = np.sqrt(var_fb * 250)\r\n",
        "print('Volatilidad anual Tesla: ', tesla_vol)\r\n",
        "print('Volatilidad anual Facebook: ', fb_vol)"
      ],
      "execution_count": null,
      "outputs": [
        {
          "output_type": "stream",
          "text": [
            "Volatilidad anual Tesla:  0.6992305707899097\n",
            "Volatilidad anual Facebook:  0.3301752693808617\n"
          ],
          "name": "stdout"
        }
      ]
    },
    {
      "cell_type": "markdown",
      "metadata": {
        "id": "LD85p9h1dQq5"
      },
      "source": [
        "> *Incluso es posible trazar la volatilidad de Tesla Y Facebbok para una mejor visibilidad:*\r\n",
        "\r\n"
      ]
    },
    {
      "cell_type": "code",
      "metadata": {
        "colab": {
          "base_uri": "https://localhost:8080/",
          "height": 311
        },
        "id": "ibbaMex-dZg2",
        "outputId": "57f057b5-12c5-4b7f-ab1c-dc8d70db5255"
      },
      "source": [
        "# Mi ejemplo\r\n",
        "test.pct_change().apply(lambda x: np.log(1+x)).std().apply(lambda x: x*np.sqrt(250)).plot(kind='bar')"
      ],
      "execution_count": null,
      "outputs": [
        {
          "output_type": "execute_result",
          "data": {
            "text/plain": [
              "<matplotlib.axes._subplots.AxesSubplot at 0x7f813a85b050>"
            ]
          },
          "metadata": {
            "tags": []
          },
          "execution_count": 127
        },
        {
          "output_type": "display_data",
          "data": {
            "image/png": "[encoded data removed]",
            "text/plain": [
              "<Figure size 432x288 with 1 Axes>"
            ]
          },
          "metadata": {
            "tags": [],
            "needs_background": "light"
          }
        }
      ]
    },
    {
      "cell_type": "markdown",
      "metadata": {
        "id": "-x77cVVsvLnS"
      },
      "source": [
        "The `ddof` parameter is a simple integer input that tells the function the number of degrees of freedom to take into account. This is a more statistical concept, but what this tells us that our matrix calculation is correct!\n",
        "\n",
        "A lot of this might not make sense at first glance. It helps to go back and forth between the theory and the code representations until you have a better grasp of the mathematics involved. It is definitely not necessary to be an expert on linear algebra and on matrix operations, but linear algebra can help to streamline the process of working with large amounts of data. For further reading on NumPy, check out the [documentation](https://docs.scipy.org/doc/numpy/user/index.html)."
      ]
    },
    {
      "cell_type": "markdown",
      "metadata": {
        "id": "sEYtF1cnvLnS"
      },
      "source": [
        "*This presentation is for informational purposes only and does not constitute an offer to sell, a solicitation to buy, or a recommendation for any security; nor does it constitute an offer to provide investment advisory or other services by Quantopian, Inc. (\"Quantopian\"). Nothing contained herein constitutes investment advice or offers any opinion with respect to the suitability of any security, and any views expressed herein should not be taken as advice to buy, sell, or hold any security or as an endorsement of any security or company.  In preparing the information contained herein, Quantopian, Inc. has not taken into account the investment needs, objectives, and financial circumstances of any particular investor. Any views expressed and data illustrated herein were prepared based upon information, believed to be reliable, available to Quantopian, Inc. at the time of publication. Quantopian makes no guarantees as to their accuracy or completeness. All information is subject to change and may quickly become unreliable for various reasons, including changes in market conditions or economic circumstances.*"
      ]
    }
  ]
}