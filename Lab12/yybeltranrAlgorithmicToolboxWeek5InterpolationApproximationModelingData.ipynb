{
  "nbformat": 4,
  "nbformat_minor": 0,
  "metadata": {
    "kernelspec": {
      "display_name": "Python 3",
      "language": "python",
      "name": "python3"
    },
    "language_info": {
      "codemirror_mode": {
        "name": "ipython",
        "version": 3
      },
      "file_extension": ".py",
      "mimetype": "text/x-python",
      "name": "python",
      "nbconvert_exporter": "python",
      "pygments_lexer": "ipython3",
      "version": "3.5.2"
    },
    "colab": {
      "name": "Interpolation_Week5.ipynb",
      "provenance": [],
      "collapsed_sections": []
    }
  },
  "cells": [
    {
      "cell_type": "markdown",
      "metadata": {
        "id": "R9cEIOB8QBzS"
      },
      "source": [
        "# I. Linear least squares approximation"
      ]
    },
    {
      "cell_type": "markdown",
      "metadata": {
        "id": "rXkv1MX1QBzW"
      },
      "source": [
        "Consider a function $y = f(x)$ which is defined by a set of values $y_0, y_1, \\cdots, y_n$ at points $x_0, x_1, \\cdots, x_n$."
      ]
    },
    {
      "cell_type": "code",
      "metadata": {
        "collapsed": true,
        "id": "iE3TxCE4QBzW"
      },
      "source": [
        "x = [-1, -0.7, -0.43, -0.14, -0.14, 0.43, 0.71, 1, 1.29, 1.57, 1.86, 2.14, 2.43, 2.71, 3]\n",
        "y = [-2.25, -0.77, 0.21, 0.44, 0.64, 0.03, -0.22, -0.84, -1.2, -1.03, -0.37, 0.61, 2.67, 5.04, 8.90]"
      ],
      "execution_count": null,
      "outputs": []
    },
    {
      "cell_type": "markdown",
      "metadata": {
        "id": "Q8Ps6dCSQBzX"
      },
      "source": [
        "### I.I. Find a best fit polynomial\n",
        "\n",
        "$$\n",
        "P_m(x) = a_0 + a_1 x + \\cdots + a_m x^m\n",
        "$$\n",
        "\n",
        "using the linear least squares approach. To this end\n",
        "\n",
        "1. implement a function which constructs the design matrix using $1, x, \\cdots, x^m$ as the basis functions.\n",
        "\n",
        "2. construct explicitly the normal system of equations of the linear least squares problem at fixed $m$.\n",
        "\n",
        "3. Solve the normal equations to find the coefficients of $P_m(x)$ for $m = 0, 1, 2, \\dots$. For the linear algebra problem, you can either use library functions (`numpy.linalg.solve`) or your LU factorization code from week 1.\n",
        "\n",
        "(20% of the total grade)"
      ]
    },
    {
      "cell_type": "code",
      "metadata": {
        "collapsed": true,
        "id": "jDkfIs_oQBzX"
      },
      "source": [
        "# ... ENTER YOUR CODE HERE"
      ],
      "execution_count": null,
      "outputs": []
    },
    {
      "cell_type": "code",
      "metadata": {
        "id": "VWNP-mDDRgYf"
      },
      "source": [
        "import numpy as np\n",
        "import numpy.polynomial.polynomial as pm\n",
        "import matplotlib.pyplot as plt"
      ],
      "execution_count": null,
      "outputs": []
    },
    {
      "cell_type": "code",
      "metadata": {
        "id": "IBcIeC5sRibN"
      },
      "source": [
        "def polynolial_design_matrix(x, m):\n",
        "    '''\n",
        "    Constructing design polynolial matrix for given nodes and power\n",
        "    '''\n",
        "    x = np.array(x)\n",
        "    A = []\n",
        "    for k in range(m+1):\n",
        "        A.append(x**k)\n",
        "        \n",
        "    return np.array(A).T"
      ],
      "execution_count": null,
      "outputs": []
    },
    {
      "cell_type": "code",
      "metadata": {
        "id": "SQ8wUjN7RljL"
      },
      "source": [
        "\n",
        "def normal_eq_solution(A,b):\n",
        "    x = np.dot(np.linalg.inv(A.T @ A) @ A.T, b)\n",
        "    res = np.linalg.norm(A @ x - b)\n",
        "    return x, res"
      ],
      "execution_count": null,
      "outputs": []
    },
    {
      "cell_type": "code",
      "metadata": {
        "id": "9BXhT4DMRnis"
      },
      "source": [
        "ms = range(1,10)\n",
        "coef = [normal_eq_solution(polynolial_design_matrix(x,m), y) for m in ms]"
      ],
      "execution_count": null,
      "outputs": []
    },
    {
      "cell_type": "markdown",
      "metadata": {
        "id": "GIQ7BlVrQBzY"
      },
      "source": [
        "### I.II \n",
        "\n",
        "To find the optimal value of m, use the following criterion: take $m=0, 1, 2, \\dots$, for each value of $m$ compute \n",
        "\n",
        "$$\n",
        "\\sigma_m^2 = \\frac{1}{n - m} \\sum_{k=0}^n \\left( P_m(x_k) - y_k \\right)^2\n",
        "$$\n",
        "\n",
        "And take the value of $m$, at which $\\sigma_m$ stabilizes or starts increasing.\n",
        "\n",
        "(20% of the total grade)"
      ]
    },
    {
      "cell_type": "code",
      "metadata": {
        "collapsed": true,
        "id": "btBt6Om-QBzY"
      },
      "source": [
        "# ... ENTER YOUR CODE HERE ..."
      ],
      "execution_count": null,
      "outputs": []
    },
    {
      "cell_type": "code",
      "metadata": {
        "colab": {
          "base_uri": "https://localhost:8080/"
        },
        "id": "_d-AADU5SDWe",
        "outputId": "7a7d9b32-64ae-4f8f-ef98-9fa88a7454b8"
      },
      "source": [
        "for a in coef:\n",
        "    print(a[1]/(16 - len(a[0])))"
      ],
      "execution_count": null,
      "outputs": [
        {
          "output_type": "stream",
          "text": [
            "0.5638018817879079\n",
            "0.43442508405930796\n",
            "0.03223727022631271\n",
            "0.033656564378641424\n",
            "0.03549656220020561\n",
            "0.03588688045729663\n",
            "0.03919349715902612\n",
            "0.04065424160745155\n",
            "0.04642385374992531\n"
          ],
          "name": "stdout"
        }
      ]
    },
    {
      "cell_type": "markdown",
      "metadata": {
        "id": "gHFGuH7sQBzY"
      },
      "source": [
        "Plot your polynomials $P_m(x)$ on one plot, together with the datapoints. Visually compare best-fit polynomials of different degrees. Is the visual comparison consistent with the optimal value of $m$?"
      ]
    },
    {
      "cell_type": "code",
      "metadata": {
        "collapsed": true,
        "id": "n9RyFqtyQBzZ"
      },
      "source": [
        "# ... ENTER YOUR CODE HERE"
      ],
      "execution_count": null,
      "outputs": []
    },
    {
      "cell_type": "code",
      "metadata": {
        "colab": {
          "base_uri": "https://localhost:8080/",
          "height": 265
        },
        "id": "NcUmL9eFSGsz",
        "outputId": "0c17699b-6303-4372-f982-2f85ff4692ef"
      },
      "source": [
        "plt.scatter(x,y)\n",
        "\n",
        "for pol in coef:\n",
        "    pl = pm.polyval(x,pol[0])\n",
        "    plt.plot(x,pl)\n",
        "\n",
        "plt.legend(list(ms))\n",
        "plt.show()"
      ],
      "execution_count": null,
      "outputs": [
        {
          "output_type": "display_data",
          "data": {
            "image/png": "[encoded data removed]",
            "text/plain": [
              "<Figure size 432x288 with 1 Axes>"
            ]
          },
          "metadata": {
            "tags": [],
            "needs_background": "light"
          }
        }
      ]
    },
    {
      "cell_type": "markdown",
      "metadata": {
        "id": "ZUih1dlKQBzZ"
      },
      "source": [
        "### I.III. Linear least-squares using the QR factorization.\n",
        "\n",
        "For the optimal value of $m$ from the previous part, solve the LLS problem using the QR factorization, withou ever forming the normal equations explicitly. For linear algebra, you can use standard library functions (look up `numpy.linalg.solve`, `numpy.linalg.qr` etc) or your code from previous weeks.\n",
        "\n",
        "Compare the results with the results of solving the normal system of equations.\n",
        "\n",
        "(20% of the grade)"
      ]
    },
    {
      "cell_type": "code",
      "metadata": {
        "collapsed": true,
        "id": "m4x-JYdNQBza"
      },
      "source": [
        "# ... ENTER YOUR CODE HERE ..."
      ],
      "execution_count": null,
      "outputs": []
    },
    {
      "cell_type": "code",
      "metadata": {
        "id": "IWkdXCx_TGkT"
      },
      "source": [
        "def qr_lls(A, b):\n",
        "    m = A.shape[1]\n",
        "    q, r = np.linalg.qr(A)\n",
        "    f = (q.T @ b)[:m]\n",
        "    return np.linalg.solve(r[:m], f)"
      ],
      "execution_count": null,
      "outputs": []
    },
    {
      "cell_type": "code",
      "metadata": {
        "id": "ioipSurJTIQT"
      },
      "source": [
        "c = qr_lls(polynolial_design_matrix(x,3), y)\n",
        "print(c-coef[2][0])"
      ],
      "execution_count": null,
      "outputs": []
    },
    {
      "cell_type": "markdown",
      "metadata": {
        "id": "cnD0iSm2QBza"
      },
      "source": [
        "# II. Lagrange interpolation"
      ]
    },
    {
      "cell_type": "markdown",
      "metadata": {
        "id": "8vvyLftrQBza"
      },
      "source": [
        "### II.1 \n",
        "\n",
        "Consider the function, $f(x) = x^2 \\cos{x}$. On the interval $x\\in [\\pi/2, \\pi]$, interpolate the function using the Lagrange interpolating polynomial of degree $m$ with $m=1, 2, 3, 4, 5$. Use the uniform mesh. Plot the resulting interpolants together with $f(x)$.\n",
        "\n",
        "(20% of the total grade)"
      ]
    },
    {
      "cell_type": "code",
      "metadata": {
        "collapsed": true,
        "id": "r07FlcEaQBzb"
      },
      "source": [
        "# ... ENTER YOUR CODE HERE ..."
      ],
      "execution_count": null,
      "outputs": []
    },
    {
      "cell_type": "code",
      "metadata": {
        "id": "bx01ZuYlTRfU"
      },
      "source": [
        "def lagr_poly(grid, k, x):\n",
        "    \n",
        "    poly = 1\n",
        "    for i in range(len(grid)):\n",
        "        if i!=k:\n",
        "            poly*=x-grid[i]\n",
        "            poly/=grid[k]-grid[i]    \n",
        "            \n",
        "    return poly"
      ],
      "execution_count": null,
      "outputs": []
    },
    {
      "cell_type": "code",
      "metadata": {
        "id": "9xJQOQRzTUx9"
      },
      "source": [
        "def lagr_interp(grid, x, y):\n",
        "    y_interp = np.zeros(len(x))\n",
        "    for i in range(len(grid)):\n",
        "        y_interp+=y[i]*lagr_poly(grid,i,x)\n",
        "    return y_interp"
      ],
      "execution_count": null,
      "outputs": []
    },
    {
      "cell_type": "code",
      "metadata": {
        "colab": {
          "base_uri": "https://localhost:8080/",
          "height": 265
        },
        "id": "IA7riaJXTW_T",
        "outputId": "9b9a8352-d1e2-456f-a670-b05153f2895c"
      },
      "source": [
        "f = lambda x:x**2*np.cos(x)\n",
        "x = np.linspace(np.pi/2,np.pi, 50)\n",
        "plt.plot(x,f(x), \"r+\")\n",
        "\n",
        "for m in range(1,6):\n",
        "    grid = np.linspace(np.pi/2,np.pi, m)\n",
        "    plt.plot(x, lagr_interp(grid, x, f(grid)))"
      ],
      "execution_count": null,
      "outputs": [
        {
          "output_type": "display_data",
          "data": {
            "image/png": "[encoded data removed]",
            "text/plain": [
              "<Figure size 432x288 with 1 Axes>"
            ]
          },
          "metadata": {
            "tags": [],
            "needs_background": "light"
          }
        }
      ]
    },
    {
      "cell_type": "markdown",
      "metadata": {
        "id": "tbyn25-QQBzb"
      },
      "source": [
        "### II.2. \n",
        "\n",
        "Repeat the previous task using the Chebyshev nodes. Compare the quality of interpolation on a uniform mesh and Chebyshev nodes for $m=3$.\n",
        "\n",
        "(20% of the total grade)"
      ]
    },
    {
      "cell_type": "code",
      "metadata": {
        "collapsed": true,
        "id": "BT1GxyUtQBzb"
      },
      "source": [
        "# ... ENTER YOUR CODE HERE ..."
      ],
      "execution_count": null,
      "outputs": []
    },
    {
      "cell_type": "code",
      "metadata": {
        "id": "Pbc_TbQuTdJy"
      },
      "source": [
        "def chebishev_nodes(a,b,m):\n",
        "    k = np.array(range(m))\n",
        "    x = np.cos(2*k+1/m)\n",
        "    return (x+1)*(b-a)/2 + a"
      ],
      "execution_count": null,
      "outputs": []
    },
    {
      "cell_type": "code",
      "metadata": {
        "colab": {
          "base_uri": "https://localhost:8080/",
          "height": 282
        },
        "id": "echuqe8ITfED",
        "outputId": "5503e334-5031-4a16-e91b-93d10305b9c9"
      },
      "source": [
        "grid = chebishev_nodes(np.pi/2, np.pi, 3)\n",
        "\n",
        "plt.plot(x,f(x), \"r+\")\n",
        "plt.plot(x, lagr_interp(grid, x, f(grid)))"
      ],
      "execution_count": null,
      "outputs": [
        {
          "output_type": "execute_result",
          "data": {
            "text/plain": [
              "[<matplotlib.lines.Line2D at 0x7f0ab4125f90>]"
            ]
          },
          "metadata": {
            "tags": []
          },
          "execution_count": 22
        },
        {
          "output_type": "display_data",
          "data": {
            "image/png": "[encoded data removed]",
            "text/plain": [
              "<Figure size 432x288 with 1 Axes>"
            ]
          },
          "metadata": {
            "tags": [],
            "needs_background": "light"
          }
        }
      ]
    }
  ]
}