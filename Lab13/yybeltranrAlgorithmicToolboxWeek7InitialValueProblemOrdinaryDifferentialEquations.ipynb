{
  "nbformat": 4,
  "nbformat_minor": 0,
  "metadata": {
    "kernelspec": {
      "display_name": "Python 3",
      "language": "python",
      "name": "python3"
    },
    "language_info": {
      "codemirror_mode": {
        "name": "ipython",
        "version": 3
      },
      "file_extension": ".py",
      "mimetype": "text/x-python",
      "name": "python",
      "nbconvert_exporter": "python",
      "pygments_lexer": "ipython3",
      "version": "3.5.2"
    },
    "colab": {
      "name": "yybeltranrAlgorithmicToolboxWeek7InitialValueProblemOrdinaryDifferentialEquations.ipynb",
      "provenance": [],
      "collapsed_sections": []
    }
  },
  "cells": [
    {
      "cell_type": "markdown",
      "metadata": {
        "id": "knVetQTt7GJs"
      },
      "source": [
        "#Initial Value Problem Ordinary Differential Equations"
      ]
    },
    {
      "cell_type": "markdown",
      "metadata": {
        "id": "yCbWxhjq0jvl"
      },
      "source": [
        "This Course is part of ***Introduction to numerical analysis*** by HSE University **[[Coursera](https://www.coursera.org/learn/intro-to-numerical-analysis)]**"
      ]
    },
    {
      "cell_type": "markdown",
      "metadata": {
        "id": "REXVELh9qSRN"
      },
      "source": [
        "# Initial value problem for ODEs"
      ]
    },
    {
      "cell_type": "markdown",
      "metadata": {
        "id": "TZ5uhHTnqSRP"
      },
      "source": [
        "# I. Euler's method for a first order ODE\n",
        "\n",
        "Consider a first order equation\n",
        "\n",
        "$$\n",
        "\\frac{d u}{d t} = \\lambda u\n",
        "$$\n",
        "\n",
        "with the initial condition $u(t=0) = u_0$.\n",
        "\n",
        "Here is a simple illustration of solving this equation with the explicit Euler method."
      ]
    },
    {
      "cell_type": "markdown",
      "metadata": {
        "id": "scToYog8rdUg"
      },
      "source": [
        "Solucion tomada de \"\n",
        "valerkabvv\""
      ]
    },
    {
      "cell_type": "code",
      "metadata": {
        "collapsed": true,
        "id": "WkmZGCk7qSRQ"
      },
      "source": [
        "import numpy as np\n",
        "import matplotlib.pyplot as plt\n",
        "%matplotlib notebook"
      ],
      "execution_count": null,
      "outputs": []
    },
    {
      "cell_type": "code",
      "metadata": {
        "collapsed": true,
        "id": "KLZrGHPQqSRR"
      },
      "source": [
        "def euler_solve(lam, u0, T, dt):\n",
        "    \"\"\"Solve $du/dt = \\lambda u$ on $0 < t < T$ with $u(t=0) = u0$ via an explicit Euler method.\"\"\"\n",
        "    num_steps = int(T/dt)\n",
        "    tt = np.arange(num_steps+1)*dt\n",
        "    y = np.empty(num_steps+1)\n",
        "    y[0] = u0\n",
        "    for k in range(num_steps):\n",
        "        y[k+1] = y[k] + dt*lam*y[k]\n",
        "    return tt, y"
      ],
      "execution_count": null,
      "outputs": []
    },
    {
      "cell_type": "code",
      "metadata": {
        "colab": {
          "base_uri": "https://localhost:8080/",
          "height": 265
        },
        "id": "V5QOJiTUqSRR",
        "outputId": "531607ea-a55f-49d0-9f7a-59e1db2124d2"
      },
      "source": [
        "lam = -0.5\n",
        "tt, y = euler_solve(lam, u0=1.0, T=5, dt=0.1)\n",
        "plt.plot(tt, y, 'o--', label='numeric solution')\n",
        "plt.plot(tt, np.exp(lam*tt), '-', lw=2, label='ground truth')\n",
        "plt.legend(loc='best')\n",
        "plt.grid(True)"
      ],
      "execution_count": null,
      "outputs": [
        {
          "output_type": "display_data",
          "data": {
            "image/png": "[encoded data removed]",
            "text/plain": [
              "<Figure size 432x288 with 1 Axes>"
            ]
          },
          "metadata": {
            "tags": [],
            "needs_background": "light"
          }
        }
      ]
    },
    {
      "cell_type": "markdown",
      "metadata": {
        "id": "kaG48jpRqSRS"
      },
      "source": [
        "### Test I.1\n",
        "\n",
        "Test the function above for varying step size $\\tau$ (in the code it's `dt`), including $|\\lambda| \\tau > 1$? \n",
        "\n",
        "(10% of the grade)"
      ]
    },
    {
      "cell_type": "code",
      "metadata": {
        "collapsed": true,
        "colab": {
          "base_uri": "https://localhost:8080/"
        },
        "id": "-QAWqFE8qSRT",
        "outputId": "02aaec22-a25a-4e9c-de39-511439eed290"
      },
      "source": [
        "# ... ENTER YOUR CODE HERE ...\n",
        "from sklearn.metrics import mean_absolute_error\n",
        "tao = [3, 2, 1, 1e-1, 1e-2, 1e-3, 1e-4]\n",
        "lam = -0.5\n",
        "for dt in tao:\n",
        "    tt, y = euler_solve(lam, u0=1.0, T=5, dt=dt)\n",
        "    print(\"tao -\", dt, \"MAE -\", mean_absolute_error(np.exp(lam*tt), y))"
      ],
      "execution_count": null,
      "outputs": [
        {
          "output_type": "stream",
          "text": [
            "tao - 3 MAE - 0.3615650800742149\n",
            "tao - 2 MAE - 0.16773824146935168\n",
            "tao - 1 MAE - 0.07436842381550283\n",
            "tao - 0.1 MAE - 0.007159245952545797\n",
            "tao - 0.01 MAE - 0.0007130252805831734\n",
            "tao - 0.001 MAE - 7.127347876430624e-05\n",
            "tao - 0.0001 MAE - 7.127057334425005e-06\n"
          ],
          "name": "stdout"
        }
      ]
    },
    {
      "cell_type": "markdown",
      "metadata": {
        "id": "QQ767yVMqSRT"
      },
      "source": [
        "### Test I.2\n",
        "\n",
        "Implement a function for solving the same equation, $du/dt = \\lambda u$ using the implicit Euler scheme. Compare the behavior of the implicit and explicit Euler schemes. Discuss.\n",
        "\n",
        "(10% of the grade)"
      ]
    },
    {
      "cell_type": "code",
      "metadata": {
        "collapsed": true,
        "id": "DEY9eWN-qSRU"
      },
      "source": [
        "# ... ENTER YOUR CODE AND DISCUSSION HERE ...\n",
        "def implict_euler_scheme(lam, u0, T, dt):\n",
        "    num_steps = int(T/dt)\n",
        "    tt = np.arange(num_steps+1)*dt\n",
        "    y = np.empty(num_steps+1)\n",
        "    y[0] = u0\n",
        "    for k in range(num_steps):\n",
        "        y[k+1] = y[k]/(1-dt*lam)\n",
        "    return tt, y"
      ],
      "execution_count": null,
      "outputs": []
    },
    {
      "cell_type": "code",
      "metadata": {
        "colab": {
          "base_uri": "https://localhost:8080/",
          "height": 265
        },
        "id": "aFZOeH3Kqu1t",
        "outputId": "e14849c0-076c-4b25-a505-0fb4034fdce7"
      },
      "source": [
        "lam = -0.5\n",
        "tt, y = implict_euler_scheme(lam, u0=1.0, T=5, dt=0.1)\n",
        "plt.plot(tt, y, 'o--', label='numeric solution')\n",
        "plt.plot(tt, np.exp(lam*tt), '-', lw=2, label='ground truth')\n",
        "plt.legend(loc='best')\n",
        "plt.grid(True)"
      ],
      "execution_count": null,
      "outputs": [
        {
          "output_type": "display_data",
          "data": {
            "image/png": "[encoded data removed]",
            "text/plain": [
              "<Figure size 432x288 with 1 Axes>"
            ]
          },
          "metadata": {
            "tags": [],
            "needs_background": "light"
          }
        }
      ]
    },
    {
      "cell_type": "markdown",
      "metadata": {
        "id": "gce-PQNEqSRV"
      },
      "source": [
        "## II. Stiff systems."
      ]
    },
    {
      "cell_type": "markdown",
      "metadata": {
        "id": "ZOJLvF0fqSRV"
      },
      "source": [
        "Consider a system of two first order equations\n",
        "\n",
        "$$\n",
        "\\frac{d \\mathbf{u} }{d t} = A \\mathbf{u}\n",
        "$$\n",
        "\n",
        "where $\\mathbf{u}$ is a two-dimensional vector, and $A$ is a known constant 2$\\times$2 matrix.\n",
        "\n",
        "Implement a generalization of `euler_solve` routine for solving a system of linear first-order equations with time-independent matrix $A$ using the explicit Euler's method."
      ]
    },
    {
      "cell_type": "code",
      "metadata": {
        "collapsed": true,
        "id": "upCtnRgkqSRV"
      },
      "source": [
        "# ... ENTER YOUR CODE HERE ...\n",
        "\n",
        "def modified_euler_solve(A, u0, T, dt):\n",
        "    \"\"\"Solve $du/dt = \\lambda u$ on $0 < t < T$ with $u(t=0) = u0$ via an explicit Euler method.\"\"\"\n",
        "    num_steps = int(T/dt)\n",
        "    tt = np.arange(num_steps+1)*dt\n",
        "    y = np.zeros((num_steps+1, u0.shape[0]))\n",
        "    y[0] = u0\n",
        "    for k in range(num_steps):\n",
        "        y[k+1] = y[k] + dt*A@y[k]\n",
        "    return tt, y"
      ],
      "execution_count": null,
      "outputs": []
    },
    {
      "cell_type": "markdown",
      "metadata": {
        "id": "CFxvuvTDqSRW"
      },
      "source": [
        "### Test II.1\n",
        "\n",
        "Take \n",
        "$$\n",
        "A = \\begin{bmatrix} -10 & 10 \\\\ 32 & -499 \\end{bmatrix}\n",
        "$$\n",
        "\n",
        "and the initial condition $\\mathbf{u} = (1, 0)^T$.\n",
        "\n",
        "Solve the system using a fixed step size $\\tau=0.01$. Is the explicit Euler's method stable at this value of the step size?\n",
        "\n",
        "Find eigenvalues of $A$ (use `np.linalg.eigvals`) and comment whether the system is stif.\n",
        "\n",
        "(20% of the grade)"
      ]
    },
    {
      "cell_type": "code",
      "metadata": {
        "collapsed": true,
        "colab": {
          "base_uri": "https://localhost:8080/"
        },
        "id": "K-no6kIuqSRW",
        "outputId": "a829578a-e4fe-4977-cbd9-22749c0559dd"
      },
      "source": [
        "# ... ENTER YOUR CODE HERE ...\n",
        "A = np.array([[-10, 10], [32, -499]])\n",
        "u = np.array([1,0]).T\n",
        "tt, y = modified_euler_solve(A, u, 5, 1e-2)\n",
        "\n",
        "print(np.linalg.eigvals(A))"
      ],
      "execution_count": null,
      "outputs": [
        {
          "output_type": "stream",
          "text": [
            "[  -9.34647667 -499.65352333]\n"
          ],
          "name": "stdout"
        }
      ]
    },
    {
      "cell_type": "markdown",
      "metadata": {
        "id": "DEj8kB6oqSRW"
      },
      "source": [
        "### Test II.2\n",
        "\n",
        "Implement the $\\textit{implicit}$ Euler's scheme for a system of first-order equations with constant coefficients. Note that at each time step you need to solve a system of linear algebraic equations, use `np.linalg.solve` for that.\n",
        "\n",
        "Use this routine to solve the system from Test II.1 at the same step size $\\tau=0.01$. Compare solutions obtained by an explicit and an implicit Euler's methods.\n",
        "\n",
        "(20% of the grade)"
      ]
    },
    {
      "cell_type": "code",
      "metadata": {
        "collapsed": true,
        "id": "pqSxBRWWqSRW"
      },
      "source": [
        "# ... ENTER YOUR CODE HERE ...\n",
        "def mod_implict_euler_scheme(A, u0, T, dt):\n",
        "    num_steps = int(T/dt)\n",
        "    tt = np.arange(num_steps+1)*dt\n",
        "    y = np.zeros((num_steps+1, u0.shape[0]))\n",
        "    y[0] = u0\n",
        "    for k in range(num_steps):\n",
        "        y[k+1] = np.linalg.solve((np.eye(A.shape[0])-dt*A), y[k])\n",
        "    return tt, y"
      ],
      "execution_count": null,
      "outputs": []
    },
    {
      "cell_type": "code",
      "metadata": {
        "colab": {
          "base_uri": "https://localhost:8080/"
        },
        "id": "tDmZWXijrD8p",
        "outputId": "5b813c5c-1467-43cf-d840-0dfe25ed13b4"
      },
      "source": [
        "A = np.array([[-10, 10], [32, -499]])\n",
        "u = np.array([1,0]).T\n",
        "tt, y = mod_implict_euler_scheme(A, u, 5, 1e-2)\n",
        "\n",
        "print(np.linalg.eigvals(A))"
      ],
      "execution_count": null,
      "outputs": [
        {
          "output_type": "stream",
          "text": [
            "[  -9.34647667 -499.65352333]\n"
          ],
          "name": "stdout"
        }
      ]
    },
    {
      "cell_type": "markdown",
      "metadata": {
        "collapsed": true,
        "id": "D-W77n7SqSRW"
      },
      "source": [
        "# III. Second order ODEs.\n",
        "\n",
        "Consider a second order ODE, which describes a oscillating pendulum\n",
        "\n",
        "$$\n",
        "\\frac{d^2 u}{dt^2} + \\omega^2 u = 0\n",
        "$$\n",
        "\n",
        "Convert this second order ODE into a system of two first order ODEs.\n",
        "\n",
        "### Test III.1 \n",
        "\n",
        "Solve this system of equations using the explicit Euler's method over a time interval which includes at least several periods. We know that the equation of motion conserves energy, so that\n",
        "\n",
        "$$\n",
        "E = \\frac{u'^2}{2} + \\frac{\\omega^2 u^2}{2}\n",
        "$$\n",
        "\n",
        "should remain constant. Plot the dependence of $E$ on time for your numeric solution. Use several values of the time step. Does your discretized scheme conserve energy?\n",
        "\n",
        "(20% of the grade)"
      ]
    },
    {
      "cell_type": "code",
      "metadata": {
        "collapsed": true,
        "id": "X6etm-1uqSRX"
      },
      "source": [
        "# ... ENTER YOUR CODE HERE ...\n",
        "def oscilation_solve(w, u0, T, dt):\n",
        "    A = np.array([[0, 1], [-w**2, 0]])\n",
        "    return modified_euler_solve(A, u0, T, dt)"
      ],
      "execution_count": null,
      "outputs": []
    },
    {
      "cell_type": "code",
      "metadata": {
        "colab": {
          "base_uri": "https://localhost:8080/",
          "height": 265
        },
        "id": "Daqty-0frKLV",
        "outputId": "51128a81-4314-4bdd-9947-7102da2806aa"
      },
      "source": [
        "E = lambda u, du, w: du**2/2 + w**2*u**2/2\n",
        "\n",
        "tt,y = oscilation_solve(1, np.array([1,1]), 7, 1e-3)\n",
        "\n",
        "tt_y = E(y[:,0], y[:, 1], 1)\n",
        "\n",
        "plt.plot(tt, tt_y, label = \"E\");"
      ],
      "execution_count": null,
      "outputs": [
        {
          "output_type": "display_data",
          "data": {
            "image/png": "[encoded data removed]",
            "text/plain": [
              "<Figure size 432x288 with 1 Axes>"
            ]
          },
          "metadata": {
            "tags": [],
            "needs_background": "light"
          }
        }
      ]
    },
    {
      "cell_type": "markdown",
      "metadata": {
        "id": "THOIiBcEqSRX"
      },
      "source": [
        "### Test III.2\n",
        "\n",
        "Implement the 2nd order Runge-Kutta scheme. Use it to solve the same equation with same time steps. Compare solutions produced by the RK method and the Euler's method at the same values of the time step. Check conservation of energy. Discuss.\n",
        "\n",
        "(20% of the grade)"
      ]
    },
    {
      "cell_type": "code",
      "metadata": {
        "collapsed": true,
        "id": "icpbOowfqSRX"
      },
      "source": [
        "# ... ENTER YOUR CODE HERE ...\n",
        "def RK(A, u0, T, dt):\n",
        "    num_steps = int(T/dt)\n",
        "    tt = np.arange(num_steps+1)*dt\n",
        "    y = np.zeros((num_steps+1, u0.shape[0]))\n",
        "    y[0] = u0\n",
        "    for k in range(num_steps):\n",
        "        a1 = A@y[k]\n",
        "        a2 = A@(y[k]+dt/2*a1)\n",
        "        y[k+1] = dt*a2+y[k]\n",
        "    return tt, y"
      ],
      "execution_count": null,
      "outputs": []
    },
    {
      "cell_type": "code",
      "metadata": {
        "id": "N8J4D3B7rRpK"
      },
      "source": [
        "def osc_slv_RK(w, u0, T, dt):\n",
        "    A = np.array([[0, 1], [-w**2, 0]])\n",
        "    return RK(A, u0, T, dt)"
      ],
      "execution_count": null,
      "outputs": []
    },
    {
      "cell_type": "code",
      "metadata": {
        "colab": {
          "base_uri": "https://localhost:8080/",
          "height": 276
        },
        "id": "Bgl8PT23rT-M",
        "outputId": "351abcb4-de9f-4030-eaef-f8a81283fc10"
      },
      "source": [
        "tt,y = osc_slv_RK(1, np.array([1,1]), 7, 1e-3)\n",
        "\n",
        "tt_y = E(y[:,0], y[:, 1], 1)\n",
        "\n",
        "plt.plot(tt, tt_y, label = \"E\");"
      ],
      "execution_count": null,
      "outputs": [
        {
          "output_type": "display_data",
          "data": {
            "image/png": "[encoded data removed]",
            "text/plain": [
              "<Figure size 432x288 with 1 Axes>"
            ]
          },
          "metadata": {
            "tags": [],
            "needs_background": "light"
          }
        }
      ]
    }
  ]
}