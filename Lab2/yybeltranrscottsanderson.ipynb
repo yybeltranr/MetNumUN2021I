{
  "nbformat": 4,
  "nbformat_minor": 0,
  "metadata": {
    "celltoolbar": "Slideshow",
    "kernelspec": {
      "display_name": "Python 3",
      "language": "python",
      "name": "python3"
    },
    "language_info": {
      "codemirror_mode": {
        "name": "ipython",
        "version": 3
      },
      "file_extension": ".py",
      "mimetype": "text/x-python",
      "name": "python",
      "nbconvert_exporter": "python",
      "pygments_lexer": "ipython3",
      "version": "3.5.2"
    },
    "livereveal": {
      "start_slideshow_at": "selected"
    },
    "name": "Main.ipynb",
    "colab": {
      "name": "Main.ipynb",
      "provenance": [],
      "collapsed_sections": [
        "20Yh7PReS3Cs",
        "gZqy7VipS3C8",
        "0HncbuMXS3DV",
        "hqCQiPSeS3Da",
        "ajqXBdPtS3Ds",
        "Diob44ewS3Du",
        "_cRXPsSjS3EM",
        "eD9xScsOS3EM"
      ]
    }
  },
  "cells": [
    {
      "cell_type": "markdown",
      "metadata": {
        "id": "-YG2r6-FVqAS"
      },
      "source": [
        "> *Instalando Frotran magic*"
      ]
    },
    {
      "cell_type": "code",
      "metadata": {
        "colab": {
          "base_uri": "https://localhost:8080/"
        },
        "id": "ntwOHEv5VJSG",
        "outputId": "83152f2f-888e-41ac-edf0-a6e59bb81429"
      },
      "source": [
        "!pip install -U fortran-magic"
      ],
      "execution_count": null,
      "outputs": [
        {
          "output_type": "stream",
          "text": [
            "Collecting fortran-magic\n",
            "  Downloading https://files.pythonhosted.org/packages/53/b1/d664bd431354c450f40fa436b2c9306666cd417b23098dd5636751c557a4/fortran_magic-0.7-py3-none-any.whl\n",
            "Requirement already satisfied, skipping upgrade: ipython in /usr/local/lib/python3.7/dist-packages (from fortran-magic) (5.5.0)\n",
            "Requirement already satisfied, skipping upgrade: numpy in /usr/local/lib/python3.7/dist-packages (from fortran-magic) (1.19.5)\n",
            "Requirement already satisfied, skipping upgrade: pygments in /usr/local/lib/python3.7/dist-packages (from ipython->fortran-magic) (2.6.1)\n",
            "Requirement already satisfied, skipping upgrade: pickleshare in /usr/local/lib/python3.7/dist-packages (from ipython->fortran-magic) (0.7.5)\n",
            "Requirement already satisfied, skipping upgrade: prompt-toolkit<2.0.0,>=1.0.4 in /usr/local/lib/python3.7/dist-packages (from ipython->fortran-magic) (1.0.18)\n",
            "Requirement already satisfied, skipping upgrade: decorator in /usr/local/lib/python3.7/dist-packages (from ipython->fortran-magic) (4.4.2)\n",
            "Requirement already satisfied, skipping upgrade: pexpect; sys_platform != \"win32\" in /usr/local/lib/python3.7/dist-packages (from ipython->fortran-magic) (4.8.0)\n",
            "Requirement already satisfied, skipping upgrade: traitlets>=4.2 in /usr/local/lib/python3.7/dist-packages (from ipython->fortran-magic) (5.0.5)\n",
            "Requirement already satisfied, skipping upgrade: simplegeneric>0.8 in /usr/local/lib/python3.7/dist-packages (from ipython->fortran-magic) (0.8.1)\n",
            "Requirement already satisfied, skipping upgrade: setuptools>=18.5 in /usr/local/lib/python3.7/dist-packages (from ipython->fortran-magic) (54.2.0)\n",
            "Requirement already satisfied, skipping upgrade: wcwidth in /usr/local/lib/python3.7/dist-packages (from prompt-toolkit<2.0.0,>=1.0.4->ipython->fortran-magic) (0.2.5)\n",
            "Requirement already satisfied, skipping upgrade: six>=1.9.0 in /usr/local/lib/python3.7/dist-packages (from prompt-toolkit<2.0.0,>=1.0.4->ipython->fortran-magic) (1.15.0)\n",
            "Requirement already satisfied, skipping upgrade: ptyprocess>=0.5 in /usr/local/lib/python3.7/dist-packages (from pexpect; sys_platform != \"win32\"->ipython->fortran-magic) (0.7.0)\n",
            "Requirement already satisfied, skipping upgrade: ipython-genutils in /usr/local/lib/python3.7/dist-packages (from traitlets>=4.2->ipython->fortran-magic) (0.2.0)\n",
            "Installing collected packages: fortran-magic\n",
            "Successfully installed fortran-magic-0.7\n"
          ],
          "name": "stdout"
        }
      ]
    },
    {
      "cell_type": "markdown",
      "metadata": {
        "id": "39esy2qDV-qk"
      },
      "source": [
        "> *Comando para cargar Fortran una vez instalado:*\n",
        "\n",
        "> *%load_ext fortranmagic*"
      ]
    },
    {
      "cell_type": "code",
      "metadata": {
        "autoscroll": false,
        "ein.tags": "worksheet-0",
        "colab": {
          "base_uri": "https://localhost:8080/",
          "height": 71
        },
        "id": "lhmu5s-FS3Ca",
        "outputId": "02765dfb-f766-48af-c908-814ad8c0f029"
      },
      "source": [
        "%matplotlib inline\n",
        "%reload_ext fortranmagic\n",
        "\n",
        "import sys; sys.path.append('..')\n",
        "\n",
        "import pandas as pd\n",
        "import numpy as np\n",
        "import matplotlib as mpl\n",
        "import matplotlib.pyplot as plt\n",
        "import seaborn as sns\n",
        "\n",
        "mpl.rc('figure', figsize=(12, 7))\n",
        "\n",
        "ran_the_first_cell = True\n",
        "\n",
        "jan2017 = pd.to_datetime(['2017-01-03 00:00:00+00:00',\n",
        " '2017-01-04 00:00:00+00:00',\n",
        " '2017-01-05 00:00:00+00:00',\n",
        " '2017-01-06 00:00:00+00:00',\n",
        " '2017-01-09 00:00:00+00:00',\n",
        " '2017-01-10 00:00:00+00:00',\n",
        " '2017-01-11 00:00:00+00:00',\n",
        " '2017-01-12 00:00:00+00:00',\n",
        " '2017-01-13 00:00:00+00:00',\n",
        " '2017-01-17 00:00:00+00:00',\n",
        " '2017-01-18 00:00:00+00:00',\n",
        " '2017-01-19 00:00:00+00:00',\n",
        " '2017-01-20 00:00:00+00:00',\n",
        " '2017-01-23 00:00:00+00:00',\n",
        " '2017-01-24 00:00:00+00:00',\n",
        " '2017-01-25 00:00:00+00:00',\n",
        " '2017-01-26 00:00:00+00:00',\n",
        " '2017-01-27 00:00:00+00:00',\n",
        " '2017-01-30 00:00:00+00:00',\n",
        " '2017-01-31 00:00:00+00:00',\n",
        " '2017-02-01 00:00:00+00:00'])\n",
        "calendar = jan2017.values.astype('datetime64[D]')\n",
        "\n",
        "event_dates = pd.to_datetime(['2017-01-06 00:00:00+00:00', \n",
        "                             '2017-01-07 00:00:00+00:00', \n",
        "                             '2017-01-08 00:00:00+00:00']).values.astype('datetime64[D]')\n",
        "event_values = np.array([10, 15, 20])"
      ],
      "execution_count": null,
      "outputs": [
        {
          "output_type": "stream",
          "text": [
            "/usr/local/lib/python3.7/dist-packages/fortranmagic.py:147: UserWarning: get_ipython_cache_dir has moved to the IPython.paths module since IPython 4.0.\n",
            "  self._lib_dir = os.path.join(get_ipython_cache_dir(), 'fortran')\n"
          ],
          "name": "stderr"
        },
        {
          "output_type": "display_data",
          "data": {
            "application/javascript": [
              "$.getScript(\"https://raw.github.com/marijnh/CodeMirror/master/mode/fortran/fortran.js\", function () {\n",
              "IPython.config.cell_magic_highlight['magic_fortran'] = {'reg':[/^%%fortran/]};});\n"
            ]
          },
          "metadata": {
            "tags": []
          }
        }
      ]
    },
    {
      "cell_type": "code",
      "metadata": {
        "colab": {
          "base_uri": "https://localhost:8080/",
          "height": 71
        },
        "id": "C68eIHoaY_XA",
        "outputId": "76aaa78e-d920-4267-c2f5-f261785dcce6"
      },
      "source": [
        "# Mi ejemplo \n",
        "%matplotlib inline\n",
        "%reload_ext fortranmagic\n",
        "\n",
        "import sys; sys.path.append('..')\n",
        "\n",
        "import pandas as pd\n",
        "import numpy as np\n",
        "import matplotlib as mpl\n",
        "import matplotlib.pyplot as plt\n",
        "import seaborn as sns\n",
        "\n",
        "mpl.rc('figure', figsize=(12, 7))\n",
        "\n",
        "primCelda = True\n",
        "\n",
        "agos2020 = pd.to_datetime(['2020-08-15 00:00:00+00:00',\n",
        "                          '2020-08-16 00:00:00+00:00',\n",
        "                          '2020-08-17 00:00:00+00:00',\n",
        "                          '2020-08-18 00:00:00+00:00',\n",
        "                          '2020-08-20 00:00:00+00:00',\n",
        "                          '2020-08-21 00:00:00+00:00',\n",
        "                          '2020-08-22 00:00:00+00:00',\n",
        "                          '2020-08-23 00:00:00+00:00',\n",
        "                          '2020-08-24 00:00:00+00:00',\n",
        "                          '2020-08-26 00:00:00+00:00',\n",
        "                          '2020-08-27 00:00:00+00:00',\n",
        "                          '2020-08-28 00:00:00+00:00',\n",
        "                          '2020-08-29 00:00:00+00:00',\n",
        "                          '2020-08-30 00:00:00+00:00',\n",
        "                          '2020-08-31 00:00:00+00:00',\n",
        "                          '2020-09-01 00:00:00+00:00',\n",
        "                          '2020-09-02 00:00:00+00:00',\n",
        "                          '2020-09-03 00:00:00+00:00',\n",
        "                          '2020-09-04 00:00:00+00:00',\n",
        "                          '2020-09-08 00:00:00+00:00',\n",
        "                          '2020-09-09 00:00:00+00:00'])\n",
        "calen = agos2020.values.astype('datetime64[D]')\n",
        "\n",
        "fechas = pd.to_datetime(['2020-08-18 00:00:00+00:00', \n",
        "                             '2020-08-19 00:00:00+00:00', \n",
        "                             '2020-08-20 00:00:00+00:00']).values.astype('datetime64[D]')\n",
        "v = np.array([10, 15, 20])"
      ],
      "execution_count": null,
      "outputs": [
        {
          "output_type": "stream",
          "text": [
            "/usr/local/lib/python3.7/dist-packages/fortranmagic.py:147: UserWarning: get_ipython_cache_dir has moved to the IPython.paths module since IPython 4.0.\n",
            "  self._lib_dir = os.path.join(get_ipython_cache_dir(), 'fortran')\n"
          ],
          "name": "stderr"
        },
        {
          "output_type": "display_data",
          "data": {
            "application/javascript": [
              "$.getScript(\"https://raw.github.com/marijnh/CodeMirror/master/mode/fortran/fortran.js\", function () {\n",
              "IPython.config.cell_magic_highlight['magic_fortran'] = {'reg':[/^%%fortran/]};});\n"
            ]
          },
          "metadata": {
            "tags": []
          }
        }
      ]
    },
    {
      "cell_type": "markdown",
      "metadata": {
        "ein.tags": "worksheet-0",
        "id": "NoSmGO9BS3Cq"
      },
      "source": [
        "<center>\n",
        "  <h1>The PyData Toolbox</h1>\n",
        "  <h3>Scott Sanderson (Twitter: @scottbsanderson, GitHub: ssanderson)</h3>\n",
        "  <h3><a href=\"https://github.com/ssanderson/pydata-toolbox\">https://github.com/ssanderson/pydata-toolbox</a></h3>\n",
        "</center>"
      ]
    },
    {
      "cell_type": "markdown",
      "metadata": {
        "collapsed": true,
        "ein.tags": "worksheet-0",
        "id": "5dsf3OC7S3Cr"
      },
      "source": [
        "# About Me:"
      ]
    },
    {
      "cell_type": "markdown",
      "metadata": {
        "id": "ARVNRiR9boQQ"
      },
      "source": [
        "![Scott Sanderson.jpg](data:image/jpeg;base64,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)"
      ]
    },
    {
      "cell_type": "markdown",
      "metadata": {
        "id": "btuDip9vboid"
      },
      "source": [
        "- Senior Engineer at [Quantopian](www.quantopian.com)\n",
        "- Background in Mathematics and Philosophy\n",
        "- **Twitter:** [@scottbsanderson](https://twitter.com/scottbsanderson)\n",
        "- **GitHub:** [ssanderson](github.com/ssanderson)"
      ]
    },
    {
      "cell_type": "markdown",
      "metadata": {
        "id": "20Yh7PReS3Cs"
      },
      "source": [
        "## Outline\n",
        "\n",
        "- Built-in Data Structures\n",
        "- Numpy `array`\n",
        "- Pandas `Series`/`DataFrame`\n",
        "- Plotting and \"Real-World\" Analyses"
      ]
    },
    {
      "cell_type": "markdown",
      "metadata": {
        "id": "ZNPbcSciS3Ct"
      },
      "source": [
        "# Data Structures"
      ]
    },
    {
      "cell_type": "markdown",
      "metadata": {
        "id": "Fxmnv5oxS3Cu"
      },
      "source": [
        "> Rule 5. Data dominates. If you've chosen the right data structures and organized things well, the algorithms\n",
        "will almost always be self-evident. Data structures, not algorithms, are central to programming.\n",
        "\n",
        "- *Notes on Programming in C*, by Rob Pike."
      ]
    },
    {
      "cell_type": "markdown",
      "metadata": {
        "id": "60lyIBJFS3Cu"
      },
      "source": [
        "# Lists"
      ]
    },
    {
      "cell_type": "code",
      "metadata": {
        "id": "4D4eEaHpkGXN"
      },
      "source": [
        "assert ran_the_first_cell, \"Oh noes!\""
      ],
      "execution_count": null,
      "outputs": []
    },
    {
      "cell_type": "code",
      "metadata": {
        "collapsed": true,
        "id": "iabI_bDBS3Cv"
      },
      "source": [
        "# Mi ejemplo\n",
        "assert primCelda, \"What's this?\""
      ],
      "execution_count": null,
      "outputs": []
    },
    {
      "cell_type": "code",
      "metadata": {
        "colab": {
          "base_uri": "https://localhost:8080/"
        },
        "id": "BRpAhMpTS3Cw",
        "outputId": "494de0df-cc81-43cd-8618-187ff11c98ec"
      },
      "source": [
        "l = [1, 'two', 3.0, 4, 5.0, \"six\"]\n",
        "l"
      ],
      "execution_count": null,
      "outputs": [
        {
          "output_type": "execute_result",
          "data": {
            "text/plain": [
              "[1, 'two', 3.0, 4, 5.0, 'six']"
            ]
          },
          "metadata": {
            "tags": []
          },
          "execution_count": 7
        }
      ]
    },
    {
      "cell_type": "code",
      "metadata": {
        "colab": {
          "base_uri": "https://localhost:8080/"
        },
        "id": "MAS1xVWxkcgS",
        "outputId": "78156df1-f948-43cd-b03b-909862ec5ed5"
      },
      "source": [
        "# Mi ejemplo\n",
        "lista = [\"rock\", 27, \"four\", 3.5, 8.95, \"cats\", \"slow please\", 13]\n",
        "lista"
      ],
      "execution_count": null,
      "outputs": [
        {
          "output_type": "execute_result",
          "data": {
            "text/plain": [
              "['rock', 27, 'four', 3.5, 8.95, 'cats', 'slow please', 13]"
            ]
          },
          "metadata": {
            "tags": []
          },
          "execution_count": 9
        }
      ]
    },
    {
      "cell_type": "code",
      "metadata": {
        "colab": {
          "base_uri": "https://localhost:8080/"
        },
        "id": "xT1G74KgS3Cy",
        "outputId": "6b73a698-18dd-4ecc-c658-a24021fad532"
      },
      "source": [
        "# Lists can be indexed like C-style arrays.\n",
        "first = l[0]\n",
        "second = l[1]\n",
        "print(\"first:\", first)\n",
        "print(\"second:\", second)"
      ],
      "execution_count": null,
      "outputs": [
        {
          "output_type": "stream",
          "text": [
            "first: 1\n",
            "second: two\n"
          ],
          "name": "stdout"
        }
      ]
    },
    {
      "cell_type": "code",
      "metadata": {
        "colab": {
          "base_uri": "https://localhost:8080/"
        },
        "id": "pCOc8Zh3kxJI",
        "outputId": "7d98a30f-9d76-425d-9def-112558d3fced"
      },
      "source": [
        "# Mi ejemplo\n",
        "one = lista[0]\n",
        "two = lista[1]\n",
        "eigh = lista[7]\n",
        "print(\"Type of music:\", one)\n",
        "print(\"Float:\", two)\n",
        "print(\"Last:\", eigh)"
      ],
      "execution_count": null,
      "outputs": [
        {
          "output_type": "stream",
          "text": [
            "Type of music: rock\n",
            "Float: 27\n",
            "Last: 13\n"
          ],
          "name": "stdout"
        }
      ]
    },
    {
      "cell_type": "code",
      "metadata": {
        "colab": {
          "base_uri": "https://localhost:8080/"
        },
        "id": "yEOaUjLwS3C0",
        "outputId": "25d866da-2320-46d3-af5a-0601d1206444"
      },
      "source": [
        "# Negative indexing gives elements relative to the end of the list.\n",
        "last = l[-1]\n",
        "penultimate = l[-2]\n",
        "print(\"last:\", last)\n",
        "print(\"second to last:\", penultimate)"
      ],
      "execution_count": null,
      "outputs": [
        {
          "output_type": "stream",
          "text": [
            "last: six\n",
            "second to last: 5.0\n"
          ],
          "name": "stdout"
        }
      ]
    },
    {
      "cell_type": "code",
      "metadata": {
        "colab": {
          "base_uri": "https://localhost:8080/"
        },
        "id": "VfUiZbDxl14l",
        "outputId": "329b344b-bf33-47a9-cded-a10637386251"
      },
      "source": [
        "# Mi ejemplo\n",
        "ultimo = lista[-1]\n",
        "penultimo = lista[-2]\n",
        "print(\"last:\", ultimo)\n",
        "print(\"second to last:\", penultimo)"
      ],
      "execution_count": null,
      "outputs": [
        {
          "output_type": "stream",
          "text": [
            "last: 13\n",
            "second to last: slow please\n"
          ],
          "name": "stdout"
        }
      ]
    },
    {
      "cell_type": "code",
      "metadata": {
        "colab": {
          "base_uri": "https://localhost:8080/"
        },
        "id": "NZP7BxrmS3C1",
        "outputId": "7e45cad4-f7ae-4529-de60-d112155ecaea"
      },
      "source": [
        "# Lists can also be sliced, which makes a copy of elements between \n",
        "# start (inclusive) and stop (exclusive)\n",
        "sublist = l[1:3]\n",
        "sublist"
      ],
      "execution_count": null,
      "outputs": [
        {
          "output_type": "execute_result",
          "data": {
            "text/plain": [
              "['two', 3.0]"
            ]
          },
          "metadata": {
            "tags": []
          },
          "execution_count": 14
        }
      ]
    },
    {
      "cell_type": "code",
      "metadata": {
        "colab": {
          "base_uri": "https://localhost:8080/"
        },
        "id": "6yRu6oV8mV5a",
        "outputId": "88022b92-dd25-4f3e-ae0a-84216e0d3acb"
      },
      "source": [
        "# Mi ejemplo\n",
        "sublista = lista[2:6]\n",
        "sublista"
      ],
      "execution_count": null,
      "outputs": [
        {
          "output_type": "execute_result",
          "data": {
            "text/plain": [
              "['four', 3.5, 8.95, 'cats']"
            ]
          },
          "metadata": {
            "tags": []
          },
          "execution_count": 15
        }
      ]
    },
    {
      "cell_type": "code",
      "metadata": {
        "colab": {
          "base_uri": "https://localhost:8080/"
        },
        "id": "uMbLMl9PS3C2",
        "outputId": "1d2a7b7e-3dfa-4fed-dae4-78392cf6fe98"
      },
      "source": [
        "# l[:N] is equivalent to l[0:N].\n",
        "first_three = l[:3]\n",
        "first_three"
      ],
      "execution_count": null,
      "outputs": [
        {
          "output_type": "execute_result",
          "data": {
            "text/plain": [
              "[1, 'two', 3.0]"
            ]
          },
          "metadata": {
            "tags": []
          },
          "execution_count": 16
        }
      ]
    },
    {
      "cell_type": "code",
      "metadata": {
        "colab": {
          "base_uri": "https://localhost:8080/"
        },
        "id": "knkvdfmctUv-",
        "outputId": "bcb2aefa-3b49-43f6-d64e-da6bf970e4a3"
      },
      "source": [
        "# Mi ejemplo\n",
        "primeros4 = lista[:4]\n",
        "primeros4"
      ],
      "execution_count": null,
      "outputs": [
        {
          "output_type": "execute_result",
          "data": {
            "text/plain": [
              "['rock', 27, 'four', 3.5]"
            ]
          },
          "metadata": {
            "tags": []
          },
          "execution_count": 17
        }
      ]
    },
    {
      "cell_type": "code",
      "metadata": {
        "colab": {
          "base_uri": "https://localhost:8080/"
        },
        "id": "PkZQnQYJS3C3",
        "outputId": "146c423e-de82-412d-b8c2-24ce7cccf204"
      },
      "source": [
        "# l[3:] is equivalent to l[3:len(l)].\n",
        "after_three = l[3:]\n",
        "after_three"
      ],
      "execution_count": null,
      "outputs": [
        {
          "output_type": "execute_result",
          "data": {
            "text/plain": [
              "[4, 5.0, 'six']"
            ]
          },
          "metadata": {
            "tags": []
          },
          "execution_count": 18
        }
      ]
    },
    {
      "cell_type": "code",
      "metadata": {
        "colab": {
          "base_uri": "https://localhost:8080/"
        },
        "id": "tqPOrbPhtgfi",
        "outputId": "b7ab539f-6047-47de-824a-7694279f6447"
      },
      "source": [
        "# Mi ejemplo\n",
        "posterior5 = lista[5:]\n",
        "posterior5"
      ],
      "execution_count": null,
      "outputs": [
        {
          "output_type": "execute_result",
          "data": {
            "text/plain": [
              "['cats', 'slow please', 13]"
            ]
          },
          "metadata": {
            "tags": []
          },
          "execution_count": 19
        }
      ]
    },
    {
      "cell_type": "code",
      "metadata": {
        "colab": {
          "base_uri": "https://localhost:8080/"
        },
        "id": "R2VHEvKCS3C4",
        "outputId": "cf23fed5-58be-4cd8-d78b-6261f19bae0c"
      },
      "source": [
        "# There's also a third parameter, \"step\", which gets every Nth element.\n",
        "l = ['a', 'b', 'c', 'd', 'e', 'f', 'g','h']\n",
        "l[1:7:2]"
      ],
      "execution_count": null,
      "outputs": [
        {
          "output_type": "execute_result",
          "data": {
            "text/plain": [
              "['b', 'd', 'f']"
            ]
          },
          "metadata": {
            "tags": []
          },
          "execution_count": 20
        }
      ]
    },
    {
      "cell_type": "code",
      "metadata": {
        "colab": {
          "base_uri": "https://localhost:8080/"
        },
        "id": "TgeB8Jn1uGs_",
        "outputId": "529f0f35-246a-46c1-eec0-33a765f18cea"
      },
      "source": [
        "# Mi ejemplo\n",
        "# La lista inicia en 5, hasta <100 y de 5 en 5\n",
        "# Desde la posición 2 hasta la 20 de 3 en 3\n",
        "lista2 = list(range(5,100,5))\n",
        "lista2[2:20:3]"
      ],
      "execution_count": null,
      "outputs": [
        {
          "output_type": "execute_result",
          "data": {
            "text/plain": [
              "[15, 30, 45, 60, 75, 90]"
            ]
          },
          "metadata": {
            "tags": []
          },
          "execution_count": 21
        }
      ]
    },
    {
      "cell_type": "code",
      "metadata": {
        "colab": {
          "base_uri": "https://localhost:8080/"
        },
        "id": "nDjLqaMyS3C5",
        "outputId": "38ce8e36-2406-4337-d9bb-9ce8dd442165"
      },
      "source": [
        "# This is a cute way to reverse a list.\n",
        "l[::-1]"
      ],
      "execution_count": null,
      "outputs": [
        {
          "output_type": "execute_result",
          "data": {
            "text/plain": [
              "['h', 'g', 'f', 'e', 'd', 'c', 'b', 'a']"
            ]
          },
          "metadata": {
            "tags": []
          },
          "execution_count": 22
        }
      ]
    },
    {
      "cell_type": "code",
      "metadata": {
        "colab": {
          "base_uri": "https://localhost:8080/"
        },
        "id": "_srO1Q48uvVo",
        "outputId": "d09a6673-b53b-4b01-f746-b05e4508ad9b"
      },
      "source": [
        "# Mi ejemplo\n",
        "lista2[::-1]"
      ],
      "execution_count": null,
      "outputs": [
        {
          "output_type": "execute_result",
          "data": {
            "text/plain": [
              "[95, 90, 85, 80, 75, 70, 65, 60, 55, 50, 45, 40, 35, 30, 25, 20, 15, 10, 5]"
            ]
          },
          "metadata": {
            "tags": []
          },
          "execution_count": 23
        }
      ]
    },
    {
      "cell_type": "code",
      "metadata": {
        "colab": {
          "base_uri": "https://localhost:8080/"
        },
        "id": "no3yRbDzS3C6",
        "outputId": "1a535a3b-3f37-4633-c7be-f48196ca4959"
      },
      "source": [
        "# Lists can be grown efficiently (in O(1) amortized time).\n",
        "l = [1, 2, 3, 4, 5]\n",
        "print(\"Before:\", l)\n",
        "l.append('six')\n",
        "print(\"After:\", l)"
      ],
      "execution_count": null,
      "outputs": [
        {
          "output_type": "stream",
          "text": [
            "Before: [1, 2, 3, 4, 5]\n",
            "After: [1, 2, 3, 4, 5, 'six']\n"
          ],
          "name": "stdout"
        }
      ]
    },
    {
      "cell_type": "code",
      "metadata": {
        "colab": {
          "base_uri": "https://localhost:8080/"
        },
        "id": "n_Az9SC8w3ij",
        "outputId": "853e36ff-15bf-4140-9531-bef546e7ec52"
      },
      "source": [
        "# Mi ejemplo\n",
        "lista3 = list(range(10,30,3))\n",
        "print(\"Antes:\", lista3)\n",
        "lista3.append(\"numeros de 3 en 3\")\n",
        "print(\"Después:\", lista3)"
      ],
      "execution_count": null,
      "outputs": [
        {
          "output_type": "stream",
          "text": [
            "Antes: [10, 13, 16, 19, 22, 25, 28]\n",
            "Después: [10, 13, 16, 19, 22, 25, 28, 'numeros de 3 en 3']\n"
          ],
          "name": "stdout"
        }
      ]
    },
    {
      "cell_type": "code",
      "metadata": {
        "colab": {
          "base_uri": "https://localhost:8080/"
        },
        "id": "xIROLP-AS3C7",
        "outputId": "6338a367-e1a4-4128-842b-38ffe1e6ab0a"
      },
      "source": [
        "# Comprehensions let us perform elementwise computations.\n",
        "l = [1, 2, 3, 4, 5]\n",
        "[x * 2 for x in l]"
      ],
      "execution_count": null,
      "outputs": [
        {
          "output_type": "execute_result",
          "data": {
            "text/plain": [
              "[2, 4, 6, 8, 10]"
            ]
          },
          "metadata": {
            "tags": []
          },
          "execution_count": 26
        }
      ]
    },
    {
      "cell_type": "code",
      "metadata": {
        "colab": {
          "base_uri": "https://localhost:8080/"
        },
        "id": "SZVbjX7txnU2",
        "outputId": "c5ee47be-29e3-4615-a14b-7bf3e77d36ad"
      },
      "source": [
        "# Mi ejemplo\n",
        "lista4 = list(range(0,11))\n",
        "[y * 5 for y in lista4]"
      ],
      "execution_count": null,
      "outputs": [
        {
          "output_type": "execute_result",
          "data": {
            "text/plain": [
              "[0, 5, 10, 15, 20, 25, 30, 35, 40, 45, 50]"
            ]
          },
          "metadata": {
            "tags": []
          },
          "execution_count": 27
        }
      ]
    },
    {
      "cell_type": "markdown",
      "metadata": {
        "ein.tags": "worksheet-0",
        "id": "gZqy7VipS3C8"
      },
      "source": [
        "## Review: Python Lists\n",
        "\n",
        "- Zero-indexed sequence of arbitrary Python values.\n",
        "- Slicing syntax: `l[start:stop:step]` copies elements at regular intervals from `start` to `stop`.\n",
        "- Efficient (`O(1)`) appends and removes from end.\n",
        "- Comprehension syntax: `[f(x) for x in l if cond(x)]`."
      ]
    },
    {
      "cell_type": "markdown",
      "metadata": {
        "id": "TfuKR9FmS3C8"
      },
      "source": [
        "# Dictionaries"
      ]
    },
    {
      "cell_type": "code",
      "metadata": {
        "colab": {
          "base_uri": "https://localhost:8080/"
        },
        "id": "zw6PqUxWS3C9",
        "outputId": "1976b818-8633-465c-8507-4bfb92ae92d1"
      },
      "source": [
        "# Dictionaries are key-value mappings.\n",
        "philosophers = {'David': 'Hume', 'Immanuel': 'Kant', 'Bertrand': 'Russell'}\n",
        "philosophers"
      ],
      "execution_count": null,
      "outputs": [
        {
          "output_type": "execute_result",
          "data": {
            "text/plain": [
              "{'Bertrand': 'Russell', 'David': 'Hume', 'Immanuel': 'Kant'}"
            ]
          },
          "metadata": {
            "tags": []
          },
          "execution_count": 28
        }
      ]
    },
    {
      "cell_type": "code",
      "metadata": {
        "colab": {
          "base_uri": "https://localhost:8080/"
        },
        "id": "Y4uAtFRxyddC",
        "outputId": "35d7c24c-3076-488f-e852-1ad7ab1e6039"
      },
      "source": [
        "# Mi ejemplo\n",
        "materiales = {\"Metal\": [\"acero\", \"hierro\", \"fundición\", \"aluminio\", \"estaño\", \"plomo\"],\n",
        "              \"Textil\": [\"algodón\", \"lino\", \"esparto\", \"papel\"],\n",
        "              \"Madera\": [\"Haya\", \"Roble\", \"Cerezo\", \"Caoba\"]}\n",
        "materiales"
      ],
      "execution_count": null,
      "outputs": [
        {
          "output_type": "execute_result",
          "data": {
            "text/plain": [
              "{'Madera': ['Haya', 'Roble', 'Cerezo', 'Caoba'],\n",
              " 'Metal': ['acero', 'hierro', 'fundición', 'aluminio', 'estaño', 'plomo'],\n",
              " 'Textil': ['algodón', 'lino', 'esparto', 'papel']}"
            ]
          },
          "metadata": {
            "tags": []
          },
          "execution_count": 29
        }
      ]
    },
    {
      "cell_type": "code",
      "metadata": {
        "colab": {
          "base_uri": "https://localhost:8080/"
        },
        "id": "83dOb3UlS3C-",
        "outputId": "5d29bb31-699e-46dc-9467-d7467a80fdb0"
      },
      "source": [
        "# Like lists, dictionaries are size-mutable.\n",
        "philosophers['Ludwig'] = 'Wittgenstein'\n",
        "philosophers"
      ],
      "execution_count": null,
      "outputs": [
        {
          "output_type": "execute_result",
          "data": {
            "text/plain": [
              "{'Bertrand': 'Russell',\n",
              " 'David': 'Hume',\n",
              " 'Immanuel': 'Kant',\n",
              " 'Ludwig': 'Wittgenstein'}"
            ]
          },
          "metadata": {
            "tags": []
          },
          "execution_count": 30
        }
      ]
    },
    {
      "cell_type": "code",
      "metadata": {
        "colab": {
          "base_uri": "https://localhost:8080/"
        },
        "id": "a_X0TAPZ1E9u",
        "outputId": "2f7fcc3d-75bd-4249-db52-8fdbf3b9cdd7"
      },
      "source": [
        "# Mi ejemplo\n",
        "materiales['Elastómeros'] = ['látex', 'caucho', 'neopreno', 'goma']\n",
        "materiales"
      ],
      "execution_count": null,
      "outputs": [
        {
          "output_type": "execute_result",
          "data": {
            "text/plain": [
              "{'Elastómeros': ['látex', 'caucho', 'neopreno', 'goma'],\n",
              " 'Madera': ['Haya', 'Roble', 'Cerezo', 'Caoba'],\n",
              " 'Metal': ['acero', 'hierro', 'fundición', 'aluminio', 'estaño', 'plomo'],\n",
              " 'Textil': ['algodón', 'lino', 'esparto', 'papel']}"
            ]
          },
          "metadata": {
            "tags": []
          },
          "execution_count": 31
        }
      ]
    },
    {
      "cell_type": "code",
      "metadata": {
        "colab": {
          "base_uri": "https://localhost:8080/"
        },
        "id": "96mIzka8S3C-",
        "outputId": "f49150d9-83c0-4991-ac2b-705279d143ef"
      },
      "source": [
        "del philosophers['David']\n",
        "philosophers"
      ],
      "execution_count": null,
      "outputs": [
        {
          "output_type": "execute_result",
          "data": {
            "text/plain": [
              "{'Bertrand': 'Russell', 'Immanuel': 'Kant', 'Ludwig': 'Wittgenstein'}"
            ]
          },
          "metadata": {
            "tags": []
          },
          "execution_count": 32
        }
      ]
    },
    {
      "cell_type": "code",
      "metadata": {
        "colab": {
          "base_uri": "https://localhost:8080/"
        },
        "id": "R1fNk9g02N2m",
        "outputId": "98ffa6d4-6a49-41c5-bb12-d43ab065502e"
      },
      "source": [
        "# Mi ejemplo\n",
        "del materiales['Metal']\n",
        "materiales"
      ],
      "execution_count": null,
      "outputs": [
        {
          "output_type": "execute_result",
          "data": {
            "text/plain": [
              "{'Elastómeros': ['látex', 'caucho', 'neopreno', 'goma'],\n",
              " 'Madera': ['Haya', 'Roble', 'Cerezo', 'Caoba'],\n",
              " 'Textil': ['algodón', 'lino', 'esparto', 'papel']}"
            ]
          },
          "metadata": {
            "tags": []
          },
          "execution_count": 33
        }
      ]
    },
    {
      "cell_type": "code",
      "metadata": {
        "colab": {
          "base_uri": "https://localhost:8080/",
          "height": 180
        },
        "id": "s0aBchIfS3C_",
        "outputId": "ee15ce69-8fdb-4366-883b-ea14cec3a0bc"
      },
      "source": [
        "# No slicing.\n",
        "philosophers['Bertrand':'Immanuel']"
      ],
      "execution_count": null,
      "outputs": [
        {
          "output_type": "error",
          "ename": "TypeError",
          "evalue": "ignored",
          "traceback": [
            "\u001b[0;31m---------------------------------------------------------------------------\u001b[0m",
            "\u001b[0;31mTypeError\u001b[0m                                 Traceback (most recent call last)",
            "\u001b[0;32m<ipython-input-34-042d882bd6b0>\u001b[0m in \u001b[0;36m<module>\u001b[0;34m()\u001b[0m\n\u001b[1;32m      1\u001b[0m \u001b[0;31m# No slicing.\u001b[0m\u001b[0;34m\u001b[0m\u001b[0;34m\u001b[0m\u001b[0;34m\u001b[0m\u001b[0m\n\u001b[0;32m----> 2\u001b[0;31m \u001b[0mphilosophers\u001b[0m\u001b[0;34m[\u001b[0m\u001b[0;34m'Bertrand'\u001b[0m\u001b[0;34m:\u001b[0m\u001b[0;34m'Immanuel'\u001b[0m\u001b[0;34m]\u001b[0m\u001b[0;34m\u001b[0m\u001b[0;34m\u001b[0m\u001b[0m\n\u001b[0m",
            "\u001b[0;31mTypeError\u001b[0m: unhashable type: 'slice'"
          ]
        }
      ]
    },
    {
      "cell_type": "code",
      "metadata": {
        "colab": {
          "base_uri": "https://localhost:8080/",
          "height": 180
        },
        "id": "qwBl0UxE3Jl-",
        "outputId": "440334f9-fee2-4849-ac0c-124514593a0f"
      },
      "source": [
        "# Mi ejemplo\n",
        "materiales['Madera':'Elastómeros']"
      ],
      "execution_count": null,
      "outputs": [
        {
          "output_type": "error",
          "ename": "TypeError",
          "evalue": "ignored",
          "traceback": [
            "\u001b[0;31m---------------------------------------------------------------------------\u001b[0m",
            "\u001b[0;31mTypeError\u001b[0m                                 Traceback (most recent call last)",
            "\u001b[0;32m<ipython-input-35-820fef42e6b9>\u001b[0m in \u001b[0;36m<module>\u001b[0;34m()\u001b[0m\n\u001b[1;32m      1\u001b[0m \u001b[0;31m# Mi ejemplo\u001b[0m\u001b[0;34m\u001b[0m\u001b[0;34m\u001b[0m\u001b[0;34m\u001b[0m\u001b[0m\n\u001b[0;32m----> 2\u001b[0;31m \u001b[0mmateriales\u001b[0m\u001b[0;34m[\u001b[0m\u001b[0;34m'Madera'\u001b[0m\u001b[0;34m:\u001b[0m\u001b[0;34m'Elastómeros'\u001b[0m\u001b[0;34m]\u001b[0m\u001b[0;34m\u001b[0m\u001b[0;34m\u001b[0m\u001b[0m\n\u001b[0m",
            "\u001b[0;31mTypeError\u001b[0m: unhashable type: 'slice'"
          ]
        }
      ]
    },
    {
      "cell_type": "markdown",
      "metadata": {
        "ein.tags": "worksheet-0",
        "id": "U3CIRzkzS3DA"
      },
      "source": [
        "## Review: Python Dictionaries\n",
        "\n",
        "- Unordered key-value mapping from (almost) arbitrary keys to arbitrary values.\n",
        "- Efficient (`O(1)`) lookup, insertion, and deletion.\n",
        "- No slicing (would require a notion of order)."
      ]
    },
    {
      "cell_type": "code",
      "metadata": {
        "collapsed": true,
        "id": "TzE7q4Z9S3DB"
      },
      "source": [
        "# Suppose we have some matrices...\n",
        "a = [[1, 2, 3],\n",
        "     [2, 3, 4],\n",
        "     [5, 6, 7],\n",
        "     [1, 1, 1]]\n",
        "\n",
        "b = [[1, 2, 3, 4],\n",
        "     [2, 3, 4, 5]]"
      ],
      "execution_count": null,
      "outputs": []
    },
    {
      "cell_type": "code",
      "metadata": {
        "id": "EsXxWmGY4EOE"
      },
      "source": [
        "# Mi ejemplo\n",
        "c = [[4, 8, 3],\n",
        "     [-6, -1, 4],\n",
        "     [-1, 5, 2]]\n",
        "\n",
        "d = [[2, 0, 1],\n",
        "     [-5, 2, 3],\n",
        "     [5, 6, 7]]"
      ],
      "execution_count": null,
      "outputs": []
    },
    {
      "cell_type": "code",
      "metadata": {
        "collapsed": true,
        "id": "MR3qfIVJS3DB"
      },
      "source": [
        "def matmul(A, B):\n",
        "    \"\"\"Multiply matrix A by matrix B.\"\"\"\n",
        "    rows_out = len(A)\n",
        "    cols_out = len(B[0])\n",
        "    out = [[0 for col in range(cols_out)] for row in range(rows_out)]\n",
        "    \n",
        "    for i in range(rows_out):\n",
        "        for j in range(cols_out):\n",
        "            for k in range(len(B)):\n",
        "                out[i][j] += A[i][k] * B[k][j]\n",
        "    return out"
      ],
      "execution_count": null,
      "outputs": []
    },
    {
      "cell_type": "code",
      "metadata": {
        "id": "utgG0QqZ5Fyn"
      },
      "source": [
        "# Mi ejemplo\n",
        "# Suma de matrices y dos funciones\n",
        "def newMatrix(f,c,n):\n",
        "     matriz = []\n",
        "     for i in range(f):\n",
        "         a = [n]*c\n",
        "         matriz.append(a)\n",
        "     return matriz\n",
        "\n",
        "def add(A,B):\n",
        "    # Obtenemos las dimensiones de la matriz\n",
        "    numFilasA = len(A)\n",
        "    numFilasB = len(B)\n",
        "    numColumnasA = len(A[0])\n",
        "    numColumnasB = len(B[0])\n",
        "    \n",
        "    if numFilasA == numFilasB and numColumnasA == numColumnasB:\n",
        "        C = newMatrix(numFilasA, numColumnasA, 0) # Creamos una matriz\n",
        "        for i in range(numFilasA): \n",
        "            for j in range(numColumnasA):\n",
        "                # En la nueva matriz plasmamaos los resultados\n",
        "                C[i][j] = A[i][j] + B[i][j]\n",
        "                    \n",
        "    # Retornamos la matriz con los resultados\n",
        "    return C"
      ],
      "execution_count": null,
      "outputs": []
    },
    {
      "cell_type": "code",
      "metadata": {
        "colab": {
          "base_uri": "https://localhost:8080/"
        },
        "id": "XxDRVKpFS3DC",
        "outputId": "06b1fcee-89f0-46e1-ec7e-d90dceb2f103"
      },
      "source": [
        "%%time\n",
        "\n",
        "matmul(a, b)"
      ],
      "execution_count": null,
      "outputs": [
        {
          "output_type": "stream",
          "text": [
            "CPU times: user 26 µs, sys: 0 ns, total: 26 µs\n",
            "Wall time: 28.8 µs\n"
          ],
          "name": "stdout"
        },
        {
          "output_type": "execute_result",
          "data": {
            "text/plain": [
              "[[5, 8, 11, 14], [8, 13, 18, 23], [17, 28, 39, 50], [3, 5, 7, 9]]"
            ]
          },
          "metadata": {
            "tags": []
          },
          "execution_count": 40
        }
      ]
    },
    {
      "cell_type": "code",
      "metadata": {
        "id": "vw4-y0l891Ag"
      },
      "source": [
        "# Mi ejemplo\n",
        "\"\"\" %%time =  Se imprimen los tiempos de la CPU \n",
        "y el wall time (tiempo total que tarda un PC\n",
        "en completar una tarea) , y se devuelve el valor \n",
        "de la expresión (si corresponde). \"\"\""
      ],
      "execution_count": null,
      "outputs": []
    },
    {
      "cell_type": "code",
      "metadata": {
        "colab": {
          "base_uri": "https://localhost:8080/"
        },
        "id": "aFTNPDav5697",
        "outputId": "d43b57f2-ff39-4cf4-bc8a-56b3c52f9775"
      },
      "source": [
        "%%time\n",
        "\n",
        "add(c, d)"
      ],
      "execution_count": null,
      "outputs": [
        {
          "output_type": "stream",
          "text": [
            "CPU times: user 14 µs, sys: 0 ns, total: 14 µs\n",
            "Wall time: 16.9 µs\n"
          ],
          "name": "stdout"
        },
        {
          "output_type": "execute_result",
          "data": {
            "text/plain": [
              "[[6, 8, 4], [-11, 1, 7], [4, 11, 9]]"
            ]
          },
          "metadata": {
            "tags": []
          },
          "execution_count": 41
        }
      ]
    },
    {
      "cell_type": "code",
      "metadata": {
        "colab": {
          "base_uri": "https://localhost:8080/"
        },
        "id": "nPvTcgShS3DD",
        "outputId": "d22d4c23-f01d-4a43-966e-837cea3ead7b"
      },
      "source": [
        "import random\n",
        "def random_matrix(m, n):\n",
        "    out = []\n",
        "    for row in range(m):\n",
        "        out.append([random.random() for _ in range(n)])\n",
        "    return out\n",
        "\n",
        "randm = random_matrix(2, 3)\n",
        "randm"
      ],
      "execution_count": null,
      "outputs": [
        {
          "output_type": "execute_result",
          "data": {
            "text/plain": [
              "[[0.24796059924119707, 0.8223671975603419, 0.3435995387910076],\n",
              " [0.27722794623977065, 0.5088803280993819, 0.16349412183628098]]"
            ]
          },
          "metadata": {
            "tags": []
          },
          "execution_count": 42
        }
      ]
    },
    {
      "cell_type": "code",
      "metadata": {
        "colab": {
          "base_uri": "https://localhost:8080/"
        },
        "id": "vOZezg1V-F2m",
        "outputId": "341945a8-69d3-4eda-f28b-3c653c3a0eb6"
      },
      "source": [
        "# Mi ejemplo\n",
        "import random\n",
        "def rm(m, n):\n",
        "    out = []\n",
        "    for row in range(m):\n",
        "        out.append([random.random() for _ in range(n)])\n",
        "    return out\n",
        "\n",
        "r = rm(5, 2)\n",
        "r"
      ],
      "execution_count": null,
      "outputs": [
        {
          "output_type": "execute_result",
          "data": {
            "text/plain": [
              "[[0.5266581746548573, 0.46768275902327205],\n",
              " [0.7504984931854343, 0.2015682398495926],\n",
              " [0.8103717856635869, 0.586230288039843],\n",
              " [0.09353165003230546, 0.6008886388955001],\n",
              " [0.2801750602093148, 0.007103188149137796]]"
            ]
          },
          "metadata": {
            "tags": []
          },
          "execution_count": 43
        }
      ]
    },
    {
      "cell_type": "code",
      "metadata": {
        "scrolled": true,
        "colab": {
          "base_uri": "https://localhost:8080/"
        },
        "id": "UJ4yz0RgS3DE",
        "outputId": "5bafd661-37a8-4065-c427-1c2561def499"
      },
      "source": [
        "%%time\n",
        "randa = random_matrix(600, 100)\n",
        "randb = random_matrix(100, 600)\n",
        "x = matmul(randa, randb)"
      ],
      "execution_count": null,
      "outputs": [
        {
          "output_type": "stream",
          "text": [
            "CPU times: user 9.69 s, sys: 27.5 ms, total: 9.72 s\n",
            "Wall time: 9.73 s\n"
          ],
          "name": "stdout"
        }
      ]
    },
    {
      "cell_type": "code",
      "metadata": {
        "colab": {
          "base_uri": "https://localhost:8080/"
        },
        "id": "5mNvpKs9-YfB",
        "outputId": "71c30f68-b4f7-40f4-e90d-5ee36e047438"
      },
      "source": [
        "%%time\n",
        "# Mi ejemplo\n",
        "\n",
        "rc = rm(500, 500)\n",
        "rd = rm(500, 500)\n",
        "y = add(rc, rd)"
      ],
      "execution_count": null,
      "outputs": [
        {
          "output_type": "stream",
          "text": [
            "CPU times: user 130 ms, sys: 23 ms, total: 153 ms\n",
            "Wall time: 154 ms\n"
          ],
          "name": "stdout"
        }
      ]
    },
    {
      "cell_type": "code",
      "metadata": {
        "collapsed": true,
        "id": "TFZd_UguS3DF"
      },
      "source": [
        "# Maybe that's not that bad?  Let's try a simpler case.\n",
        "def python_dot_product(xs, ys):\n",
        "    return sum(x * y for x, y in zip(xs, ys))"
      ],
      "execution_count": null,
      "outputs": []
    },
    {
      "cell_type": "markdown",
      "metadata": {
        "id": "46AtLpyDAkyt"
      },
      "source": [
        "> **Producto punto**\n",
        "\n",
        "> *Si $A$ es una matriz de dimensión $mxn$  y $B$  es de dimensión $nxr$, entonces el producto $A \\cdot B$ es una matriz de dimensión $mxr$.*\n",
        "\n",
        "> **¡Importante!** El número de filas de $B$ tiene que ser igual al número de columnas de $A$.\n",
        "\n",
        "> *Como ejemplo se multiplicará una matriz de dos filas por una matriz columna:* \n",
        "\n",
        "$$\\begin{pmatrix}\n",
        "1 & -2 & 3\\\\ \n",
        "1 & 0 & -1 \n",
        "\\end{pmatrix} \\cdot  \\begin{pmatrix}\n",
        "4 \\\\ 5 \\\\ 6 \n",
        "\\end{pmatrix} = \n",
        "A \\cdot B $$\n",
        "\n",
        "> *El resultado del producto es una matriz columna con dos filas:* \n",
        "\n",
        "$$ \\begin{pmatrix}\n",
        "1\\cdot 4-2\\cdot 5+3\\cdot 6\\\\ \n",
        "1\\cdot 4+0\\cdot 5-1\\cdot 6\n",
        "\\end{pmatrix} = \\begin{pmatrix}\n",
        "12\\\\ \n",
        "-2\n",
        "\\end{pmatrix} $$"
      ]
    },
    {
      "cell_type": "code",
      "metadata": {
        "collapsed": true,
        "id": "ehMCX6tKS3DF"
      },
      "source": [
        "%%fortran\n",
        "subroutine fortran_dot_product(xs, ys, result)\n",
        "    double precision, intent(in) :: xs(:)\n",
        "    double precision, intent(in) :: ys(:)\n",
        "    double precision, intent(out) :: result\n",
        "    \n",
        "    result = sum(xs * ys)\n",
        "end"
      ],
      "execution_count": null,
      "outputs": []
    },
    {
      "cell_type": "markdown",
      "metadata": {
        "id": "EiVWmnFGB3Vf"
      },
      "source": [
        "> *Los programas escritos en **Fortran** están estructurados en unidades programáticas, en base a niveles jerárquicos. Existen cuatro tipos de unidades programáticas:*\n",
        "> * **program:** *que es la unidad programática principal.*\n",
        "> * **subroutine:** *(subrutina) unidad programática que contempla instrucciones ejecutables.*\n",
        "> * **function:** *(función) unidad programática que contempla instrucciones ejecutables.*\n",
        "> * **module:** *unidad programática que contempla instrucciones de declaracióon de variables, inicialización de variables, interfaces entre funciones y subrutinas.*\n",
        "\n",
        "> *El programa principal, las subrutinas y funciones, son llamadas procedimientos. Un procedimiento es interno si está definido dentro de una unidad programática, la cual puede ser una unidad “hospedante” si se trata de un procedimiento que llama al procedimiento interno, o bien un módulo. Un procedimiento puede ser externo, si no está contenido en ninguna otra unidad programática.*\n"
      ]
    },
    {
      "cell_type": "code",
      "metadata": {
        "collapsed": true,
        "id": "SlydaqNoS3DF"
      },
      "source": [
        "list_data = [float(i) for i in range(100000)]\n",
        "array_data = np.array(list_data)"
      ],
      "execution_count": null,
      "outputs": []
    },
    {
      "cell_type": "code",
      "metadata": {
        "id": "6GfGU3Z1DKZV"
      },
      "source": [
        "# Mi ejemplo\n",
        "list_data1 = [float(i) for i in range(30000)]\n",
        "array_data1 = np.array(list_data1)"
      ],
      "execution_count": null,
      "outputs": []
    },
    {
      "cell_type": "code",
      "metadata": {
        "colab": {
          "base_uri": "https://localhost:8080/"
        },
        "id": "4R_jo7dnS3DG",
        "outputId": "eb1516d9-d06e-442a-9f1a-1d114f136a97"
      },
      "source": [
        "%%time\n",
        "python_dot_product(list_data, list_data)"
      ],
      "execution_count": null,
      "outputs": [
        {
          "output_type": "stream",
          "text": [
            "CPU times: user 10.7 ms, sys: 874 µs, total: 11.6 ms\n",
            "Wall time: 13.6 ms\n"
          ],
          "name": "stdout"
        },
        {
          "output_type": "execute_result",
          "data": {
            "text/plain": [
              "333328333350000.0"
            ]
          },
          "metadata": {
            "tags": []
          },
          "execution_count": 51
        }
      ]
    },
    {
      "cell_type": "code",
      "metadata": {
        "colab": {
          "base_uri": "https://localhost:8080/"
        },
        "id": "CBjhKQI2DTqC",
        "outputId": "c3e7bdc7-6cf0-43a5-bcc1-9a4189415e6c"
      },
      "source": [
        "# Mi ejemplo\n",
        "%%time\n",
        "\n",
        "python_dot_product(list_data1, list_data1)"
      ],
      "execution_count": null,
      "outputs": [
        {
          "output_type": "stream",
          "text": [
            "CPU times: user 5.3 ms, sys: 16 µs, total: 5.32 ms\n",
            "Wall time: 5.81 ms\n"
          ],
          "name": "stdout"
        },
        {
          "output_type": "execute_result",
          "data": {
            "text/plain": [
              "8999550005000.0"
            ]
          },
          "metadata": {
            "tags": []
          },
          "execution_count": 52
        }
      ]
    },
    {
      "cell_type": "code",
      "metadata": {
        "colab": {
          "base_uri": "https://localhost:8080/"
        },
        "id": "6jhJDyg5S3DH",
        "outputId": "c8d9ef7b-df81-4b0b-ffa5-1e152d0cce93"
      },
      "source": [
        "%%time\n",
        "fortran_dot_product(array_data, array_data)"
      ],
      "execution_count": null,
      "outputs": [
        {
          "output_type": "stream",
          "text": [
            "CPU times: user 210 µs, sys: 2 µs, total: 212 µs\n",
            "Wall time: 244 µs\n"
          ],
          "name": "stdout"
        },
        {
          "output_type": "execute_result",
          "data": {
            "text/plain": [
              "333328333350000.0"
            ]
          },
          "metadata": {
            "tags": []
          },
          "execution_count": 53
        }
      ]
    },
    {
      "cell_type": "code",
      "metadata": {
        "colab": {
          "base_uri": "https://localhost:8080/"
        },
        "id": "onDsAYIvDnky",
        "outputId": "336b035f-3359-4501-b7f3-10e1460bacc8"
      },
      "source": [
        "# Mi ejemplo\n",
        "%%time\n",
        "fortran_dot_product(array_data, array_data)"
      ],
      "execution_count": null,
      "outputs": [
        {
          "output_type": "stream",
          "text": [
            "CPU times: user 200 µs, sys: 0 ns, total: 200 µs\n",
            "Wall time: 207 µs\n"
          ],
          "name": "stdout"
        },
        {
          "output_type": "execute_result",
          "data": {
            "text/plain": [
              "333328333350000.0"
            ]
          },
          "metadata": {
            "tags": []
          },
          "execution_count": 54
        }
      ]
    },
    {
      "cell_type": "markdown",
      "metadata": {
        "id": "JVFmMZPbS3DH"
      },
      "source": [
        "## Why is the Python Version so Much Slower?"
      ]
    },
    {
      "cell_type": "code",
      "metadata": {
        "id": "5FfW0R-oS3DI",
        "colab": {
          "base_uri": "https://localhost:8080/"
        },
        "outputId": "846c608d-649c-43c6-86fc-103595e68527"
      },
      "source": [
        "# Dynamic typing.\n",
        "def mul_elemwise(xs, ys):\n",
        "    return [x * y for x, y in zip(xs, ys)]\n",
        "\n",
        "mul_elemwise([1, 2, 3, 4], [1, 2 + 0j, 3.0, 'four'])\n",
        "#[type(x) for x in _]"
      ],
      "execution_count": null,
      "outputs": [
        {
          "output_type": "execute_result",
          "data": {
            "text/plain": [
              "[1, (4+0j), 9.0, 'fourfourfourfour']"
            ]
          },
          "metadata": {
            "tags": []
          },
          "execution_count": 62
        }
      ]
    },
    {
      "cell_type": "code",
      "metadata": {
        "colab": {
          "base_uri": "https://localhost:8080/"
        },
        "id": "NupVXRggg6M3",
        "outputId": "0c6a4ea3-e27f-4c9b-bea8-441ab78e3d37"
      },
      "source": [
        "# mi ejemplo\n",
        "def mul_elemwise1(xs, ys):\n",
        "    return [x * y for x, y in zip(xs, ys)]\n",
        "\n",
        "mul_elemwise1([5, 7, 9, 11], [5, 7 + 0j, 9.0, 'eleven '])\n",
        "#[type(x) for x in _]"
      ],
      "execution_count": null,
      "outputs": [
        {
          "output_type": "execute_result",
          "data": {
            "text/plain": [
              "[25,\n",
              " (49+0j),\n",
              " 81.0,\n",
              " 'eleven eleven eleven eleven eleven eleven eleven eleven eleven eleven eleven ']"
            ]
          },
          "metadata": {
            "tags": []
          },
          "execution_count": 63
        }
      ]
    },
    {
      "cell_type": "code",
      "metadata": {
        "id": "qcp8IOeeS3DI",
        "colab": {
          "base_uri": "https://localhost:8080/"
        },
        "outputId": "75ed177e-7551-4bad-a52a-80fe72905d3f"
      },
      "source": [
        "# Interpretation overhead.\n",
        "source_code = 'a + b * c'\n",
        "bytecode = compile(source_code, '', 'eval')\n",
        "import dis; dis.dis(bytecode)"
      ],
      "execution_count": null,
      "outputs": [
        {
          "output_type": "stream",
          "text": [
            "  1           0 LOAD_NAME                0 (a)\n",
            "              2 LOAD_NAME                1 (b)\n",
            "              4 LOAD_NAME                2 (c)\n",
            "              6 BINARY_MULTIPLY\n",
            "              8 BINARY_ADD\n",
            "             10 RETURN_VALUE\n"
          ],
          "name": "stdout"
        }
      ]
    },
    {
      "cell_type": "code",
      "metadata": {
        "colab": {
          "base_uri": "https://localhost:8080/"
        },
        "id": "RrLjjT_Ahbfg",
        "outputId": "8c207b54-1b99-4062-c65a-0cfb72cbd1b2"
      },
      "source": [
        "# Mi ejemplo\n",
        "source_code1 = 'w + x * y / -z'\n",
        "bytecode1 = compile(source_code1, '', 'eval')\n",
        "import dis; dis.dis(bytecode1)"
      ],
      "execution_count": null,
      "outputs": [
        {
          "output_type": "stream",
          "text": [
            "  1           0 LOAD_NAME                0 (w)\n",
            "              2 LOAD_NAME                1 (x)\n",
            "              4 LOAD_NAME                2 (y)\n",
            "              6 BINARY_MULTIPLY\n",
            "              8 LOAD_NAME                3 (z)\n",
            "             10 UNARY_NEGATIVE\n",
            "             12 BINARY_TRUE_DIVIDE\n",
            "             14 BINARY_ADD\n",
            "             16 RETURN_VALUE\n"
          ],
          "name": "stdout"
        }
      ]
    },
    {
      "cell_type": "markdown",
      "metadata": {
        "id": "h3RjP-fWib3m"
      },
      "source": [
        "> *El orden de precedencia de ejecución de los operadores aritméticos es:*\n",
        "\n",
        "> *   `Exponente: **`\n",
        "> *   `Negación: -`\n",
        "> *   `Multiplicación, División, División entera, Módulo: *, /, //, %`\n",
        "> *   `Suma, Resta: +,-`"
      ]
    },
    {
      "cell_type": "markdown",
      "metadata": {
        "id": "ny_aJJ1zS3DJ"
      },
      "source": [
        "## Why is the Python Version so Slow?\n",
        "- Dynamic typing means that every single operation requires dispatching on the input type.\n",
        "- Having an interpreter means that every instruction is fetched and dispatched at runtime.\n",
        "- Other overheads:\n",
        "  - Arbitrary-size integers.\n",
        "  - Reference-counted garbage collection."
      ]
    },
    {
      "cell_type": "markdown",
      "metadata": {
        "id": "C5mnQYlTS3DK"
      },
      "source": [
        "> This is the paradox that we have to work with when we're doing scientific or numerically-intensive Python. What makes Python fast for development -- this high-level, interpreted, and dynamically-typed aspect of the language -- is exactly what makes it slow for code execution.\n",
        "\n",
        "- Jake VanderPlas, [*Losing Your Loops: Fast Numerical Computing with NumPy*](https://www.youtube.com/watch?v=EEUXKG97YRw)"
      ]
    },
    {
      "cell_type": "markdown",
      "metadata": {
        "id": "VMHaAsOyS3DK"
      },
      "source": [
        "# What Do We Do?"
      ]
    },
    {
      "cell_type": "markdown",
      "metadata": {
        "id": "6HQXK5JSS3DL"
      },
      "source": [
        "- Python is slow for numerical computation because it performs dynamic dispatch on every operation we perform..."
      ]
    },
    {
      "cell_type": "markdown",
      "metadata": {
        "collapsed": true,
        "id": "enc9QBCbS3DM"
      },
      "source": [
        "- ...but often, we just want to do the same thing over and over in a loop!"
      ]
    },
    {
      "cell_type": "markdown",
      "metadata": {
        "id": "K66DuYArS3DM"
      },
      "source": [
        "- If we don't need Python's dynamicism, we don't want to pay (much) for it."
      ]
    },
    {
      "cell_type": "markdown",
      "metadata": {
        "id": "ba4DlmuZS3DM"
      },
      "source": [
        "- **Idea:** Dispatch **once per operation** instead of **once per element**."
      ]
    },
    {
      "cell_type": "code",
      "metadata": {
        "id": "uaQABFwCS3DN",
        "colab": {
          "base_uri": "https://localhost:8080/"
        },
        "outputId": "1300000e-1ca4-47e5-e41d-97f7ad8754fd"
      },
      "source": [
        "import numpy as np\n",
        "\n",
        "data = np.array([1, 2, 3, 4])\n",
        "data"
      ],
      "execution_count": null,
      "outputs": [
        {
          "output_type": "execute_result",
          "data": {
            "text/plain": [
              "array([1, 2, 3, 4])"
            ]
          },
          "metadata": {
            "tags": []
          },
          "execution_count": 70
        }
      ]
    },
    {
      "cell_type": "code",
      "metadata": {
        "colab": {
          "base_uri": "https://localhost:8080/"
        },
        "id": "8uRKwgrVjHas",
        "outputId": "b7e45911-428a-4cb7-9d05-b38f65ccef74"
      },
      "source": [
        "# Mi ejemplo\n",
        "import numpy as np\n",
        "\n",
        "data1 = np.array([7,6,11,45,28,13], dtype=float)\n",
        "data1"
      ],
      "execution_count": null,
      "outputs": [
        {
          "output_type": "execute_result",
          "data": {
            "text/plain": [
              "array([ 7.,  6., 11., 45., 28., 13.])"
            ]
          },
          "metadata": {
            "tags": []
          },
          "execution_count": 104
        }
      ]
    },
    {
      "cell_type": "code",
      "metadata": {
        "id": "ZD5r-g93S3DN",
        "colab": {
          "base_uri": "https://localhost:8080/"
        },
        "outputId": "bb3a2ca8-d31b-4f1d-f0b2-22778c494b4a"
      },
      "source": [
        "data + data"
      ],
      "execution_count": null,
      "outputs": [
        {
          "output_type": "execute_result",
          "data": {
            "text/plain": [
              "array([2, 4, 6, 8])"
            ]
          },
          "metadata": {
            "tags": []
          },
          "execution_count": 89
        }
      ]
    },
    {
      "cell_type": "code",
      "metadata": {
        "colab": {
          "base_uri": "https://localhost:8080/"
        },
        "id": "7xipQqUijdQ4",
        "outputId": "1a00931f-b707-4d1b-acc7-3b8d685931e7"
      },
      "source": [
        "# Mi ejemplo\n",
        "data1 + data1"
      ],
      "execution_count": null,
      "outputs": [
        {
          "output_type": "execute_result",
          "data": {
            "text/plain": [
              "array([14., 12., 22., 90., 56., 26.])"
            ]
          },
          "metadata": {
            "tags": []
          },
          "execution_count": 90
        }
      ]
    },
    {
      "cell_type": "code",
      "metadata": {
        "id": "mwmaVQzhS3DO",
        "colab": {
          "base_uri": "https://localhost:8080/"
        },
        "outputId": "d14399b8-0d79-4403-8be0-c03a109d5135"
      },
      "source": [
        "%%time\n",
        "# Naive dot product\n",
        "(array_data * array_data).sum()"
      ],
      "execution_count": null,
      "outputs": [
        {
          "output_type": "stream",
          "text": [
            "CPU times: user 1.1 ms, sys: 1.03 ms, total: 2.13 ms\n",
            "Wall time: 2.3 ms\n"
          ],
          "name": "stdout"
        },
        {
          "output_type": "execute_result",
          "data": {
            "text/plain": [
              "333328333350000.0"
            ]
          },
          "metadata": {
            "tags": []
          },
          "execution_count": 91
        }
      ]
    },
    {
      "cell_type": "code",
      "metadata": {
        "colab": {
          "base_uri": "https://localhost:8080/"
        },
        "id": "u2SBqK7_jn8e",
        "outputId": "b33233b7-fcc8-489c-cf90-bc6f499b94aa"
      },
      "source": [
        "# Mi ejemplo\n",
        "%%time\n",
        "# Naive dot product\n",
        "(array_data1 * array_data1).sum()"
      ],
      "execution_count": null,
      "outputs": [
        {
          "output_type": "stream",
          "text": [
            "CPU times: user 599 µs, sys: 0 ns, total: 599 µs\n",
            "Wall time: 476 µs\n"
          ],
          "name": "stdout"
        },
        {
          "output_type": "execute_result",
          "data": {
            "text/plain": [
              "8999550005000.0"
            ]
          },
          "metadata": {
            "tags": []
          },
          "execution_count": 92
        }
      ]
    },
    {
      "cell_type": "code",
      "metadata": {
        "id": "lu4ewVCnS3DO",
        "colab": {
          "base_uri": "https://localhost:8080/"
        },
        "outputId": "49f4ddb3-b5b5-4e5c-cce0-cc7abcc926a7"
      },
      "source": [
        "%%time\n",
        "# Built-in dot product.\n",
        "array_data.dot(array_data)"
      ],
      "execution_count": null,
      "outputs": [
        {
          "output_type": "stream",
          "text": [
            "CPU times: user 0 ns, sys: 1.48 ms, total: 1.48 ms\n",
            "Wall time: 775 µs\n"
          ],
          "name": "stdout"
        },
        {
          "output_type": "execute_result",
          "data": {
            "text/plain": [
              "333328333350000.0"
            ]
          },
          "metadata": {
            "tags": []
          },
          "execution_count": 93
        }
      ]
    },
    {
      "cell_type": "code",
      "metadata": {
        "colab": {
          "base_uri": "https://localhost:8080/"
        },
        "id": "F_ruIf3oj8AP",
        "outputId": "794fccce-af76-4756-e42e-0db110319e61"
      },
      "source": [
        "# Mi ejemplo\n",
        "%%time\n",
        "array_data1.dot(array_data1)"
      ],
      "execution_count": null,
      "outputs": [
        {
          "output_type": "stream",
          "text": [
            "CPU times: user 500 µs, sys: 946 µs, total: 1.45 ms\n",
            "Wall time: 772 µs\n"
          ],
          "name": "stdout"
        },
        {
          "output_type": "execute_result",
          "data": {
            "text/plain": [
              "8999550005000.0"
            ]
          },
          "metadata": {
            "tags": []
          },
          "execution_count": 94
        }
      ]
    },
    {
      "cell_type": "code",
      "metadata": {
        "id": "jkC30TmxS3DQ",
        "colab": {
          "base_uri": "https://localhost:8080/"
        },
        "outputId": "64bd4ccc-6275-4dcf-dec7-464fe8c3ba82"
      },
      "source": [
        "%%time\n",
        "fortran_dot_product(array_data, array_data)"
      ],
      "execution_count": null,
      "outputs": [
        {
          "output_type": "stream",
          "text": [
            "CPU times: user 184 µs, sys: 0 ns, total: 184 µs\n",
            "Wall time: 190 µs\n"
          ],
          "name": "stdout"
        },
        {
          "output_type": "execute_result",
          "data": {
            "text/plain": [
              "333328333350000.0"
            ]
          },
          "metadata": {
            "tags": []
          },
          "execution_count": 95
        }
      ]
    },
    {
      "cell_type": "code",
      "metadata": {
        "colab": {
          "base_uri": "https://localhost:8080/"
        },
        "id": "fOZIw48VkHIy",
        "outputId": "c593d345-7407-4f7a-80a3-83abd96b1285"
      },
      "source": [
        "# Mi ejempo\n",
        "%%time\n",
        "fortran_dot_product(array_data1, array_data1)"
      ],
      "execution_count": null,
      "outputs": [
        {
          "output_type": "stream",
          "text": [
            "CPU times: user 66 µs, sys: 0 ns, total: 66 µs\n",
            "Wall time: 69.9 µs\n"
          ],
          "name": "stdout"
        },
        {
          "output_type": "execute_result",
          "data": {
            "text/plain": [
              "8999550005000.0"
            ]
          },
          "metadata": {
            "tags": []
          },
          "execution_count": 96
        }
      ]
    },
    {
      "cell_type": "code",
      "metadata": {
        "id": "4WEw-vGBS3DQ",
        "colab": {
          "base_uri": "https://localhost:8080/",
          "height": 180
        },
        "outputId": "32d996dd-c898-45e8-d923-9fd876a57f5c"
      },
      "source": [
        "# Numpy won't allow us to write a string into an int array.\n",
        "data[0] = \"foo\""
      ],
      "execution_count": null,
      "outputs": [
        {
          "output_type": "error",
          "ename": "ValueError",
          "evalue": "ignored",
          "traceback": [
            "\u001b[0;31m---------------------------------------------------------------------------\u001b[0m",
            "\u001b[0;31mValueError\u001b[0m                                Traceback (most recent call last)",
            "\u001b[0;32m<ipython-input-97-1ae73c964fd5>\u001b[0m in \u001b[0;36m<module>\u001b[0;34m()\u001b[0m\n\u001b[1;32m      1\u001b[0m \u001b[0;31m# Numpy won't allow us to write a string into an int array.\u001b[0m\u001b[0;34m\u001b[0m\u001b[0;34m\u001b[0m\u001b[0;34m\u001b[0m\u001b[0m\n\u001b[0;32m----> 2\u001b[0;31m \u001b[0mdata\u001b[0m\u001b[0;34m[\u001b[0m\u001b[0;36m0\u001b[0m\u001b[0;34m]\u001b[0m \u001b[0;34m=\u001b[0m \u001b[0;34m\"foo\"\u001b[0m\u001b[0;34m\u001b[0m\u001b[0;34m\u001b[0m\u001b[0m\n\u001b[0m",
            "\u001b[0;31mValueError\u001b[0m: invalid literal for int() with base 10: 'foo'"
          ]
        }
      ]
    },
    {
      "cell_type": "code",
      "metadata": {
        "colab": {
          "base_uri": "https://localhost:8080/",
          "height": 180
        },
        "id": "-77QDs5LkSDr",
        "outputId": "7444705b-9546-46a6-aa14-1d87517c3553"
      },
      "source": [
        "# Mi ejemplo\n",
        "data1[2] = \"mina\""
      ],
      "execution_count": null,
      "outputs": [
        {
          "output_type": "error",
          "ename": "ValueError",
          "evalue": "ignored",
          "traceback": [
            "\u001b[0;31m---------------------------------------------------------------------------\u001b[0m",
            "\u001b[0;31mValueError\u001b[0m                                Traceback (most recent call last)",
            "\u001b[0;32m<ipython-input-98-a20c09e89e1f>\u001b[0m in \u001b[0;36m<module>\u001b[0;34m()\u001b[0m\n\u001b[1;32m      1\u001b[0m \u001b[0;31m# Mi ejemplo\u001b[0m\u001b[0;34m\u001b[0m\u001b[0;34m\u001b[0m\u001b[0;34m\u001b[0m\u001b[0m\n\u001b[0;32m----> 2\u001b[0;31m \u001b[0mdata1\u001b[0m\u001b[0;34m[\u001b[0m\u001b[0;36m2\u001b[0m\u001b[0;34m]\u001b[0m \u001b[0;34m=\u001b[0m \u001b[0;34m\"mina\"\u001b[0m\u001b[0;34m\u001b[0m\u001b[0;34m\u001b[0m\u001b[0m\n\u001b[0m",
            "\u001b[0;31mValueError\u001b[0m: could not convert string to float: 'mina'"
          ]
        }
      ]
    },
    {
      "cell_type": "code",
      "metadata": {
        "collapsed": true,
        "id": "RehF5YeDS3DR",
        "colab": {
          "base_uri": "https://localhost:8080/",
          "height": 180
        },
        "outputId": "c719fa30-77b3-41d9-d3df-52e597b01f87"
      },
      "source": [
        "# We also can't grow an array once it's created.\n",
        "data.append(3)"
      ],
      "execution_count": null,
      "outputs": [
        {
          "output_type": "error",
          "ename": "AttributeError",
          "evalue": "ignored",
          "traceback": [
            "\u001b[0;31m---------------------------------------------------------------------------\u001b[0m",
            "\u001b[0;31mAttributeError\u001b[0m                            Traceback (most recent call last)",
            "\u001b[0;32m<ipython-input-99-8cdaf5ab44b5>\u001b[0m in \u001b[0;36m<module>\u001b[0;34m()\u001b[0m\n\u001b[1;32m      1\u001b[0m \u001b[0;31m# We also can't grow an array once it's created.\u001b[0m\u001b[0;34m\u001b[0m\u001b[0;34m\u001b[0m\u001b[0;34m\u001b[0m\u001b[0m\n\u001b[0;32m----> 2\u001b[0;31m \u001b[0mdata\u001b[0m\u001b[0;34m.\u001b[0m\u001b[0mappend\u001b[0m\u001b[0;34m(\u001b[0m\u001b[0;36m3\u001b[0m\u001b[0;34m)\u001b[0m\u001b[0;34m\u001b[0m\u001b[0;34m\u001b[0m\u001b[0m\n\u001b[0m",
            "\u001b[0;31mAttributeError\u001b[0m: 'numpy.ndarray' object has no attribute 'append'"
          ]
        }
      ]
    },
    {
      "cell_type": "code",
      "metadata": {
        "colab": {
          "base_uri": "https://localhost:8080/",
          "height": 180
        },
        "id": "odKc_swukcgq",
        "outputId": "249941f9-bf16-427d-ccf8-506d2648d589"
      },
      "source": [
        "# Mi ejemplo\n",
        "data1.append(13)"
      ],
      "execution_count": null,
      "outputs": [
        {
          "output_type": "error",
          "ename": "AttributeError",
          "evalue": "ignored",
          "traceback": [
            "\u001b[0;31m---------------------------------------------------------------------------\u001b[0m",
            "\u001b[0;31mAttributeError\u001b[0m                            Traceback (most recent call last)",
            "\u001b[0;32m<ipython-input-100-4b37642fcd61>\u001b[0m in \u001b[0;36m<module>\u001b[0;34m()\u001b[0m\n\u001b[1;32m      1\u001b[0m \u001b[0;31m# Mi ejemplo\u001b[0m\u001b[0;34m\u001b[0m\u001b[0;34m\u001b[0m\u001b[0;34m\u001b[0m\u001b[0m\n\u001b[0;32m----> 2\u001b[0;31m \u001b[0mdata1\u001b[0m\u001b[0;34m.\u001b[0m\u001b[0mappend\u001b[0m\u001b[0;34m(\u001b[0m\u001b[0;36m13\u001b[0m\u001b[0;34m)\u001b[0m\u001b[0;34m\u001b[0m\u001b[0;34m\u001b[0m\u001b[0m\n\u001b[0m",
            "\u001b[0;31mAttributeError\u001b[0m: 'numpy.ndarray' object has no attribute 'append'"
          ]
        }
      ]
    },
    {
      "cell_type": "code",
      "metadata": {
        "collapsed": true,
        "id": "XGHShmdHS3DR",
        "colab": {
          "base_uri": "https://localhost:8080/"
        },
        "outputId": "be7f0f83-5184-4d23-cdc7-1d38fb694c61"
      },
      "source": [
        "# We **can** reshape an array though.\n",
        "two_by_two = data.reshape(2, 2)\n",
        "two_by_two"
      ],
      "execution_count": null,
      "outputs": [
        {
          "output_type": "execute_result",
          "data": {
            "text/plain": [
              "array([[1, 2],\n",
              "       [3, 4]])"
            ]
          },
          "metadata": {
            "tags": []
          },
          "execution_count": 101
        }
      ]
    },
    {
      "cell_type": "code",
      "metadata": {
        "colab": {
          "base_uri": "https://localhost:8080/"
        },
        "id": "5xAE8ZILkomo",
        "outputId": "f3fa2866-748b-4b0f-cb4e-5951e86e98b4"
      },
      "source": [
        "# Mi ejemplo\n",
        "three_by_three = data1.reshape(2,3)\n",
        "three_by_three"
      ],
      "execution_count": null,
      "outputs": [
        {
          "output_type": "execute_result",
          "data": {
            "text/plain": [
              "array([[ 7.,  6., 11.],\n",
              "       [45., 28., 13.]])"
            ]
          },
          "metadata": {
            "tags": []
          },
          "execution_count": 106
        }
      ]
    },
    {
      "cell_type": "markdown",
      "metadata": {
        "id": "grYhkl4mS3DS"
      },
      "source": [
        "Numpy arrays are:\n",
        "\n",
        "- Fixed-type"
      ]
    },
    {
      "cell_type": "markdown",
      "metadata": {
        "id": "aAq-jDR2S3DS"
      },
      "source": [
        "- Size-immutable"
      ]
    },
    {
      "cell_type": "markdown",
      "metadata": {
        "id": "rFBW6dqNS3DT"
      },
      "source": [
        "- Multi-dimensional"
      ]
    },
    {
      "cell_type": "markdown",
      "metadata": {
        "id": "dacORsTTS3DT"
      },
      "source": [
        "- Fast\\*"
      ]
    },
    {
      "cell_type": "markdown",
      "metadata": {
        "id": "Y9wUmBbqS3DT"
      },
      "source": [
        "\\* If you use them correctly."
      ]
    },
    {
      "cell_type": "markdown",
      "metadata": {
        "id": "zaafV9DhS3DU"
      },
      "source": [
        "# What's in an Array?"
      ]
    },
    {
      "cell_type": "code",
      "metadata": {
        "id": "FtLp_b9lS3DU",
        "colab": {
          "base_uri": "https://localhost:8080/"
        },
        "outputId": "0a5135ed-80a5-41fb-fd6b-63cae0aaec47"
      },
      "source": [
        "arr = np.array([1, 2, 3, 4, 5, 6], dtype='int16').reshape(2, 3)\n",
        "print(\"Array:\\n\", arr, sep='')\n",
        "print(\"===========\")\n",
        "print(\"DType:\", arr.dtype)\n",
        "print(\"Shape:\", arr.shape)\n",
        "print(\"Strides:\", arr.strides)\n",
        "print(\"Data:\", arr.data.tobytes())"
      ],
      "execution_count": null,
      "outputs": [
        {
          "output_type": "stream",
          "text": [
            "Array:\n",
            "[[1 2 3]\n",
            " [4 5 6]]\n",
            "===========\n",
            "DType: int16\n",
            "Shape: (2, 3)\n",
            "Strides: (6, 2)\n",
            "Data: b'\\x01\\x00\\x02\\x00\\x03\\x00\\x04\\x00\\x05\\x00\\x06\\x00'\n"
          ],
          "name": "stdout"
        }
      ]
    },
    {
      "cell_type": "code",
      "metadata": {
        "colab": {
          "base_uri": "https://localhost:8080/"
        },
        "id": "oesql2P4lw1P",
        "outputId": "ef7fea68-73ec-4a79-af42-b1e7ec5e888c"
      },
      "source": [
        "# Mi ejemplo\n",
        "arr1 = np.array(['0', '0', '1', '1', '0', '1', '1', '0'], dtype='<U1').reshape(4, 2)\n",
        "print(\"Array:\\n\", arr1, sep='')\n",
        "print(\"===========\")\n",
        "print(\"DType:\", arr1.dtype)\n",
        "print(\"Shape:\", arr1.shape)\n",
        "print(\"Strides:\", arr1.strides) # 8 elementos, 4 filas\n",
        "print(\"Data:\", arr1.data.tobytes())"
      ],
      "execution_count": null,
      "outputs": [
        {
          "output_type": "stream",
          "text": [
            "Array:\n",
            "[['0' '0']\n",
            " ['1' '1']\n",
            " ['0' '1']\n",
            " ['1' '0']]\n",
            "===========\n",
            "DType: <U1\n",
            "Shape: (4, 2)\n",
            "Strides: (8, 4)\n",
            "Data: b'0\\x00\\x00\\x000\\x00\\x00\\x001\\x00\\x00\\x001\\x00\\x00\\x000\\x00\\x00\\x001\\x00\\x00\\x001\\x00\\x00\\x000\\x00\\x00\\x00'\n"
          ],
          "name": "stdout"
        }
      ]
    },
    {
      "cell_type": "markdown",
      "metadata": {
        "id": "0HncbuMXS3DV"
      },
      "source": [
        "# Core Operations\n",
        "\n",
        "- Vectorized **ufuncs** for elementwise operations.\n",
        "- Fancy indexing and masking for selection and filtering.\n",
        "- Aggregations across axes.\n",
        "- Broadcasting"
      ]
    },
    {
      "cell_type": "markdown",
      "metadata": {
        "id": "TQnA9dH3S3DV"
      },
      "source": [
        "# UFuncs\n",
        "\n",
        "UFuncs (universal functions) are functions that operate elementwise on one or more arrays."
      ]
    },
    {
      "cell_type": "code",
      "metadata": {
        "id": "OR1nT95XS3DW",
        "colab": {
          "base_uri": "https://localhost:8080/"
        },
        "outputId": "927ef420-8a59-489a-d957-7bb89b4697c4"
      },
      "source": [
        "data = np.arange(15).reshape(3, 5)\n",
        "data"
      ],
      "execution_count": null,
      "outputs": [
        {
          "output_type": "execute_result",
          "data": {
            "text/plain": [
              "array([[ 0,  1,  2,  3,  4],\n",
              "       [ 5,  6,  7,  8,  9],\n",
              "       [10, 11, 12, 13, 14]])"
            ]
          },
          "metadata": {
            "tags": []
          },
          "execution_count": 117
        }
      ]
    },
    {
      "cell_type": "code",
      "metadata": {
        "colab": {
          "base_uri": "https://localhost:8080/"
        },
        "id": "6xheFoMWoMno",
        "outputId": "998ecde1-c16a-4509-d848-a53cc7a37ea7"
      },
      "source": [
        "# Mi ejemplo \n",
        "d1 = np.arange(12).reshape(6, 2)\n",
        "d1"
      ],
      "execution_count": null,
      "outputs": [
        {
          "output_type": "execute_result",
          "data": {
            "text/plain": [
              "array([[ 0,  1],\n",
              "       [ 2,  3],\n",
              "       [ 4,  5],\n",
              "       [ 6,  7],\n",
              "       [ 8,  9],\n",
              "       [10, 11]])"
            ]
          },
          "metadata": {
            "tags": []
          },
          "execution_count": 118
        }
      ]
    },
    {
      "cell_type": "code",
      "metadata": {
        "id": "TYA0AbL-S3DW",
        "colab": {
          "base_uri": "https://localhost:8080/"
        },
        "outputId": "067c7a62-5b5c-4d34-903e-499ddcf0ab5e"
      },
      "source": [
        "# Binary operators.\n",
        "data * data"
      ],
      "execution_count": null,
      "outputs": [
        {
          "output_type": "execute_result",
          "data": {
            "text/plain": [
              "array([[  0,   1,   4,   9,  16],\n",
              "       [ 25,  36,  49,  64,  81],\n",
              "       [100, 121, 144, 169, 196]])"
            ]
          },
          "metadata": {
            "tags": []
          },
          "execution_count": 119
        }
      ]
    },
    {
      "cell_type": "code",
      "metadata": {
        "colab": {
          "base_uri": "https://localhost:8080/"
        },
        "id": "Myp857IBoXhm",
        "outputId": "73d000ef-a4f6-446a-f0ca-19ab8f65c90c"
      },
      "source": [
        "# Mi ejemplo\n",
        "d1 * d1"
      ],
      "execution_count": null,
      "outputs": [
        {
          "output_type": "execute_result",
          "data": {
            "text/plain": [
              "array([[  0,   1],\n",
              "       [  4,   9],\n",
              "       [ 16,  25],\n",
              "       [ 36,  49],\n",
              "       [ 64,  81],\n",
              "       [100, 121]])"
            ]
          },
          "metadata": {
            "tags": []
          },
          "execution_count": 120
        }
      ]
    },
    {
      "cell_type": "code",
      "metadata": {
        "id": "6RaqwxNIS3DX",
        "colab": {
          "base_uri": "https://localhost:8080/"
        },
        "outputId": "db83be47-8b31-4dcc-ed05-596d4f481db2"
      },
      "source": [
        "# Unary functions.\n",
        "np.sqrt(data)"
      ],
      "execution_count": null,
      "outputs": [
        {
          "output_type": "execute_result",
          "data": {
            "text/plain": [
              "array([[0.        , 1.        , 1.41421356, 1.73205081, 2.        ],\n",
              "       [2.23606798, 2.44948974, 2.64575131, 2.82842712, 3.        ],\n",
              "       [3.16227766, 3.31662479, 3.46410162, 3.60555128, 3.74165739]])"
            ]
          },
          "metadata": {
            "tags": []
          },
          "execution_count": 121
        }
      ]
    },
    {
      "cell_type": "code",
      "metadata": {
        "colab": {
          "base_uri": "https://localhost:8080/"
        },
        "id": "TOPZOsTIofB0",
        "outputId": "aa4cd8b2-59aa-41f1-b549-842edca3b239"
      },
      "source": [
        "# Mi ejemplo\n",
        "np.sqrt(d1)"
      ],
      "execution_count": null,
      "outputs": [
        {
          "output_type": "execute_result",
          "data": {
            "text/plain": [
              "array([[0.        , 1.        ],\n",
              "       [1.41421356, 1.73205081],\n",
              "       [2.        , 2.23606798],\n",
              "       [2.44948974, 2.64575131],\n",
              "       [2.82842712, 3.        ],\n",
              "       [3.16227766, 3.31662479]])"
            ]
          },
          "metadata": {
            "tags": []
          },
          "execution_count": 122
        }
      ]
    },
    {
      "cell_type": "code",
      "metadata": {
        "id": "gXcOv8L8S3DX",
        "colab": {
          "base_uri": "https://localhost:8080/"
        },
        "outputId": "6df5597b-2de7-4e70-e9fc-27e5d7e07042"
      },
      "source": [
        "# Comparison operations\n",
        "(data % 3) == 0"
      ],
      "execution_count": null,
      "outputs": [
        {
          "output_type": "execute_result",
          "data": {
            "text/plain": [
              "array([[ True, False, False,  True, False],\n",
              "       [False,  True, False, False,  True],\n",
              "       [False, False,  True, False, False]])"
            ]
          },
          "metadata": {
            "tags": []
          },
          "execution_count": 123
        }
      ]
    },
    {
      "cell_type": "code",
      "metadata": {
        "colab": {
          "base_uri": "https://localhost:8080/"
        },
        "id": "vaqRH9NzolxU",
        "outputId": "4e29eb0b-5f71-461c-90c4-a6fb7b3e37ca"
      },
      "source": [
        "# Mi ejemplo\n",
        "(d1 % 2) == 0"
      ],
      "execution_count": null,
      "outputs": [
        {
          "output_type": "execute_result",
          "data": {
            "text/plain": [
              "array([[ True, False],\n",
              "       [ True, False],\n",
              "       [ True, False],\n",
              "       [ True, False],\n",
              "       [ True, False],\n",
              "       [ True, False]])"
            ]
          },
          "metadata": {
            "tags": []
          },
          "execution_count": 124
        }
      ]
    },
    {
      "cell_type": "code",
      "metadata": {
        "id": "igsEOzaqS3DY",
        "colab": {
          "base_uri": "https://localhost:8080/"
        },
        "outputId": "5c6fc296-c8e9-43bf-80eb-396ee1b3a75c"
      },
      "source": [
        "# Boolean combinators.\n",
        "((data % 2) == 0) & ((data % 3) == 0)"
      ],
      "execution_count": null,
      "outputs": [
        {
          "output_type": "execute_result",
          "data": {
            "text/plain": [
              "array([[ True, False, False, False, False],\n",
              "       [False,  True, False, False, False],\n",
              "       [False, False,  True, False, False]])"
            ]
          },
          "metadata": {
            "tags": []
          },
          "execution_count": 125
        }
      ]
    },
    {
      "cell_type": "code",
      "metadata": {
        "colab": {
          "base_uri": "https://localhost:8080/"
        },
        "id": "ZrrS2Nn_os7Y",
        "outputId": "8b3bd240-cc1e-4e50-f41e-e887e5f492d8"
      },
      "source": [
        "# Mi ejemplo\n",
        "((d1 % 6) == 0) & ((d1 % 2) == 0)"
      ],
      "execution_count": null,
      "outputs": [
        {
          "output_type": "execute_result",
          "data": {
            "text/plain": [
              "array([[ True, False],\n",
              "       [False, False],\n",
              "       [False, False],\n",
              "       [ True, False],\n",
              "       [False, False],\n",
              "       [False, False]])"
            ]
          },
          "metadata": {
            "tags": []
          },
          "execution_count": 126
        }
      ]
    },
    {
      "cell_type": "code",
      "metadata": {
        "id": "TzMisXVnS3DY",
        "colab": {
          "base_uri": "https://localhost:8080/"
        },
        "outputId": "ea143c01-9c49-417b-b783-4e7e4ce6a907"
      },
      "source": [
        "# as of python 3.5, @ is matrix-multiply\n",
        "data @ data.T"
      ],
      "execution_count": null,
      "outputs": [
        {
          "output_type": "execute_result",
          "data": {
            "text/plain": [
              "array([[ 30,  80, 130],\n",
              "       [ 80, 255, 430],\n",
              "       [130, 430, 730]])"
            ]
          },
          "metadata": {
            "tags": []
          },
          "execution_count": 127
        }
      ]
    },
    {
      "cell_type": "code",
      "metadata": {
        "colab": {
          "base_uri": "https://localhost:8080/"
        },
        "id": "S0_25LuIo5-_",
        "outputId": "1d6e91b4-3438-4c35-c2a3-07581a643011"
      },
      "source": [
        "# Mi ejemplo\n",
        "d1 @ d1.T"
      ],
      "execution_count": null,
      "outputs": [
        {
          "output_type": "execute_result",
          "data": {
            "text/plain": [
              "array([[  1,   3,   5,   7,   9,  11],\n",
              "       [  3,  13,  23,  33,  43,  53],\n",
              "       [  5,  23,  41,  59,  77,  95],\n",
              "       [  7,  33,  59,  85, 111, 137],\n",
              "       [  9,  43,  77, 111, 145, 179],\n",
              "       [ 11,  53,  95, 137, 179, 221]])"
            ]
          },
          "metadata": {
            "tags": []
          },
          "execution_count": 129
        }
      ]
    },
    {
      "cell_type": "markdown",
      "metadata": {
        "id": "hqCQiPSeS3Da"
      },
      "source": [
        "# UFuncs Review\n",
        "\n",
        "- UFuncs provide efficient elementwise operations applied across one or more arrays.\n",
        "- Arithmetic Operators (`+`, `*`, `/`)\n",
        "- Comparisons (`==`, `>`, `!=`)\n",
        "- Boolean Operators (`&`, `|`, `^`)\n",
        "- Trigonometric Functions (`sin`, `cos`)\n",
        "- Transcendental Functions (`exp`, `log`)"
      ]
    },
    {
      "cell_type": "markdown",
      "metadata": {
        "id": "jVXTZpRoS3Da"
      },
      "source": [
        "# Selections"
      ]
    },
    {
      "cell_type": "markdown",
      "metadata": {
        "id": "eUDRBSdpS3Db"
      },
      "source": [
        "We often want to perform an operation on just a subset of our data."
      ]
    },
    {
      "cell_type": "code",
      "metadata": {
        "id": "jmN5Rm6iS3Db",
        "colab": {
          "base_uri": "https://localhost:8080/"
        },
        "outputId": "f1260ef7-4bac-4591-8dc6-c9367cc505db"
      },
      "source": [
        "sines = np.sin(np.linspace(0, 3.14, 10))\n",
        "cosines = np.cos(np.linspace(0, 3.14, 10))\n",
        "sines"
      ],
      "execution_count": null,
      "outputs": [
        {
          "output_type": "execute_result",
          "data": {
            "text/plain": [
              "array([0.        , 0.34185385, 0.64251645, 0.86575984, 0.98468459,\n",
              "       0.98496101, 0.8665558 , 0.64373604, 0.34335012, 0.00159265])"
            ]
          },
          "metadata": {
            "tags": []
          },
          "execution_count": 130
        }
      ]
    },
    {
      "cell_type": "code",
      "metadata": {
        "colab": {
          "base_uri": "https://localhost:8080/"
        },
        "id": "Vf9WFNMqqO7T",
        "outputId": "e6895d20-6214-4d5c-e832-bb294b8b66ea"
      },
      "source": [
        "# Mi ejemplo\n",
        "s = np.sin(np.linspace(5, 3.14, 15))\n",
        "c = np.cos(np.linspace(5, 3.14, 15))\n",
        "s"
      ],
      "execution_count": null,
      "outputs": [
        {
          "output_type": "execute_result",
          "data": {
            "text/plain": [
              "array([-0.95892427, -0.9880495 , -0.99976028, -0.99385021, -0.97042346,\n",
              "       -0.92989292, -0.87297296, -0.80066678, -0.7142488 , -0.61524212,\n",
              "       -0.50539176, -0.38663384, -0.26106146, -0.13088786,  0.00159265])"
            ]
          },
          "metadata": {
            "tags": []
          },
          "execution_count": 131
        }
      ]
    },
    {
      "cell_type": "code",
      "metadata": {
        "id": "TugtAYi0S3Dc",
        "colab": {
          "base_uri": "https://localhost:8080/"
        },
        "outputId": "590c641e-315f-47b1-83e4-f940a710c825"
      },
      "source": [
        "# Slicing works with the same semantics as Python lists.\n",
        "sines[0]"
      ],
      "execution_count": null,
      "outputs": [
        {
          "output_type": "execute_result",
          "data": {
            "text/plain": [
              "0.0"
            ]
          },
          "metadata": {
            "tags": []
          },
          "execution_count": 133
        }
      ]
    },
    {
      "cell_type": "code",
      "metadata": {
        "colab": {
          "base_uri": "https://localhost:8080/"
        },
        "id": "TG5PrHbyshLH",
        "outputId": "30973aa9-41cc-46ca-ced6-269e22856d04"
      },
      "source": [
        "# Mi ejemplo\n",
        "s[7]"
      ],
      "execution_count": null,
      "outputs": [
        {
          "output_type": "execute_result",
          "data": {
            "text/plain": [
              "-0.8006667821758177"
            ]
          },
          "metadata": {
            "tags": []
          },
          "execution_count": 134
        }
      ]
    },
    {
      "cell_type": "code",
      "metadata": {
        "id": "FsZ2SMzwS3Dc",
        "colab": {
          "base_uri": "https://localhost:8080/"
        },
        "outputId": "1a094d95-c267-4fc8-fea2-6e8305eac9dd"
      },
      "source": [
        "sines[:3]  # First three elements  "
      ],
      "execution_count": null,
      "outputs": [
        {
          "output_type": "execute_result",
          "data": {
            "text/plain": [
              "array([0.        , 0.34185385, 0.64251645])"
            ]
          },
          "metadata": {
            "tags": []
          },
          "execution_count": 135
        }
      ]
    },
    {
      "cell_type": "code",
      "metadata": {
        "colab": {
          "base_uri": "https://localhost:8080/"
        },
        "id": "oMnCh8RdsuDS",
        "outputId": "01828d0c-c152-48ae-c7d9-af1a2a236498"
      },
      "source": [
        "# Mi ejemplo\n",
        "s[:5] # Primeros 5 elementos"
      ],
      "execution_count": null,
      "outputs": [
        {
          "output_type": "execute_result",
          "data": {
            "text/plain": [
              "array([-0.95892427, -0.9880495 , -0.99976028, -0.99385021, -0.97042346])"
            ]
          },
          "metadata": {
            "tags": []
          },
          "execution_count": 136
        }
      ]
    },
    {
      "cell_type": "code",
      "metadata": {
        "id": "dlREPDZeS3Dd",
        "colab": {
          "base_uri": "https://localhost:8080/"
        },
        "outputId": "d4a41b50-1a57-4f67-e6e3-4779afbb9e78"
      },
      "source": [
        "sines[5:]  # Elements from 5 on."
      ],
      "execution_count": null,
      "outputs": [
        {
          "output_type": "execute_result",
          "data": {
            "text/plain": [
              "array([0.98496101, 0.8665558 , 0.64373604, 0.34335012, 0.00159265])"
            ]
          },
          "metadata": {
            "tags": []
          },
          "execution_count": 137
        }
      ]
    },
    {
      "cell_type": "code",
      "metadata": {
        "colab": {
          "base_uri": "https://localhost:8080/"
        },
        "id": "eqKi-FmOs3d9",
        "outputId": "4b13a500-cc80-4f42-b7fc-4a05568492a4"
      },
      "source": [
        "# Mi ejemplo\n",
        "s[10:] # Elementos desde el 10 en adelante"
      ],
      "execution_count": null,
      "outputs": [
        {
          "output_type": "execute_result",
          "data": {
            "text/plain": [
              "array([-0.50539176, -0.38663384, -0.26106146, -0.13088786,  0.00159265])"
            ]
          },
          "metadata": {
            "tags": []
          },
          "execution_count": 139
        }
      ]
    },
    {
      "cell_type": "code",
      "metadata": {
        "id": "tLQIhqcBS3Dd",
        "colab": {
          "base_uri": "https://localhost:8080/"
        },
        "outputId": "6d827964-e0af-4298-cde8-13d142f4a4f9"
      },
      "source": [
        "sines[::2]  # Every other element."
      ],
      "execution_count": null,
      "outputs": [
        {
          "output_type": "execute_result",
          "data": {
            "text/plain": [
              "array([0.        , 0.64251645, 0.98468459, 0.8665558 , 0.34335012])"
            ]
          },
          "metadata": {
            "tags": []
          },
          "execution_count": 140
        }
      ]
    },
    {
      "cell_type": "code",
      "metadata": {
        "colab": {
          "base_uri": "https://localhost:8080/"
        },
        "id": "gd2IKC8ntSKl",
        "outputId": "2039d7a2-e41a-4590-99c5-6d255b151c22"
      },
      "source": [
        "s[::5] # Primer elemento y de 5 en 5"
      ],
      "execution_count": null,
      "outputs": [
        {
          "output_type": "execute_result",
          "data": {
            "text/plain": [
              "array([-0.95892427, -0.92989292, -0.50539176])"
            ]
          },
          "metadata": {
            "tags": []
          },
          "execution_count": 142
        }
      ]
    },
    {
      "cell_type": "code",
      "metadata": {
        "id": "70_4RdbiS3De",
        "colab": {
          "base_uri": "https://localhost:8080/"
        },
        "outputId": "3393dc34-92fd-4bc3-f6d1-fc2631e8d39a"
      },
      "source": [
        "# More interesting: we can index with boolean arrays to filter by a predicate.\n",
        "print(\"sines:\\n\", sines)\n",
        "print(\"sines > 0.5:\\n\", sines > 0.5)\n",
        "print(\"sines[sines > 0.5]:\\n\", sines[sines > 0.5])"
      ],
      "execution_count": null,
      "outputs": [
        {
          "output_type": "stream",
          "text": [
            "sines:\n",
            " [0.         0.34185385 0.64251645 0.86575984 0.98468459 0.98496101\n",
            " 0.8665558  0.64373604 0.34335012 0.00159265]\n",
            "sines > 0.5:\n",
            " [False False  True  True  True  True  True  True False False]\n",
            "sines[sines > 0.5]:\n",
            " [0.64251645 0.86575984 0.98468459 0.98496101 0.8665558  0.64373604]\n"
          ],
          "name": "stdout"
        }
      ]
    },
    {
      "cell_type": "code",
      "metadata": {
        "colab": {
          "base_uri": "https://localhost:8080/"
        },
        "id": "VONG5sLWvVAY",
        "outputId": "14419200-18c2-4ccc-e939-db5ab3eb2ae8"
      },
      "source": [
        "# Mi ejemplo\n",
        "print(\"Seno:\\n\", s)\n",
        "print(\"Seno < -0.7:\\n\", s < -0.7)\n",
        "print(\"Seno[s < -0.7]:\\n\", s[s < -0.7])"
      ],
      "execution_count": null,
      "outputs": [
        {
          "output_type": "stream",
          "text": [
            "Seno:\n",
            " [-0.95892427 -0.9880495  -0.99976028 -0.99385021 -0.97042346 -0.92989292\n",
            " -0.87297296 -0.80066678 -0.7142488  -0.61524212 -0.50539176 -0.38663384\n",
            " -0.26106146 -0.13088786  0.00159265]\n",
            "Seno < -0.7:\n",
            " [ True  True  True  True  True  True  True  True  True False False False\n",
            " False False False]\n",
            "Seno[s < -0.7]:\n",
            " [-0.95892427 -0.9880495  -0.99976028 -0.99385021 -0.97042346 -0.92989292\n",
            " -0.87297296 -0.80066678 -0.7142488 ]\n"
          ],
          "name": "stdout"
        }
      ]
    },
    {
      "cell_type": "code",
      "metadata": {
        "id": "bV6ArPQBS3De",
        "colab": {
          "base_uri": "https://localhost:8080/"
        },
        "outputId": "dfbe99da-8ee7-441e-d174-d60b5b868143"
      },
      "source": [
        "# We index with lists/arrays of integers to select values at those indices.\n",
        "print(sines)\n",
        "sines[[0, 4, 7]]"
      ],
      "execution_count": null,
      "outputs": [
        {
          "output_type": "stream",
          "text": [
            "[0.         0.34185385 0.64251645 0.86575984 0.98468459 0.98496101\n",
            " 0.8665558  0.64373604 0.34335012 0.00159265]\n"
          ],
          "name": "stdout"
        },
        {
          "output_type": "execute_result",
          "data": {
            "text/plain": [
              "array([0.        , 0.98468459, 0.64373604])"
            ]
          },
          "metadata": {
            "tags": []
          },
          "execution_count": 149
        }
      ]
    },
    {
      "cell_type": "code",
      "metadata": {
        "colab": {
          "base_uri": "https://localhost:8080/"
        },
        "id": "i6H_yQnav_x9",
        "outputId": "b2bacc95-2fbd-4051-f686-c067d8465ca7"
      },
      "source": [
        "# Mi ejemplo\n",
        "print(s, \"\\n\")\n",
        "s[[1, 5, 8]] # Mueswtra los índices 1, 5 y 8"
      ],
      "execution_count": null,
      "outputs": [
        {
          "output_type": "stream",
          "text": [
            "[-0.95892427 -0.9880495  -0.99976028 -0.99385021 -0.97042346 -0.92989292\n",
            " -0.87297296 -0.80066678 -0.7142488  -0.61524212 -0.50539176 -0.38663384\n",
            " -0.26106146 -0.13088786  0.00159265] \n",
            "\n"
          ],
          "name": "stdout"
        },
        {
          "output_type": "execute_result",
          "data": {
            "text/plain": [
              "array([-0.9880495 , -0.92989292, -0.7142488 ])"
            ]
          },
          "metadata": {
            "tags": []
          },
          "execution_count": 158
        }
      ]
    },
    {
      "cell_type": "code",
      "metadata": {
        "collapsed": true,
        "id": "OeCMAmE_S3Df"
      },
      "source": [
        "# Index arrays are often used for sorting one or more arrays.\n",
        "unsorted_data = np.array([1, 3, 2, 12, -1, 5, 2])"
      ],
      "execution_count": null,
      "outputs": []
    },
    {
      "cell_type": "code",
      "metadata": {
        "id": "xqWp1iUfwvzK"
      },
      "source": [
        "# Mi ejemplo\n",
        "unsorted_d = np.array([-4, -5, 9, 8, -2, 6, 7])"
      ],
      "execution_count": null,
      "outputs": []
    },
    {
      "cell_type": "code",
      "metadata": {
        "id": "zIgcGo9tS3Df",
        "colab": {
          "base_uri": "https://localhost:8080/"
        },
        "outputId": "5387a27e-40e4-49a2-d433-83db629af714"
      },
      "source": [
        "sort_indices = np.argsort(unsorted_data)\n",
        "sort_indices"
      ],
      "execution_count": null,
      "outputs": [
        {
          "output_type": "execute_result",
          "data": {
            "text/plain": [
              "array([4, 0, 2, 6, 1, 5, 3])"
            ]
          },
          "metadata": {
            "tags": []
          },
          "execution_count": 165
        }
      ]
    },
    {
      "cell_type": "markdown",
      "metadata": {
        "id": "V3-X_A6PzH9e"
      },
      "source": [
        "> *La función* **numpy.argsort( a , eje = -1 , tipo = Ninguno , orden = Ninguno )**\n",
        "\n",
        "> *Devuelve los índices que ordenarían una matriz.*"
      ]
    },
    {
      "cell_type": "code",
      "metadata": {
        "colab": {
          "base_uri": "https://localhost:8080/"
        },
        "id": "1zpQlK51xAPn",
        "outputId": "85eb52f8-0b60-40d7-af4f-33ced7f5354d"
      },
      "source": [
        "# Mi ejemplo\n",
        "sort_i = np.argsort(unsorted_d)\n",
        "sort_i"
      ],
      "execution_count": null,
      "outputs": [
        {
          "output_type": "execute_result",
          "data": {
            "text/plain": [
              "array([1, 0, 4, 5, 6, 3, 2])"
            ]
          },
          "metadata": {
            "tags": []
          },
          "execution_count": 168
        }
      ]
    },
    {
      "cell_type": "code",
      "metadata": {
        "id": "jtWkFaouS3Dg",
        "colab": {
          "base_uri": "https://localhost:8080/"
        },
        "outputId": "a4796128-0a4d-47a1-a331-172ba9973467"
      },
      "source": [
        "unsorted_data[sort_indices]"
      ],
      "execution_count": null,
      "outputs": [
        {
          "output_type": "execute_result",
          "data": {
            "text/plain": [
              "array([-1,  1,  2,  2,  3,  5, 12])"
            ]
          },
          "metadata": {
            "tags": []
          },
          "execution_count": 169
        }
      ]
    },
    {
      "cell_type": "code",
      "metadata": {
        "colab": {
          "base_uri": "https://localhost:8080/"
        },
        "id": "88vp3b4xzh_X",
        "outputId": "0d6f6f87-021e-4ec4-95ae-2a4883dcd95f"
      },
      "source": [
        "# Mi ejemplo\n",
        "unsorted_d[sort_i] # Ordena el array"
      ],
      "execution_count": null,
      "outputs": [
        {
          "output_type": "execute_result",
          "data": {
            "text/plain": [
              "array([-5, -4, -2,  6,  7,  8,  9])"
            ]
          },
          "metadata": {
            "tags": []
          },
          "execution_count": 171
        }
      ]
    },
    {
      "cell_type": "code",
      "metadata": {
        "collapsed": true,
        "id": "7arICzAyS3Dh"
      },
      "source": [
        "market_caps = np.array([12, 6, 10, 5, 6])  # Presumably in dollars?\n",
        "assets = np.array(['A', 'B', 'C', 'D', 'E'])"
      ],
      "execution_count": null,
      "outputs": []
    },
    {
      "cell_type": "code",
      "metadata": {
        "id": "9MApkvDrz-cu"
      },
      "source": [
        "# Mi ejemplo\n",
        "market_caps1 = np.array([15, 8, 10, 13, 26])  # Presumably in dollars?\n",
        "assets1 = np.array(['A', 'E', 'I', 'O', 'U'])"
      ],
      "execution_count": null,
      "outputs": []
    },
    {
      "cell_type": "code",
      "metadata": {
        "id": "-D5jFGlJS3Dh",
        "colab": {
          "base_uri": "https://localhost:8080/"
        },
        "outputId": "034419e4-8aa9-4e46-e70a-e558e8453a88"
      },
      "source": [
        "# Sort assets by market cap by using the permutation that would sort market caps on ``assets``.\n",
        "sort_by_mcap = np.argsort(market_caps)\n",
        "assets[sort_by_mcap]"
      ],
      "execution_count": null,
      "outputs": [
        {
          "output_type": "execute_result",
          "data": {
            "text/plain": [
              "array(['D', 'B', 'E', 'C', 'A'], dtype='<U1')"
            ]
          },
          "metadata": {
            "tags": []
          },
          "execution_count": 175
        }
      ]
    },
    {
      "cell_type": "code",
      "metadata": {
        "colab": {
          "base_uri": "https://localhost:8080/"
        },
        "id": "iFUAWU3v0Mc6",
        "outputId": "c823858d-992b-45eb-be44-9c0dc468fe61"
      },
      "source": [
        "# Mi ejemplo\n",
        "sort_by_mcap1 = np.argsort(market_caps1)\n",
        "assets1[sort_by_mcap1] # Ordena assets1 de acuerdo al ordenamiento del array market_caps1"
      ],
      "execution_count": null,
      "outputs": [
        {
          "output_type": "execute_result",
          "data": {
            "text/plain": [
              "array(['E', 'I', 'O', 'A', 'U'], dtype='<U1')"
            ]
          },
          "metadata": {
            "tags": []
          },
          "execution_count": 177
        }
      ]
    },
    {
      "cell_type": "code",
      "metadata": {
        "scrolled": true,
        "id": "4lavdGwtS3Dh",
        "colab": {
          "base_uri": "https://localhost:8080/"
        },
        "outputId": "d42b1f03-205c-4681-d8f0-cc3b1f04024c"
      },
      "source": [
        "# Indexers are also useful for aligning data.\n",
        "print(\"Dates:\\n\", repr(event_dates))\n",
        "print(\"Values:\\n\", repr(event_values))\n",
        "print(\"Calendar:\\n\", repr(calendar))"
      ],
      "execution_count": null,
      "outputs": [
        {
          "output_type": "stream",
          "text": [
            "Dates:\n",
            " array(['2017-01-06', '2017-01-07', '2017-01-08'], dtype='datetime64[D]')\n",
            "Values:\n",
            " array([10, 15, 20])\n",
            "Calendar:\n",
            " array(['2017-01-03', '2017-01-04', '2017-01-05', '2017-01-06',\n",
            "       '2017-01-09', '2017-01-10', '2017-01-11', '2017-01-12',\n",
            "       '2017-01-13', '2017-01-17', '2017-01-18', '2017-01-19',\n",
            "       '2017-01-20', '2017-01-23', '2017-01-24', '2017-01-25',\n",
            "       '2017-01-26', '2017-01-27', '2017-01-30', '2017-01-31',\n",
            "       '2017-02-01'], dtype='datetime64[D]')\n"
          ],
          "name": "stdout"
        }
      ]
    },
    {
      "cell_type": "code",
      "metadata": {
        "colab": {
          "base_uri": "https://localhost:8080/"
        },
        "id": "AFa1d9q90q-8",
        "outputId": "90bee55f-df83-4e3a-ad48-954a5eeb390d"
      },
      "source": [
        "# Mi ejemplo\n",
        "print(\"Dates:\\n\", repr(fechas))\n",
        "print(\"Values:\\n\", repr(v))\n",
        "print(\"Calendar:\\n\", repr(calen))"
      ],
      "execution_count": null,
      "outputs": [
        {
          "output_type": "stream",
          "text": [
            "Dates:\n",
            " array(['2020-08-18', '2020-08-19', '2020-08-20'], dtype='datetime64[D]')\n",
            "Values:\n",
            " array([10, 15, 20])\n",
            "Calendar:\n",
            " array(['2020-08-15', '2020-08-16', '2020-08-17', '2020-08-18',\n",
            "       '2020-08-20', '2020-08-21', '2020-08-22', '2020-08-23',\n",
            "       '2020-08-24', '2020-08-26', '2020-08-27', '2020-08-28',\n",
            "       '2020-08-29', '2020-08-30', '2020-08-31', '2020-09-01',\n",
            "       '2020-09-02', '2020-09-03', '2020-09-04', '2020-09-08',\n",
            "       '2020-09-09'], dtype='datetime64[D]')\n"
          ],
          "name": "stdout"
        }
      ]
    },
    {
      "cell_type": "code",
      "metadata": {
        "id": "-SjUsBVxS3Di",
        "colab": {
          "base_uri": "https://localhost:8080/"
        },
        "outputId": "c89705fc-233d-4d31-8c69-34cd99c5fb63"
      },
      "source": [
        "print(\"Raw Dates:\", event_dates)\n",
        "print(\"Indices:\", calendar.searchsorted(event_dates))\n",
        "print(\"Forward-Filled Dates:\", calendar[calendar.searchsorted(event_dates)])"
      ],
      "execution_count": null,
      "outputs": [
        {
          "output_type": "stream",
          "text": [
            "Raw Dates: ['2017-01-06' '2017-01-07' '2017-01-08']\n",
            "Indices: [3 4 4]\n",
            "Forward-Filled Dates: ['2017-01-06' '2017-01-09' '2017-01-09']\n"
          ],
          "name": "stdout"
        }
      ]
    },
    {
      "cell_type": "code",
      "metadata": {
        "colab": {
          "base_uri": "https://localhost:8080/"
        },
        "id": "QR9NqlU-1uJN",
        "outputId": "eebb9cff-321a-4208-92c7-7cbec7cbf383"
      },
      "source": [
        "# Miejemplo\n",
        "print(\"Raw Dates:\", fechas)\n",
        "print(\"Indices:\", calen.searchsorted(fechas))\n",
        "print(\"Forward-Filled Dates:\", calen[calen.searchsorted(fechas)])"
      ],
      "execution_count": null,
      "outputs": [
        {
          "output_type": "stream",
          "text": [
            "Raw Dates: ['2020-08-18' '2020-08-19' '2020-08-20']\n",
            "Indices: [3 4 4]\n",
            "Forward-Filled Dates: ['2020-08-18' '2020-08-20' '2020-08-20']\n"
          ],
          "name": "stdout"
        }
      ]
    },
    {
      "cell_type": "markdown",
      "metadata": {
        "id": "hjVJuN7VS3Dj"
      },
      "source": [
        "On multi-dimensional arrays, we can slice along each axis independently."
      ]
    },
    {
      "cell_type": "code",
      "metadata": {
        "id": "TCyE-sp-S3Dj",
        "colab": {
          "base_uri": "https://localhost:8080/"
        },
        "outputId": "a3dfc7c6-ef1f-4ba9-e70f-e46c6138c3f8"
      },
      "source": [
        "data = np.arange(25).reshape(5, 5)\n",
        "data"
      ],
      "execution_count": null,
      "outputs": [
        {
          "output_type": "execute_result",
          "data": {
            "text/plain": [
              "array([[ 0,  1,  2,  3,  4],\n",
              "       [ 5,  6,  7,  8,  9],\n",
              "       [10, 11, 12, 13, 14],\n",
              "       [15, 16, 17, 18, 19],\n",
              "       [20, 21, 22, 23, 24]])"
            ]
          },
          "metadata": {
            "tags": []
          },
          "execution_count": 204
        }
      ]
    },
    {
      "cell_type": "code",
      "metadata": {
        "colab": {
          "base_uri": "https://localhost:8080/"
        },
        "id": "PDAepc3vEAUn",
        "outputId": "bdf91a1a-857f-495b-f0f1-cb6a654b6854"
      },
      "source": [
        "# Mi ejemplo\n",
        "d = np.arange(18).reshape(6, 3)\n",
        "d"
      ],
      "execution_count": null,
      "outputs": [
        {
          "output_type": "execute_result",
          "data": {
            "text/plain": [
              "array([[ 0,  1,  2],\n",
              "       [ 3,  4,  5],\n",
              "       [ 6,  7,  8],\n",
              "       [ 9, 10, 11],\n",
              "       [12, 13, 14],\n",
              "       [15, 16, 17]])"
            ]
          },
          "metadata": {
            "tags": []
          },
          "execution_count": 211
        }
      ]
    },
    {
      "cell_type": "code",
      "metadata": {
        "id": "avaeYQhmS3Dk",
        "colab": {
          "base_uri": "https://localhost:8080/"
        },
        "outputId": "e88c5760-186b-4a8c-c51a-12296041d353"
      },
      "source": [
        "data[:2, :2]  # First two rows and first two columns."
      ],
      "execution_count": null,
      "outputs": [
        {
          "output_type": "execute_result",
          "data": {
            "text/plain": [
              "array([[0, 1],\n",
              "       [5, 6]])"
            ]
          },
          "metadata": {
            "tags": []
          },
          "execution_count": 212
        }
      ]
    },
    {
      "cell_type": "code",
      "metadata": {
        "colab": {
          "base_uri": "https://localhost:8080/"
        },
        "id": "4QIi4LxOEZQ1",
        "outputId": "3d151abe-a43a-4a54-b46c-bb7214056921"
      },
      "source": [
        "# Mi ejemplo\n",
        "d[:3, :2]  # Primeras 3 filas, primeras 2 columnas."
      ],
      "execution_count": null,
      "outputs": [
        {
          "output_type": "execute_result",
          "data": {
            "text/plain": [
              "array([[0, 1],\n",
              "       [3, 4],\n",
              "       [6, 7]])"
            ]
          },
          "metadata": {
            "tags": []
          },
          "execution_count": 218
        }
      ]
    },
    {
      "cell_type": "code",
      "metadata": {
        "id": "OqZ-xI_-S3Dl",
        "colab": {
          "base_uri": "https://localhost:8080/"
        },
        "outputId": "3b991cd3-8d9e-4c43-de33-458386943b20"
      },
      "source": [
        "data[:2, [0, -1]]  # First two rows, first and last columns."
      ],
      "execution_count": null,
      "outputs": [
        {
          "output_type": "execute_result",
          "data": {
            "text/plain": [
              "array([[0, 4],\n",
              "       [5, 9]])"
            ]
          },
          "metadata": {
            "tags": []
          },
          "execution_count": 219
        }
      ]
    },
    {
      "cell_type": "code",
      "metadata": {
        "colab": {
          "base_uri": "https://localhost:8080/"
        },
        "id": "QJVFy44TF5uv",
        "outputId": "c9b260f2-88ae-4e19-94f3-24c03f6acccc"
      },
      "source": [
        "# Mi ejemplo\n",
        "d[:4, [1, -1]]  # Primeras 4 filas, segunda y última columna."
      ],
      "execution_count": null,
      "outputs": [
        {
          "output_type": "execute_result",
          "data": {
            "text/plain": [
              "array([[ 1,  2],\n",
              "       [ 4,  5],\n",
              "       [ 7,  8],\n",
              "       [10, 11]])"
            ]
          },
          "metadata": {
            "tags": []
          },
          "execution_count": 228
        }
      ]
    },
    {
      "cell_type": "code",
      "metadata": {
        "id": "54ahPtI2S3Dl",
        "colab": {
          "base_uri": "https://localhost:8080/"
        },
        "outputId": "19a4a420-d4a6-4d72-bfc2-091e2ff8002f"
      },
      "source": [
        "data[(data[:, 0] % 2) == 0]  # Rows where the first column is divisible by two."
      ],
      "execution_count": null,
      "outputs": [
        {
          "output_type": "execute_result",
          "data": {
            "text/plain": [
              "array([[ 0,  1,  2,  3,  4],\n",
              "       [10, 11, 12, 13, 14],\n",
              "       [20, 21, 22, 23, 24]])"
            ]
          },
          "metadata": {
            "tags": []
          },
          "execution_count": 229
        }
      ]
    },
    {
      "cell_type": "code",
      "metadata": {
        "colab": {
          "base_uri": "https://localhost:8080/"
        },
        "id": "Rro1egKSGsIt",
        "outputId": "5cf21363-80e8-49e3-c1de-6df136f3ff50"
      },
      "source": [
        "# Mi ejemplo\n",
        "d[(d[:, 0] % 4) == 0]  # Filas donde la primera columna es divisible por 4."
      ],
      "execution_count": null,
      "outputs": [
        {
          "output_type": "execute_result",
          "data": {
            "text/plain": [
              "array([[ 0,  1,  2],\n",
              "       [12, 13, 14]])"
            ]
          },
          "metadata": {
            "tags": []
          },
          "execution_count": 232
        }
      ]
    },
    {
      "cell_type": "markdown",
      "metadata": {
        "id": "E48IPVTLS3Dm"
      },
      "source": [
        "# Selections Review\n",
        "\n",
        "- Indexing with an integer removes a dimension.\n",
        "- Slicing operations work on Numpy arrays the same way they do on lists.\n",
        "- Indexing with a boolean array filters to True locations.\n",
        "- Indexing with an integer array selects indices along an axis.\n",
        "- Multidimensional arrays can apply selections independently along different axes."
      ]
    },
    {
      "cell_type": "markdown",
      "metadata": {
        "id": "L72XEHevS3Dm"
      },
      "source": [
        "## Reductions\n",
        "\n",
        "Functions that reduce an array to a scalar."
      ]
    },
    {
      "cell_type": "markdown",
      "metadata": {
        "id": "Ejey-2eiS3Dn"
      },
      "source": [
        "$Var(X) = \\frac{1}{N}\\sqrt{\\sum_{i=1}^N (x_i - \\bar{x})^2}$"
      ]
    },
    {
      "cell_type": "code",
      "metadata": {
        "collapsed": true,
        "id": "_NiHtcyxS3Dn"
      },
      "source": [
        "import numpy as np\n",
        "\n",
        "def variance(x):\n",
        "    return ((x - x.mean()) ** 2).sum() / len(x)"
      ],
      "execution_count": null,
      "outputs": []
    },
    {
      "cell_type": "markdown",
      "metadata": {
        "id": "8PFJ4F14B_8c"
      },
      "source": [
        "> $ S_{x} =\\sqrt{\\frac{\\sum_{i = 1}^{N}(x_{i} - \\bar{x})^{2}}{N - 1}} $"
      ]
    },
    {
      "cell_type": "code",
      "metadata": {
        "id": "qw-XhF3qD9Po"
      },
      "source": [
        "# Mi ejemplo\n",
        "import numpy as np\n",
        "import math\n",
        "\n",
        "def desviación_estándar(x):\n",
        "    return math.sqrt(((x - x.mean()) ** 2).sum() / (len(x) - 1))"
      ],
      "execution_count": null,
      "outputs": []
    },
    {
      "cell_type": "code",
      "metadata": {
        "id": "qJlCohqhS3Dn",
        "colab": {
          "base_uri": "https://localhost:8080/"
        },
        "outputId": "e88d1657-01f1-4163-cbdd-78a6128747cb"
      },
      "source": [
        "variance(np.random.standard_normal(1000))"
      ],
      "execution_count": null,
      "outputs": [
        {
          "output_type": "execute_result",
          "data": {
            "text/plain": [
              "1.0202314544762054"
            ]
          },
          "metadata": {
            "tags": []
          },
          "execution_count": 8
        }
      ]
    },
    {
      "cell_type": "code",
      "metadata": {
        "colab": {
          "base_uri": "https://localhost:8080/"
        },
        "id": "JCu0VG4KEw15",
        "outputId": "6f3e422b-b9ac-4e51-858f-4d7255256727"
      },
      "source": [
        "# Mi ejemplo\n",
        "desviación_estándar(np.random.standard_normal(1000))"
      ],
      "execution_count": null,
      "outputs": [
        {
          "output_type": "execute_result",
          "data": {
            "text/plain": [
              "1.0001026593325397"
            ]
          },
          "metadata": {
            "tags": []
          },
          "execution_count": 9
        }
      ]
    },
    {
      "cell_type": "markdown",
      "metadata": {
        "id": "_JHKmBxaS3Do"
      },
      "source": [
        "- `sum()` and `mean()` are both **reductions**."
      ]
    },
    {
      "cell_type": "markdown",
      "metadata": {
        "id": "z7x0LNrBS3Do"
      },
      "source": [
        "- In the simplest case, we use these to reduce an entire array into a single value..."
      ]
    },
    {
      "cell_type": "code",
      "metadata": {
        "id": "6uLss7fVS3Dp",
        "colab": {
          "base_uri": "https://localhost:8080/"
        },
        "outputId": "42ffb6cd-c8fa-4cc7-a369-1070a73cb0e1"
      },
      "source": [
        "data = np.arange(30)\n",
        "data.mean()"
      ],
      "execution_count": null,
      "outputs": [
        {
          "output_type": "execute_result",
          "data": {
            "text/plain": [
              "14.5"
            ]
          },
          "metadata": {
            "tags": []
          },
          "execution_count": 10
        }
      ]
    },
    {
      "cell_type": "markdown",
      "metadata": {
        "id": "JK5fIpWyGATk"
      },
      "source": [
        "> *La función* **numpy arange ()** *toma cuatro parámetros que incluyen  **start, stop, step  y dtype** -y  devuelve valores espaciados uniformemente dentro de un intervalo dado.*"
      ]
    },
    {
      "cell_type": "code",
      "metadata": {
        "colab": {
          "base_uri": "https://localhost:8080/"
        },
        "id": "9xt31IHkE98z",
        "outputId": "dc38c39b-a964-4983-d2d0-595fa4518397"
      },
      "source": [
        "# Mi ejemplo\n",
        "d = np.arange(50)\n",
        "d.mean()"
      ],
      "execution_count": null,
      "outputs": [
        {
          "output_type": "execute_result",
          "data": {
            "text/plain": [
              "24.5"
            ]
          },
          "metadata": {
            "tags": []
          },
          "execution_count": 12
        }
      ]
    },
    {
      "cell_type": "markdown",
      "metadata": {
        "id": "MYErOayeS3Dp"
      },
      "source": [
        "- ...but we can do more interesting things with multi-dimensional arrays."
      ]
    },
    {
      "cell_type": "code",
      "metadata": {
        "id": "K2RrG4cTS3Dp",
        "colab": {
          "base_uri": "https://localhost:8080/"
        },
        "outputId": "d386427a-3059-4511-a4f6-8ff17e251a8f"
      },
      "source": [
        "data = np.arange(30).reshape(3, 10)\n",
        "data"
      ],
      "execution_count": null,
      "outputs": [
        {
          "output_type": "execute_result",
          "data": {
            "text/plain": [
              "array([[ 0,  1,  2,  3,  4,  5,  6,  7,  8,  9],\n",
              "       [10, 11, 12, 13, 14, 15, 16, 17, 18, 19],\n",
              "       [20, 21, 22, 23, 24, 25, 26, 27, 28, 29]])"
            ]
          },
          "metadata": {
            "tags": []
          },
          "execution_count": 13
        }
      ]
    },
    {
      "cell_type": "code",
      "metadata": {
        "colab": {
          "base_uri": "https://localhost:8080/"
        },
        "id": "6le9XpytGNmF",
        "outputId": "9bbea4d1-408b-45b5-e8bb-596bbc720f13"
      },
      "source": [
        "# Mi ejemplo\n",
        "d2 = np.arange(45).reshape(9, 5)\n",
        "d2"
      ],
      "execution_count": null,
      "outputs": [
        {
          "output_type": "execute_result",
          "data": {
            "text/plain": [
              "array([[ 0,  1,  2,  3,  4],\n",
              "       [ 5,  6,  7,  8,  9],\n",
              "       [10, 11, 12, 13, 14],\n",
              "       [15, 16, 17, 18, 19],\n",
              "       [20, 21, 22, 23, 24],\n",
              "       [25, 26, 27, 28, 29],\n",
              "       [30, 31, 32, 33, 34],\n",
              "       [35, 36, 37, 38, 39],\n",
              "       [40, 41, 42, 43, 44]])"
            ]
          },
          "metadata": {
            "tags": []
          },
          "execution_count": 15
        }
      ]
    },
    {
      "cell_type": "code",
      "metadata": {
        "id": "2cGne4Z7S3Dq",
        "colab": {
          "base_uri": "https://localhost:8080/"
        },
        "outputId": "07d8eacc-d615-492e-8e99-ad92fabec573"
      },
      "source": [
        "data.mean()"
      ],
      "execution_count": null,
      "outputs": [
        {
          "output_type": "execute_result",
          "data": {
            "text/plain": [
              "14.5"
            ]
          },
          "metadata": {
            "tags": []
          },
          "execution_count": 16
        }
      ]
    },
    {
      "cell_type": "code",
      "metadata": {
        "colab": {
          "base_uri": "https://localhost:8080/"
        },
        "id": "Sm2LzhqAGemS",
        "outputId": "2b697c6a-a497-4119-b505-e11fb53a828a"
      },
      "source": [
        "# MI ejemplo\n",
        "d2.mean()"
      ],
      "execution_count": null,
      "outputs": [
        {
          "output_type": "execute_result",
          "data": {
            "text/plain": [
              "22.0"
            ]
          },
          "metadata": {
            "tags": []
          },
          "execution_count": 17
        }
      ]
    },
    {
      "cell_type": "code",
      "metadata": {
        "id": "moD0SWfBS3Dr",
        "colab": {
          "base_uri": "https://localhost:8080/"
        },
        "outputId": "9e44f565-8561-47c2-a4aa-a4131366829c"
      },
      "source": [
        "data.mean(axis=0)"
      ],
      "execution_count": null,
      "outputs": [
        {
          "output_type": "execute_result",
          "data": {
            "text/plain": [
              "array([10., 11., 12., 13., 14., 15., 16., 17., 18., 19.])"
            ]
          },
          "metadata": {
            "tags": []
          },
          "execution_count": 18
        }
      ]
    },
    {
      "cell_type": "markdown",
      "metadata": {
        "id": "GbH3_EccH0My"
      },
      "source": [
        " **.mean(axis=0)** *Especifica el eje a lo largo del cual se calculan las medias. Por defecto `axis=0`. Para las filas y `axis=1` paralas columnas.*"
      ]
    },
    {
      "cell_type": "code",
      "metadata": {
        "colab": {
          "base_uri": "https://localhost:8080/"
        },
        "id": "7nXLAZOQGiuQ",
        "outputId": "3ce0a7c4-fe4c-45b1-a3f8-953c1805d1df"
      },
      "source": [
        "# Mi ejemplo\n",
        "d2.mean(axis=0)"
      ],
      "execution_count": null,
      "outputs": [
        {
          "output_type": "execute_result",
          "data": {
            "text/plain": [
              "array([20., 21., 22., 23., 24.])"
            ]
          },
          "metadata": {
            "tags": []
          },
          "execution_count": 21
        }
      ]
    },
    {
      "cell_type": "code",
      "metadata": {
        "id": "aznBW5blS3Dr",
        "colab": {
          "base_uri": "https://localhost:8080/"
        },
        "outputId": "660f085c-02d4-4985-aae3-72311c52f34d"
      },
      "source": [
        "data.mean(axis=1)"
      ],
      "execution_count": null,
      "outputs": [
        {
          "output_type": "execute_result",
          "data": {
            "text/plain": [
              "array([ 4.5, 14.5, 24.5])"
            ]
          },
          "metadata": {
            "tags": []
          },
          "execution_count": 22
        }
      ]
    },
    {
      "cell_type": "code",
      "metadata": {
        "colab": {
          "base_uri": "https://localhost:8080/"
        },
        "id": "naRNs9tbIkgL",
        "outputId": "48081470-b3a4-4a5d-972c-8fd46ba0a4df"
      },
      "source": [
        "# Mi ejemplo\n",
        "d2.mean(axis=1)"
      ],
      "execution_count": null,
      "outputs": [
        {
          "output_type": "execute_result",
          "data": {
            "text/plain": [
              "array([ 2.,  7., 12., 17., 22., 27., 32., 37., 42.])"
            ]
          },
          "metadata": {
            "tags": []
          },
          "execution_count": 23
        }
      ]
    },
    {
      "cell_type": "markdown",
      "metadata": {
        "id": "ajqXBdPtS3Ds"
      },
      "source": [
        "## Reductions Review\n",
        "\n",
        "- Reductions allow us to perform efficient aggregations over arrays.\n",
        "- We can do aggregations over a single axis to collapse a single dimension.\n",
        "- Many built-in reductions (`mean`, `sum`, `min`, `max`, `median`, ...)."
      ]
    },
    {
      "cell_type": "markdown",
      "metadata": {
        "id": "zESE17MIS3Ds"
      },
      "source": [
        "# Broadcasting"
      ]
    },
    {
      "cell_type": "code",
      "metadata": {
        "id": "jbE_UAq8S3Ds",
        "colab": {
          "base_uri": "https://localhost:8080/"
        },
        "outputId": "e2458e45-7641-44a0-b54d-e3ee66daebe4"
      },
      "source": [
        "row = np.array([1, 2, 3, 4])\n",
        "column = np.array([[1], [2], [3]])\n",
        "print(\"Row:\\n\", row, sep='')\n",
        "print(\"Column:\\n\", column, sep='')"
      ],
      "execution_count": null,
      "outputs": [
        {
          "output_type": "stream",
          "text": [
            "Row:\n",
            "[1 2 3 4]\n",
            "Column:\n",
            "[[1]\n",
            " [2]\n",
            " [3]]\n"
          ],
          "name": "stdout"
        }
      ]
    },
    {
      "cell_type": "code",
      "metadata": {
        "colab": {
          "base_uri": "https://localhost:8080/"
        },
        "id": "QIae1dZTIwh7",
        "outputId": "35997684-21eb-4473-b21e-96cffc5ba9a5"
      },
      "source": [
        "# Mi ejemplo\n",
        "fila = np.array([7, 6, 5, 4, 3, 2])\n",
        "columna = np.array([[1], [2], [3]])\n",
        "print(\"Row:\\n\", fila, sep='')\n",
        "print(\"Column:\\n\", columna, sep='')"
      ],
      "execution_count": null,
      "outputs": [
        {
          "output_type": "stream",
          "text": [
            "Row:\n",
            "[7 6 5 4 3 2]\n",
            "Column:\n",
            "[[1]\n",
            " [2]\n",
            " [3]]\n"
          ],
          "name": "stdout"
        }
      ]
    },
    {
      "cell_type": "code",
      "metadata": {
        "id": "NfF9Bj91S3Dt",
        "colab": {
          "base_uri": "https://localhost:8080/"
        },
        "outputId": "68469218-ece5-4d97-f98e-4370c8577262"
      },
      "source": [
        "row + column"
      ],
      "execution_count": null,
      "outputs": [
        {
          "output_type": "execute_result",
          "data": {
            "text/plain": [
              "array([[2, 3, 4, 5],\n",
              "       [3, 4, 5, 6],\n",
              "       [4, 5, 6, 7]])"
            ]
          },
          "metadata": {
            "tags": []
          },
          "execution_count": 28
        }
      ]
    },
    {
      "cell_type": "code",
      "metadata": {
        "colab": {
          "base_uri": "https://localhost:8080/"
        },
        "id": "NQUSXZWBJKXl",
        "outputId": "ba261c00-36eb-40b8-8b65-7e4e990af5b5"
      },
      "source": [
        "# Mi ejemplo\n",
        "fila + columna"
      ],
      "execution_count": null,
      "outputs": [
        {
          "output_type": "execute_result",
          "data": {
            "text/plain": [
              "array([[ 8,  7,  6,  5,  4,  3],\n",
              "       [ 9,  8,  7,  6,  5,  4],\n",
              "       [10,  9,  8,  7,  6,  5]])"
            ]
          },
          "metadata": {
            "tags": []
          },
          "execution_count": 30
        }
      ]
    },
    {
      "cell_type": "markdown",
      "metadata": {
        "id": "nqQaMUceS3Du"
      },
      "source": [
        "<h5>Source: http://www.scipy-lectures.org/_images/numpy_broadcasting.png</h5>"
      ]
    },
    {
      "cell_type": "code",
      "metadata": {
        "id": "hGiyzAMxS3Du",
        "colab": {
          "base_uri": "https://localhost:8080/"
        },
        "outputId": "d737e298-867f-49a0-f5fd-78bb9c048be0"
      },
      "source": [
        "# Broadcasting is particularly useful in conjunction with reductions.\n",
        "print(\"Data:\\n\", data, sep='')\n",
        "print(\"Mean:\\n\", data.mean(axis=0), sep='')\n",
        "print(\"Data - Mean:\\n\", data - data.mean(axis=0), sep='')"
      ],
      "execution_count": null,
      "outputs": [
        {
          "output_type": "stream",
          "text": [
            "Data:\n",
            "[[ 0  1  2  3  4  5  6  7  8  9]\n",
            " [10 11 12 13 14 15 16 17 18 19]\n",
            " [20 21 22 23 24 25 26 27 28 29]]\n",
            "Mean:\n",
            "[10. 11. 12. 13. 14. 15. 16. 17. 18. 19.]\n",
            "Data - Mean:\n",
            "[[-10. -10. -10. -10. -10. -10. -10. -10. -10. -10.]\n",
            " [  0.   0.   0.   0.   0.   0.   0.   0.   0.   0.]\n",
            " [ 10.  10.  10.  10.  10.  10.  10.  10.  10.  10.]]\n"
          ],
          "name": "stdout"
        }
      ]
    },
    {
      "cell_type": "code",
      "metadata": {
        "colab": {
          "base_uri": "https://localhost:8080/"
        },
        "id": "c9kxG-UyJYnk",
        "outputId": "33949e62-4975-4497-cee3-3be8d65e0297"
      },
      "source": [
        "# Mi ejemplo \n",
        "print(\"Data:\\n\", d2, sep='')\n",
        "print(\"Mean:\\n\", d2.mean(axis=0), sep='')\n",
        "print(\"Data - Mean:\\n\", d2 - d2.mean(axis=0), sep='')"
      ],
      "execution_count": null,
      "outputs": [
        {
          "output_type": "stream",
          "text": [
            "Data:\n",
            "[[ 0  1  2  3  4]\n",
            " [ 5  6  7  8  9]\n",
            " [10 11 12 13 14]\n",
            " [15 16 17 18 19]\n",
            " [20 21 22 23 24]\n",
            " [25 26 27 28 29]\n",
            " [30 31 32 33 34]\n",
            " [35 36 37 38 39]\n",
            " [40 41 42 43 44]]\n",
            "Mean:\n",
            "[20. 21. 22. 23. 24.]\n",
            "Data - Mean:\n",
            "[[-20. -20. -20. -20. -20.]\n",
            " [-15. -15. -15. -15. -15.]\n",
            " [-10. -10. -10. -10. -10.]\n",
            " [ -5.  -5.  -5.  -5.  -5.]\n",
            " [  0.   0.   0.   0.   0.]\n",
            " [  5.   5.   5.   5.   5.]\n",
            " [ 10.  10.  10.  10.  10.]\n",
            " [ 15.  15.  15.  15.  15.]\n",
            " [ 20.  20.  20.  20.  20.]]\n"
          ],
          "name": "stdout"
        }
      ]
    },
    {
      "cell_type": "markdown",
      "metadata": {
        "id": "Diob44ewS3Du"
      },
      "source": [
        "# Broadcasting Review\n",
        "\n",
        "- Numpy operations can work on arrays of different dimensions as long as the arrays' shapes are still \"compatible\".\n",
        "- Broadcasting works by \"tiling\" the smaller array along the missing dimension.\n",
        "- The result of a broadcasted operation is always at least as large in each dimension as the largest array in that dimension."
      ]
    },
    {
      "cell_type": "markdown",
      "metadata": {
        "id": "qRFE-5YjS3Dv"
      },
      "source": [
        "# Numpy Review"
      ]
    },
    {
      "cell_type": "markdown",
      "metadata": {
        "id": "A8Tt_106S3Dv"
      },
      "source": [
        "- Numerical algorithms are slow in pure Python because the overhead dynamic dispatch dominates our runtime."
      ]
    },
    {
      "cell_type": "markdown",
      "metadata": {
        "id": "Yt9w_7dWS3Dw"
      },
      "source": [
        "- Numpy solves this problem by:\n",
        "  1. Imposing additional restrictions on the contents of arrays.\n",
        "  2. Moving the inner loops of our algorithms into compiled C code."
      ]
    },
    {
      "cell_type": "markdown",
      "metadata": {
        "id": "1Az8kP_ZS3Dw"
      },
      "source": [
        "- Using Numpy effectively often requires reworking an algorithms to use vectorized operations instead of for-loops, but the resulting operations are usually simpler, clearer, and faster than the pure Python equivalent."
      ]
    },
    {
      "cell_type": "markdown",
      "metadata": {
        "id": "pc2-kUE5S3Dx"
      },
      "source": [
        "Numpy is great for many things, but..."
      ]
    },
    {
      "cell_type": "markdown",
      "metadata": {
        "id": "OdVzMEXhS3Dx"
      },
      "source": [
        "- Sometimes our data is equipped with a natural set of **labels**:\n",
        "  - Dates/Times\n",
        "  - Stock Tickers\n",
        "  - Field Names (e.g. Open/High/Low/Close)"
      ]
    },
    {
      "cell_type": "markdown",
      "metadata": {
        "id": "IGQpQkBFS3Dy"
      },
      "source": [
        "- Sometimes we have **more than one type of data** that we want to keep grouped together.\n",
        "  - Tables with a mix of real-valued and categorical data."
      ]
    },
    {
      "cell_type": "markdown",
      "metadata": {
        "id": "tuz9iNYdS3Dy"
      },
      "source": [
        "- Sometimes we have **missing** data, which we need to ignore, fill, or otherwise work around."
      ]
    },
    {
      "cell_type": "markdown",
      "metadata": {
        "id": "Gc5EWVfzS3Dz"
      },
      "source": [
        "Pandas extends Numpy with more complex data structures:\n",
        "\n",
        "- `Series`: 1-dimensional, homogenously-typed, labelled array.\n",
        "- `DataFrame`: 2-dimensional, semi-homogenous, labelled table."
      ]
    },
    {
      "cell_type": "markdown",
      "metadata": {
        "id": "UDqhek1hS3Dz"
      },
      "source": [
        "Pandas also provides many utilities for: \n",
        "- Input/Output\n",
        "- Data Cleaning\n",
        "- Rolling Algorithms\n",
        "- Plotting"
      ]
    },
    {
      "cell_type": "markdown",
      "metadata": {
        "id": "Mo7RVqHbS3D0"
      },
      "source": [
        "# Selection in Pandas"
      ]
    },
    {
      "cell_type": "code",
      "metadata": {
        "id": "LCea9vJGS3D0",
        "colab": {
          "base_uri": "https://localhost:8080/"
        },
        "outputId": "49cf60d4-7452-4ff7-b0b6-43246497b1a6"
      },
      "source": [
        "import pandas as pd\n",
        "\n",
        "s = pd.Series(index=['a', 'b', 'c', 'd', 'e'], data=[1, 2, 3, 4, 5])\n",
        "s"
      ],
      "execution_count": null,
      "outputs": [
        {
          "output_type": "execute_result",
          "data": {
            "text/plain": [
              "a    1\n",
              "b    2\n",
              "c    3\n",
              "d    4\n",
              "e    5\n",
              "dtype: int64"
            ]
          },
          "metadata": {
            "tags": []
          },
          "execution_count": 37
        }
      ]
    },
    {
      "cell_type": "code",
      "metadata": {
        "colab": {
          "base_uri": "https://localhost:8080/"
        },
        "id": "kI9wkimKJzyg",
        "outputId": "3424e833-41d7-4766-d075-10154cbcbee4"
      },
      "source": [
        "# Mi ejemplo\n",
        "import pandas as pd\n",
        "\n",
        "s1 = pd.Series(index=['a', 'e', 'i', 'o', 'u'], data=[11, 12, 13, 14, 15])\n",
        "s1"
      ],
      "execution_count": null,
      "outputs": [
        {
          "output_type": "execute_result",
          "data": {
            "text/plain": [
              "a    11\n",
              "e    12\n",
              "i    13\n",
              "o    14\n",
              "u    15\n",
              "dtype: int64"
            ]
          },
          "metadata": {
            "tags": []
          },
          "execution_count": 38
        }
      ]
    },
    {
      "cell_type": "code",
      "metadata": {
        "id": "y1yNSTBrS3D1",
        "colab": {
          "base_uri": "https://localhost:8080/"
        },
        "outputId": "0da4b0e3-7d59-44b8-b7f4-c66c5e895cf7"
      },
      "source": [
        "# There are two pieces to a Series: the index and the values.\n",
        "print(\"The index is:\", s.index)\n",
        "print(\"The values are:\", s.values)"
      ],
      "execution_count": null,
      "outputs": [
        {
          "output_type": "stream",
          "text": [
            "The index is: Index(['a', 'b', 'c', 'd', 'e'], dtype='object')\n",
            "The values are: [1 2 3 4 5]\n"
          ],
          "name": "stdout"
        }
      ]
    },
    {
      "cell_type": "code",
      "metadata": {
        "colab": {
          "base_uri": "https://localhost:8080/"
        },
        "id": "PSDfsAy3KBWl",
        "outputId": "0cc7ea38-05c6-44ce-ba4d-cf4693cfbfc7"
      },
      "source": [
        "# Mi ejemplo\n",
        "print(\"The index is:\", s1.index)\n",
        "print(\"The values are:\", s1.values)"
      ],
      "execution_count": null,
      "outputs": [
        {
          "output_type": "stream",
          "text": [
            "The index is: Index(['a', 'e', 'i', 'o', 'u'], dtype='object')\n",
            "The values are: [11 12 13 14 15]\n"
          ],
          "name": "stdout"
        }
      ]
    },
    {
      "cell_type": "code",
      "metadata": {
        "id": "Eux2aqeZS3D2",
        "colab": {
          "base_uri": "https://localhost:8080/"
        },
        "outputId": "3308b6b0-9870-4d64-826a-e941e1763d4d"
      },
      "source": [
        "# We can look up values out of a Series by position...\n",
        "s.iloc[0]"
      ],
      "execution_count": null,
      "outputs": [
        {
          "output_type": "execute_result",
          "data": {
            "text/plain": [
              "1"
            ]
          },
          "metadata": {
            "tags": []
          },
          "execution_count": 41
        }
      ]
    },
    {
      "cell_type": "code",
      "metadata": {
        "colab": {
          "base_uri": "https://localhost:8080/"
        },
        "id": "5N4nY_jBKJzj",
        "outputId": "af462302-7f0a-4981-f5d7-db30958d7c4e"
      },
      "source": [
        "# Mi ejemplo\n",
        "s1.iloc[3]"
      ],
      "execution_count": null,
      "outputs": [
        {
          "output_type": "execute_result",
          "data": {
            "text/plain": [
              "14"
            ]
          },
          "metadata": {
            "tags": []
          },
          "execution_count": 42
        }
      ]
    },
    {
      "cell_type": "code",
      "metadata": {
        "id": "lOo49bSyS3D3",
        "colab": {
          "base_uri": "https://localhost:8080/"
        },
        "outputId": "65da292b-7a55-491b-adc4-ddfea86a7e3d"
      },
      "source": [
        "# ... or by label.\n",
        "s.loc['a']"
      ],
      "execution_count": null,
      "outputs": [
        {
          "output_type": "execute_result",
          "data": {
            "text/plain": [
              "1"
            ]
          },
          "metadata": {
            "tags": []
          },
          "execution_count": 43
        }
      ]
    },
    {
      "cell_type": "code",
      "metadata": {
        "colab": {
          "base_uri": "https://localhost:8080/"
        },
        "id": "4tytiTRoKTHE",
        "outputId": "b02fa498-6739-4981-bcaf-0ba356f09e8d"
      },
      "source": [
        "# Mi ejemplo\n",
        "s1.loc['o']"
      ],
      "execution_count": null,
      "outputs": [
        {
          "output_type": "execute_result",
          "data": {
            "text/plain": [
              "14"
            ]
          },
          "metadata": {
            "tags": []
          },
          "execution_count": 45
        }
      ]
    },
    {
      "cell_type": "code",
      "metadata": {
        "id": "MgmIe-kIS3D4",
        "colab": {
          "base_uri": "https://localhost:8080/"
        },
        "outputId": "0ca9600c-7f0a-42f8-d50b-1fe41f15343b"
      },
      "source": [
        "# Slicing works as expected...\n",
        "s.iloc[:2]"
      ],
      "execution_count": null,
      "outputs": [
        {
          "output_type": "execute_result",
          "data": {
            "text/plain": [
              "a    1\n",
              "b    2\n",
              "dtype: int64"
            ]
          },
          "metadata": {
            "tags": []
          },
          "execution_count": 46
        }
      ]
    },
    {
      "cell_type": "code",
      "metadata": {
        "colab": {
          "base_uri": "https://localhost:8080/"
        },
        "id": "Hj4CP4r5KcY5",
        "outputId": "cc1c0180-c90d-4820-ac90-41b852d5654b"
      },
      "source": [
        "# Mi ejemplo\n",
        "s1.iloc[:3]"
      ],
      "execution_count": null,
      "outputs": [
        {
          "output_type": "execute_result",
          "data": {
            "text/plain": [
              "a    11\n",
              "e    12\n",
              "i    13\n",
              "dtype: int64"
            ]
          },
          "metadata": {
            "tags": []
          },
          "execution_count": 48
        }
      ]
    },
    {
      "cell_type": "code",
      "metadata": {
        "id": "VOv5UizaS3D4",
        "colab": {
          "base_uri": "https://localhost:8080/"
        },
        "outputId": "9365e605-56e6-4113-d754-5955d0d00142"
      },
      "source": [
        "# ...but it works with labels too!\n",
        "s.loc[:'c']"
      ],
      "execution_count": null,
      "outputs": [
        {
          "output_type": "execute_result",
          "data": {
            "text/plain": [
              "a    1\n",
              "b    2\n",
              "c    3\n",
              "dtype: int64"
            ]
          },
          "metadata": {
            "tags": []
          },
          "execution_count": 49
        }
      ]
    },
    {
      "cell_type": "code",
      "metadata": {
        "colab": {
          "base_uri": "https://localhost:8080/"
        },
        "id": "fASusVO9KiG-",
        "outputId": "25abb0da-738a-4709-c00a-27151e09e585"
      },
      "source": [
        "# Mi ejemplo\n",
        "s1.loc[:'i']"
      ],
      "execution_count": null,
      "outputs": [
        {
          "output_type": "execute_result",
          "data": {
            "text/plain": [
              "a    11\n",
              "e    12\n",
              "i    13\n",
              "dtype: int64"
            ]
          },
          "metadata": {
            "tags": []
          },
          "execution_count": 50
        }
      ]
    },
    {
      "cell_type": "code",
      "metadata": {
        "id": "kGZHomzlS3D5",
        "colab": {
          "base_uri": "https://localhost:8080/"
        },
        "outputId": "9ed912f4-7e40-4d97-e203-629b96a2b2a9"
      },
      "source": [
        "# Fancy indexing works the same as in numpy.\n",
        "s.iloc[[0, -1]]"
      ],
      "execution_count": null,
      "outputs": [
        {
          "output_type": "execute_result",
          "data": {
            "text/plain": [
              "a    1\n",
              "e    5\n",
              "dtype: int64"
            ]
          },
          "metadata": {
            "tags": []
          },
          "execution_count": 51
        }
      ]
    },
    {
      "cell_type": "code",
      "metadata": {
        "colab": {
          "base_uri": "https://localhost:8080/"
        },
        "id": "lE_qnKLDKpiW",
        "outputId": "a9aae3cb-f2c5-4ffb-d938-aaa505f0c668"
      },
      "source": [
        "# Mi ejemplo\n",
        "s1.iloc[[2, -1]]"
      ],
      "execution_count": null,
      "outputs": [
        {
          "output_type": "execute_result",
          "data": {
            "text/plain": [
              "i    13\n",
              "u    15\n",
              "dtype: int64"
            ]
          },
          "metadata": {
            "tags": []
          },
          "execution_count": 53
        }
      ]
    },
    {
      "cell_type": "code",
      "metadata": {
        "id": "sidYmU_DS3D6",
        "colab": {
          "base_uri": "https://localhost:8080/"
        },
        "outputId": "f29f01ac-d799-494c-acd7-a8153cd2dbad"
      },
      "source": [
        "# As does boolean masking.\n",
        "s.loc[s > 2]"
      ],
      "execution_count": null,
      "outputs": [
        {
          "output_type": "execute_result",
          "data": {
            "text/plain": [
              "c    3\n",
              "d    4\n",
              "e    5\n",
              "dtype: int64"
            ]
          },
          "metadata": {
            "tags": []
          },
          "execution_count": 54
        }
      ]
    },
    {
      "cell_type": "code",
      "metadata": {
        "colab": {
          "base_uri": "https://localhost:8080/"
        },
        "id": "-Ki_JknWKyo0",
        "outputId": "bfcb6fac-5e5a-4df3-bd32-d8368621790e"
      },
      "source": [
        "# Mi ejemplo\n",
        "s1.loc[s1 > 13]"
      ],
      "execution_count": null,
      "outputs": [
        {
          "output_type": "execute_result",
          "data": {
            "text/plain": [
              "o    14\n",
              "u    15\n",
              "dtype: int64"
            ]
          },
          "metadata": {
            "tags": []
          },
          "execution_count": 56
        }
      ]
    },
    {
      "cell_type": "code",
      "metadata": {
        "id": "C8E69o1uS3D6",
        "colab": {
          "base_uri": "https://localhost:8080/"
        },
        "outputId": "8166c36c-b62b-4f54-ee43-27da40247b5f"
      },
      "source": [
        "# Element-wise operations are aligned by index.\n",
        "other_s = pd.Series({'a': 10.0, 'c': 20.0, 'd': 30.0, 'z': 40.0})\n",
        "other_s"
      ],
      "execution_count": null,
      "outputs": [
        {
          "output_type": "execute_result",
          "data": {
            "text/plain": [
              "a    10.0\n",
              "c    20.0\n",
              "d    30.0\n",
              "z    40.0\n",
              "dtype: float64"
            ]
          },
          "metadata": {
            "tags": []
          },
          "execution_count": 57
        }
      ]
    },
    {
      "cell_type": "code",
      "metadata": {
        "colab": {
          "base_uri": "https://localhost:8080/"
        },
        "id": "o1VnZK8KK747",
        "outputId": "5a9cdb51-be90-482e-89b8-25b77b9845c4"
      },
      "source": [
        "# Mi ejemplo\n",
        "other_s1 = pd.Series({'f': 5.0, 'o': 10.0, 'c': 15.0, 'a': 20.0})\n",
        "other_s1"
      ],
      "execution_count": null,
      "outputs": [
        {
          "output_type": "execute_result",
          "data": {
            "text/plain": [
              "f     5.0\n",
              "o    10.0\n",
              "c    15.0\n",
              "a    20.0\n",
              "dtype: float64"
            ]
          },
          "metadata": {
            "tags": []
          },
          "execution_count": 58
        }
      ]
    },
    {
      "cell_type": "code",
      "metadata": {
        "id": "PXzCqPg-S3D7",
        "colab": {
          "base_uri": "https://localhost:8080/"
        },
        "outputId": "a7c61e88-01ce-4f74-f8cc-4bf18fcad2ec"
      },
      "source": [
        "s + other_s"
      ],
      "execution_count": null,
      "outputs": [
        {
          "output_type": "execute_result",
          "data": {
            "text/plain": [
              "a    11.0\n",
              "b     NaN\n",
              "c    23.0\n",
              "d    34.0\n",
              "e     NaN\n",
              "z     NaN\n",
              "dtype: float64"
            ]
          },
          "metadata": {
            "tags": []
          },
          "execution_count": 59
        }
      ]
    },
    {
      "cell_type": "code",
      "metadata": {
        "colab": {
          "base_uri": "https://localhost:8080/"
        },
        "id": "3c8zOUXULMkm",
        "outputId": "31329e21-d615-459a-86f1-8e8903d74aed"
      },
      "source": [
        "# Mi ejemplo\n",
        "s1 + other_s1"
      ],
      "execution_count": null,
      "outputs": [
        {
          "output_type": "execute_result",
          "data": {
            "text/plain": [
              "a    31.0\n",
              "c     NaN\n",
              "e     NaN\n",
              "f     NaN\n",
              "i     NaN\n",
              "o    24.0\n",
              "u     NaN\n",
              "dtype: float64"
            ]
          },
          "metadata": {
            "tags": []
          },
          "execution_count": 60
        }
      ]
    },
    {
      "cell_type": "code",
      "metadata": {
        "id": "AK5UOZ0ZS3D7",
        "colab": {
          "base_uri": "https://localhost:8080/"
        },
        "outputId": "ced903bc-e552-420d-95b5-53a1359e2490"
      },
      "source": [
        "# We can fill in missing values with fillna().\n",
        "(s + other_s).fillna(0.0)"
      ],
      "execution_count": null,
      "outputs": [
        {
          "output_type": "execute_result",
          "data": {
            "text/plain": [
              "a    11.0\n",
              "b     0.0\n",
              "c    23.0\n",
              "d    34.0\n",
              "e     0.0\n",
              "z     0.0\n",
              "dtype: float64"
            ]
          },
          "metadata": {
            "tags": []
          },
          "execution_count": 61
        }
      ]
    },
    {
      "cell_type": "code",
      "metadata": {
        "colab": {
          "base_uri": "https://localhost:8080/"
        },
        "id": "GqvvAy-RLbTQ",
        "outputId": "bbde1e52-3620-41ab-9302-6a9d159da93b"
      },
      "source": [
        "# Mi ejemplo\n",
        "(s1 + other_s1).fillna(0.0)"
      ],
      "execution_count": null,
      "outputs": [
        {
          "output_type": "execute_result",
          "data": {
            "text/plain": [
              "a    31.0\n",
              "c     0.0\n",
              "e     0.0\n",
              "f     0.0\n",
              "i     0.0\n",
              "o    24.0\n",
              "u     0.0\n",
              "dtype: float64"
            ]
          },
          "metadata": {
            "tags": []
          },
          "execution_count": 62
        }
      ]
    },
    {
      "cell_type": "code",
      "metadata": {
        "id": "BBYkEsOmS3D8"
      },
      "source": [
        "# Most real datasets are read in from an external file format.\n",
        "aapl = pd.read_csv('AAPL.csv', parse_dates=['Date'], index_col='Date')\n",
        "aapl.head()"
      ],
      "execution_count": null,
      "outputs": []
    },
    {
      "cell_type": "markdown",
      "metadata": {
        "id": "DiQlwrqyYZoO"
      },
      "source": [
        " *Ese código ya no funciona de esa forma, por lo tanto, a continuación se especifica cómo leer desde Yahoo finance, con la misma función* **pd.read.csv**"
      ]
    },
    {
      "cell_type": "code",
      "metadata": {
        "colab": {
          "base_uri": "https://localhost:8080/"
        },
        "id": "RTky4AhYMjvU",
        "outputId": "f8946142-08db-466a-e4c1-8a272a93d481"
      },
      "source": [
        "# Corrigiendo para Apple APPL\n",
        "import io\n",
        "import urllib\n",
        "import urllib.request\n",
        "import pandas as pd\n",
        "import numpy as np\n",
        "\n",
        "# Leer desde yahoo finanace como .csv\n",
        "# Apple - Historical Data - 'Botón' download\n",
        "url = f'https://query1.finance.yahoo.com/v7/finance/download/AAPL?period1=1585792593&period2=1617328593&interval=1d&events=history&includeAdjustedClose=true'\n",
        "\n",
        "with urllib.request.urlopen(url) as response:\n",
        "    sourcePage = response.read().decode()\n",
        "\n",
        "aapl = pd.read_csv(io.StringIO(sourcePage), parse_dates=['Date'], index_col='Date', sep=\",\")\n",
        "print(aapl.head())"
      ],
      "execution_count": null,
      "outputs": [
        {
          "output_type": "stream",
          "text": [
            "                 Open       High        Low      Close  Adj Close     Volume\n",
            "Date                                                                        \n",
            "2020-04-02  60.084999  61.287498  59.224998  61.232498  60.761501  165934000\n",
            "2020-04-03  60.700001  61.424999  59.742500  60.352501  59.888275  129880000\n",
            "2020-04-06  62.724998  65.777496  62.345001  65.617500  65.112770  201820400\n",
            "2020-04-07  67.699997  67.925003  64.750000  64.857498  64.358627  202887200\n",
            "2020-04-08  65.684998  66.842499  65.307503  66.517502  66.005852  168895200\n"
          ],
          "name": "stdout"
        }
      ]
    },
    {
      "cell_type": "code",
      "metadata": {
        "colab": {
          "base_uri": "https://localhost:8080/"
        },
        "id": "Dv8HeUYGYvS0",
        "outputId": "5620adf3-9a64-4454-8a53-7c657b3ef83d"
      },
      "source": [
        "# Mi ejemplo para Amazon AMZN\n",
        "import io\n",
        "import urllib\n",
        "import urllib.request\n",
        "import pandas as pd\n",
        "import numpy as np\n",
        "\n",
        "# Leer desde yahoo finanace como .csv\n",
        "# Amazon - Historical Data - 'Botón' download\n",
        "url1 = f'https://query1.finance.yahoo.com/v7/finance/download/AMZN?period1=1585794136&period2=1617330136&interval=1d&events=history&includeAdjustedClose=true'\n",
        "\n",
        "with urllib.request.urlopen(url1) as response:\n",
        "    sourcePage1 = response.read().decode()\n",
        "\n",
        "amzn = pd.read_csv(io.StringIO(sourcePage1), parse_dates=['Date'], index_col='Date', sep=\",\")\n",
        "print(amzn.head())"
      ],
      "execution_count": null,
      "outputs": [
        {
          "output_type": "stream",
          "text": [
            "                   Open         High  ...    Adj Close   Volume\n",
            "Date                                  ...                      \n",
            "2020-04-02  1901.640015  1927.530029  ...  1918.829956  4336000\n",
            "2020-04-03  1911.150024  1926.329956  ...  1906.589966  3609900\n",
            "2020-04-06  1936.000000  1998.520020  ...  1997.589966  5773200\n",
            "2020-04-07  2017.109985  2035.719971  ...  2011.599976  5114000\n",
            "2020-04-08  2021.000000  2044.000000  ...  2043.000000  3977300\n",
            "\n",
            "[5 rows x 6 columns]\n"
          ],
          "name": "stdout"
        }
      ]
    },
    {
      "cell_type": "code",
      "metadata": {
        "id": "goRHccb3S3D9",
        "colab": {
          "base_uri": "https://localhost:8080/",
          "height": 142
        },
        "outputId": "1303000e-506d-4ae4-cdbc-7aca88c7549e"
      },
      "source": [
        "# Slicing generalizes to two dimensions as you'd expect:\n",
        "aapl.iloc[:2, :2]"
      ],
      "execution_count": null,
      "outputs": [
        {
          "output_type": "execute_result",
          "data": {
            "text/html": [
              "<div>\n",
              "<style scoped>\n",
              "    .dataframe tbody tr th:only-of-type {\n",
              "        vertical-align: middle;\n",
              "    }\n",
              "\n",
              "    .dataframe tbody tr th {\n",
              "        vertical-align: top;\n",
              "    }\n",
              "\n",
              "    .dataframe thead th {\n",
              "        text-align: right;\n",
              "    }\n",
              "</style>\n",
              "<table border=\"1\" class=\"dataframe\">\n",
              "  <thead>\n",
              "    <tr style=\"text-align: right;\">\n",
              "      <th></th>\n",
              "      <th>Open</th>\n",
              "      <th>High</th>\n",
              "    </tr>\n",
              "    <tr>\n",
              "      <th>Date</th>\n",
              "      <th></th>\n",
              "      <th></th>\n",
              "    </tr>\n",
              "  </thead>\n",
              "  <tbody>\n",
              "    <tr>\n",
              "      <th>2020-04-02</th>\n",
              "      <td>60.084999</td>\n",
              "      <td>61.287498</td>\n",
              "    </tr>\n",
              "    <tr>\n",
              "      <th>2020-04-03</th>\n",
              "      <td>60.700001</td>\n",
              "      <td>61.424999</td>\n",
              "    </tr>\n",
              "  </tbody>\n",
              "</table>\n",
              "</div>"
            ],
            "text/plain": [
              "                 Open       High\n",
              "Date                            \n",
              "2020-04-02  60.084999  61.287498\n",
              "2020-04-03  60.700001  61.424999"
            ]
          },
          "metadata": {
            "tags": []
          },
          "execution_count": 81
        }
      ]
    },
    {
      "cell_type": "code",
      "metadata": {
        "colab": {
          "base_uri": "https://localhost:8080/",
          "height": 173
        },
        "id": "BiMy1RvJZtvJ",
        "outputId": "3612f77f-8311-4572-adcc-affdadcbecc7"
      },
      "source": [
        "# Mi ejemplo\n",
        "amzn.iloc[:3, :3]"
      ],
      "execution_count": null,
      "outputs": [
        {
          "output_type": "execute_result",
          "data": {
            "text/html": [
              "<div>\n",
              "<style scoped>\n",
              "    .dataframe tbody tr th:only-of-type {\n",
              "        vertical-align: middle;\n",
              "    }\n",
              "\n",
              "    .dataframe tbody tr th {\n",
              "        vertical-align: top;\n",
              "    }\n",
              "\n",
              "    .dataframe thead th {\n",
              "        text-align: right;\n",
              "    }\n",
              "</style>\n",
              "<table border=\"1\" class=\"dataframe\">\n",
              "  <thead>\n",
              "    <tr style=\"text-align: right;\">\n",
              "      <th></th>\n",
              "      <th>Open</th>\n",
              "      <th>High</th>\n",
              "      <th>Low</th>\n",
              "    </tr>\n",
              "    <tr>\n",
              "      <th>Date</th>\n",
              "      <th></th>\n",
              "      <th></th>\n",
              "      <th></th>\n",
              "    </tr>\n",
              "  </thead>\n",
              "  <tbody>\n",
              "    <tr>\n",
              "      <th>2020-04-02</th>\n",
              "      <td>1901.640015</td>\n",
              "      <td>1927.530029</td>\n",
              "      <td>1890.000000</td>\n",
              "    </tr>\n",
              "    <tr>\n",
              "      <th>2020-04-03</th>\n",
              "      <td>1911.150024</td>\n",
              "      <td>1926.329956</td>\n",
              "      <td>1889.150024</td>\n",
              "    </tr>\n",
              "    <tr>\n",
              "      <th>2020-04-06</th>\n",
              "      <td>1936.000000</td>\n",
              "      <td>1998.520020</td>\n",
              "      <td>1930.020020</td>\n",
              "    </tr>\n",
              "  </tbody>\n",
              "</table>\n",
              "</div>"
            ],
            "text/plain": [
              "                   Open         High          Low\n",
              "Date                                             \n",
              "2020-04-02  1901.640015  1927.530029  1890.000000\n",
              "2020-04-03  1911.150024  1926.329956  1889.150024\n",
              "2020-04-06  1936.000000  1998.520020  1930.020020"
            ]
          },
          "metadata": {
            "tags": []
          },
          "execution_count": 88
        }
      ]
    },
    {
      "cell_type": "code",
      "metadata": {
        "id": "MayE0lOTS3D9",
        "colab": {
          "base_uri": "https://localhost:8080/",
          "height": 142
        },
        "outputId": "478924cb-8c97-4ec9-9339-e5ab765e8c04"
      },
      "source": [
        "aapl.loc[pd.Timestamp('2020-04-01'):pd.Timestamp('2020-04-04'), ['Close', 'Volume']]"
      ],
      "execution_count": null,
      "outputs": [
        {
          "output_type": "execute_result",
          "data": {
            "text/html": [
              "<div>\n",
              "<style scoped>\n",
              "    .dataframe tbody tr th:only-of-type {\n",
              "        vertical-align: middle;\n",
              "    }\n",
              "\n",
              "    .dataframe tbody tr th {\n",
              "        vertical-align: top;\n",
              "    }\n",
              "\n",
              "    .dataframe thead th {\n",
              "        text-align: right;\n",
              "    }\n",
              "</style>\n",
              "<table border=\"1\" class=\"dataframe\">\n",
              "  <thead>\n",
              "    <tr style=\"text-align: right;\">\n",
              "      <th></th>\n",
              "      <th>Close</th>\n",
              "      <th>Volume</th>\n",
              "    </tr>\n",
              "    <tr>\n",
              "      <th>Date</th>\n",
              "      <th></th>\n",
              "      <th></th>\n",
              "    </tr>\n",
              "  </thead>\n",
              "  <tbody>\n",
              "    <tr>\n",
              "      <th>2020-04-02</th>\n",
              "      <td>61.232498</td>\n",
              "      <td>165934000</td>\n",
              "    </tr>\n",
              "    <tr>\n",
              "      <th>2020-04-03</th>\n",
              "      <td>60.352501</td>\n",
              "      <td>129880000</td>\n",
              "    </tr>\n",
              "  </tbody>\n",
              "</table>\n",
              "</div>"
            ],
            "text/plain": [
              "                Close     Volume\n",
              "Date                            \n",
              "2020-04-02  61.232498  165934000\n",
              "2020-04-03  60.352501  129880000"
            ]
          },
          "metadata": {
            "tags": []
          },
          "execution_count": 89
        }
      ]
    },
    {
      "cell_type": "code",
      "metadata": {
        "colab": {
          "base_uri": "https://localhost:8080/",
          "height": 576
        },
        "id": "Cponqh_yaMtB",
        "outputId": "9beeeb3d-ede8-4767-c060-34302849bf4a"
      },
      "source": [
        "# Mi ejemplo\n",
        "amzn.loc[pd.Timestamp('2021-03-01'):pd.Timestamp('2021-03-22'), ['Close', 'Adj Close']]"
      ],
      "execution_count": null,
      "outputs": [
        {
          "output_type": "execute_result",
          "data": {
            "text/html": [
              "<div>\n",
              "<style scoped>\n",
              "    .dataframe tbody tr th:only-of-type {\n",
              "        vertical-align: middle;\n",
              "    }\n",
              "\n",
              "    .dataframe tbody tr th {\n",
              "        vertical-align: top;\n",
              "    }\n",
              "\n",
              "    .dataframe thead th {\n",
              "        text-align: right;\n",
              "    }\n",
              "</style>\n",
              "<table border=\"1\" class=\"dataframe\">\n",
              "  <thead>\n",
              "    <tr style=\"text-align: right;\">\n",
              "      <th></th>\n",
              "      <th>Close</th>\n",
              "      <th>Adj Close</th>\n",
              "    </tr>\n",
              "    <tr>\n",
              "      <th>Date</th>\n",
              "      <th></th>\n",
              "      <th></th>\n",
              "    </tr>\n",
              "  </thead>\n",
              "  <tbody>\n",
              "    <tr>\n",
              "      <th>2021-03-01</th>\n",
              "      <td>3146.139893</td>\n",
              "      <td>3146.139893</td>\n",
              "    </tr>\n",
              "    <tr>\n",
              "      <th>2021-03-02</th>\n",
              "      <td>3094.530029</td>\n",
              "      <td>3094.530029</td>\n",
              "    </tr>\n",
              "    <tr>\n",
              "      <th>2021-03-03</th>\n",
              "      <td>3005.000000</td>\n",
              "      <td>3005.000000</td>\n",
              "    </tr>\n",
              "    <tr>\n",
              "      <th>2021-03-04</th>\n",
              "      <td>2977.570068</td>\n",
              "      <td>2977.570068</td>\n",
              "    </tr>\n",
              "    <tr>\n",
              "      <th>2021-03-05</th>\n",
              "      <td>3000.459961</td>\n",
              "      <td>3000.459961</td>\n",
              "    </tr>\n",
              "    <tr>\n",
              "      <th>2021-03-08</th>\n",
              "      <td>2951.949951</td>\n",
              "      <td>2951.949951</td>\n",
              "    </tr>\n",
              "    <tr>\n",
              "      <th>2021-03-09</th>\n",
              "      <td>3062.850098</td>\n",
              "      <td>3062.850098</td>\n",
              "    </tr>\n",
              "    <tr>\n",
              "      <th>2021-03-10</th>\n",
              "      <td>3057.639893</td>\n",
              "      <td>3057.639893</td>\n",
              "    </tr>\n",
              "    <tr>\n",
              "      <th>2021-03-11</th>\n",
              "      <td>3113.590088</td>\n",
              "      <td>3113.590088</td>\n",
              "    </tr>\n",
              "    <tr>\n",
              "      <th>2021-03-12</th>\n",
              "      <td>3089.489990</td>\n",
              "      <td>3089.489990</td>\n",
              "    </tr>\n",
              "    <tr>\n",
              "      <th>2021-03-15</th>\n",
              "      <td>3081.679932</td>\n",
              "      <td>3081.679932</td>\n",
              "    </tr>\n",
              "    <tr>\n",
              "      <th>2021-03-16</th>\n",
              "      <td>3091.860107</td>\n",
              "      <td>3091.860107</td>\n",
              "    </tr>\n",
              "    <tr>\n",
              "      <th>2021-03-17</th>\n",
              "      <td>3135.729980</td>\n",
              "      <td>3135.729980</td>\n",
              "    </tr>\n",
              "    <tr>\n",
              "      <th>2021-03-18</th>\n",
              "      <td>3027.989990</td>\n",
              "      <td>3027.989990</td>\n",
              "    </tr>\n",
              "    <tr>\n",
              "      <th>2021-03-19</th>\n",
              "      <td>3074.959961</td>\n",
              "      <td>3074.959961</td>\n",
              "    </tr>\n",
              "    <tr>\n",
              "      <th>2021-03-22</th>\n",
              "      <td>3110.870117</td>\n",
              "      <td>3110.870117</td>\n",
              "    </tr>\n",
              "  </tbody>\n",
              "</table>\n",
              "</div>"
            ],
            "text/plain": [
              "                  Close    Adj Close\n",
              "Date                                \n",
              "2021-03-01  3146.139893  3146.139893\n",
              "2021-03-02  3094.530029  3094.530029\n",
              "2021-03-03  3005.000000  3005.000000\n",
              "2021-03-04  2977.570068  2977.570068\n",
              "2021-03-05  3000.459961  3000.459961\n",
              "2021-03-08  2951.949951  2951.949951\n",
              "2021-03-09  3062.850098  3062.850098\n",
              "2021-03-10  3057.639893  3057.639893\n",
              "2021-03-11  3113.590088  3113.590088\n",
              "2021-03-12  3089.489990  3089.489990\n",
              "2021-03-15  3081.679932  3081.679932\n",
              "2021-03-16  3091.860107  3091.860107\n",
              "2021-03-17  3135.729980  3135.729980\n",
              "2021-03-18  3027.989990  3027.989990\n",
              "2021-03-19  3074.959961  3074.959961\n",
              "2021-03-22  3110.870117  3110.870117"
            ]
          },
          "metadata": {
            "tags": []
          },
          "execution_count": 94
        }
      ]
    },
    {
      "cell_type": "markdown",
      "metadata": {
        "id": "aDnRB8GYS3D-"
      },
      "source": [
        "# Rolling Operations"
      ]
    },
    {
      "cell_type": "code",
      "metadata": {
        "id": "GrFJsEadS3D-",
        "colab": {
          "base_uri": "https://localhost:8080/",
          "height": 277
        },
        "outputId": "2677507a-6c46-465c-d20e-67c1a2f476ef"
      },
      "source": [
        "aapl.rolling(5)[['Close', 'Adj Close']].mean().plot();"
      ],
      "execution_count": null,
      "outputs": [
        {
          "output_type": "display_data",
          "data": {
            "image/png": "[encoded data removed]",
            "text/plain": [
              "<Figure size 432x288 with 1 Axes>"
            ]
          },
          "metadata": {
            "tags": [],
            "needs_background": "light"
          }
        }
      ]
    },
    {
      "cell_type": "code",
      "metadata": {
        "colab": {
          "base_uri": "https://localhost:8080/",
          "height": 277
        },
        "id": "O4MVhKH9a0sB",
        "outputId": "c878ec0e-283a-4c81-f141-f27ec74140c4"
      },
      "source": [
        "# Mi ejemplo\n",
        "amzn.rolling(5)[['Close', 'Adj Close']].mean().plot(color= 'aqua');"
      ],
      "execution_count": null,
      "outputs": [
        {
          "output_type": "display_data",
          "data": {
            "image/png": "[encoded data removed]",
            "text/plain": [
              "<Figure size 432x288 with 1 Axes>"
            ]
          },
          "metadata": {
            "tags": [],
            "needs_background": "light"
          }
        }
      ]
    },
    {
      "cell_type": "code",
      "metadata": {
        "id": "HodHJhk2S3D_",
        "colab": {
          "base_uri": "https://localhost:8080/",
          "height": 291
        },
        "outputId": "4b47b655-9ba0-46bc-c05d-3bc0d0804256"
      },
      "source": [
        "# Drop `Volume`, since it's way bigger than everything else.\n",
        "aapl.drop('Volume', axis=1).resample('2W').max().plot();"
      ],
      "execution_count": null,
      "outputs": [
        {
          "output_type": "display_data",
          "data": {
            "image/png": "[encoded data removed]",
            "text/plain": [
              "<Figure size 432x288 with 1 Axes>"
            ]
          },
          "metadata": {
            "tags": [],
            "needs_background": "light"
          }
        }
      ]
    },
    {
      "cell_type": "code",
      "metadata": {
        "colab": {
          "base_uri": "https://localhost:8080/",
          "height": 291
        },
        "id": "aFXNMZzjbn2j",
        "outputId": "0b796d1b-6bc1-47e1-b757-c13732c13dd2"
      },
      "source": [
        "#Mi ejemplo\n",
        "amzn.drop('Volume', axis=1).resample('2W').max().plot();"
      ],
      "execution_count": null,
      "outputs": [
        {
          "output_type": "display_data",
          "data": {
            "image/png": "[encoded data removed]",
            "text/plain": [
              "<Figure size 432x288 with 1 Axes>"
            ]
          },
          "metadata": {
            "tags": [],
            "needs_background": "light"
          }
        }
      ]
    },
    {
      "cell_type": "code",
      "metadata": {
        "id": "pCM_KY86S3D_",
        "colab": {
          "base_uri": "https://localhost:8080/",
          "height": 277
        },
        "outputId": "9b1616ff-3e45-4384-d4a1-ce46f742cee9"
      },
      "source": [
        "# 30-day rolling exponentially-weighted stddev of returns.\n",
        "aapl['Close'].pct_change().ewm(span=30).std().plot();"
      ],
      "execution_count": null,
      "outputs": [
        {
          "output_type": "display_data",
          "data": {
            "image/png": "[encoded data removed]",
            "text/plain": [
              "<Figure size 432x288 with 1 Axes>"
            ]
          },
          "metadata": {
            "tags": [],
            "needs_background": "light"
          }
        }
      ]
    },
    {
      "cell_type": "code",
      "metadata": {
        "colab": {
          "base_uri": "https://localhost:8080/",
          "height": 277
        },
        "id": "a8E43SoLbw5-",
        "outputId": "87a58402-c27f-4dce-b2a6-6b7a00cd7383"
      },
      "source": [
        "# Mi ejemplo\n",
        "amzn['Close'].pct_change().ewm(span=30).std().plot(color= 'brown');"
      ],
      "execution_count": null,
      "outputs": [
        {
          "output_type": "display_data",
          "data": {
            "image/png": "[encoded data removed]",
            "text/plain": [
              "<Figure size 432x288 with 1 Axes>"
            ]
          },
          "metadata": {
            "tags": [],
            "needs_background": "light"
          }
        }
      ]
    },
    {
      "cell_type": "markdown",
      "metadata": {
        "id": "s95pIpuqS3EA"
      },
      "source": [
        "# \"Real World\" Data"
      ]
    },
    {
      "cell_type": "code",
      "metadata": {
        "id": "CcKDg2sdS3EB",
        "colab": {
          "base_uri": "https://localhost:8080/",
          "height": 350
        },
        "outputId": "efc9b215-1b1e-4b50-d0bb-45f579747749"
      },
      "source": [
        "from demos.avocados import read_avocadata\n",
        "\n",
        "avocados = read_avocadata('2014', '2016')\n",
        "avocados.head()"
      ],
      "execution_count": null,
      "outputs": [
        {
          "output_type": "error",
          "ename": "ModuleNotFoundError",
          "evalue": "ignored",
          "traceback": [
            "\u001b[0;31m---------------------------------------------------------------------------\u001b[0m",
            "\u001b[0;31mModuleNotFoundError\u001b[0m                       Traceback (most recent call last)",
            "\u001b[0;32m<ipython-input-114-ca7191fa6ef8>\u001b[0m in \u001b[0;36m<module>\u001b[0;34m()\u001b[0m\n\u001b[0;32m----> 1\u001b[0;31m \u001b[0;32mfrom\u001b[0m \u001b[0mdemos\u001b[0m\u001b[0;34m.\u001b[0m\u001b[0mavocados\u001b[0m \u001b[0;32mimport\u001b[0m \u001b[0mread_avocadata\u001b[0m\u001b[0;34m\u001b[0m\u001b[0;34m\u001b[0m\u001b[0m\n\u001b[0m\u001b[1;32m      2\u001b[0m \u001b[0;34m\u001b[0m\u001b[0m\n\u001b[1;32m      3\u001b[0m \u001b[0mavocados\u001b[0m \u001b[0;34m=\u001b[0m \u001b[0mread_avocadata\u001b[0m\u001b[0;34m(\u001b[0m\u001b[0;34m'2014'\u001b[0m\u001b[0;34m,\u001b[0m \u001b[0;34m'2016'\u001b[0m\u001b[0;34m)\u001b[0m\u001b[0;34m\u001b[0m\u001b[0;34m\u001b[0m\u001b[0m\n\u001b[1;32m      4\u001b[0m \u001b[0mavocados\u001b[0m\u001b[0;34m.\u001b[0m\u001b[0mhead\u001b[0m\u001b[0;34m(\u001b[0m\u001b[0;34m)\u001b[0m\u001b[0;34m\u001b[0m\u001b[0;34m\u001b[0m\u001b[0m\n",
            "\u001b[0;31mModuleNotFoundError\u001b[0m: No module named 'demos'",
            "",
            "\u001b[0;31m---------------------------------------------------------------------------\u001b[0;32m\nNOTE: If your import is failing due to a missing package, you can\nmanually install dependencies using either !pip or !apt.\n\nTo view examples of installing some common dependencies, click the\n\"Open Examples\" button below.\n\u001b[0;31m---------------------------------------------------------------------------\u001b[0m\n"
          ]
        }
      ]
    },
    {
      "cell_type": "markdown",
      "metadata": {
        "id": "4365_e47duWq"
      },
      "source": [
        "> *Para arreglar el código anterior, se importa la función:*\n",
        "> **read_avocados data** *del repositorio de Scott Anderson con el siguiente código:*"
      ]
    },
    {
      "cell_type": "code",
      "metadata": {
        "id": "xQBQIwB4w4Mk"
      },
      "source": [
        "from io import BytesIO\n",
        "import os\n",
        "from urllib.parse import urlencode\n",
        "\n",
        "import requests\n",
        "import numpy as np\n",
        "import pandas as pd\n",
        "\n",
        "\n",
        "def read_avocadata(start_date, end_date, cache_loc='avocadata.html'):\n",
        "    \"\"\"Download avocado data to a dataframe.\n",
        "    Parameters\n",
        "    ----------\n",
        "    \"\"\"\n",
        "    start_date = pd.Timestamp(start_date)\n",
        "    end_date = pd.Timestamp(end_date)\n",
        "    base_url = 'https://www.marketnews.usda.gov/mnp/fv-report-retail'\n",
        "    query_params = {\n",
        "        'class': ['FRUITS'],\n",
        "        'commodity': ['AVOCADOS'],\n",
        "        'compareLy': ['No'],\n",
        "        'endDate': [end_date.strftime(\"%m/%d/%Y\")],\n",
        "        'format': ['excel'],\n",
        "        'organic': ['ALL'],\n",
        "        'portal': ['fv'],\n",
        "        'region': ['ALL'],\n",
        "        'repDate': [start_date.strftime(\"%m/%d/%Y\")],\n",
        "        'type': ['retail'],\n",
        "    }\n",
        "\n",
        "    url = base_url + '?' + urlencode(query_params, doseq=1)\n",
        "\n",
        "    if not os.path.exists(cache_loc):\n",
        "        resp = requests.get(url, stream=True)\n",
        "        resp.raise_for_status()\n",
        "\n",
        "        with open(cache_loc, 'wb') as f:\n",
        "            for block in resp.iter_content(chunk_size=4096):\n",
        "                f.write(block)\n",
        "        f.close()\n",
        "\n",
        "    with open(cache_loc, 'rb') as f:\n",
        "        frame = pd.read_html(f, header=0)[0]\n",
        "\n",
        "    # Cleanup\n",
        "    frame = frame[frame['Unit'] == 'each']\n",
        "    frame['Organic'] = (frame['Organic'] == 'Y')\n",
        "    frame['Variety'].replace(\n",
        "        {'VARIOUS GREENSKIN VARIETIES': 'GREENSKIN'},\n",
        "        inplace=True,\n",
        "    )\n",
        "    frame['Date'] = pd.to_datetime(frame['Date'].values, utc=True)\n",
        "\n",
        "    frame['Region'] = frame['Region'].str.replace(' U.S.', '')\n",
        "    frame['Region'] = frame['Region'].str.replace(' ', '_')\n",
        "\n",
        "    # Drop useless columns.\n",
        "    return frame.drop(\n",
        "        ['Class', 'Commodity', 'Environment', 'Unit', '% Marked Local'],\n",
        "        axis=1,\n",
        "    )"
      ],
      "execution_count": null,
      "outputs": []
    },
    {
      "cell_type": "markdown",
      "metadata": {
        "id": "6xWPVYjLeLRd"
      },
      "source": [
        "> *Y a continuación se ejecuta el código:*"
      ]
    },
    {
      "cell_type": "code",
      "metadata": {
        "colab": {
          "base_uri": "https://localhost:8080/",
          "height": 204
        },
        "id": "shgZSp2yeRkx",
        "outputId": "18216b47-5f47-4992-910a-260e3552a719"
      },
      "source": [
        "avocados = read_avocadata('2014', '2016')\n",
        "avocados.head()"
      ],
      "execution_count": null,
      "outputs": [
        {
          "output_type": "execute_result",
          "data": {
            "text/html": [
              "<div>\n",
              "<style scoped>\n",
              "    .dataframe tbody tr th:only-of-type {\n",
              "        vertical-align: middle;\n",
              "    }\n",
              "\n",
              "    .dataframe tbody tr th {\n",
              "        vertical-align: top;\n",
              "    }\n",
              "\n",
              "    .dataframe thead th {\n",
              "        text-align: right;\n",
              "    }\n",
              "</style>\n",
              "<table border=\"1\" class=\"dataframe\">\n",
              "  <thead>\n",
              "    <tr style=\"text-align: right;\">\n",
              "      <th></th>\n",
              "      <th>Date</th>\n",
              "      <th>Region</th>\n",
              "      <th>Variety</th>\n",
              "      <th>Organic</th>\n",
              "      <th>Number of Stores</th>\n",
              "      <th>Weighted Avg Price</th>\n",
              "      <th>Low Price</th>\n",
              "      <th>High Price</th>\n",
              "    </tr>\n",
              "  </thead>\n",
              "  <tbody>\n",
              "    <tr>\n",
              "      <th>0</th>\n",
              "      <td>2014-01-03 00:00:00+00:00</td>\n",
              "      <td>NATIONAL</td>\n",
              "      <td>HASS</td>\n",
              "      <td>False</td>\n",
              "      <td>9184</td>\n",
              "      <td>0.93</td>\n",
              "      <td>NaN</td>\n",
              "      <td>NaN</td>\n",
              "    </tr>\n",
              "    <tr>\n",
              "      <th>1</th>\n",
              "      <td>2014-01-03 00:00:00+00:00</td>\n",
              "      <td>NATIONAL</td>\n",
              "      <td>HASS</td>\n",
              "      <td>True</td>\n",
              "      <td>872</td>\n",
              "      <td>1.44</td>\n",
              "      <td>NaN</td>\n",
              "      <td>NaN</td>\n",
              "    </tr>\n",
              "    <tr>\n",
              "      <th>2</th>\n",
              "      <td>2014-01-03 00:00:00+00:00</td>\n",
              "      <td>NORTHEAST</td>\n",
              "      <td>HASS</td>\n",
              "      <td>False</td>\n",
              "      <td>1449</td>\n",
              "      <td>1.08</td>\n",
              "      <td>0.5</td>\n",
              "      <td>1.67</td>\n",
              "    </tr>\n",
              "    <tr>\n",
              "      <th>3</th>\n",
              "      <td>2014-01-03 00:00:00+00:00</td>\n",
              "      <td>NORTHEAST</td>\n",
              "      <td>HASS</td>\n",
              "      <td>True</td>\n",
              "      <td>66</td>\n",
              "      <td>1.54</td>\n",
              "      <td>1.5</td>\n",
              "      <td>2.00</td>\n",
              "    </tr>\n",
              "    <tr>\n",
              "      <th>4</th>\n",
              "      <td>2014-01-03 00:00:00+00:00</td>\n",
              "      <td>SOUTHEAST</td>\n",
              "      <td>HASS</td>\n",
              "      <td>False</td>\n",
              "      <td>2286</td>\n",
              "      <td>0.98</td>\n",
              "      <td>0.5</td>\n",
              "      <td>1.99</td>\n",
              "    </tr>\n",
              "  </tbody>\n",
              "</table>\n",
              "</div>"
            ],
            "text/plain": [
              "                       Date     Region  ... Low Price  High Price\n",
              "0 2014-01-03 00:00:00+00:00   NATIONAL  ...       NaN         NaN\n",
              "1 2014-01-03 00:00:00+00:00   NATIONAL  ...       NaN         NaN\n",
              "2 2014-01-03 00:00:00+00:00  NORTHEAST  ...       0.5        1.67\n",
              "3 2014-01-03 00:00:00+00:00  NORTHEAST  ...       1.5        2.00\n",
              "4 2014-01-03 00:00:00+00:00  SOUTHEAST  ...       0.5        1.99\n",
              "\n",
              "[5 rows x 8 columns]"
            ]
          },
          "metadata": {
            "tags": []
          },
          "execution_count": 133
        }
      ]
    },
    {
      "cell_type": "markdown",
      "metadata": {
        "id": "F58AI-7Cx42o"
      },
      "source": [
        "### **Mi ejemplo con datos extraídos desde:**\n",
        "## *datos.gov.co*\n",
        "\n",
        "> *1000 Empresas más grandes del país.*"
      ]
    },
    {
      "cell_type": "code",
      "metadata": {
        "id": "EYnn11efdYvY"
      },
      "source": [
        "# Mi ejemplo de extracción de datos desde la página datos.gov.co\n",
        "\n",
        "import io\n",
        "import urllib\n",
        "import urllib.request\n",
        "import pandas as pd\n",
        "import numpy as np\n",
        "\n",
        "# Leer desde yahoo finanace como .csv\n",
        "# AMZN - Historical Data - 'Botón' download\n",
        "url2 = f'https://www.datos.gov.co/api/views/8hn7-rpp8/rows.csv?accessType=DOWNLOAD'\n",
        "\n",
        "with urllib.request.urlopen(url2) as response:\n",
        "    sourcePage2 = response.read().decode()"
      ],
      "execution_count": null,
      "outputs": []
    },
    {
      "cell_type": "code",
      "metadata": {
        "colab": {
          "base_uri": "https://localhost:8080/",
          "height": 544
        },
        "id": "jj0vsd9Rxyqs",
        "outputId": "d2f385ac-44f0-4f25-97e2-b4018380a5a2"
      },
      "source": [
        "empresas = pd.read_csv(io.StringIO(sourcePage2), parse_dates=['No.'], index_col='No.', sep=\",\")\n",
        "empresas.head()"
      ],
      "execution_count": null,
      "outputs": [
        {
          "output_type": "execute_result",
          "data": {
            "text/html": [
              "<div>\n",
              "<style scoped>\n",
              "    .dataframe tbody tr th:only-of-type {\n",
              "        vertical-align: middle;\n",
              "    }\n",
              "\n",
              "    .dataframe tbody tr th {\n",
              "        vertical-align: top;\n",
              "    }\n",
              "\n",
              "    .dataframe thead th {\n",
              "        text-align: right;\n",
              "    }\n",
              "</style>\n",
              "<table border=\"1\" class=\"dataframe\">\n",
              "  <thead>\n",
              "    <tr style=\"text-align: right;\">\n",
              "      <th></th>\n",
              "      <th>NIT</th>\n",
              "      <th>RAZON SOCIAL</th>\n",
              "      <th>SUPERVISOR</th>\n",
              "      <th>REGIÓN</th>\n",
              "      <th>DEPARTAMENTO DOMICILIO</th>\n",
              "      <th>CIUDAD DOMICILIO</th>\n",
              "      <th>CIIU</th>\n",
              "      <th>MACROSECTOR</th>\n",
              "      <th>INGRESOS OPERACIONALES\\n2018*</th>\n",
              "      <th>GANANCIA (PERDIDA) 2018</th>\n",
              "      <th>TOTAL ACTIVOS 2018</th>\n",
              "      <th>TOTAL PASIVOS 2018</th>\n",
              "      <th>TOTAL PATRIMONIO 2018</th>\n",
              "      <th>INGRESOS OPERACIONALES\\n2017*</th>\n",
              "      <th>GANANCIA (PERDIDA) 2017</th>\n",
              "      <th>TOTAL ACTIVOS 2017</th>\n",
              "      <th>TOTAL PASIVOS 2017</th>\n",
              "      <th>TOTAL PATRIMONIO 2017</th>\n",
              "      <th>GRUPO EN NIIF</th>\n",
              "    </tr>\n",
              "    <tr>\n",
              "      <th>No.</th>\n",
              "      <th></th>\n",
              "      <th></th>\n",
              "      <th></th>\n",
              "      <th></th>\n",
              "      <th></th>\n",
              "      <th></th>\n",
              "      <th></th>\n",
              "      <th></th>\n",
              "      <th></th>\n",
              "      <th></th>\n",
              "      <th></th>\n",
              "      <th></th>\n",
              "      <th></th>\n",
              "      <th></th>\n",
              "      <th></th>\n",
              "      <th></th>\n",
              "      <th></th>\n",
              "      <th></th>\n",
              "      <th></th>\n",
              "    </tr>\n",
              "  </thead>\n",
              "  <tbody>\n",
              "    <tr>\n",
              "      <th>1</th>\n",
              "      <td>899999068</td>\n",
              "      <td>ECOPETROL S.A</td>\n",
              "      <td>SUPERFINANCIERA</td>\n",
              "      <td>Bogotá - Cundinamarca</td>\n",
              "      <td>BOGOTA D.C.</td>\n",
              "      <td>BOGOTA-D.C.-BOGOTA D.C.</td>\n",
              "      <td>B0610 - Extracción de petróleo crudo</td>\n",
              "      <td>MINERO-HIDROCARBUROS</td>\n",
              "      <td>6.257985e+10</td>\n",
              "      <td>1.155640e+10</td>\n",
              "      <td>1.137618e+11</td>\n",
              "      <td>5.654822e+10</td>\n",
              "      <td>5.721361e+10</td>\n",
              "      <td>4.968708e+10</td>\n",
              "      <td>6.620412e+09</td>\n",
              "      <td>1.075490e+11</td>\n",
              "      <td>5.965040e+10</td>\n",
              "      <td>4.789863e+10</td>\n",
              "      <td>NIIF PLENAS-GRUPO 1</td>\n",
              "    </tr>\n",
              "    <tr>\n",
              "      <th>2</th>\n",
              "      <td>830095213</td>\n",
              "      <td>ORGANIZACIÓN TERPEL S.A.</td>\n",
              "      <td>SUPERFINANCIERA</td>\n",
              "      <td>Bogotá - Cundinamarca</td>\n",
              "      <td>BOGOTA D.C.</td>\n",
              "      <td>BOGOTA-D.C.-BOGOTA D.C.</td>\n",
              "      <td>G4661 - Comercio al por mayor de combustibles ...</td>\n",
              "      <td>COMERCIO</td>\n",
              "      <td>1.487944e+10</td>\n",
              "      <td>1.337414e+08</td>\n",
              "      <td>5.488096e+09</td>\n",
              "      <td>3.525498e+09</td>\n",
              "      <td>1.962597e+09</td>\n",
              "      <td>1.249326e+10</td>\n",
              "      <td>1.952812e+08</td>\n",
              "      <td>3.863475e+09</td>\n",
              "      <td>2.186212e+09</td>\n",
              "      <td>1.677263e+09</td>\n",
              "      <td>NIIF PLENAS-GRUPO 1</td>\n",
              "    </tr>\n",
              "    <tr>\n",
              "      <th>3</th>\n",
              "      <td>900112515</td>\n",
              "      <td>REFINERIA DE CARTAGENA S.A.S.</td>\n",
              "      <td>SUPERSOCIEDADES</td>\n",
              "      <td>Costa Atlántica</td>\n",
              "      <td>BOLIVAR</td>\n",
              "      <td>CARTAGENA-BOLIVAR</td>\n",
              "      <td>C1921 - Fabricación de productos de la refinac...</td>\n",
              "      <td>MANUFACTURA</td>\n",
              "      <td>1.291943e+10</td>\n",
              "      <td>-8.024497e+08</td>\n",
              "      <td>2.788179e+10</td>\n",
              "      <td>9.121544e+09</td>\n",
              "      <td>1.876025e+10</td>\n",
              "      <td>9.150339e+09</td>\n",
              "      <td>4.809466e+07</td>\n",
              "      <td>2.677963e+10</td>\n",
              "      <td>8.612363e+09</td>\n",
              "      <td>1.816726e+10</td>\n",
              "      <td>NIIF PLENAS-GRUPO 1</td>\n",
              "    </tr>\n",
              "    <tr>\n",
              "      <th>4</th>\n",
              "      <td>890900608</td>\n",
              "      <td>ALMACENES EXITO S A</td>\n",
              "      <td>SUPERFINANCIERA</td>\n",
              "      <td>Antioquia</td>\n",
              "      <td>ANTIOQUIA</td>\n",
              "      <td>ENVIGADO-ANTIOQUIA</td>\n",
              "      <td>G4711 - Comercio al por menor en establecimien...</td>\n",
              "      <td>COMERCIO</td>\n",
              "      <td>1.144449e+10</td>\n",
              "      <td>2.794030e+08</td>\n",
              "      <td>1.566335e+10</td>\n",
              "      <td>8.013609e+09</td>\n",
              "      <td>7.649740e+09</td>\n",
              "      <td>1.125092e+10</td>\n",
              "      <td>2.177130e+08</td>\n",
              "      <td>1.596270e+10</td>\n",
              "      <td>8.123134e+09</td>\n",
              "      <td>7.839568e+09</td>\n",
              "      <td>NIIF PLENAS-GRUPO 1</td>\n",
              "    </tr>\n",
              "    <tr>\n",
              "      <th>5</th>\n",
              "      <td>890904996</td>\n",
              "      <td>EMPRESAS PÚBLICAS DE MEDELLÍN ESP</td>\n",
              "      <td>SUPERSERVICIOS</td>\n",
              "      <td>Antioquia</td>\n",
              "      <td>ANTIOQUIA</td>\n",
              "      <td>MEDELLIN-ANTIOQUIA</td>\n",
              "      <td>D3513- Dsitribución de energía electrica</td>\n",
              "      <td>SERVICIOS</td>\n",
              "      <td>8.966811e+09</td>\n",
              "      <td>2.344822e+09</td>\n",
              "      <td>4.559554e+10</td>\n",
              "      <td>2.299022e+10</td>\n",
              "      <td>2.260532e+10</td>\n",
              "      <td>7.927149e+09</td>\n",
              "      <td>2.188189e+09</td>\n",
              "      <td>3.958096e+10</td>\n",
              "      <td>1.808298e+10</td>\n",
              "      <td>2.149798e+10</td>\n",
              "      <td>NIIF PLENAS-GRUPO 1</td>\n",
              "    </tr>\n",
              "  </tbody>\n",
              "</table>\n",
              "</div>"
            ],
            "text/plain": [
              "           NIT  ...        GRUPO EN NIIF\n",
              "No.             ...                     \n",
              "1    899999068  ...  NIIF PLENAS-GRUPO 1\n",
              "2    830095213  ...  NIIF PLENAS-GRUPO 1\n",
              "3    900112515  ...  NIIF PLENAS-GRUPO 1\n",
              "4    890900608  ...  NIIF PLENAS-GRUPO 1\n",
              "5    890904996  ...  NIIF PLENAS-GRUPO 1\n",
              "\n",
              "[5 rows x 19 columns]"
            ]
          },
          "metadata": {
            "tags": []
          },
          "execution_count": 464
        }
      ]
    },
    {
      "cell_type": "code",
      "metadata": {
        "id": "u1aKs3WLS3EB",
        "colab": {
          "base_uri": "https://localhost:8080/"
        },
        "outputId": "b4ce7c71-b352-4774-d8a3-73a8d4bcdee4"
      },
      "source": [
        "# Unlike numpy arrays, pandas DataFrames can have a different dtype for each column.\n",
        "avocados.dtypes"
      ],
      "execution_count": null,
      "outputs": [
        {
          "output_type": "execute_result",
          "data": {
            "text/plain": [
              "Date                  datetime64[ns, UTC]\n",
              "Region                             object\n",
              "Variety                            object\n",
              "Organic                              bool\n",
              "Number of Stores                    int64\n",
              "Weighted Avg Price                float64\n",
              "Low Price                         float64\n",
              "High Price                        float64\n",
              "dtype: object"
            ]
          },
          "metadata": {
            "tags": []
          },
          "execution_count": 138
        }
      ]
    },
    {
      "cell_type": "code",
      "metadata": {
        "colab": {
          "base_uri": "https://localhost:8080/"
        },
        "id": "zOQ8SpZiyeHg",
        "outputId": "4ca80984-696c-4af0-b50d-15da0d4b87d7"
      },
      "source": [
        "# Mi ejmplo\n",
        "empresas.dtypes"
      ],
      "execution_count": null,
      "outputs": [
        {
          "output_type": "execute_result",
          "data": {
            "text/plain": [
              "NIT                                int64\n",
              "RAZON SOCIAL                      object\n",
              "SUPERVISOR                        object\n",
              "REGIÓN                            object\n",
              "DEPARTAMENTO DOMICILIO            object\n",
              "CIUDAD DOMICILIO                  object\n",
              "CIIU                              object\n",
              "MACROSECTOR                       object\n",
              "INGRESOS OPERACIONALES\\n2018*    float64\n",
              "GANANCIA (PERDIDA) 2018          float64\n",
              "TOTAL ACTIVOS 2018               float64\n",
              "TOTAL PASIVOS 2018               float64\n",
              "TOTAL PATRIMONIO 2018            float64\n",
              "INGRESOS OPERACIONALES\\n2017*    float64\n",
              "GANANCIA (PERDIDA) 2017          float64\n",
              "TOTAL ACTIVOS 2017               float64\n",
              "TOTAL PASIVOS 2017               float64\n",
              "TOTAL PATRIMONIO 2017            float64\n",
              "GRUPO EN NIIF                     object\n",
              "dtype: object"
            ]
          },
          "metadata": {
            "tags": []
          },
          "execution_count": 465
        }
      ]
    },
    {
      "cell_type": "code",
      "metadata": {
        "id": "tpCp5Z62S3EJ",
        "colab": {
          "base_uri": "https://localhost:8080/",
          "height": 277
        },
        "outputId": "a5ed04e3-baa6-4c47-be9c-94a81a516ce6"
      },
      "source": [
        "# What's the regional average price of a HASS avocado every day?\n",
        "hass = avocados[avocados.Variety == 'HASS']\n",
        "hass.groupby(['Date', 'Region'])['Weighted Avg Price'].mean().unstack().ffill().plot();"
      ],
      "execution_count": null,
      "outputs": [
        {
          "output_type": "display_data",
          "data": {
            "image/png": "[encoded data removed]",
            "text/plain": [
              "<Figure size 432x288 with 1 Axes>"
            ]
          },
          "metadata": {
            "tags": [],
            "needs_background": "light"
          }
        }
      ]
    },
    {
      "cell_type": "code",
      "metadata": {
        "colab": {
          "base_uri": "https://localhost:8080/",
          "height": 302
        },
        "id": "tfBmv4g_ysk5",
        "outputId": "5691b334-03da-46e6-eda4-0f6b52f45357"
      },
      "source": [
        "# Mi ejemplo\n",
        "comparacion = empresas[empresas.MACROSECTOR == 'SERVICIOS']\n",
        "comparacion.groupby(['INGRESOS OPERACIONALES\\n2018*' , 'REGIÓN']) ['GANANCIA (PERDIDA) 2018'].mean().unstack().ffill().plot();"
      ],
      "execution_count": null,
      "outputs": [
        {
          "output_type": "display_data",
          "data": {
            "image/png": "[encoded data removed]",
            "text/plain": [
              "<Figure size 432x288 with 1 Axes>"
            ]
          },
          "metadata": {
            "tags": [],
            "needs_background": "light"
          }
        }
      ]
    },
    {
      "cell_type": "code",
      "metadata": {
        "collapsed": true,
        "id": "RzL24VZ-S3EK"
      },
      "source": [
        "def _organic_spread(group):\n",
        "\n",
        "    if len(group.columns) != 2:\n",
        "        return pd.Series(index=group.index, data=0.0)\n",
        "    \n",
        "    is_organic = group.columns.get_level_values('Organic').values.astype(bool)\n",
        "    organics = group.loc[:, is_organic].squeeze()\n",
        "    non_organics = group.loc[:, ~is_organic].squeeze()\n",
        "    diff = organics - non_organics\n",
        "    return diff\n",
        "\n",
        "def organic_spread_by_region(df):\n",
        "    \"\"\"What's the difference between the price of an organic \n",
        "    and non-organic avocado within each region?\n",
        "    \"\"\"\n",
        "    return (\n",
        "        df\n",
        "        .set_index(['Date', 'Region', 'Organic'])\n",
        "         ['Weighted Avg Price']\n",
        "        .unstack(level=['Region', 'Organic'])\n",
        "        .ffill()\n",
        "        .groupby(level='Region', axis=1)\n",
        "        .apply(_organic_spread)\n",
        "    )"
      ],
      "execution_count": null,
      "outputs": []
    },
    {
      "cell_type": "code",
      "metadata": {
        "id": "Z4KTkT_bS3EK",
        "colab": {
          "base_uri": "https://localhost:8080/",
          "height": 293
        },
        "outputId": "6ca6bcfe-26a0-4f8b-ed90-4cd807c8befa"
      },
      "source": [
        "import matplotlib.pyplot as plt\n",
        "\n",
        "organic_spread_by_region(hass).plot();\n",
        "plt.gca().set_title(\"Daily Regional Organic Spread\");\n",
        "plt.legend(bbox_to_anchor=(1, 1));"
      ],
      "execution_count": null,
      "outputs": [
        {
          "output_type": "display_data",
          "data": {
            "image/png": "[encoded data removed]",
            "text/plain": [
              "<Figure size 432x288 with 1 Axes>"
            ]
          },
          "metadata": {
            "tags": [],
            "needs_background": "light"
          }
        }
      ]
    },
    {
      "cell_type": "code",
      "metadata": {
        "colab": {
          "base_uri": "https://localhost:8080/"
        },
        "id": "q3wglnnTZCev",
        "outputId": "61374255-2894-4211-dfc9-80e41b52f5f4"
      },
      "source": [
        "# Mi ejemplo\n",
        "\n",
        "# Cambiando contenido de una columna por valores booleanos\n",
        "empresas.loc[empresas['SUPERVISOR'] == 'SUPERFINANCIERA', \"SUPERVISOR\"] = True\n",
        "empresas.loc[empresas['SUPERVISOR'] == 'SUPERSOCIEDADES', \"SUPERVISOR\"] = False\n",
        "empresas.loc[empresas['SUPERVISOR'] == 'SUPERSERVICIOS', \"SUPERVISOR\"] = True\n",
        "empresas.loc[empresas['SUPERVISOR'] == 'SUPERSALUD', \"SUPERVISOR\"] = True\n",
        "empresas.SUPERVISOR = empresas.SUPERVISOR.astype(bool)\n",
        "empresas.dtypes"
      ],
      "execution_count": null,
      "outputs": [
        {
          "output_type": "execute_result",
          "data": {
            "text/plain": [
              "NIT                                int64\n",
              "RAZON SOCIAL                      object\n",
              "SUPERVISOR                          bool\n",
              "REGIÓN                            object\n",
              "DEPARTAMENTO DOMICILIO            object\n",
              "CIUDAD DOMICILIO                  object\n",
              "CIIU                              object\n",
              "MACROSECTOR                       object\n",
              "INGRESOS OPERACIONALES\\n2018*    float64\n",
              "GANANCIA (PERDIDA) 2018          float64\n",
              "TOTAL ACTIVOS 2018               float64\n",
              "TOTAL PASIVOS 2018               float64\n",
              "TOTAL PATRIMONIO 2018            float64\n",
              "INGRESOS OPERACIONALES\\n2017*    float64\n",
              "GANANCIA (PERDIDA) 2017          float64\n",
              "TOTAL ACTIVOS 2017               float64\n",
              "TOTAL PASIVOS 2017               float64\n",
              "TOTAL PATRIMONIO 2017            float64\n",
              "GRUPO EN NIIF                     object\n",
              "dtype: object"
            ]
          },
          "metadata": {
            "tags": []
          },
          "execution_count": 466
        }
      ]
    },
    {
      "cell_type": "code",
      "metadata": {
        "colab": {
          "base_uri": "https://localhost:8080/",
          "height": 544
        },
        "id": "mg4kg-jon2UZ",
        "outputId": "dae18d18-454d-4949-a677-8a5c83a2e163"
      },
      "source": [
        "empresas.head()"
      ],
      "execution_count": null,
      "outputs": [
        {
          "output_type": "execute_result",
          "data": {
            "text/html": [
              "<div>\n",
              "<style scoped>\n",
              "    .dataframe tbody tr th:only-of-type {\n",
              "        vertical-align: middle;\n",
              "    }\n",
              "\n",
              "    .dataframe tbody tr th {\n",
              "        vertical-align: top;\n",
              "    }\n",
              "\n",
              "    .dataframe thead th {\n",
              "        text-align: right;\n",
              "    }\n",
              "</style>\n",
              "<table border=\"1\" class=\"dataframe\">\n",
              "  <thead>\n",
              "    <tr style=\"text-align: right;\">\n",
              "      <th></th>\n",
              "      <th>NIT</th>\n",
              "      <th>RAZON SOCIAL</th>\n",
              "      <th>SUPERVISOR</th>\n",
              "      <th>REGIÓN</th>\n",
              "      <th>DEPARTAMENTO DOMICILIO</th>\n",
              "      <th>CIUDAD DOMICILIO</th>\n",
              "      <th>CIIU</th>\n",
              "      <th>MACROSECTOR</th>\n",
              "      <th>INGRESOS OPERACIONALES\\n2018*</th>\n",
              "      <th>GANANCIA (PERDIDA) 2018</th>\n",
              "      <th>TOTAL ACTIVOS 2018</th>\n",
              "      <th>TOTAL PASIVOS 2018</th>\n",
              "      <th>TOTAL PATRIMONIO 2018</th>\n",
              "      <th>INGRESOS OPERACIONALES\\n2017*</th>\n",
              "      <th>GANANCIA (PERDIDA) 2017</th>\n",
              "      <th>TOTAL ACTIVOS 2017</th>\n",
              "      <th>TOTAL PASIVOS 2017</th>\n",
              "      <th>TOTAL PATRIMONIO 2017</th>\n",
              "      <th>GRUPO EN NIIF</th>\n",
              "    </tr>\n",
              "    <tr>\n",
              "      <th>No.</th>\n",
              "      <th></th>\n",
              "      <th></th>\n",
              "      <th></th>\n",
              "      <th></th>\n",
              "      <th></th>\n",
              "      <th></th>\n",
              "      <th></th>\n",
              "      <th></th>\n",
              "      <th></th>\n",
              "      <th></th>\n",
              "      <th></th>\n",
              "      <th></th>\n",
              "      <th></th>\n",
              "      <th></th>\n",
              "      <th></th>\n",
              "      <th></th>\n",
              "      <th></th>\n",
              "      <th></th>\n",
              "      <th></th>\n",
              "    </tr>\n",
              "  </thead>\n",
              "  <tbody>\n",
              "    <tr>\n",
              "      <th>1</th>\n",
              "      <td>899999068</td>\n",
              "      <td>ECOPETROL S.A</td>\n",
              "      <td>True</td>\n",
              "      <td>Bogotá - Cundinamarca</td>\n",
              "      <td>BOGOTA D.C.</td>\n",
              "      <td>BOGOTA-D.C.-BOGOTA D.C.</td>\n",
              "      <td>B0610 - Extracción de petróleo crudo</td>\n",
              "      <td>MINERO-HIDROCARBUROS</td>\n",
              "      <td>6.257985e+10</td>\n",
              "      <td>1.155640e+10</td>\n",
              "      <td>1.137618e+11</td>\n",
              "      <td>5.654822e+10</td>\n",
              "      <td>5.721361e+10</td>\n",
              "      <td>4.968708e+10</td>\n",
              "      <td>6.620412e+09</td>\n",
              "      <td>1.075490e+11</td>\n",
              "      <td>5.965040e+10</td>\n",
              "      <td>4.789863e+10</td>\n",
              "      <td>NIIF PLENAS-GRUPO 1</td>\n",
              "    </tr>\n",
              "    <tr>\n",
              "      <th>2</th>\n",
              "      <td>830095213</td>\n",
              "      <td>ORGANIZACIÓN TERPEL S.A.</td>\n",
              "      <td>True</td>\n",
              "      <td>Bogotá - Cundinamarca</td>\n",
              "      <td>BOGOTA D.C.</td>\n",
              "      <td>BOGOTA-D.C.-BOGOTA D.C.</td>\n",
              "      <td>G4661 - Comercio al por mayor de combustibles ...</td>\n",
              "      <td>COMERCIO</td>\n",
              "      <td>1.487944e+10</td>\n",
              "      <td>1.337414e+08</td>\n",
              "      <td>5.488096e+09</td>\n",
              "      <td>3.525498e+09</td>\n",
              "      <td>1.962597e+09</td>\n",
              "      <td>1.249326e+10</td>\n",
              "      <td>1.952812e+08</td>\n",
              "      <td>3.863475e+09</td>\n",
              "      <td>2.186212e+09</td>\n",
              "      <td>1.677263e+09</td>\n",
              "      <td>NIIF PLENAS-GRUPO 1</td>\n",
              "    </tr>\n",
              "    <tr>\n",
              "      <th>3</th>\n",
              "      <td>900112515</td>\n",
              "      <td>REFINERIA DE CARTAGENA S.A.S.</td>\n",
              "      <td>False</td>\n",
              "      <td>Costa Atlántica</td>\n",
              "      <td>BOLIVAR</td>\n",
              "      <td>CARTAGENA-BOLIVAR</td>\n",
              "      <td>C1921 - Fabricación de productos de la refinac...</td>\n",
              "      <td>MANUFACTURA</td>\n",
              "      <td>1.291943e+10</td>\n",
              "      <td>-8.024497e+08</td>\n",
              "      <td>2.788179e+10</td>\n",
              "      <td>9.121544e+09</td>\n",
              "      <td>1.876025e+10</td>\n",
              "      <td>9.150339e+09</td>\n",
              "      <td>4.809466e+07</td>\n",
              "      <td>2.677963e+10</td>\n",
              "      <td>8.612363e+09</td>\n",
              "      <td>1.816726e+10</td>\n",
              "      <td>NIIF PLENAS-GRUPO 1</td>\n",
              "    </tr>\n",
              "    <tr>\n",
              "      <th>4</th>\n",
              "      <td>890900608</td>\n",
              "      <td>ALMACENES EXITO S A</td>\n",
              "      <td>True</td>\n",
              "      <td>Antioquia</td>\n",
              "      <td>ANTIOQUIA</td>\n",
              "      <td>ENVIGADO-ANTIOQUIA</td>\n",
              "      <td>G4711 - Comercio al por menor en establecimien...</td>\n",
              "      <td>COMERCIO</td>\n",
              "      <td>1.144449e+10</td>\n",
              "      <td>2.794030e+08</td>\n",
              "      <td>1.566335e+10</td>\n",
              "      <td>8.013609e+09</td>\n",
              "      <td>7.649740e+09</td>\n",
              "      <td>1.125092e+10</td>\n",
              "      <td>2.177130e+08</td>\n",
              "      <td>1.596270e+10</td>\n",
              "      <td>8.123134e+09</td>\n",
              "      <td>7.839568e+09</td>\n",
              "      <td>NIIF PLENAS-GRUPO 1</td>\n",
              "    </tr>\n",
              "    <tr>\n",
              "      <th>5</th>\n",
              "      <td>890904996</td>\n",
              "      <td>EMPRESAS PÚBLICAS DE MEDELLÍN ESP</td>\n",
              "      <td>True</td>\n",
              "      <td>Antioquia</td>\n",
              "      <td>ANTIOQUIA</td>\n",
              "      <td>MEDELLIN-ANTIOQUIA</td>\n",
              "      <td>D3513- Dsitribución de energía electrica</td>\n",
              "      <td>SERVICIOS</td>\n",
              "      <td>8.966811e+09</td>\n",
              "      <td>2.344822e+09</td>\n",
              "      <td>4.559554e+10</td>\n",
              "      <td>2.299022e+10</td>\n",
              "      <td>2.260532e+10</td>\n",
              "      <td>7.927149e+09</td>\n",
              "      <td>2.188189e+09</td>\n",
              "      <td>3.958096e+10</td>\n",
              "      <td>1.808298e+10</td>\n",
              "      <td>2.149798e+10</td>\n",
              "      <td>NIIF PLENAS-GRUPO 1</td>\n",
              "    </tr>\n",
              "  </tbody>\n",
              "</table>\n",
              "</div>"
            ],
            "text/plain": [
              "           NIT  ...        GRUPO EN NIIF\n",
              "No.             ...                     \n",
              "1    899999068  ...  NIIF PLENAS-GRUPO 1\n",
              "2    830095213  ...  NIIF PLENAS-GRUPO 1\n",
              "3    900112515  ...  NIIF PLENAS-GRUPO 1\n",
              "4    890900608  ...  NIIF PLENAS-GRUPO 1\n",
              "5    890904996  ...  NIIF PLENAS-GRUPO 1\n",
              "\n",
              "[5 rows x 19 columns]"
            ]
          },
          "metadata": {
            "tags": []
          },
          "execution_count": 467
        }
      ]
    },
    {
      "cell_type": "code",
      "metadata": {
        "id": "qZlmCMO8GMiF"
      },
      "source": [
        "# Mi ejemplo funciones\n",
        "def pat(group):\n",
        "\n",
        "    if len(group.columns) != 2:\n",
        "      return pd.Series(index=group.index, data= 0.0)\n",
        "    \n",
        "    supervisor = group.columns.get_level_values('SUPERVISOR').values.astype(bool)\n",
        "    activos = group.loc[:, supervisor].squeeze()\n",
        "    pasivos = group.loc[:, ~supervisor].squeeze()\n",
        "    diff = activos - pasivos\n",
        "    return diff\n",
        "\n",
        "def pat_by_region(df):\n",
        "    \"\"\"What's the difference between the price of an organic \n",
        "    and non-organic avocado within each region?\n",
        "    \"\"\"\n",
        "    return (\n",
        "        df\n",
        "        .set_index(['INGRESOS OPERACIONALES\\n2018*', 'REGIÓN', 'SUPERVISOR'])\n",
        "         ['GANANCIA (PERDIDA) 2018']\n",
        "        .unstack(level=['REGIÓN', 'SUPERVISOR'])\n",
        "        .ffill()\n",
        "        .groupby(level='REGIÓN', axis=1)\n",
        "        .apply(pat)\n",
        "    )"
      ],
      "execution_count": null,
      "outputs": []
    },
    {
      "cell_type": "code",
      "metadata": {
        "colab": {
          "base_uri": "https://localhost:8080/",
          "height": 307
        },
        "id": "LQ-ihGydI5vG",
        "outputId": "9c2bf132-33e2-4bd9-9771-6965a0323138"
      },
      "source": [
        "# Mi ejemplo\n",
        "import matplotlib.pyplot as plt\n",
        "\n",
        "pat_by_region(comparacion).plot();\n",
        "plt.gca().set_title(\"Daily Regional Organic Spread\");\n",
        "plt.legend(bbox_to_anchor=(1, 1));"
      ],
      "execution_count": null,
      "outputs": [
        {
          "output_type": "display_data",
          "data": {
            "image/png": "[encoded data removed]",
            "text/plain": [
              "<Figure size 432x288 with 1 Axes>"
            ]
          },
          "metadata": {
            "tags": [],
            "needs_background": "light"
          }
        }
      ]
    },
    {
      "cell_type": "code",
      "metadata": {
        "id": "CfS9ckHGS3EL",
        "colab": {
          "base_uri": "https://localhost:8080/",
          "height": 359
        },
        "outputId": "97e4c0d3-c4e8-43ca-ce18-b9476aa2b700"
      },
      "source": [
        "spread_correlation = organic_spread_by_region(hass).corr()\n",
        "spread_correlation"
      ],
      "execution_count": null,
      "outputs": [
        {
          "output_type": "execute_result",
          "data": {
            "text/html": [
              "<div>\n",
              "<style scoped>\n",
              "    .dataframe tbody tr th:only-of-type {\n",
              "        vertical-align: middle;\n",
              "    }\n",
              "\n",
              "    .dataframe tbody tr th {\n",
              "        vertical-align: top;\n",
              "    }\n",
              "\n",
              "    .dataframe thead th {\n",
              "        text-align: right;\n",
              "    }\n",
              "</style>\n",
              "<table border=\"1\" class=\"dataframe\">\n",
              "  <thead>\n",
              "    <tr style=\"text-align: right;\">\n",
              "      <th>Region</th>\n",
              "      <th>ALASKA</th>\n",
              "      <th>HAWAII</th>\n",
              "      <th>MIDWEST</th>\n",
              "      <th>NATIONAL</th>\n",
              "      <th>NORTHEAST</th>\n",
              "      <th>NORTHWEST</th>\n",
              "      <th>SOUTHEAST</th>\n",
              "      <th>SOUTHWEST</th>\n",
              "      <th>SOUTH_CENTRAL</th>\n",
              "    </tr>\n",
              "    <tr>\n",
              "      <th>Region</th>\n",
              "      <th></th>\n",
              "      <th></th>\n",
              "      <th></th>\n",
              "      <th></th>\n",
              "      <th></th>\n",
              "      <th></th>\n",
              "      <th></th>\n",
              "      <th></th>\n",
              "      <th></th>\n",
              "    </tr>\n",
              "  </thead>\n",
              "  <tbody>\n",
              "    <tr>\n",
              "      <th>ALASKA</th>\n",
              "      <td>1.000000</td>\n",
              "      <td>0.202723</td>\n",
              "      <td>0.175251</td>\n",
              "      <td>0.007844</td>\n",
              "      <td>0.051049</td>\n",
              "      <td>0.087575</td>\n",
              "      <td>0.129079</td>\n",
              "      <td>-0.070868</td>\n",
              "      <td>0.161624</td>\n",
              "    </tr>\n",
              "    <tr>\n",
              "      <th>HAWAII</th>\n",
              "      <td>0.202723</td>\n",
              "      <td>1.000000</td>\n",
              "      <td>-0.021116</td>\n",
              "      <td>0.373914</td>\n",
              "      <td>0.247171</td>\n",
              "      <td>0.341155</td>\n",
              "      <td>0.019388</td>\n",
              "      <td>0.159192</td>\n",
              "      <td>0.092632</td>\n",
              "    </tr>\n",
              "    <tr>\n",
              "      <th>MIDWEST</th>\n",
              "      <td>0.175251</td>\n",
              "      <td>-0.021116</td>\n",
              "      <td>1.000000</td>\n",
              "      <td>0.062595</td>\n",
              "      <td>-0.010213</td>\n",
              "      <td>-0.043783</td>\n",
              "      <td>0.047437</td>\n",
              "      <td>-0.059128</td>\n",
              "      <td>0.068902</td>\n",
              "    </tr>\n",
              "    <tr>\n",
              "      <th>NATIONAL</th>\n",
              "      <td>0.007844</td>\n",
              "      <td>0.373914</td>\n",
              "      <td>0.062595</td>\n",
              "      <td>1.000000</td>\n",
              "      <td>0.502035</td>\n",
              "      <td>0.579102</td>\n",
              "      <td>-0.040539</td>\n",
              "      <td>0.635006</td>\n",
              "      <td>0.486524</td>\n",
              "    </tr>\n",
              "    <tr>\n",
              "      <th>NORTHEAST</th>\n",
              "      <td>0.051049</td>\n",
              "      <td>0.247171</td>\n",
              "      <td>-0.010213</td>\n",
              "      <td>0.502035</td>\n",
              "      <td>1.000000</td>\n",
              "      <td>0.242039</td>\n",
              "      <td>-0.236225</td>\n",
              "      <td>0.360389</td>\n",
              "      <td>0.149881</td>\n",
              "    </tr>\n",
              "    <tr>\n",
              "      <th>NORTHWEST</th>\n",
              "      <td>0.087575</td>\n",
              "      <td>0.341155</td>\n",
              "      <td>-0.043783</td>\n",
              "      <td>0.579102</td>\n",
              "      <td>0.242039</td>\n",
              "      <td>1.000000</td>\n",
              "      <td>-0.032306</td>\n",
              "      <td>0.165992</td>\n",
              "      <td>0.349935</td>\n",
              "    </tr>\n",
              "    <tr>\n",
              "      <th>SOUTHEAST</th>\n",
              "      <td>0.129079</td>\n",
              "      <td>0.019388</td>\n",
              "      <td>0.047437</td>\n",
              "      <td>-0.040539</td>\n",
              "      <td>-0.236225</td>\n",
              "      <td>-0.032306</td>\n",
              "      <td>1.000000</td>\n",
              "      <td>-0.167631</td>\n",
              "      <td>-0.021176</td>\n",
              "    </tr>\n",
              "    <tr>\n",
              "      <th>SOUTHWEST</th>\n",
              "      <td>-0.070868</td>\n",
              "      <td>0.159192</td>\n",
              "      <td>-0.059128</td>\n",
              "      <td>0.635006</td>\n",
              "      <td>0.360389</td>\n",
              "      <td>0.165992</td>\n",
              "      <td>-0.167631</td>\n",
              "      <td>1.000000</td>\n",
              "      <td>0.254504</td>\n",
              "    </tr>\n",
              "    <tr>\n",
              "      <th>SOUTH_CENTRAL</th>\n",
              "      <td>0.161624</td>\n",
              "      <td>0.092632</td>\n",
              "      <td>0.068902</td>\n",
              "      <td>0.486524</td>\n",
              "      <td>0.149881</td>\n",
              "      <td>0.349935</td>\n",
              "      <td>-0.021176</td>\n",
              "      <td>0.254504</td>\n",
              "      <td>1.000000</td>\n",
              "    </tr>\n",
              "  </tbody>\n",
              "</table>\n",
              "</div>"
            ],
            "text/plain": [
              "Region           ALASKA    HAWAII  ...  SOUTHWEST  SOUTH_CENTRAL\n",
              "Region                             ...                          \n",
              "ALASKA         1.000000  0.202723  ...  -0.070868       0.161624\n",
              "HAWAII         0.202723  1.000000  ...   0.159192       0.092632\n",
              "MIDWEST        0.175251 -0.021116  ...  -0.059128       0.068902\n",
              "NATIONAL       0.007844  0.373914  ...   0.635006       0.486524\n",
              "NORTHEAST      0.051049  0.247171  ...   0.360389       0.149881\n",
              "NORTHWEST      0.087575  0.341155  ...   0.165992       0.349935\n",
              "SOUTHEAST      0.129079  0.019388  ...  -0.167631      -0.021176\n",
              "SOUTHWEST     -0.070868  0.159192  ...   1.000000       0.254504\n",
              "SOUTH_CENTRAL  0.161624  0.092632  ...   0.254504       1.000000\n",
              "\n",
              "[9 rows x 9 columns]"
            ]
          },
          "metadata": {
            "tags": []
          },
          "execution_count": 372
        }
      ]
    },
    {
      "cell_type": "code",
      "metadata": {
        "colab": {
          "base_uri": "https://localhost:8080/",
          "height": 297
        },
        "id": "B1ijMRbZKC5Y",
        "outputId": "fcddafb6-2ec9-464c-d8d8-25f58e7c9c8b"
      },
      "source": [
        "# Mi ejemplo\n",
        "spread_correlation1 = pat_by_region(comparacion).corr().fillna(0.0)\n",
        "spread_correlation1"
      ],
      "execution_count": null,
      "outputs": [
        {
          "output_type": "execute_result",
          "data": {
            "text/html": [
              "<div>\n",
              "<style scoped>\n",
              "    .dataframe tbody tr th:only-of-type {\n",
              "        vertical-align: middle;\n",
              "    }\n",
              "\n",
              "    .dataframe tbody tr th {\n",
              "        vertical-align: top;\n",
              "    }\n",
              "\n",
              "    .dataframe thead th {\n",
              "        text-align: right;\n",
              "    }\n",
              "</style>\n",
              "<table border=\"1\" class=\"dataframe\">\n",
              "  <thead>\n",
              "    <tr style=\"text-align: right;\">\n",
              "      <th>REGIÓN</th>\n",
              "      <th>Antioquia</th>\n",
              "      <th>Bogotá - Cundinamarca</th>\n",
              "      <th>Centro - Oriente</th>\n",
              "      <th>Costa Atlántica</th>\n",
              "      <th>Costa Pacífica</th>\n",
              "      <th>Eje Cafetero</th>\n",
              "      <th>Otros</th>\n",
              "    </tr>\n",
              "    <tr>\n",
              "      <th>REGIÓN</th>\n",
              "      <th></th>\n",
              "      <th></th>\n",
              "      <th></th>\n",
              "      <th></th>\n",
              "      <th></th>\n",
              "      <th></th>\n",
              "      <th></th>\n",
              "    </tr>\n",
              "  </thead>\n",
              "  <tbody>\n",
              "    <tr>\n",
              "      <th>Antioquia</th>\n",
              "      <td>1.000000</td>\n",
              "      <td>0.137691</td>\n",
              "      <td>0.370875</td>\n",
              "      <td>0.318089</td>\n",
              "      <td>-0.031189</td>\n",
              "      <td>0.0</td>\n",
              "      <td>0.0</td>\n",
              "    </tr>\n",
              "    <tr>\n",
              "      <th>Bogotá - Cundinamarca</th>\n",
              "      <td>0.137691</td>\n",
              "      <td>1.000000</td>\n",
              "      <td>-0.312169</td>\n",
              "      <td>-0.197871</td>\n",
              "      <td>-0.138941</td>\n",
              "      <td>0.0</td>\n",
              "      <td>0.0</td>\n",
              "    </tr>\n",
              "    <tr>\n",
              "      <th>Centro - Oriente</th>\n",
              "      <td>0.370875</td>\n",
              "      <td>-0.312169</td>\n",
              "      <td>1.000000</td>\n",
              "      <td>0.080130</td>\n",
              "      <td>0.095521</td>\n",
              "      <td>0.0</td>\n",
              "      <td>0.0</td>\n",
              "    </tr>\n",
              "    <tr>\n",
              "      <th>Costa Atlántica</th>\n",
              "      <td>0.318089</td>\n",
              "      <td>-0.197871</td>\n",
              "      <td>0.080130</td>\n",
              "      <td>1.000000</td>\n",
              "      <td>0.278853</td>\n",
              "      <td>0.0</td>\n",
              "      <td>0.0</td>\n",
              "    </tr>\n",
              "    <tr>\n",
              "      <th>Costa Pacífica</th>\n",
              "      <td>-0.031189</td>\n",
              "      <td>-0.138941</td>\n",
              "      <td>0.095521</td>\n",
              "      <td>0.278853</td>\n",
              "      <td>1.000000</td>\n",
              "      <td>0.0</td>\n",
              "      <td>0.0</td>\n",
              "    </tr>\n",
              "    <tr>\n",
              "      <th>Eje Cafetero</th>\n",
              "      <td>0.000000</td>\n",
              "      <td>0.000000</td>\n",
              "      <td>0.000000</td>\n",
              "      <td>0.000000</td>\n",
              "      <td>0.000000</td>\n",
              "      <td>0.0</td>\n",
              "      <td>0.0</td>\n",
              "    </tr>\n",
              "    <tr>\n",
              "      <th>Otros</th>\n",
              "      <td>0.000000</td>\n",
              "      <td>0.000000</td>\n",
              "      <td>0.000000</td>\n",
              "      <td>0.000000</td>\n",
              "      <td>0.000000</td>\n",
              "      <td>0.0</td>\n",
              "      <td>0.0</td>\n",
              "    </tr>\n",
              "  </tbody>\n",
              "</table>\n",
              "</div>"
            ],
            "text/plain": [
              "REGIÓN                 Antioquia  Bogotá - Cundinamarca  ...  Eje Cafetero  Otros\n",
              "REGIÓN                                                   ...                     \n",
              "Antioquia               1.000000               0.137691  ...           0.0    0.0\n",
              "Bogotá - Cundinamarca   0.137691               1.000000  ...           0.0    0.0\n",
              "Centro - Oriente        0.370875              -0.312169  ...           0.0    0.0\n",
              "Costa Atlántica         0.318089              -0.197871  ...           0.0    0.0\n",
              "Costa Pacífica         -0.031189              -0.138941  ...           0.0    0.0\n",
              "Eje Cafetero            0.000000               0.000000  ...           0.0    0.0\n",
              "Otros                   0.000000               0.000000  ...           0.0    0.0\n",
              "\n",
              "[7 rows x 7 columns]"
            ]
          },
          "metadata": {
            "tags": []
          },
          "execution_count": 472
        }
      ]
    },
    {
      "cell_type": "code",
      "metadata": {
        "id": "u1Hr7t_9S3EL",
        "colab": {
          "base_uri": "https://localhost:8080/",
          "height": 712
        },
        "outputId": "f6d9b2c3-1781-4771-9742-2adb37ec241d"
      },
      "source": [
        "import seaborn as sns\n",
        "grid = sns.clustermap(spread_correlation, annot=True)\n",
        "fig = grid.fig\n",
        "axes = fig.axes\n",
        "ax = axes[2]\n",
        "ax.set_xticklabels(ax.get_xticklabels(), rotation=45);"
      ],
      "execution_count": null,
      "outputs": [
        {
          "output_type": "display_data",
          "data": {
            "image/png": "[encoded data removed]",
            "text/plain": [
              "<Figure size 720x720 with 4 Axes>"
            ]
          },
          "metadata": {
            "tags": [],
            "needs_background": "light"
          }
        }
      ]
    },
    {
      "cell_type": "code",
      "metadata": {
        "colab": {
          "base_uri": "https://localhost:8080/",
          "height": 703
        },
        "id": "KIIeFaAHfZX6",
        "outputId": "4a0851c2-f59a-4a68-af83-db2789e21bc1"
      },
      "source": [
        "# Mi ejemplo\n",
        "import seaborn as sns\n",
        "\n",
        "grid1 = sns.clustermap(spread_correlation1, annot=True)\n",
        "fig1 = grid1.fig\n",
        "axes1 = fig1.axes\n",
        "ax1 = axes1[2]\n",
        "ax1.set_xticklabels(ax1.get_xticklabels(), rotation=45);"
      ],
      "execution_count": null,
      "outputs": [
        {
          "output_type": "display_data",
          "data": {
            "image/png": "[encoded data removed]",
            "text/plain": [
              "<Figure size 720x720 with 4 Axes>"
            ]
          },
          "metadata": {
            "tags": [],
            "needs_background": "light"
          }
        }
      ]
    },
    {
      "cell_type": "markdown",
      "metadata": {
        "id": "_cRXPsSjS3EM"
      },
      "source": [
        "# Pandas Review\n",
        "\n",
        "- Pandas extends numpy with more complex datastructures and algorithms.\n",
        "- If you understand numpy, you understand 90% of pandas.\n",
        "- `groupby`, `set_index`, and `unstack` are powerful tools for working with categorical data.\n",
        "- Avocado prices are surprisingly interesting :)"
      ]
    },
    {
      "cell_type": "markdown",
      "metadata": {
        "id": "eD9xScsOS3EM"
      },
      "source": [
        "# Thanks!"
      ]
    }
  ]
}