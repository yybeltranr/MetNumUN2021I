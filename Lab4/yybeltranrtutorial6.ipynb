{
  "nbformat": 4,
  "nbformat_minor": 0,
  "metadata": {
    "colab": {
      "name": "Tutorial 6 Rate of Return, Mean and Variance.ipynb",
      "provenance": [],
      "collapsed_sections": [],
      "authorship_tag": "ABX9TyMx57ODl5Qs12MPvGxQIliI"
    },
    "kernelspec": {
      "name": "python3",
      "display_name": "Python 3"
    },
    "language_info": {
      "name": "python"
    }
  },
  "cells": [
    {
      "cell_type": "markdown",
      "metadata": {
        "id": "V2Cmg2xcRmNf"
      },
      "source": [
        "# **Introduction to Financial Python**"
      ]
    },
    {
      "cell_type": "markdown",
      "metadata": {
        "id": "DZa-ZmRNRqE8"
      },
      "source": [
        "## Rate of Return, Mean and Variance"
      ]
    },
    {
      "cell_type": "markdown",
      "metadata": {
        "id": "p1g4s9dcRt20"
      },
      "source": [
        "### **Introduction**"
      ]
    },
    {
      "cell_type": "markdown",
      "metadata": {
        "id": "zULdex_zRwTU"
      },
      "source": [
        "In this chapter we are going to introduce some basic concepts in quantitative finance. We start with rate of return, mean and variance. You may think it's simple to calculate these values, however, there are number of different methods to calculate them. It's important to choose the appropriate calculation methods case by case."
      ]
    },
    {
      "cell_type": "markdown",
      "metadata": {
        "id": "dlyVgyExRxzc"
      },
      "source": [
        "### **Rate of Return**"
      ]
    },
    {
      "cell_type": "markdown",
      "metadata": {
        "id": "tMGap2azR0tF"
      },
      "source": [
        "**Single-period Return**\n",
        "\n",
        "The single-period rate of return can be calculated as following:\n",
        "\n",
        "$$ r = \\frac{p_{t}}{p_{0}} - 1 = \\frac{p_{t} - p_{0}}{p_{0}} $$\n",
        "\n",
        "Where r is the rate of return, pt is the asset price at time t, and p0 is the asset price at time 0."
      ]
    },
    {
      "cell_type": "code",
      "metadata": {
        "colab": {
          "base_uri": "https://localhost:8080/"
        },
        "id": "CzQ2eOrLRiC3",
        "outputId": "899623f1-d736-4448-e263-c5da9e6b5c01"
      },
      "source": [
        "import numpy as np\n",
        "rate_return = 102.0/100 - 1\n",
        "print (rate_return)"
      ],
      "execution_count": null,
      "outputs": [
        {
          "output_type": "stream",
          "text": [
            "0.020000000000000018\n"
          ],
          "name": "stdout"
        }
      ]
    },
    {
      "cell_type": "markdown",
      "metadata": {
        "id": "mXSZQwInSuKu"
      },
      "source": [
        "Let's say we bought a stock at $\\$ 100$, and half a year later it will grow to $\\$ 102$. A year later the price will come to $\\$ 104$. How to calculate our total return? Well, we can either deem it as a single-period:\n",
        "\n",
        "$$ r = \\frac{104}{100} - 1 = 0.04 $$\n",
        "\n",
        "or as a two-stage period:\n",
        "\n",
        "$$ r = \\left ( 1 + r_{1} \\right )\\ast \\left ( 1 + r_{2} \\right ) - 1 = \\frac{102}{100}\\ast \\frac{104}{102} - 1 = 0.04 $$\n",
        "\n",
        "Here we make calculations twice a year. It's called semi-annual compounding. How about quarterly compounding? Let's assume the stock prices at the end of each quarter are $p_{1},p_{2},p_{3},p_{4}$ respectively.\n",
        "\n",
        "$$ r = \\left ( 1 + r_{1} \\right )\\ast \\left ( 1 + r_{2} \\right ) \\ast \\left ( 1 + r_{3} \\right )\\ast \\left ( 1 + r_{4} \\right ) - 1 $$\n",
        "\n",
        "The rate of return we calculate here is called **cumulative return** or **overall return**. It measures the total return of this asset over a period of time.\n",
        "\n",
        "Now consider the following situation: we have two strategies: strategy A and strategy B. We backtested strategy A for 1 years and the cumulative return is 20%, while we backtested strategy B for 3 months(one quarter) and the cumulative return is 6%. Which strategy has a high rate of return? Our commonly used method is to convert all the returns into **compounding annual return**, regardless of the investing horizon of each strategy. We can compare the returns of strategies with different time horizon now. Since there are four quarters in a year,the annual return of strategy B is\n",
        "\n",
        "\\begin{gather*} \n",
        "\\left ( 1+0.06 \\right )^{2} = 1 + r \\\\\n",
        "r = 0.262 \n",
        "\\end{gather*}\n",
        "\n",
        "Strategy B has an higher compounding annual return when we compare 26% with 20%."
      ]
    },
    {
      "cell_type": "markdown",
      "metadata": {
        "id": "YKK5AP0dUGFe"
      },
      "source": [
        "**Logarithm Return**\n",
        "\n",
        "In the above example, strategy A has 6% return over three months. Nominally, the annual return would be 4*6% = 24%. This nominal annual interest rate is called the stated annual interest rate. It is calculated as the periodic interest rate times the number of periods per year. It works according to the simple interest and does not take into account the compounding periods, while the effective annual interest rate is 26% as we calculated above and it does account for intra-year compounding. The effective annual interest rate is an essential tool that allows the evaluation of the real return on investment. If we assume the number of compounding periods in one year is n, the formula to convert the stated annual interest rate to the effective annual interest rate is\n",
        "\n",
        "$$ r_{effective} = \\left ( 1 + \\frac{r_{effective}}{n} \\right )^{n} - 1 $$\n",
        "\n",
        "Now imagine the price of asset is changing every second or even every millisecond, the period of compounding n approaches infinite. This is called **continuous compounding**. The calculation formula is given below:\n",
        "\n",
        "$$ \\lim_{n \\to \\infty }\\left ( 1 + \\frac{r}{n} \\right )^{n} = e^{r} $$\n",
        "\n",
        "From the above limitation equation, we know that if we assume continuous compounding:\n",
        "\n",
        "$$ e^{r^{nominal}} = 1 + r_{effective} = \\frac{p_{t}}{p_{0}} $$\n",
        "\n",
        "Then we take **ln** on both side of the equation:\n",
        "\n",
        "$$ r_{nominal} = ln\\frac{p_{t}}{p_{0}} = lnp_{i} - lnp_{0} $$\n",
        "\n",
        "Here we got the **logarithmic return**, or **continuously compounded return**. This return is the nominal return with the interest compounding every millisecond. To see how it is close to effective interest rate, recall the equation above:\n",
        "\n",
        "$$ e^{r^{nominal}} = 1 + r_{effective} $$\n",
        "\n",
        "then we have\n",
        "\n",
        "$$ r_{effective} = e^{r^{nominal}} - 1 \\approx r_{nominal} $$\n",
        "\n",
        "where the second equality holds due to Taylor Expansion and the interest rate being small. This is frequently used when calculating returns, because once we take the logarithm of asset prices, we can calculate the logarithm return by simply doing a subtraction. Here we use Apple stock prices as an example:"
      ]
    },
    {
      "cell_type": "code",
      "metadata": {
        "colab": {
          "base_uri": "https://localhost:8080/"
        },
        "id": "5vbd8NdKXOTd",
        "outputId": "d6f60da3-4a6c-4992-fbf3-018540b49db7"
      },
      "source": [
        "!pip install quandl"
      ],
      "execution_count": null,
      "outputs": [
        {
          "output_type": "stream",
          "text": [
            "Collecting quandl\n",
            "  Downloading https://files.pythonhosted.org/packages/8b/2b/feefb36015beaecc5c0f9f2533e815b409621d9fa7b50b2aac621796f828/Quandl-3.6.1-py2.py3-none-any.whl\n",
            "Requirement already satisfied: more-itertools in /usr/local/lib/python3.7/dist-packages (from quandl) (8.7.0)\n",
            "Requirement already satisfied: requests>=2.7.0 in /usr/local/lib/python3.7/dist-packages (from quandl) (2.23.0)\n",
            "Collecting inflection>=0.3.1\n",
            "  Downloading https://files.pythonhosted.org/packages/59/91/aa6bde563e0085a02a435aa99b49ef75b0a4b062635e606dab23ce18d720/inflection-0.5.1-py2.py3-none-any.whl\n",
            "Requirement already satisfied: six in /usr/local/lib/python3.7/dist-packages (from quandl) (1.15.0)\n",
            "Requirement already satisfied: numpy>=1.8 in /usr/local/lib/python3.7/dist-packages (from quandl) (1.19.5)\n",
            "Requirement already satisfied: python-dateutil in /usr/local/lib/python3.7/dist-packages (from quandl) (2.8.1)\n",
            "Requirement already satisfied: pandas>=0.14 in /usr/local/lib/python3.7/dist-packages (from quandl) (1.1.5)\n",
            "Requirement already satisfied: chardet<4,>=3.0.2 in /usr/local/lib/python3.7/dist-packages (from requests>=2.7.0->quandl) (3.0.4)\n",
            "Requirement already satisfied: certifi>=2017.4.17 in /usr/local/lib/python3.7/dist-packages (from requests>=2.7.0->quandl) (2020.12.5)\n",
            "Requirement already satisfied: idna<3,>=2.5 in /usr/local/lib/python3.7/dist-packages (from requests>=2.7.0->quandl) (2.10)\n",
            "Requirement already satisfied: urllib3!=1.25.0,!=1.25.1,<1.26,>=1.21.1 in /usr/local/lib/python3.7/dist-packages (from requests>=2.7.0->quandl) (1.24.3)\n",
            "Requirement already satisfied: pytz>=2017.2 in /usr/local/lib/python3.7/dist-packages (from pandas>=0.14->quandl) (2018.9)\n",
            "Installing collected packages: inflection, quandl\n",
            "Successfully installed inflection-0.5.1 quandl-3.6.1\n"
          ],
          "name": "stdout"
        }
      ]
    },
    {
      "cell_type": "code",
      "metadata": {
        "colab": {
          "base_uri": "https://localhost:8080/"
        },
        "id": "nDTLXeCLW770",
        "outputId": "e4aeebfa-39aa-4e7d-f367-3194fd44eeab"
      },
      "source": [
        "import quandl\n",
        "import numpy as np\n",
        "import quandl\n",
        "quandl.ApiConfig.api_key = '6p5Vs8b-XNnwgNqrcTCs'\n",
        "#get quandl data\n",
        "aapl_table = quandl.get('WIKI/AAPL')\n",
        "aapl = aapl_table.loc['2017-3',['Open','Close']]\n",
        "#take log return\n",
        "aapl['log_price'] = np.log(aapl.Close)\n",
        "aapl['log_return'] = aapl['log_price'].diff()\n",
        "print (aapl)"
      ],
      "execution_count": null,
      "outputs": [
        {
          "output_type": "stream",
          "text": [
            "               Open   Close  log_price  log_return\n",
            "Date                                              \n",
            "2017-03-01  137.890  139.79   4.940141         NaN\n",
            "2017-03-02  140.000  138.96   4.934186   -0.005955\n",
            "2017-03-03  138.780  139.78   4.940070    0.005884\n",
            "2017-03-06  139.365  139.34   4.936917   -0.003153\n",
            "2017-03-07  139.060  139.52   4.938208    0.001291\n",
            "2017-03-08  138.950  139.00   4.934474   -0.003734\n",
            "2017-03-09  138.740  138.68   4.932169   -0.002305\n",
            "2017-03-10  139.250  139.14   4.935481    0.003311\n",
            "2017-03-13  138.850  139.20   4.935912    0.000431\n",
            "2017-03-14  139.300  138.99   4.934402   -0.001510\n",
            "2017-03-15  139.410  140.46   4.944923    0.010521\n",
            "2017-03-16  140.720  140.69   4.946559    0.001636\n",
            "2017-03-17  141.000  139.99   4.941571   -0.004988\n",
            "2017-03-20  140.400  141.46   4.952017    0.010446\n",
            "2017-03-21  142.110  139.84   4.940499   -0.011518\n",
            "2017-03-22  139.845  141.42   4.951734    0.011235\n",
            "2017-03-23  141.260  140.92   4.948192   -0.003542\n",
            "2017-03-24  141.500  140.64   4.946203   -0.001989\n",
            "2017-03-27  139.390  140.88   4.947908    0.001705\n",
            "2017-03-28  140.910  143.80   4.968423    0.020515\n",
            "2017-03-29  143.680  144.12   4.970646    0.002223\n",
            "2017-03-30  144.190  143.93   4.969327   -0.001319\n",
            "2017-03-31  143.720  143.66   4.967449   -0.001878\n"
          ],
          "name": "stdout"
        }
      ]
    },
    {
      "cell_type": "markdown",
      "metadata": {
        "id": "JYz9K6zSXblv"
      },
      "source": [
        "Here we calculated the daily logarithmic return of Apple stock. Given that we know the daily logarithm return of in this month, we can calculate the monthly return by simply sum all the daily returns up."
      ]
    },
    {
      "cell_type": "code",
      "metadata": {
        "colab": {
          "base_uri": "https://localhost:8080/"
        },
        "id": "F1_NMfjJXeAV",
        "outputId": "64da0d3b-8024-4918-a61a-1c91e5edc597"
      },
      "source": [
        "month_return = aapl.log_return.sum()\n",
        "print (month_return)"
      ],
      "execution_count": null,
      "outputs": [
        {
          "output_type": "stream",
          "text": [
            "0.0273081001636184\n"
          ],
          "name": "stdout"
        }
      ]
    },
    {
      "cell_type": "markdown",
      "metadata": {
        "id": "19AbkBeoXhG3"
      },
      "source": [
        "It may sounds incorrect to sum up the daily returns, but we can prove that it's mathematically correct. Let's assume the stock prices in a period of time are represented by $p_{1},p_{2},p_{3},p_{4} \\cdot \\cdot \\cdot \\cdot \\cdot p_{n}$. Then the cumulative rate of return is given by:\n",
        "\n",
        "$$ 1 + r_{effective} \\approx 1 + r_{nominal} = ln\\frac{p_{t}}{p_{0}} = ln\\frac{p_{t}}{p_{t - 1}} + ln\\frac{p_{t - 1}}{p_{t - 2}} + \\cdot \\cdot \\cdot + ln\\frac{p_{1}}{p_{0}} $$\n",
        "\n",
        "According to the equation above, we can simple sum up each logarithmic return in a period to get the cumulative return. The convenience of this method is also one of the reasons why we use logarithmic return in quantitative finance."
      ]
    },
    {
      "cell_type": "markdown",
      "metadata": {
        "id": "i3fV6IMoZB1Y"
      },
      "source": [
        "### **Mean**"
      ]
    },
    {
      "cell_type": "markdown",
      "metadata": {
        "id": "qQ-TXuCTZFRz"
      },
      "source": [
        "**Arithmetic Mean**\n",
        "\n",
        "Mean is a measure of the central tendency of a data series. It capture the key character of the distribution of the data series. When we talk about mean, by default it refers to arithmetic mean. It's defined as the sum of the values divided by the number of observations:\n",
        "\n",
        "$$ \\mu = \\frac{\\sum_{i=1}^{n} x_{i}}{n} $$\n",
        "\n",
        "Where $\\left ( x_{1},x_{2},x_{3},\\cdot \\cdot \\cdot \\cdot \\cdot x_{n} \\right )$ is our data series.\n",
        "\n",
        "In python we can use NumPy.mean() to do the calculation:"
      ]
    },
    {
      "cell_type": "code",
      "metadata": {
        "colab": {
          "base_uri": "https://localhost:8080/"
        },
        "id": "9eQCK-kab2Ma",
        "outputId": "4859e48a-795e-4190-d549-ed1ea0951259"
      },
      "source": [
        "print (np.mean(aapl.log_price))"
      ],
      "execution_count": null,
      "outputs": [
        {
          "output_type": "stream",
          "text": [
            "4.94597446550658\n"
          ],
          "name": "stdout"
        }
      ]
    },
    {
      "cell_type": "markdown",
      "metadata": {
        "id": "r5Poqfpsb9TZ"
      },
      "source": [
        "**Geometric Mean**\n",
        "\n",
        "The geometric mean is an average that is useful for data series of positive numbers that are better interpreted according to their product, such as growth rate. It's calculated by:\n",
        "\n",
        "$$ \\bar{x} = \\sqrt[n]{x_{1}x_{2}x_{3}\\cdots x_ {n}} $$\n",
        "\n",
        "Let's calculate the geometric mean of a series of single-period return:\n",
        "\n",
        "\\begin{gather*} \n",
        " 1 + \\bar{r} = \\sqrt[t]{\\frac{p_{t}}{p_{t-1}} \\ast \\frac{p_{t-1}}{p_{t-2}} \\ast \\cdots \\ast  \\frac{p_{2}}{p_{1}} \\ast \\frac{p_{1}}{p_{0}}} \\\\\n",
        "\\left (1 + \\bar{r}  \\right ) = \\sqrt[t]{\\frac{p_{t}}{p_{0}}}\n",
        "\\end{gather*}\n",
        "\n",
        "Now the equation becomes the form which we are familiar with:\n",
        "\n",
        "$$ \\left (1 + \\bar{r}  \\right )^{t} = \\frac{p_{t}}{p_{0}} $$\n",
        "\n",
        "This is why we said it make sense when applied to growth rates."
      ]
    },
    {
      "cell_type": "markdown",
      "metadata": {
        "id": "ehFjRRjbeS51"
      },
      "source": [
        "### **Variance and Standard Deviation**"
      ]
    },
    {
      "cell_type": "markdown",
      "metadata": {
        "id": "WmJMjK9veXLi"
      },
      "source": [
        "**Variance**\n",
        "\n",
        "**Variance** is a measure of dispersion. In finance, most of the time variance is a synonym for risk. The higher the variance of an asset price is, the higher risk the asset bears. Variance is usually represented by σ2, and it's calculated by\n",
        "\n",
        "$$ \\sigma ^{2} = \\frac{\\sum_{i=1}^{n} \\left ( x_{i} - \\mu  \\right )^{2}}{n} $$\n",
        "\n",
        "In python we can use NumPy.var to calculate it:"
      ]
    },
    {
      "cell_type": "code",
      "metadata": {
        "colab": {
          "base_uri": "https://localhost:8080/"
        },
        "id": "UvsmwNGQe0_n",
        "outputId": "22a78e87-3c85-4ea8-eba5-dbc2e6316887"
      },
      "source": [
        "print (np.var(aapl.log_price))"
      ],
      "execution_count": null,
      "outputs": [
        {
          "output_type": "stream",
          "text": [
            "0.00014203280448152512\n"
          ],
          "name": "stdout"
        }
      ]
    },
    {
      "cell_type": "markdown",
      "metadata": {
        "id": "AMcYXrHfe4il"
      },
      "source": [
        "**Standard Deviation**\n",
        "\n",
        "The most commonly used measure of dispersion in finance is standard deviation. It's usually represented by σ. It's obvious to see the relation between standard deviation and variance:\n",
        "\n",
        "$$ \\sigma = \\sqrt{\\sigma ^{2}} = \\sqrt{\\frac{\\sum_{i=1}^{n} \\left ( x_{i} - \\mu  \\right )^{2}}{n}} $$\n",
        "\n",
        "NumPy also provides us a method to calculate standard deviation."
      ]
    },
    {
      "cell_type": "code",
      "metadata": {
        "colab": {
          "base_uri": "https://localhost:8080/"
        },
        "id": "DOyn7qy5fJEy",
        "outputId": "1e53960a-669b-4b2b-f6b6-ccb1e57869ed"
      },
      "source": [
        "print (np.std(aapl.log_price))"
      ],
      "execution_count": null,
      "outputs": [
        {
          "output_type": "stream",
          "text": [
            "0.011917751653794651\n"
          ],
          "name": "stdout"
        }
      ]
    },
    {
      "cell_type": "markdown",
      "metadata": {
        "id": "x1y5KjeafNdL"
      },
      "source": [
        "### **Summary**"
      ]
    },
    {
      "cell_type": "markdown",
      "metadata": {
        "id": "XXFwes4PfPMZ"
      },
      "source": [
        "We introduced different types of rate of return in this chapter, which could be a little bit tricky when we calculate them. Mean and standard deviation are also very important concepts when we conduct hypothesis test or measure the risk associated with a asset. We will use those concepts intensively in our later chapter."
      ]
    }
  ]
}