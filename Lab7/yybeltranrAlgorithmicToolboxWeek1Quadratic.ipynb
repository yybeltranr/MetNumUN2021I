{
  "nbformat": 4,
  "nbformat_minor": 0,
  "metadata": {
    "kernelspec": {
      "display_name": "Python 3",
      "language": "python",
      "name": "python3"
    },
    "language_info": {
      "codemirror_mode": {
        "name": "ipython",
        "version": 3
      },
      "file_extension": ".py",
      "mimetype": "text/x-python",
      "name": "python",
      "nbconvert_exporter": "python",
      "pygments_lexer": "ipython3",
      "version": "3.5.2"
    },
    "colab": {
      "name": "Coursera_week_1_quadratic.ipynb",
      "provenance": [],
      "collapsed_sections": []
    }
  },
  "cells": [
    {
      "cell_type": "markdown",
      "metadata": {
        "id": "2j4yANO8Yi2I"
      },
      "source": [
        "## Solve a quadratic equation, $x^2 + b x + c = 0$.\n",
        "\n",
        "\n",
        "Write a function which receives $b$ and $c$, the coefficients of a monic quadratic polynomial, $x^2 + b x + c$, and returns the pair of its roots. Your function should always return two values, even if quadratic has a double root.\n",
        "\n",
        "For example, given a quadratic $x^2 - 2x + 1$, your function should return a pair of $(1, 1)$. Of course, in floating point, your answers may differ from an exact unity.\n",
        "\n",
        "Your function also must correctly handle complex roots (to this end, you might need the `cmath` module from the standard library)."
      ]
    },
    {
      "cell_type": "code",
      "metadata": {
        "collapsed": true,
        "id": "ODpi5uCHYi2T"
      },
      "source": [
        "import math\n",
        "import cmath\n",
        "\n",
        "def solve_quad(b, c):\n",
        "  \"\"\"Solve a quadratic equation, x**2 + bx + c = 0.\n",
        "  \n",
        "  Parameters\n",
        "  ----------\n",
        "  b, c : float\n",
        "      Coefficients\n",
        "      \n",
        "  Returns\n",
        "  -------\n",
        "  x1, x2 : float or complex\n",
        "      Roots.\n",
        "  \"\"\"\n",
        "  # ... enter your code here ...\n",
        "  d = (b**2) - (4*c)\n",
        "  r_val = math.sqrt(abs(d))\n",
        "\n",
        "  if (d == b**2):\n",
        "    sol1 = -b\n",
        "    sol2 = c/sol1\n",
        "  elif (d >= 0):\n",
        "    sol1 = round((-b + r_val)/2, 4)\n",
        "    sol2 = round((-b - r_val)/2, 4)\n",
        "    #print('{} {}'.format(sol1, sol2))\n",
        "  else:\n",
        "    sol1 = complex(-b/2, r_val/2)\n",
        "    sol2 = complex(-b/2, -r_val/2)\n",
        "    #print('{} {}'.format(sol1, sol2))\n",
        "\n",
        "  return sol1, sol2"
      ],
      "execution_count": 77,
      "outputs": []
    },
    {
      "cell_type": "code",
      "metadata": {
        "colab": {
          "base_uri": "https://localhost:8080/"
        },
        "id": "WxSgS-_XaWNi",
        "outputId": "12a10d47-666b-4b81-e71d-0f346bc96ccb"
      },
      "source": [
        "# Ejemplos\n",
        "solve_quad(-3, 2)\n",
        "solve_quad(2, 1)\n",
        "solve_quad(5, 6)\n",
        "solve_quad(7, 4)\n",
        "solve_quad(7.4, 4.2)\n",
        "solve_quad(-2, 5)\n",
        "solve_quad(-1.0, 14.0)\n",
        "solve_quad(7, 3)"
      ],
      "execution_count": 59,
      "outputs": [
        {
          "output_type": "stream",
          "text": [
            "2.0 1.0\n",
            "-1.0 -1.0\n",
            "-2.0 -3.0\n",
            "-0.6277 -6.3723\n",
            "-0.6194 -6.7806\n",
            "(1+2j) (1-2j)\n",
            "(0.5+3.7080992435478315j) (0.5-3.7080992435478315j)\n",
            "-0.4586 -6.5414\n"
          ],
          "name": "stdout"
        },
        {
          "output_type": "execute_result",
          "data": {
            "text/plain": [
              "(0.4586, 6.5414)"
            ]
          },
          "metadata": {
            "tags": []
          },
          "execution_count": 59
        }
      ]
    },
    {
      "cell_type": "markdown",
      "metadata": {
        "id": "LAVT76sEYi2U"
      },
      "source": [
        "Test the your function on several examples against a calculation by hand. Once you're sure that your function works, try these five test cases below. \n",
        "\n",
        "Note that the last two test cases are special: they test whether your function handles extreme cases where a too simple approach is prone to a catastrophic cancellation. Make sure your function passes all five tests.\n",
        "\n",
        "This exercise is graded, each test case contributes a 20% of the grade. "
      ]
    },
    {
      "cell_type": "code",
      "metadata": {
        "collapsed": true,
        "id": "g70zqADGYi2V"
      },
      "source": [
        "from numpy import allclose"
      ],
      "execution_count": 60,
      "outputs": []
    },
    {
      "cell_type": "code",
      "metadata": {
        "collapsed": true,
        "id": "ja78fw2kYi2V"
      },
      "source": [
        "variants = [{'b': 4.0, 'c': 3.0},\n",
        "            {'b': 2.0, 'c': 1.0},\n",
        "            {'b': 0.5, 'c': 4.0},\n",
        "            {'b': 1e10, 'c': 3.0},\n",
        "            {'b': -1e10, 'c': 4.0},]"
      ],
      "execution_count": 74,
      "outputs": []
    },
    {
      "cell_type": "code",
      "metadata": {
        "collapsed": true,
        "colab": {
          "base_uri": "https://localhost:8080/"
        },
        "id": "MurQ89EOYi2W",
        "outputId": "e2ef6b3f-cb6b-4223-cad7-e7d7e65e816c"
      },
      "source": [
        "for var in variants:\n",
        "    x1, x2 = solve_quad(**var)\n",
        "    print(allclose(x1*x2, var['c']))"
      ],
      "execution_count": 82,
      "outputs": [
        {
          "output_type": "stream",
          "text": [
            "True\n",
            "True\n",
            "True\n",
            "True\n",
            "True\n"
          ],
          "name": "stdout"
        }
      ]
    }
  ]
}