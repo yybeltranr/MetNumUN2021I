{
  "nbformat": 4,
  "nbformat_minor": 0,
  "metadata": {
    "colab": {
      "name": "ArithmeticSeriesPowerSeriesPowerSums.ipynb",
      "provenance": [],
      "collapsed_sections": []
    },
    "kernelspec": {
      "name": "python3",
      "display_name": "Python 3"
    }
  },
  "cells": [
    {
      "cell_type": "markdown",
      "metadata": {
        "id": "r4rXWI4gCN5B"
      },
      "source": [
        "# Arithmetic Series\n",
        "\n",
        "## Modified from Arithmetic Series -  [Wolfram MathWorld](https://mathworld.wolfram.com/ArithmeticSeries.html)\n",
        "\n",
        "\n",
        "An arithmetic sequence $\\{a_k\\}$ for $k=1, 2, ..., $ in which each term is computed from the previous one by adding (or subtracting) a constant $d$. \n",
        "\n",
        "\\begin{align*}\n",
        "a_1 & \\\\\n",
        "a_2 &\\ \\ =\\ \\ a_1 + d  \\\\\n",
        "a_3 &\\ \\ =\\ \\ a_2 + d \\ \\ =\\ \\ a_1 + 2d   \\\\\n",
        "a_4 &\\ \\ =\\ \\ a_3 + d \\ \\ =\\ \\ a_2 + 2d \\ \\ =\\ \\ a_1 + 3d  \\\\\n",
        "\\vdots\\\\\n",
        "a_k &\\ \\ =\\ \\ a_{(k-1)}+d \\ =\\  a_{(k-2)}+2d \\ =\\  \\ldots \\ =\\  \\ a_1+(k-1)d\n",
        "\\end{align*}\n",
        "\n",
        "Therefore, for $k>=1$,\n",
        "\n",
        "$$ a_k = a_1 + (k-1)d$$\n",
        "\n",
        "With $a_1$ and $d$ given.\n",
        "\n",
        "<br /> \n",
        "\n",
        "The sequence of the partial sum of the first $n$ terms of a sequence is called a series, in the case of an arithemetic sequence the series is called an arithmetic series.\n",
        "\n",
        "If  $a_1= 1$ and $d=1$ we have, the simplest arithmnetic sequence,  the natural numbers sequence $\\{a_k = k \\}$ for  $k=1, 2, ..., $  i.e. the seuqnece\n",
        "$$1, 2, ...,$$\n",
        "The  corresponmding series is \n",
        "$$ \n",
        "S_n = 1 + 2+ \\ldots + (n-1)+ n = \\sum_{k=1}^n k\n",
        "$$\n",
        "can be calculated as a function of $n$.\n",
        "\n",
        "Assume that we allign one $S_{n-1}$ with a second  $S_{n-1}$ that have the terms adden reverse order and you add term to term, we have\n",
        "\\begin{array}{llclclclclc}\n",
        "  S_{n-1} &=& 1 &+& 2 &+& \\ldots &+& (n-2) &+& (n-1) \\\\\n",
        "  S_{n-1} &=& (n-1)  &+& (n-2)  &+& \\ldots   &+& 2   &+& 1 \\\\\n",
        "   \\hline \\\\\n",
        "   2S_{n-1} &=& n  &+& n  &+& \\ldots   &+& n   &+& n \\\\\n",
        "\\end{array}\n",
        "so\n",
        "$$  2S_{n-1} = (n-1)n $$\n",
        "then\n",
        "$$  S_{n-1} = \\frac{1}{2} (n-1)n$$\n",
        "therefore \n",
        "$$  S_{n} = \\frac{1}{2} n(n+1)$$\n",
        "\n",
        "\n",
        "\\begin{align*}\n",
        "S_n &= \\sum_{k=1}^n a_k\t\\\\\n",
        "    &= \\sum_{k=1}^n[a_1+(k-1)d]\t\t\\\\\n",
        "    &= na_1 + d \\sum_{k=1}^n(k-1)\t\\\\\n",
        "    &= na_1 + d \\sum_{k=0}^{n-1} k\t\\\\\n",
        "    &= na_1 + d \\sum_{k=1}^{n-1} k\t\\\\\n",
        "    &= na_1 +  \\frac{1}{2} d(n-1)n\\\\\n",
        "\\end{align*}\n",
        "so \n",
        "$$ S_n =  \\frac{1}{2} n[2 a_1 +d(n-1)].$$\n",
        "\n",
        "Note, however, that\n",
        "$$a_1+a_n=a_1+[a_1+d(n-1)]=2a_1+d(n-1),$$ \t\n",
        "so\n",
        "$$S_n = \\frac{1}{2}n(a_1+a_n),$$\n",
        "\n",
        "\n",
        "or $n$ times the arithmetic mean of the first and last terms! This is the trick Gauss used as a schoolboy to solve the problem of summing the integers from $1$ to $100$ given as busy-work by his teacher. While his classmates toiled away doing the addition longhand, Gauss wrote a single number, the correct answer\n",
        "\n",
        "$$\\frac{1}{2}(100)(1+100)=50·101=5050$$ \t\n",
        "on his slate (Burton 1989, pp. 80-81; Hoffman 1998, p. 207). When the answers were examined, Gauss's proved to be the only correct one.\n",
        "\n",
        "<br /> \n",
        "\n",
        "If  the sequence starts at index $0$, $\\{a_k\\}$ for $ k=0, 1, 2, ..., $ we have\n",
        "\n",
        "\\begin{align*}\n",
        "a_0 & \\\\\n",
        "a_1 &\\ \\ =\\ \\ a_0 + d  \\\\\n",
        "a_2 &\\ \\ =\\ \\ a_1 + d \\ \\ =\\ \\ a_0 + 2d   \\\\\n",
        "a_3 &\\ \\ =\\ \\ a_2 + d \\ \\ =\\ \\ a_1 + 2d \\ \\ =\\ \\ a_0 + 3d  \\\\\n",
        "\\vdots\\\\\n",
        "a_k &\\ \\ =\\ \\ a_{(k-1)}+d \\ =\\  a_{(k-2)}+2d \\ =\\  \\ldots \\ = \\  \\ a_1+(k-1)d \\ \\ =\\ \\ a_0+kd\n",
        "\\end{align*}\n",
        "\n",
        "<br /> \n",
        "for given   $a_0$ and $d$.\n",
        "\n",
        "In this case the sum of the first $n$ terms  of  the arithemnetic sequence  is then given by\n",
        "\\begin{align*}\n",
        "S_n &= \\sum_{k=0}^{n-1} a_k\t\\\\\n",
        "    &= \\sum_{k=0}^{n-1}[a_0+kd]\t\t\\\\\n",
        "    &= n a_0 + d \\sum_{k=0}^{n-1} k\t\\\\\n",
        "    &= n a_0 + d \\sum_{k=1}^{n-1} k\t\\\\\n",
        "    &= n a_0+  \\frac{1}{2} d(n-1)n \\\\\n",
        "\\end{align*}\n",
        "so \n",
        "$$ S_n =  \\frac{1}{2} n[2 a_0 + d(n-1)].$$\n",
        "<br /> \n",
        "\n"
      ]
    },
    {
      "cell_type": "markdown",
      "metadata": {
        "id": "GfBh-QHRcods"
      },
      "source": [
        "### Code\n",
        "####  The simplest arithmetic sequence and series\n",
        "\n",
        "The simplest arithmnetic sequence is \n",
        "\n",
        "\n",
        "$$S_n = 1, 2, ...,$$"
      ]
    },
    {
      "cell_type": "markdown",
      "metadata": {
        "id": "n36eWqEXiktl"
      },
      "source": [
        "The following code plots the first $n = 15$ terms of the simplest arithmnetic sequence \n",
        "$$\\{a_n = n\\} \\text{ for } n =1,2,\\ldots  $$\n",
        "i.e\n",
        "$$\\{a_n = n\\} =1,2,\\ldots $$\n",
        "adn the corresponding terms of the simplest arithmnetic series \n",
        "$$  S_n = 1 + 2+ \\ldots + (n-1)+ n = \\sum_{k=1}^n =  \\frac{1}{2} n(n+1)$$\n"
      ]
    },
    {
      "cell_type": "markdown",
      "metadata": {
        "id": "_VyGiunIZknK"
      },
      "source": [
        "Plot"
      ]
    },
    {
      "cell_type": "code",
      "metadata": {
        "colab": {
          "base_uri": "https://localhost:8080/",
          "height": 282
        },
        "id": "gx3Q4uo-ONCi",
        "outputId": "ec43c5cb-9ece-4716-ad8c-c8f8e475dfea"
      },
      "source": [
        "import matplotlib.pyplot as plt\n",
        "\n",
        "n = 15\n",
        "S_n = 0\n",
        "Serie_S_n=[]\n",
        "Sequence_a_n =[]\n",
        "for i in range(1,n+1):\n",
        "  S_n = S_n + i\n",
        "  Serie_S_n.append(S_n)\n",
        "  Sequence_a_n.append(i)\n",
        " \n",
        "plt.plot(Serie_S_n, color='black',label='Serie_S_n')\n",
        "plt.plot(Sequence_a_n, color='red',label='Sequence_a_n')\n",
        "plt.legend()"
      ],
      "execution_count": null,
      "outputs": [
        {
          "output_type": "execute_result",
          "data": {
            "text/plain": [
              "<matplotlib.legend.Legend at 0x7f53531c9f90>"
            ]
          },
          "metadata": {
            "tags": []
          },
          "execution_count": 76
        },
        {
          "output_type": "display_data",
          "data": {
            "image/png": "[encoded data removed]",
            "text/plain": [
              "<Figure size 432x288 with 1 Axes>"
            ]
          },
          "metadata": {
            "tags": [],
            "needs_background": "light"
          }
        }
      ]
    },
    {
      "cell_type": "markdown",
      "metadata": {
        "id": "0ybfJdHxZGvW"
      },
      "source": [
        "The following code computes the  $n=10000000$  term of the airthmetic series\n",
        "$$  S_n = 1 + 2+ \\ldots + (n-1)+ n = \\sum_{k=1}^n =  \\frac{1}{2} n(n+1)$$"
      ]
    },
    {
      "cell_type": "code",
      "metadata": {
        "colab": {
          "base_uri": "https://localhost:8080/"
        },
        "id": "99xYHDQycnol",
        "outputId": "5a142b26-c1be-4769-ed8f-be86275752c9"
      },
      "source": [
        "n = 10000000\n",
        "S_n = 0\n",
        "for i in range(1,n+1):  # range(n+1) goes form 1 to n\n",
        "  S_n = S_n + i \n",
        "print(S_n)"
      ],
      "execution_count": null,
      "outputs": [
        {
          "output_type": "stream",
          "text": [
            "50000005000000\n"
          ],
          "name": "stdout"
        }
      ]
    },
    {
      "cell_type": "code",
      "metadata": {
        "colab": {
          "base_uri": "https://localhost:8080/"
        },
        "id": "RGCSuDGHeFwH",
        "outputId": "6e255690-d01b-43b0-ab42-9f84dcb388eb"
      },
      "source": [
        "(1/2)*n*(n+1)"
      ],
      "execution_count": null,
      "outputs": [
        {
          "output_type": "execute_result",
          "data": {
            "text/plain": [
              "50000005000000.0"
            ]
          },
          "metadata": {
            "tags": []
          },
          "execution_count": 2
        }
      ]
    },
    {
      "cell_type": "markdown",
      "metadata": {
        "id": "bg8zxAhcecpk"
      },
      "source": [
        "The following code computes the $n=10000000$ term of the airthmetic series \n",
        "$$ S_n  = \\sum_{k=1}^n a_k$$\n",
        "\n",
        "<br /> \n",
        "for the airthmetic sequence $a_k = 10 + 3 (k-1) $ for $k=1,2,\\ldots$\n",
        "\n",
        "<br /> \n",
        "$$ 10,13,16,19,21,\\ldots$$\n"
      ]
    },
    {
      "cell_type": "markdown",
      "metadata": {
        "id": "hg3ixQ3bZiVh"
      },
      "source": [
        "Plot"
      ]
    },
    {
      "cell_type": "code",
      "metadata": {
        "colab": {
          "base_uri": "https://localhost:8080/",
          "height": 284
        },
        "id": "MLCdHoDS09Sm",
        "outputId": "47aa7044-5dc9-4eb4-924b-08aafe3455f6"
      },
      "source": [
        "import matplotlib.pyplot as plt\n",
        "\n",
        "n = 20\n",
        "a = 10\n",
        "d = 3\n",
        "S_n = 0\n",
        "Serie_S_n=[]\n",
        "Sequence_a_n =[]\n",
        "for i in range(1,n+1):\n",
        "  a_n = a + d *(i-1)\n",
        "  S_n = S_n + a_n\n",
        "  Serie_S_n.append(S_n)\n",
        "  Sequence_a_n.append(a_n)\n",
        " \n",
        "plt.plot(Serie_S_n, color='black',label='Serie_S_n')\n",
        "plt.plot(Sequence_a_n, color='red',label='Sequence_a_n')\n",
        "plt.legend()"
      ],
      "execution_count": null,
      "outputs": [
        {
          "output_type": "execute_result",
          "data": {
            "text/plain": [
              "<matplotlib.legend.Legend at 0x7fcd56b81c10>"
            ]
          },
          "metadata": {
            "tags": []
          },
          "execution_count": 6
        },
        {
          "output_type": "display_data",
          "data": {
            "image/png": "[encoded data removed]",
            "text/plain": [
              "<Figure size 432x288 with 1 Axes>"
            ]
          },
          "metadata": {
            "tags": [],
            "needs_background": "light"
          }
        }
      ]
    },
    {
      "cell_type": "code",
      "metadata": {
        "colab": {
          "base_uri": "https://localhost:8080/"
        },
        "id": "w8FP1XqSgnie",
        "outputId": "d815cea6-7ad4-4af8-992f-b8dab05414be"
      },
      "source": [
        "n = 10000000\n",
        "a = 10\n",
        "d = 3\n",
        "S_n = 0\n",
        "for i in range(1,n+1):  # range(n+19 goes form 1 to n\n",
        "  S_n = S_n + a + d * (i-1) \n",
        "print(S_n)"
      ],
      "execution_count": null,
      "outputs": [
        {
          "output_type": "stream",
          "text": [
            "150000085000000\n"
          ],
          "name": "stdout"
        }
      ]
    },
    {
      "cell_type": "code",
      "metadata": {
        "colab": {
          "base_uri": "https://localhost:8080/"
        },
        "id": "g_38RfB_hgg2",
        "outputId": "73b42c15-01e1-4a59-d056-9b82f7049162"
      },
      "source": [
        "n*(2*a +d*(n-1))/2"
      ],
      "execution_count": null,
      "outputs": [
        {
          "output_type": "execute_result",
          "data": {
            "text/plain": [
              "150000085000000.0"
            ]
          },
          "metadata": {
            "tags": []
          },
          "execution_count": 6
        }
      ]
    },
    {
      "cell_type": "markdown",
      "metadata": {
        "id": "r9qzONSlZq2q"
      },
      "source": [
        "## Your own example of arithmetic series "
      ]
    },
    {
      "cell_type": "markdown",
      "metadata": {
        "id": "NCcML-Bzw6xh"
      },
      "source": [
        "> *Para obtener la suma de los primeros `n` términos de una sucesión se utiliza:*\n",
        "\\begin{equation}\n",
        "a_{n} = a_{1} + \\left ( n-1 \\right )d\n",
        "\\end{equation}\n",
        "\n",
        "> Para calcular la suma de los primeros $1000$ números de la sucesión: $\\left \\{ -5, -13, -21,\\cdots \\right \\}$\n",
        "Primero obtenemos el término $a_{1000}$:\n",
        "\\begin{aligned}\n",
        "a_{1} &= -5 \\;\\textit{    }\\\\[10pt]\n",
        "d &= -13 – (-5) = (-8) \\;\\textit{    }\\\\[10pt]\n",
        "n &= 1000 \\;\\textit{    }\\\\[10pt]\n",
        "a_{50} &= (-5) + (1000 – 1)(-8) \\;\\textit{    }\\\\[10pt]\n",
        "a_{50} &= -7997 \\;\\textit{    }\\\\[10pt]\n",
        "\\end{aligned}\n",
        "\n",
        "> Ahora obtenemos la sumatoria desde $a_{1}$ hasta $a_{1000}$:"
      ]
    },
    {
      "cell_type": "code",
      "metadata": {
        "colab": {
          "base_uri": "https://localhost:8080/",
          "height": 316
        },
        "id": "r7JINbK9aXDO",
        "outputId": "ded84f9d-3e9d-45dc-b63c-302f087bb413"
      },
      "source": [
        "# Mi ejemplo \n",
        "# Sumatoria de los primeros n números de la sucesión: {-5, -13, -21, ...}\n",
        "import matplotlib.pyplot as plt\n",
        "\n",
        "a1 = -5\n",
        "n = 10\n",
        "d = -8\n",
        "S_n = 0\n",
        "Serie_S_n=[]\n",
        "Sequence_a_n =[]\n",
        "for i in range(1, n + 1):\n",
        "  a_n = a1 + ((i-1)* d)\n",
        "  S_n = S_n + a_n\n",
        "  Serie_S_n.append(S_n)\n",
        "  Sequence_a_n.append(a_n)\n",
        "\n",
        "print(Serie_S_n)\n",
        "print(Sequence_a_n)\n",
        "\n",
        "plt.plot(Serie_S_n, color='black',label='Serie_S_n')\n",
        "plt.plot(Sequence_a_n, color='red',label='Sequence_a_n')\n",
        "plt.legend()"
      ],
      "execution_count": null,
      "outputs": [
        {
          "output_type": "stream",
          "text": [
            "[-5, -18, -39, -68, -105, -150, -203, -264, -333, -410]\n",
            "[-5, -13, -21, -29, -37, -45, -53, -61, -69, -77]\n"
          ],
          "name": "stdout"
        },
        {
          "output_type": "execute_result",
          "data": {
            "text/plain": [
              "<matplotlib.legend.Legend at 0x7fcd56408d90>"
            ]
          },
          "metadata": {
            "tags": []
          },
          "execution_count": 31
        },
        {
          "output_type": "display_data",
          "data": {
            "image/png": "[encoded data removed]",
            "text/plain": [
              "<Figure size 432x288 with 1 Axes>"
            ]
          },
          "metadata": {
            "tags": [],
            "needs_background": "light"
          }
        }
      ]
    },
    {
      "cell_type": "code",
      "metadata": {
        "id": "sJ1yhp4lNVw9",
        "colab": {
          "base_uri": "https://localhost:8080/"
        },
        "outputId": "d333f3fa-9751-46d3-b55a-a92bc4eb81a5"
      },
      "source": [
        "# Mi ejemplo\n",
        "a1 = -5\n",
        "n = 10\n",
        "d = -8\n",
        "S_n = 0\n",
        "\n",
        "for i in range(1, n+1):  \n",
        "  S_n = S_n + (a1 + ((i - 1) * d))\n",
        "print(S_n)   "
      ],
      "execution_count": null,
      "outputs": [
        {
          "output_type": "stream",
          "text": [
            "-410\n"
          ],
          "name": "stdout"
        }
      ]
    },
    {
      "cell_type": "code",
      "metadata": {
        "colab": {
          "base_uri": "https://localhost:8080/"
        },
        "id": "DDC3Ra8k6XnK",
        "outputId": "d6e0abf7-99b0-491f-8e81-9539364677b8"
      },
      "source": [
        "# Mi ejemplo \n",
        "n*(2*a1 +d*(n-1))/2"
      ],
      "execution_count": null,
      "outputs": [
        {
          "output_type": "execute_result",
          "data": {
            "text/plain": [
              "-410.0"
            ]
          },
          "metadata": {
            "tags": []
          },
          "execution_count": 39
        }
      ]
    },
    {
      "cell_type": "code",
      "metadata": {
        "colab": {
          "base_uri": "https://localhost:8080/",
          "height": 316
        },
        "id": "RtfI1XLIKlbK",
        "outputId": "9d1fbfde-07c2-4008-caa5-6af6f85eb80d"
      },
      "source": [
        "# Segundo ejemplo\n",
        "# Sumatoria de los primeros n números de la sucesión: {2, 7, 12, ...}\n",
        "import matplotlib.pyplot as plt\n",
        "\n",
        "a1 = 2\n",
        "n = 10\n",
        "d = 5\n",
        "S_n = 0\n",
        "Serie_S_n=[]\n",
        "Sequence_a_n =[]\n",
        "for i in range(1, n + 1):\n",
        "  a_n = a1 + ((i-1)* d)\n",
        "  S_n = S_n + a_n\n",
        "  Serie_S_n.append(S_n)\n",
        "  Sequence_a_n.append(a_n)\n",
        "\n",
        "print(Serie_S_n)\n",
        "print(Sequence_a_n)\n",
        "\n",
        "plt.plot(Serie_S_n, color='black',label='Serie_S_n')\n",
        "plt.plot(Sequence_a_n, color='red',label='Sequence_a_n')\n",
        "plt.legend()"
      ],
      "execution_count": null,
      "outputs": [
        {
          "output_type": "stream",
          "text": [
            "[2, 9, 21, 38, 60, 87, 119, 156, 198, 245]\n",
            "[2, 7, 12, 17, 22, 27, 32, 37, 42, 47]\n"
          ],
          "name": "stdout"
        },
        {
          "output_type": "execute_result",
          "data": {
            "text/plain": [
              "<matplotlib.legend.Legend at 0x7fcd55c24550>"
            ]
          },
          "metadata": {
            "tags": []
          },
          "execution_count": 97
        },
        {
          "output_type": "display_data",
          "data": {
            "image/png": "[encoded data removed]",
            "text/plain": [
              "<Figure size 432x288 with 1 Axes>"
            ]
          },
          "metadata": {
            "tags": [],
            "needs_background": "light"
          }
        }
      ]
    },
    {
      "cell_type": "code",
      "metadata": {
        "colab": {
          "base_uri": "https://localhost:8080/"
        },
        "id": "Hi0QhB20K86c",
        "outputId": "1528a689-8bf9-406b-f43e-9ea2727525f3"
      },
      "source": [
        "# Segundo ejemplo\n",
        "a1 = 2\n",
        "n = 10\n",
        "d = 5\n",
        "S_n = 0\n",
        "\n",
        "for i in range(1, n+1):  \n",
        "  S_n = S_n + (a1 + ((i - 1) * d))\n",
        "print(S_n)  "
      ],
      "execution_count": null,
      "outputs": [
        {
          "output_type": "stream",
          "text": [
            "245\n"
          ],
          "name": "stdout"
        }
      ]
    },
    {
      "cell_type": "code",
      "metadata": {
        "colab": {
          "base_uri": "https://localhost:8080/"
        },
        "id": "4AL5UAJoLFNl",
        "outputId": "f7226316-4ef5-40af-c255-2d7d8a5f2652"
      },
      "source": [
        "# Segundo ejemplo\n",
        "n*(2*a1 +d*(n-1))/2"
      ],
      "execution_count": null,
      "outputs": [
        {
          "output_type": "execute_result",
          "data": {
            "text/plain": [
              "245.0"
            ]
          },
          "metadata": {
            "tags": []
          },
          "execution_count": 99
        }
      ]
    },
    {
      "cell_type": "markdown",
      "metadata": {
        "id": "AKWJ1F7hac8T"
      },
      "source": [
        "# Geometric Series\n",
        "\n",
        "## Modified from Arithmetic Series -  [Wolfram MathWorld](https://mathworld.wolfram.com/GeometricSeries.html)\n"
      ]
    },
    {
      "cell_type": "markdown",
      "metadata": {
        "id": "W5zx_-nR81GI"
      },
      "source": [
        "An geometric series is the sum of a sequence $\\{a_k\\}$ for $k=1, 2, ..., $ in which each term is computed from the previous one by adding (or subtracting) a constant $d$. \n",
        "\n",
        "\\begin{align*}\n",
        "a_0 &\\ \\ =\\ \\ r^0 \\ \\ =\\ \\ 1\\\\\n",
        "a_1 &\\ \\ =\\ \\ a_0 *  r \\ \\ =\\ \\  r\\\\\n",
        "a_2 &\\ \\ =\\ \\ a_1 * r\\ \\ =\\ \\ a_0 * r^2  \\ \\ =\\ \\ r^2 \\\\\n",
        "a_3 &\\ \\ =\\ \\ a_2 * r \\ \\ =\\ \\ a_0 * r^3 \\ \\ =\\ \\  r^3  \\\\\n",
        "a_4 &\\ \\ =\\ \\ a_3 * r\\ \\  =\\ \\ a_0 * r^4 \\ \\  =\\ \\ r^4  \\\\\n",
        "\\vdots\\\\\n",
        "a_k &\\ \\ =\\ \\ a_{(k-1)}* r \\ =\\   a_0 * r^k \\ \\  =\\ \\  r^k\n",
        "\\end{align*}\n",
        "\n",
        "The sum of the first $n$ terms  of  the geometric sequence (called an geometric serie)  is then given by\n",
        "$$\n",
        "\\begin{array}{ll}\n",
        "S_n &=  1 + r + r^2 + \\cdots + r^{n-1} +r^n \\\\\n",
        " &=  (1 + r + r^2 + \\cdots + r^{n-1} ) +r^n \\\\\n",
        " &= S_{n-1}  +r^n \n",
        "\\end{array}\n",
        "$$\n",
        "\n",
        "$$\n",
        "\\begin{array}{ll}\n",
        "S_n &=  1 + r + r^2 + \\cdots + r^{n-1} +r^n \\\\\n",
        " &=  1 + (r + r^2 + \\cdots + r^{n-1}  +r^n)  \\\\\n",
        " &=   1 + r (1 +  r  + r^2 + \\cdots + r^{n-1} )  \\\\\n",
        "  &=   1 + r   S_{n-1} \n",
        "\\end{array}\n",
        "$$\n",
        "\n",
        "Then\n",
        "$$\n",
        " S_{n-1}  +r^n =   1 + r   S_{n-1} \n",
        "$$\n",
        "\n",
        "Therefore\n",
        "$$\n",
        " S_{n-1} (1 -r)   +r^n =   1 - r^n \n",
        "$$\n",
        "\n",
        "$$\n",
        " S_{n-1}   =   \\frac{1 - r^n }{1 -r}\n",
        "$$\n",
        "\n",
        "$$\n",
        " S_{n}   =   \\frac{1 - r^{n+1} }{1 -r}  = \\frac{ r^{n+1} - 1}{r -1}\n",
        "$$\n"
      ]
    },
    {
      "cell_type": "markdown",
      "metadata": {
        "id": "wT6TYPqek2EN"
      },
      "source": [
        "> A continuación un ejemplo para la serie geométrica para la sumatoria:\n",
        "\n",
        "\\begin{equation}\n",
        "\\sum_{n = 1}^{\\infty }3\\left ( 1.5 \\right )^{n-1}\n",
        "\\end{equation}"
      ]
    },
    {
      "cell_type": "code",
      "metadata": {
        "colab": {
          "base_uri": "https://localhost:8080/",
          "height": 336
        },
        "id": "BpK0krrMltr2",
        "outputId": "39b935f9-d4d4-4771-81fc-9ecebe133ff1"
      },
      "source": [
        "# Mi ejemplo \n",
        "# Sumatoria de los primeros n números de la sucesión: {3.0, 4.5, 6.75, 10.125, 15.1875, 22.78125, ...}\n",
        "import matplotlib.pyplot as plt\n",
        "\n",
        "S_n = 0\n",
        "a = 3\n",
        "r = 1.5\n",
        "n = 20\n",
        "Serie_S_n=[]\n",
        "Sequence_a_n =[]\n",
        "for i in range(1, n + 1):\n",
        "  a_n = (a* (r **(i-1)))\n",
        "  S_n = S_n + (a* (r **(i-1)))\n",
        "  Serie_S_n.append(S_n)\n",
        "  Sequence_a_n.append(a_n)\n",
        "\n",
        "print(Serie_S_n)\n",
        "print(Sequence_a_n)\n",
        "\n",
        "plt.plot(Serie_S_n, color='black',label='Serie_S_n')\n",
        "plt.plot(Sequence_a_n, color='red',label='Sequence_a_n')\n",
        "plt.legend()"
      ],
      "execution_count": null,
      "outputs": [
        {
          "output_type": "stream",
          "text": [
            "[3.0, 7.5, 14.25, 24.375, 39.5625, 62.34375, 96.515625, 147.7734375, 224.66015625, 339.990234375, 512.9853515625, 772.47802734375, 1161.717041015625, 1745.5755615234375, 2621.3633422851562, 3935.0450134277344, 5905.567520141602, 8861.351280212402, 13295.026920318604, 19945.540380477905]\n",
            "[3.0, 4.5, 6.75, 10.125, 15.1875, 22.78125, 34.171875, 51.2578125, 76.88671875, 115.330078125, 172.9951171875, 259.49267578125, 389.239013671875, 583.8585205078125, 875.7877807617188, 1313.6816711425781, 1970.5225067138672, 2955.783760070801, 4433.675640106201, 6650.513460159302]\n"
          ],
          "name": "stdout"
        },
        {
          "output_type": "execute_result",
          "data": {
            "text/plain": [
              "<matplotlib.legend.Legend at 0x7fcd55b2d310>"
            ]
          },
          "metadata": {
            "tags": []
          },
          "execution_count": 100
        },
        {
          "output_type": "display_data",
          "data": {
            "image/png": "[encoded data removed]",
            "text/plain": [
              "<Figure size 432x288 with 1 Axes>"
            ]
          },
          "metadata": {
            "tags": [],
            "needs_background": "light"
          }
        }
      ]
    },
    {
      "cell_type": "code",
      "metadata": {
        "colab": {
          "base_uri": "https://localhost:8080/"
        },
        "id": "30F86C6Mkxzn",
        "outputId": "c6b7119a-44b4-44dd-f9dc-1f1bf554c8a3"
      },
      "source": [
        "# Mi ejemplo\n",
        "S_n = 0\n",
        "a = 3\n",
        "r = 1.5\n",
        "n = 20\n",
        "\n",
        "for i in range(1, n+1):  \n",
        "  S_n = S_n + (a* (r **(i-1)))\n",
        "print(S_n)   "
      ],
      "execution_count": null,
      "outputs": [
        {
          "output_type": "stream",
          "text": [
            "19945.540380477905\n"
          ],
          "name": "stdout"
        }
      ]
    },
    {
      "cell_type": "code",
      "metadata": {
        "colab": {
          "base_uri": "https://localhost:8080/"
        },
        "id": "mGW9nsu09e8O",
        "outputId": "5e2baf39-d369-424f-c77e-2c996296bfa9"
      },
      "source": [
        "# Mi ejemplo\n",
        "6*(-1 + (1.5)**n)"
      ],
      "execution_count": null,
      "outputs": [
        {
          "output_type": "execute_result",
          "data": {
            "text/plain": [
              "19945.540380477905"
            ]
          },
          "metadata": {
            "tags": []
          },
          "execution_count": 103
        }
      ]
    },
    {
      "cell_type": "code",
      "metadata": {
        "colab": {
          "base_uri": "https://localhost:8080/",
          "height": 316
        },
        "id": "dLJvTvDRLLIe",
        "outputId": "073c31ab-b409-4df5-c33d-622fc2eb2fe8"
      },
      "source": [
        "# Segundo ejemplo \n",
        "# Sumatoria de los primeros n números de la sucesión: {4.05, 18.225, 82.0125, 369.056, ...}\n",
        "\n",
        "import matplotlib.pyplot as plt\n",
        "\n",
        "S_n = 0\n",
        "a = 5\n",
        "r = 9/10\n",
        "n = 8\n",
        "Serie_S_n=[]\n",
        "Sequence_a_n =[]\n",
        "for i in range(2, n + 1):\n",
        "  a_n = (a**(i-1) * (r **(i)))\n",
        "  S_n = S_n + a_n\n",
        "  Serie_S_n.append(S_n)\n",
        "  Sequence_a_n.append(a_n)\n",
        "\n",
        "print(Serie_S_n)\n",
        "print(Sequence_a_n)\n",
        "\n",
        "plt.plot(Serie_S_n, color='black',label='Serie_S_n')\n",
        "plt.plot(Sequence_a_n, color='red',label='Sequence_a_n')\n",
        "plt.legend()"
      ],
      "execution_count": 20,
      "outputs": [
        {
          "output_type": "stream",
          "text": [
            "[4.050000000000001, 22.275000000000002, 104.28750000000001, 473.34375000000006, 2134.096875, 9607.485937500001, 43237.736718750006]\n",
            "[4.050000000000001, 18.225, 82.0125, 369.05625000000003, 1660.7531250000002, 7473.389062500001, 33630.250781250004]\n"
          ],
          "name": "stdout"
        },
        {
          "output_type": "execute_result",
          "data": {
            "text/plain": [
              "<matplotlib.legend.Legend at 0x7f6b9f16fad0>"
            ]
          },
          "metadata": {
            "tags": []
          },
          "execution_count": 20
        },
        {
          "output_type": "display_data",
          "data": {
            "image/png": "[encoded data removed]",
            "text/plain": [
              "<Figure size 432x288 with 1 Axes>"
            ]
          },
          "metadata": {
            "tags": [],
            "needs_background": "light"
          }
        }
      ]
    },
    {
      "cell_type": "code",
      "metadata": {
        "colab": {
          "base_uri": "https://localhost:8080/"
        },
        "id": "WloTv-8NQed5",
        "outputId": "1764948a-133d-4875-b4a8-d8d07f8d0e08"
      },
      "source": [
        "# Segundo ejemplo\n",
        "S_n = 0\n",
        "a = 5\n",
        "r = 9/10\n",
        "n = 8\n",
        "\n",
        "for i in range(1, n+1):  \n",
        "  S_n = S_n + (a**(i-1) * (r **(i)))\n",
        "print(S_n) "
      ],
      "execution_count": 29,
      "outputs": [
        {
          "output_type": "stream",
          "text": [
            "43238.63671875001\n"
          ],
          "name": "stdout"
        }
      ]
    },
    {
      "cell_type": "code",
      "metadata": {
        "colab": {
          "base_uri": "https://localhost:8080/"
        },
        "id": "xSkzTuOjQo1e",
        "outputId": "eb913639-1fdf-49de-c7a4-d0315b344aaf"
      },
      "source": [
        "# Segundo ejemplo\n",
        "(-(1/35)*((2/9)**(-n-1)))*(((2**n) * (9**(1-n))) -2)"
      ],
      "execution_count": 31,
      "outputs": [
        {
          "output_type": "execute_result",
          "data": {
            "text/plain": [
              "43237.73671875002"
            ]
          },
          "metadata": {
            "tags": []
          },
          "execution_count": 31
        }
      ]
    },
    {
      "cell_type": "markdown",
      "metadata": {
        "id": "CDUYfT8k8crr"
      },
      "source": [
        "## Nodes in Complete Binary Tree with $L=0,1,2,\\cdots , L-1$ levels \n",
        "\n",
        "![](https://raw.githubusercontent.com/gjhernandezp/algorithms/master/Lab7/ComBinTree.png)\n",
        "\n",
        "In a complete binary tree you have in ecah level $k =0,1,2,\\cdots $  $ 2^k $\n",
        "\n",
        "$$\n",
        "\\begin{array}{ll}\n",
        "\\text {Level } 0 \\rightarrow 2^0 = 1 \\text { node (root)} \\\\\n",
        "\\text {Level } 1 \\rightarrow 2^1 = 2 \\text { nodes} \\\\\n",
        "\\text {Level } 2 \\rightarrow 2^2 = 4 \\text { nodes} \\\\\n",
        "\\text {Level } 3 \\rightarrow 2^3 = 8 \\text { nodes} \\\\\n",
        "\\vdots\\\\\n",
        "\\text {Level } k \\rightarrow 2^k  \\text { nodes} \\\\\n",
        "\\end{array}\n",
        "$$\n",
        "\n",
        "nodes, with $l = 0,1,2, ... $ the level\n",
        "\n",
        "Total number of the complte tree with $L=0,1,2,\\cdots , L-1$ levels\n",
        "\n",
        "$$ \n",
        "2^0 + 2^1 + 2^2 + \\cdots +2^{L-1}  = 1 + 2 + 4 + \\cdots +2^{L-1} = \\sum_{k=0}^{L-1} 2^k = \\frac{ 2^{L} - 1}{2 -1} = 2^{L} - 1\n",
        "$$"
      ]
    },
    {
      "cell_type": "markdown",
      "metadata": {
        "id": "YiWlrhLZNMX9"
      },
      "source": [
        "### Code"
      ]
    },
    {
      "cell_type": "code",
      "metadata": {
        "colab": {
          "base_uri": "https://localhost:8080/"
        },
        "id": "DIb9ruYttCkE",
        "outputId": "040eb6ce-85f3-4a09-9672-7423d9820094"
      },
      "source": [
        "# Mi ejemplo\n",
        "def binary_tree(level):\n",
        "  if level == 0:\n",
        "    return 1\n",
        "  else:\n",
        "    return ((2**level) - 1)\n",
        "\n",
        "nivel = int(4)\n",
        "print(\"En un árbol binario completo, en el nivel\", nivel, \"hay:\",binary_tree(nivel), \"nodos.\")"
      ],
      "execution_count": null,
      "outputs": [
        {
          "output_type": "stream",
          "text": [
            "En un árbol binario completo, en el nivel 4 hay: 15 nodos.\n"
          ],
          "name": "stdout"
        }
      ]
    },
    {
      "cell_type": "markdown",
      "metadata": {
        "id": "Dd3RWDwJe2xD"
      },
      "source": [
        "## Zenon Arrow\n",
        "\n",
        "![](https://raw.githubusercontent.com/gjhernandezp/algorithms/master/Lab7/zeno-paradox-arrow.png)\n",
        "\n",
        "https://leseditionsdeschavonnes.com/2018/10/15/the-paradox-of-achilles-and-the-tortoise/\n",
        "\n",
        "\n",
        "\n",
        "$$ \n",
        "\\lim_{n\\rightarrow \\infty} \\left\\{\\left(\\frac{1}{2}\\right)^0 + \\left(\\frac{1}{2}\\right)^1 +\\left(\\frac{1}{2}\\right)^2 + \\cdots +\\left(\\frac{1}{2}\\right)^{n} \\right\\} = \\lim_{n\\rightarrow \\infty} \\left\\{ 1 +\\frac{1}{2} + \\frac{1}{4} + \\frac{1}{8} + \\cdots +\\frac{1}{2^{n}}\\right\\}  = \\lim_{n\\rightarrow \\infty} \\sum_{k=0}^{n} \\left(\\frac{1}{2}\\right)^k = \\lim_{n\\rightarrow \\infty} \\frac{ 1- \\left(\\frac{1}{2}\\right)^n  }{1 - \\left(\\frac{1}{2}\\right) } = \\frac{ 1}{1 - \\left(\\frac{1}{2}\\right)} = 2\n",
        "$$"
      ]
    },
    {
      "cell_type": "markdown",
      "metadata": {
        "id": "R-J4EekBNPkd"
      },
      "source": [
        "### Code"
      ]
    },
    {
      "cell_type": "markdown",
      "metadata": {
        "id": "7q14ey-y1O47"
      },
      "source": [
        "> Ejemplo de serie geométrica para la sumatoria:\n",
        "\n",
        "\\begin{equation}\n",
        "\\sum_{n = 1}^{\\infty }2\\left ( 3 \\right )^{n}\n",
        "\\end{equation}"
      ]
    },
    {
      "cell_type": "code",
      "metadata": {
        "colab": {
          "base_uri": "https://localhost:8080/",
          "height": 316
        },
        "id": "YnA0zoxW2IUS",
        "outputId": "ab45b12f-2116-4d4a-f04e-38ee1dc40677"
      },
      "source": [
        "# Mi ejemplo \n",
        "import matplotlib.pyplot as plt\n",
        "\n",
        "S_n = 0\n",
        "n = 10\n",
        "a = 2\n",
        "r = 3\n",
        "Serie_S_n=[]\n",
        "Sequence_a_n =[]\n",
        "for i in range(1, n + 1):\n",
        "  a_n = (a* (r**i))\n",
        "  S_n = S_n + a_n\n",
        "  Serie_S_n.append(S_n)\n",
        "  Sequence_a_n.append(a_n)\n",
        "\n",
        "print(Serie_S_n)\n",
        "print(Sequence_a_n)\n",
        "\n",
        "plt.plot(Serie_S_n, color='black',label='Serie_S_n')\n",
        "plt.plot(Sequence_a_n, color='red',label='Sequence_a_n')\n",
        "plt.legend()"
      ],
      "execution_count": 34,
      "outputs": [
        {
          "output_type": "stream",
          "text": [
            "[6, 24, 78, 240, 726, 2184, 6558, 19680, 59046, 177144]\n",
            "[6, 18, 54, 162, 486, 1458, 4374, 13122, 39366, 118098]\n"
          ],
          "name": "stdout"
        },
        {
          "output_type": "execute_result",
          "data": {
            "text/plain": [
              "<matplotlib.legend.Legend at 0x7f6b9f359750>"
            ]
          },
          "metadata": {
            "tags": []
          },
          "execution_count": 34
        },
        {
          "output_type": "display_data",
          "data": {
            "image/png": "[encoded data removed]",
            "text/plain": [
              "<Figure size 432x288 with 1 Axes>"
            ]
          },
          "metadata": {
            "tags": [],
            "needs_background": "light"
          }
        }
      ]
    },
    {
      "cell_type": "code",
      "metadata": {
        "id": "8xdBovY3NEW_",
        "colab": {
          "base_uri": "https://localhost:8080/"
        },
        "outputId": "8454a447-d82f-4eb5-cbff-944647393d48"
      },
      "source": [
        "# Mi ejemplo\n",
        "S_n = 0\n",
        "n = 10\n",
        "a = 2\n",
        "r = 3\n",
        "\n",
        "for i in range(0, n+1):  \n",
        "  S_n = S_n + (a* (r**i))\n",
        "print(S_n)   "
      ],
      "execution_count": 37,
      "outputs": [
        {
          "output_type": "stream",
          "text": [
            "177146\n"
          ],
          "name": "stdout"
        }
      ]
    },
    {
      "cell_type": "code",
      "metadata": {
        "colab": {
          "base_uri": "https://localhost:8080/"
        },
        "id": "JMYl-_0r-Je6",
        "outputId": "68d770b3-11da-4d30-9b45-f125a98b830c"
      },
      "source": [
        "a*((1 - r**(n+1))/(1-r))"
      ],
      "execution_count": 38,
      "outputs": [
        {
          "output_type": "execute_result",
          "data": {
            "text/plain": [
              "177146.0"
            ]
          },
          "metadata": {
            "tags": []
          },
          "execution_count": 38
        }
      ]
    },
    {
      "cell_type": "markdown",
      "metadata": {
        "id": "dh2ntBeoNQlN"
      },
      "source": [
        "# Power Sums \n",
        "\n",
        "*   https://mathworld.wolfram.com/PowerSum.html\n",
        "*   https://www.researchgate.net/publication/331933608_The_Powers_Sums_Bernoulli_Numbers_Bernoulli_Polynomials_Rethinked\n",
        "*   https://en.wikipedia.org/wiki/Sums_of_powers\n",
        "\n"
      ]
    },
    {
      "cell_type": "markdown",
      "metadata": {
        "id": "6-vpGei94qmu"
      },
      "source": [
        "> Una Serie de Potencias es una serie de la forma:\n",
        "\\begin{equation}\n",
        "\\sum_{n = 0}^{\\infty }a_{n}x^{n} = a_{0} + a_{1}x + a_{2}x^{2} + a_{3}x^{3} + \\cdots \n",
        "\\end{equation}\n",
        ">donde $a_{n}$ son números reales.\n",
        "\n",
        "> Claramente todas las series de potencias convergen para x = 0. Puede demostrarse, lo cual \n",
        "se sale del alcance de este texto, que este tipo de series convergen en intervalos centrados \n",
        "en 0, incluyendo toda la recta real, a los cuales se les llama **Intervalos de Convergencia**.\n",
        "Si recordamos la fórmula de Taylor de algunas funciones, tendremos representaciones en \n",
        "series de potencias.\n",
        "\\begin{equation}\n",
        "f\\left ( x \\right ) = e^{x}\n",
        "\\end{equation}\n",
        "> La fórmula de Taylor (Mac Laurin) para esta función\n",
        "\\begin{equation}\n",
        "e^{x} = 1 + x + \\frac{x^{2}}{2!} + \\frac{x^{3}}{3!} + \\cdots + + \\frac{x^{n-1}}{\\left (n-1  \\right )!} + E_{n}\n",
        "\\end{equation}\n",
        "> donde $E_{n}$ es el residuo dado por el Teorema de Taylor:\n",
        "\\begin{equation}\n",
        "E_{n} = \\frac{x^{n}}{n!}e^{c}\n",
        "\\end{equation}\n",
        "> donde `c`se encuentra entre `0`y `x`.\n",
        "> Si le llamamos $S_{n}$ a la sucesión de las sumas parciales de la serie de potencias, despejando \n",
        "$E_{n}$ de la fórmula de Taylor, \n",
        "\\begin{equation}\n",
        "E_{n} = e^{x}\\cdot S_{n}\n",
        "\\end{equation}\n",
        "> y utilizando el hecho de que $\\lim_{n \\to \\infty }\\frac{x^{n}}{n!} = 0$ para todo `x`real,\n",
        "\\begin{equation}\n",
        "lim_{n \\to \\infty }E_{n} = \\lim_{n \\to \\infty }\\frac{x^{n}}{n!}e^{c} = e^{c}\\lim_{n \\to \\infty }\\frac{x^{n}}{n!} = 0\n",
        "\\end{equation}\n",
        "> y en consecuencia las sumas parciales convergen a $e^{x}$, $lim_{n \\to \\infty }S_{n} = e^{x}$ , lo cual nos representa a la función exponencial en serie de potencias para todo `x` real.\n",
        "\\begin{equation}\n",
        "e^{x} = \\frac{x^{2}}{2!} + \\frac{x^{3}}{3!} + \\cdots\n",
        "\\end{equation} \n",
        "> notación sumatoria: \n",
        "\\begin{equation}\n",
        "e^{x} = \\sum_{n = 0}^{\\infty }\\frac{x^{n}}{n!}\n",
        "\\end{equation} "
      ]
    },
    {
      "cell_type": "code",
      "metadata": {
        "colab": {
          "base_uri": "https://localhost:8080/",
          "height": 316
        },
        "id": "WQx5BSwIAQjJ",
        "outputId": "cd98c382-e9fd-47a0-af31-4b3a28c59f9a"
      },
      "source": [
        "# Mi ejemplo \n",
        "import matplotlib.pyplot as plt\n",
        "import math\n",
        "from math import e\n",
        "\n",
        "S_n = 0\n",
        "n = 10\n",
        "x = 1\n",
        "Serie_S_n=[]\n",
        "Sequence_a_n =[]\n",
        "for i in range(0, n + 1):\n",
        "  a_n = ((x**i) / math.factorial(i))\n",
        "  S_n = S_n + a_n\n",
        "  Serie_S_n.append(S_n)\n",
        "  Sequence_a_n.append(a_n)\n",
        "\n",
        "print(Serie_S_n)\n",
        "print(Sequence_a_n)\n",
        "\n",
        "plt.plot(Serie_S_n, color='black',label='Serie_S_n')\n",
        "plt.plot(Sequence_a_n, color='red',label='Sequence_a_n')\n",
        "plt.legend()"
      ],
      "execution_count": 45,
      "outputs": [
        {
          "output_type": "stream",
          "text": [
            "[1.0, 2.0, 2.5, 2.6666666666666665, 2.708333333333333, 2.7166666666666663, 2.7180555555555554, 2.7182539682539684, 2.71827876984127, 2.7182815255731922, 2.7182818011463845]\n",
            "[1.0, 1.0, 0.5, 0.16666666666666666, 0.041666666666666664, 0.008333333333333333, 0.001388888888888889, 0.0001984126984126984, 2.48015873015873e-05, 2.7557319223985893e-06, 2.755731922398589e-07]\n"
          ],
          "name": "stdout"
        },
        {
          "output_type": "execute_result",
          "data": {
            "text/plain": [
              "<matplotlib.legend.Legend at 0x7f6b9ee7ee90>"
            ]
          },
          "metadata": {
            "tags": []
          },
          "execution_count": 45
        },
        {
          "output_type": "display_data",
          "data": {
            "image/png": "[encoded data removed]",
            "text/plain": [
              "<Figure size 432x288 with 1 Axes>"
            ]
          },
          "metadata": {
            "tags": [],
            "needs_background": "light"
          }
        }
      ]
    },
    {
      "cell_type": "code",
      "metadata": {
        "colab": {
          "base_uri": "https://localhost:8080/"
        },
        "id": "YVx0L30A_WRq",
        "outputId": "3328be4b-6f31-4108-8682-dbd6b3820a88"
      },
      "source": [
        "# Mi ejemplo para e^x\n",
        "from math import factorial\n",
        "\n",
        "S_n = 0\n",
        "n = 10\n",
        "x = 1\n",
        "\n",
        "for i in range(0, n+1):  \n",
        "  S_n = S_n + ((x**i) / factorial(i))\n",
        "print(S_n)   "
      ],
      "execution_count": 46,
      "outputs": [
        {
          "output_type": "stream",
          "text": [
            "2.7182818011463845\n"
          ],
          "name": "stdout"
        }
      ]
    },
    {
      "cell_type": "code",
      "metadata": {
        "colab": {
          "base_uri": "https://localhost:8080/"
        },
        "id": "k5IN0YizDlvz",
        "outputId": "9843b142-0c79-4c0b-ef03-44e8cc3b1904"
      },
      "source": [
        "# Mi ejemplo\n",
        "from math import e\n",
        "e**x"
      ],
      "execution_count": 47,
      "outputs": [
        {
          "output_type": "execute_result",
          "data": {
            "text/plain": [
              "2.718281828459045"
            ]
          },
          "metadata": {
            "tags": []
          },
          "execution_count": 47
        }
      ]
    },
    {
      "cell_type": "markdown",
      "metadata": {
        "id": "30Kte19oZ_JU"
      },
      "source": [
        "> Hallando la serie de potencias de:\n",
        "\\begin{equation}\n",
        "\\sum_{n=0}^{\\infty}\\left ( -1 \\right )^{n}\\left [ \\frac{x^{2n+1}}{\\left ( 2n+1 \\right )!} \\right ]\n",
        "\\end{equation} "
      ]
    },
    {
      "cell_type": "code",
      "metadata": {
        "colab": {
          "base_uri": "https://localhost:8080/",
          "height": 336
        },
        "id": "DfpYedLFaPnR",
        "outputId": "139cd59c-feae-4850-b3cd-87f9a7a7aaf8"
      },
      "source": [
        "# Segundo ejemplo ejemplo \n",
        "import matplotlib.pyplot as plt\n",
        "import math\n",
        "\n",
        "S_n = 0\n",
        "n = 10\n",
        "x = 1\n",
        "Serie_S_n=[]\n",
        "Sequence_a_n =[]\n",
        "for i in range(0, n + 1):\n",
        "  a_n = ((((-1)**i) * (x**(2*i+1)))/(math.factorial((2*i) + 1)))\n",
        "  S_n = S_n + a_n\n",
        "  Serie_S_n.append(S_n)\n",
        "  Sequence_a_n.append(a_n)\n",
        "\n",
        "print(Serie_S_n)\n",
        "print(Sequence_a_n)\n",
        "\n",
        "plt.plot(Serie_S_n, color='black',label='Serie_S_n')\n",
        "plt.plot(Sequence_a_n, color='red',label='Sequence_a_n')\n",
        "plt.legend()"
      ],
      "execution_count": 157,
      "outputs": [
        {
          "output_type": "stream",
          "text": [
            "[1.0, 0.8333333333333334, 0.8416666666666667, 0.841468253968254, 0.8414710097001764, 0.841470984648068, 0.8414709848086585, 0.8414709848078937, 0.8414709848078965, 0.8414709848078965, 0.8414709848078965]\n",
            "[1.0, -0.16666666666666666, 0.008333333333333333, -0.0001984126984126984, 2.7557319223985893e-06, -2.505210838544172e-08, 1.6059043836821613e-10, -7.647163731819816e-13, 2.8114572543455206e-15, -8.22063524662433e-18, 1.9572941063391263e-20]\n"
          ],
          "name": "stdout"
        },
        {
          "output_type": "execute_result",
          "data": {
            "text/plain": [
              "<matplotlib.legend.Legend at 0x7f6b9e047fd0>"
            ]
          },
          "metadata": {
            "tags": []
          },
          "execution_count": 157
        },
        {
          "output_type": "display_data",
          "data": {
            "image/png": "[encoded data removed]",
            "text/plain": [
              "<Figure size 432x288 with 1 Axes>"
            ]
          },
          "metadata": {
            "tags": [],
            "needs_background": "light"
          }
        }
      ]
    },
    {
      "cell_type": "code",
      "metadata": {
        "colab": {
          "base_uri": "https://localhost:8080/"
        },
        "id": "jkKV6Ki3dTi8",
        "outputId": "8b6f4342-aef5-471a-a55d-d86fb2944a69"
      },
      "source": [
        "# Segudo ejemplo \n",
        "from math import factorial\n",
        "\n",
        "S_n = 0\n",
        "n = 10\n",
        "x = 1\n",
        "\n",
        "for i in range(0, n+1):  \n",
        "  S_n = S_n + ((((-1)**i) * (x**(2*i+1)))/(math.factorial((2*i) + 1)))\n",
        "print(S_n)   "
      ],
      "execution_count": 158,
      "outputs": [
        {
          "output_type": "stream",
          "text": [
            "0.8414709848078965\n"
          ],
          "name": "stdout"
        }
      ]
    },
    {
      "cell_type": "code",
      "metadata": {
        "colab": {
          "base_uri": "https://localhost:8080/"
        },
        "id": "-IS_Oh8JdlDd",
        "outputId": "1f7f132b-b515-40da-fbfb-e9b3dac6fe66"
      },
      "source": [
        "# Mi ejemplo\n",
        "import math\n",
        "math.sin(x)"
      ],
      "execution_count": 159,
      "outputs": [
        {
          "output_type": "execute_result",
          "data": {
            "text/plain": [
              "0.8414709848078965"
            ]
          },
          "metadata": {
            "tags": []
          },
          "execution_count": 159
        }
      ]
    }
  ]
}